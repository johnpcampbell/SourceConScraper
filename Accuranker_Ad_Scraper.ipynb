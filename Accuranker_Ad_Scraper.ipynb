{
  "nbformat": 4,
  "nbformat_minor": 0,
  "metadata": {
    "colab": {
      "provenance": [],
      "mount_file_id": "1N0EfWGIGLlO_iLJNU1KPG_zzzXmqimsT",
      "authorship_tag": "ABX9TyMPn6AyZwIsKp/26UDDLoSZ",
      "include_colab_link": true
    },
    "kernelspec": {
      "name": "python3",
      "display_name": "Python 3"
    },
    "language_info": {
      "name": "python"
    }
  },
  "cells": [
    {
      "cell_type": "markdown",
      "metadata": {
        "id": "view-in-github",
        "colab_type": "text"
      },
      "source": [
        "<a href=\"https://colab.research.google.com/github/johnpcampbell/SourceConScraper/blob/master/Accuranker_Ad_Scraper.ipynb\" target=\"_parent\"><img src=\"https://colab.research.google.com/assets/colab-badge.svg\" alt=\"Open In Colab\"/></a>"
      ]
    },
    {
      "cell_type": "code",
      "source": [
        "pip install requests\n",
        "\n",
        "\n"
      ],
      "metadata": {
        "colab": {
          "base_uri": "https://localhost:8080/",
          "height": 106
        },
        "id": "Ga9mD1SOohc8",
        "outputId": "7d528ccf-fa59-4e21-9ccf-9caa0187d2da"
      },
      "execution_count": 1,
      "outputs": [
        {
          "output_type": "error",
          "ename": "SyntaxError",
          "evalue": "invalid syntax (<ipython-input-1-526777a74bea>, line 1)",
          "traceback": [
            "\u001b[0;36m  File \u001b[0;32m\"<ipython-input-1-526777a74bea>\"\u001b[0;36m, line \u001b[0;32m1\u001b[0m\n\u001b[0;31m    pip install requests\u001b[0m\n\u001b[0m        ^\u001b[0m\n\u001b[0;31mSyntaxError\u001b[0m\u001b[0;31m:\u001b[0m invalid syntax\n"
          ]
        }
      ]
    },
    {
      "cell_type": "code",
      "source": [
        "# If 'tqdm' isn't installed, install it via pip.\n",
        "!pip install tqdm\n",
        "!pip install beautifulsoup4\n"
      ],
      "metadata": {
        "colab": {
          "base_uri": "https://localhost:8080/"
        },
        "id": "pKG5rkaytAfA",
        "outputId": "fe79bf28-5316-41b9-8c57-de1fd9a586f0"
      },
      "execution_count": 2,
      "outputs": [
        {
          "output_type": "stream",
          "name": "stdout",
          "text": [
            "Requirement already satisfied: tqdm in /usr/local/lib/python3.10/dist-packages (4.66.2)\n",
            "Requirement already satisfied: beautifulsoup4 in /usr/local/lib/python3.10/dist-packages (4.12.3)\n",
            "Requirement already satisfied: soupsieve>1.2 in /usr/local/lib/python3.10/dist-packages (from beautifulsoup4) (2.5)\n"
          ]
        }
      ]
    },
    {
      "cell_type": "code",
      "source": [
        "1c49ec6860690b07e66ddf0a123ce8cd15f4ca78"
      ],
      "metadata": {
        "id": "B6Or-gwgrfAr"
      },
      "execution_count": null,
      "outputs": []
    },
    {
      "cell_type": "code",
      "execution_count": 3,
      "metadata": {
        "colab": {
          "base_uri": "https://localhost:8080/"
        },
        "id": "RNL-1JI9m94l",
        "outputId": "520f0f40-661b-4c36-fa95-bcf289047271"
      },
      "outputs": [
        {
          "name": "stdout",
          "output_type": "stream",
          "text": [
            "Please select a domain to process:\n",
            "1: AJBell (ID: 498605)\n",
            "2: AJBell (AJBell tracking using youinvest.co.uk) (ID: 496400)\n",
            "3: audible.co.uk (Audible UK (2021)) (ID: 496523)\n",
            "4: AVEVA Australia (ID: 504567)\n",
            "5: AVEVA Germany (ID: 504783)\n",
            "6: AVEVA HMI PPC Tracking (ID: 496314)\n",
            "7: AVEVA India (ID: 504761)\n",
            "8: Aveva Integration (ID: 496380)\n",
            "9: AVEVA (/pt-br/) (ID: 504758)\n",
            "10: AVEVA UK (ID: 504763)\n",
            "11: AVEVA US (ID: 496493)\n",
            "12: AVEVA USA (Test) (ID: 496356)\n",
            "13: delta.lcp.com/ (ID: 502158)\n",
            "14:  (ID: 496285)\n",
            "15: experian.co.uk (11692) (ID: 496461)\n",
            "16: Experian (Reddit Test) (ID: 506795)\n",
            "17: FOREX Trading LSEG (FOREX Trading LSEG) (ID: 496315)\n",
            "18: Forex Trading Refinitiv (FOREX Trading Refinitiv) (ID: 496344)\n",
            "19: Freesat (live) (ID: 496345)\n",
            "20: HI UK - Home Care in Locations (ID: 514622)\n",
            "21: Home Instead IE (ID: 503562)\n",
            "22: Home Instead IE Careers (ID: 515134)\n",
            "23: Home Instead Local (ID: 496229)\n",
            "24: Home Instead UK (ID: 514300)\n",
            "25: https://www.dominusrealestate.co.uk/ (ID: 496374)\n",
            "26: https://www.londonstockexchange.com/ (Initial Keyword Tracking) (ID: 496376)\n",
            "27: https://www.rado.com/ (Rado (UK)) (ID: 496370)\n",
            "28: https://www.rado.com (Rado (US)) (ID: 496371)\n",
            "29: https://www.refinitiv.com (Refinitiv Initial keywords) (ID: 496357)\n",
            "30:  (ID: 512453)\n",
            "31: HyperJar Mobile (ID: 514558)\n",
            "32: HyperJar (New business) (ID: 501209)\n",
            "33: hyperoptic.com (ID: 496386)\n",
            "34: ICS Connect UK (Desktop) (ID: 507172)\n",
            "35: ICS Connect UK (Mobile) (ID: 507177)\n",
            "36: ICS Connect US (Desktop) (ID: 497666)\n",
            "37: ICS Connect US (Mobile) (ID: 507180)\n",
            "38: LCH KW List - Jul 2023 (LCH 2023) (ID: 496342)\n",
            "39: lcp.com (ID: 497664)\n",
            "40: LCP DELTA (ID: 502157)\n",
            "41: lcpireland.com (ID: 497665)\n",
            "42: lqhomes.com (ID: 496498)\n",
            "43: lseg (ID: 503731)\n",
            "44: LSEG (ID: 503691)\n",
            "45: LSEG China (LSEG China) (ID: 496311)\n",
            "46:  (ID: 504827)\n",
            "47: LSEG Japan (LSEG Japan) (ID: 496312)\n",
            "48: LSEG Mobile (ID: 515172)\n",
            "49: LuckyDays CA (ID: 497773)\n",
            "50: Magic Jackpot (ID: 497772)\n",
            "51: osisoft.com (OSIsoft) (ID: 496340)\n",
            "52: OTM - Estate Agents (ID: 505898)\n",
            "53: Planet mark (ID: 504893)\n",
            "54: Planet Mark (ID: 496320)\n",
            "55: Rightmove Bing (ID: 496885)\n",
            "56: rightmove.co.uk (ID: 496846)\n",
            "57: ROAST (main) (ID: 496366)\n",
            "58: ROAST - SERP Testing (ROAST) (ID: 496343)\n",
            "59: rockstepper.com (ID: 496353)\n",
            "60: Superscript (ID: 496475)\n",
            "61: TrueLayer (TrueLayer) (ID: 496348)\n",
            "62: wexinc (Harry) (ID: 497661)\n",
            "63: World Courier (Desktop) - US (ID: 497667)\n",
            "64: World Courier - UK (Desktop) (ID: 504814)\n",
            "65: World Courier - UK (Mobile) (ID: 507156)\n",
            "66: World Courier - US (Mobile) (ID: 507154)\n",
            "67: www.essocard.com/en-gb/ (Esso Card WEX - Izzy A) (ID: 497662)\n",
            "68: www.wexinc.com/en-gb/ (Wex Saad) (ID: 497663)\n",
            "69: www.wexinc.com/en-gb/ (WEX UK - Pitch) (ID: 497660)\n",
            "70:  (ID: 483270)\n",
            "71: Zoopla - Estate Agents (ID: 505899)\n",
            "Enter the number of the domain you want to use: 56\n"
          ]
        },
        {
          "output_type": "stream",
          "name": "stderr",
          "text": [
            "Processing keywords:   0%|          | 0/1009 [00:00<?, ?keyword/s]\n",
            "\n",
            "Processing keywords:   0%|          | 0/1009 [00:01<?, ?keyword/s]\n",
            "Processing ranks:   0%|          | 0/1 [00:01<?, ?rank/s]\u001b[A"
          ]
        },
        {
          "output_type": "stream",
          "name": "stdout",
          "text": [
            "Saved HTML file: html-files-2024-04-26-10-22/14516335153.html\n"
          ]
        },
        {
          "output_type": "stream",
          "name": "stderr",
          "text": [
            "\n",
            "Processing ranks: 100%|██████████| 1/1 [00:01<00:00,  1.75s/rank]\u001b[A\n",
            "Processing keywords:   0%|          | 1/1009 [00:01<29:46,  1.77s/keyword]\n",
            "\n",
            "Processing keywords:   0%|          | 1/1009 [00:03<29:46,  1.77s/keyword]\n",
            "Processing ranks:   0%|          | 0/1 [00:01<?, ?rank/s]\u001b[A"
          ]
        },
        {
          "output_type": "stream",
          "name": "stdout",
          "text": [
            "Saved HTML file: html-files-2024-04-26-10-22/14516335857.html\n"
          ]
        },
        {
          "output_type": "stream",
          "name": "stderr",
          "text": [
            "\n",
            "Processing ranks: 100%|██████████| 1/1 [00:01<00:00,  1.57s/rank]\u001b[A\n",
            "Processing keywords:   0%|          | 2/1009 [00:03<27:53,  1.66s/keyword]\n",
            "\n",
            "Processing keywords:   0%|          | 2/1009 [00:04<27:53,  1.66s/keyword]\n",
            "Processing ranks:   0%|          | 0/1 [00:01<?, ?rank/s]\u001b[A"
          ]
        },
        {
          "output_type": "stream",
          "name": "stdout",
          "text": [
            "Saved HTML file: html-files-2024-04-26-10-22/14516340284.html\n"
          ]
        },
        {
          "output_type": "stream",
          "name": "stderr",
          "text": [
            "\n",
            "Processing ranks: 100%|██████████| 1/1 [00:01<00:00,  1.74s/rank]\u001b[A\n",
            "Processing keywords:   0%|          | 3/1009 [00:05<28:36,  1.71s/keyword]\n",
            "\n",
            "Processing keywords:   0%|          | 3/1009 [00:06<28:36,  1.71s/keyword]\n",
            "Processing ranks:   0%|          | 0/1 [00:01<?, ?rank/s]\u001b[A"
          ]
        },
        {
          "output_type": "stream",
          "name": "stdout",
          "text": [
            "Saved HTML file: html-files-2024-04-26-10-22/14516340704.html\n"
          ]
        },
        {
          "output_type": "stream",
          "name": "stderr",
          "text": [
            "\n",
            "Processing ranks: 100%|██████████| 1/1 [00:01<00:00,  1.46s/rank]\u001b[A\n",
            "Processing keywords:   0%|          | 4/1009 [00:06<27:04,  1.62s/keyword]\n",
            "\n",
            "Processing keywords:   0%|          | 4/1009 [00:07<27:04,  1.62s/keyword]\n",
            "Processing ranks:   0%|          | 0/1 [00:01<?, ?rank/s]\u001b[A"
          ]
        },
        {
          "output_type": "stream",
          "name": "stdout",
          "text": [
            "Saved HTML file: html-files-2024-04-26-10-22/14516336169.html\n"
          ]
        },
        {
          "output_type": "stream",
          "name": "stderr",
          "text": [
            "\n",
            "Processing ranks: 100%|██████████| 1/1 [00:01<00:00,  1.64s/rank]\u001b[A\n",
            "Processing keywords:   0%|          | 5/1009 [00:08<27:18,  1.63s/keyword]\n",
            "\n",
            "Processing keywords:   0%|          | 5/1009 [00:09<27:18,  1.63s/keyword]\n",
            "Processing ranks:   0%|          | 0/1 [00:01<?, ?rank/s]\u001b[A"
          ]
        },
        {
          "output_type": "stream",
          "name": "stdout",
          "text": [
            "Saved HTML file: html-files-2024-04-26-10-22/14516343022.html\n"
          ]
        },
        {
          "output_type": "stream",
          "name": "stderr",
          "text": [
            "\n",
            "Processing ranks: 100%|██████████| 1/1 [00:02<00:00,  2.17s/rank]\u001b[A\n",
            "Processing keywords:   1%|          | 6/1009 [00:10<30:27,  1.82s/keyword]\n",
            "\n",
            "Processing keywords:   1%|          | 6/1009 [00:11<30:27,  1.82s/keyword]\n",
            "Processing ranks:   0%|          | 0/1 [00:01<?, ?rank/s]\u001b[A"
          ]
        },
        {
          "output_type": "stream",
          "name": "stdout",
          "text": [
            "Saved HTML file: html-files-2024-04-26-10-22/14516343288.html\n"
          ]
        },
        {
          "output_type": "stream",
          "name": "stderr",
          "text": [
            "\n",
            "Processing ranks: 100%|██████████| 1/1 [00:01<00:00,  1.57s/rank]\u001b[A\n",
            "Processing keywords:   1%|          | 7/1009 [00:12<29:11,  1.75s/keyword]\n",
            "\n",
            "Processing keywords:   1%|          | 7/1009 [00:13<29:11,  1.75s/keyword]\n",
            "Processing ranks:   0%|          | 0/1 [00:01<?, ?rank/s]\u001b[A"
          ]
        },
        {
          "output_type": "stream",
          "name": "stdout",
          "text": [
            "Saved HTML file: html-files-2024-04-26-10-22/14516344173.html\n"
          ]
        },
        {
          "output_type": "stream",
          "name": "stderr",
          "text": [
            "\n",
            "Processing ranks: 100%|██████████| 1/1 [00:02<00:00,  2.35s/rank]\u001b[A\n",
            "Processing keywords:   1%|          | 8/1009 [00:14<32:31,  1.95s/keyword]\n",
            "\n",
            "Processing keywords:   1%|          | 8/1009 [00:15<32:31,  1.95s/keyword]\n",
            "Processing ranks:   0%|          | 0/1 [00:01<?, ?rank/s]\u001b[A"
          ]
        },
        {
          "output_type": "stream",
          "name": "stdout",
          "text": [
            "Saved HTML file: html-files-2024-04-26-10-22/14516335626.html\n"
          ]
        },
        {
          "output_type": "stream",
          "name": "stderr",
          "text": [
            "\n",
            "Processing ranks: 100%|██████████| 1/1 [00:01<00:00,  1.66s/rank]\u001b[A\n",
            "Processing keywords:   1%|          | 9/1009 [00:16<31:06,  1.87s/keyword]\n",
            "\n",
            "Processing keywords:   1%|          | 9/1009 [00:17<31:06,  1.87s/keyword]\n",
            "Processing ranks:   0%|          | 0/1 [00:01<?, ?rank/s]\u001b[A"
          ]
        },
        {
          "output_type": "stream",
          "name": "stdout",
          "text": [
            "Saved HTML file: html-files-2024-04-26-10-22/14516335765.html\n"
          ]
        },
        {
          "output_type": "stream",
          "name": "stderr",
          "text": [
            "\n",
            "Processing ranks: 100%|██████████| 1/1 [00:01<00:00,  1.63s/rank]\u001b[A\n",
            "Processing keywords:   1%|          | 10/1009 [00:17<29:57,  1.80s/keyword]\n",
            "\n",
            "Processing keywords:   1%|          | 10/1009 [00:19<29:57,  1.80s/keyword]\n",
            "Processing ranks:   0%|          | 0/1 [00:01<?, ?rank/s]\u001b[A"
          ]
        },
        {
          "output_type": "stream",
          "name": "stdout",
          "text": [
            "Saved HTML file: html-files-2024-04-26-10-22/14516344713.html\n"
          ]
        },
        {
          "output_type": "stream",
          "name": "stderr",
          "text": [
            "\n",
            "Processing ranks: 100%|██████████| 1/1 [00:01<00:00,  1.94s/rank]\u001b[A\n",
            "Processing keywords:   1%|          | 11/1009 [00:19<30:43,  1.85s/keyword]\n",
            "\n",
            "Processing keywords:   1%|          | 11/1009 [00:20<30:43,  1.85s/keyword]\n",
            "Processing ranks:   0%|          | 0/1 [00:01<?, ?rank/s]\u001b[A"
          ]
        },
        {
          "output_type": "stream",
          "name": "stdout",
          "text": [
            "Saved HTML file: html-files-2024-04-26-10-22/14516345500.html\n"
          ]
        },
        {
          "output_type": "stream",
          "name": "stderr",
          "text": [
            "\n",
            "Processing ranks: 100%|██████████| 1/1 [00:01<00:00,  1.56s/rank]\u001b[A\n",
            "Processing keywords:   1%|          | 12/1009 [00:21<29:21,  1.77s/keyword]\n",
            "\n",
            "Processing keywords:   1%|          | 12/1009 [00:22<29:21,  1.77s/keyword]\n",
            "Processing ranks:   0%|          | 0/1 [00:01<?, ?rank/s]\u001b[A"
          ]
        },
        {
          "output_type": "stream",
          "name": "stdout",
          "text": [
            "Saved HTML file: html-files-2024-04-26-10-22/14516346305.html\n"
          ]
        },
        {
          "output_type": "stream",
          "name": "stderr",
          "text": [
            "\n",
            "Processing ranks: 100%|██████████| 1/1 [00:02<00:00,  2.04s/rank]\u001b[A\n",
            "Processing keywords:   1%|▏         | 13/1009 [00:23<30:46,  1.85s/keyword]\n",
            "\n",
            "Processing keywords:   1%|▏         | 13/1009 [00:24<30:46,  1.85s/keyword]\n",
            "Processing ranks:   0%|          | 0/1 [00:01<?, ?rank/s]\u001b[A"
          ]
        },
        {
          "output_type": "stream",
          "name": "stdout",
          "text": [
            "Saved HTML file: html-files-2024-04-26-10-22/14516337037.html\n"
          ]
        },
        {
          "output_type": "stream",
          "name": "stderr",
          "text": [
            "\n",
            "Processing ranks: 100%|██████████| 1/1 [00:01<00:00,  1.82s/rank]\u001b[A\n",
            "Processing keywords:   1%|▏         | 14/1009 [00:25<30:41,  1.85s/keyword]\n",
            "\n",
            "Processing keywords:   1%|▏         | 14/1009 [00:26<30:41,  1.85s/keyword]\n",
            "Processing ranks:   0%|          | 0/1 [00:01<?, ?rank/s]\u001b[A"
          ]
        },
        {
          "output_type": "stream",
          "name": "stdout",
          "text": [
            "Saved HTML file: html-files-2024-04-26-10-22/14516346377.html\n"
          ]
        },
        {
          "output_type": "stream",
          "name": "stderr",
          "text": [
            "\n",
            "Processing ranks: 100%|██████████| 1/1 [00:01<00:00,  1.73s/rank]\u001b[A\n",
            "Processing keywords:   1%|▏         | 15/1009 [00:26<30:09,  1.82s/keyword]\n",
            "\n",
            "Processing keywords:   1%|▏         | 15/1009 [00:28<30:09,  1.82s/keyword]\n",
            "Processing ranks:   0%|          | 0/1 [00:01<?, ?rank/s]\u001b[A"
          ]
        },
        {
          "output_type": "stream",
          "name": "stdout",
          "text": [
            "Saved HTML file: html-files-2024-04-26-10-22/14516346817.html\n"
          ]
        },
        {
          "output_type": "stream",
          "name": "stderr",
          "text": [
            "\n",
            "Processing ranks: 100%|██████████| 1/1 [00:01<00:00,  1.37s/rank]\u001b[A\n",
            "Processing keywords:   2%|▏         | 16/1009 [00:28<27:59,  1.69s/keyword]\n",
            "\n",
            "Processing keywords:   2%|▏         | 16/1009 [00:29<27:59,  1.69s/keyword]\n",
            "Processing ranks:   0%|          | 0/1 [00:01<?, ?rank/s]\u001b[A"
          ]
        },
        {
          "output_type": "stream",
          "name": "stdout",
          "text": [
            "Saved HTML file: html-files-2024-04-26-10-22/14516347988.html\n"
          ]
        },
        {
          "output_type": "stream",
          "name": "stderr",
          "text": [
            "\n",
            "Processing ranks: 100%|██████████| 1/1 [00:01<00:00,  1.54s/rank]\u001b[A\n",
            "Processing keywords:   2%|▏         | 17/1009 [00:29<27:19,  1.65s/keyword]\n",
            "\n",
            "Processing keywords:   2%|▏         | 17/1009 [00:31<27:19,  1.65s/keyword]\n",
            "Processing ranks:   0%|          | 0/1 [00:01<?, ?rank/s]\u001b[A"
          ]
        },
        {
          "output_type": "stream",
          "name": "stdout",
          "text": [
            "Saved HTML file: html-files-2024-04-26-10-22/14516335856.html\n"
          ]
        },
        {
          "output_type": "stream",
          "name": "stderr",
          "text": [
            "\n",
            "Processing ranks: 100%|██████████| 1/1 [00:01<00:00,  1.69s/rank]\u001b[A\n",
            "Processing keywords:   2%|▏         | 18/1009 [00:31<27:35,  1.67s/keyword]\n",
            "\n",
            "Processing keywords:   2%|▏         | 18/1009 [00:32<27:35,  1.67s/keyword]\n",
            "Processing ranks:   0%|          | 0/1 [00:01<?, ?rank/s]\u001b[A\n",
            "Processing ranks: 100%|██████████| 1/1 [00:01<00:00,  1.32s/rank]\u001b[A\n",
            "Processing keywords:   2%|▏         | 19/1009 [00:32<25:54,  1.57s/keyword]"
          ]
        },
        {
          "output_type": "stream",
          "name": "stdout",
          "text": [
            "Saved HTML file: html-files-2024-04-26-10-22/14516348681.html\n"
          ]
        },
        {
          "output_type": "stream",
          "name": "stderr",
          "text": [
            "\n",
            "\n",
            "Processing keywords:   2%|▏         | 19/1009 [00:34<25:54,  1.57s/keyword]\n",
            "Processing ranks:   0%|          | 0/1 [00:01<?, ?rank/s]\u001b[A"
          ]
        },
        {
          "output_type": "stream",
          "name": "stdout",
          "text": [
            "Saved HTML file: html-files-2024-04-26-10-22/14516349027.html\n"
          ]
        },
        {
          "output_type": "stream",
          "name": "stderr",
          "text": [
            "\n",
            "Processing ranks: 100%|██████████| 1/1 [00:01<00:00,  1.88s/rank]\u001b[A\n",
            "Processing keywords:   2%|▏         | 20/1009 [00:34<27:32,  1.67s/keyword]\n",
            "\n",
            "Processing keywords:   2%|▏         | 20/1009 [00:36<27:32,  1.67s/keyword]\n",
            "Processing ranks:   0%|          | 0/1 [00:01<?, ?rank/s]\u001b[A"
          ]
        },
        {
          "output_type": "stream",
          "name": "stdout",
          "text": [
            "Saved HTML file: html-files-2024-04-26-10-22/14516350551.html\n"
          ]
        },
        {
          "output_type": "stream",
          "name": "stderr",
          "text": [
            "\n",
            "Processing ranks: 100%|██████████| 1/1 [00:01<00:00,  1.75s/rank]\u001b[A\n",
            "Processing keywords:   2%|▏         | 21/1009 [00:36<28:00,  1.70s/keyword]\n",
            "\n",
            "Processing keywords:   2%|▏         | 21/1009 [00:38<28:00,  1.70s/keyword]\n",
            "Processing ranks:   0%|          | 0/1 [00:01<?, ?rank/s]\u001b[A"
          ]
        },
        {
          "output_type": "stream",
          "name": "stdout",
          "text": [
            "Saved HTML file: html-files-2024-04-26-10-22/14516350789.html\n"
          ]
        },
        {
          "output_type": "stream",
          "name": "stderr",
          "text": [
            "\n",
            "Processing ranks: 100%|██████████| 1/1 [00:01<00:00,  1.71s/rank]\u001b[A\n",
            "Processing keywords:   2%|▏         | 22/1009 [00:38<28:09,  1.71s/keyword]\n",
            "\n",
            "Processing keywords:   2%|▏         | 22/1009 [00:39<28:09,  1.71s/keyword]\n",
            "Processing ranks:   0%|          | 0/1 [00:01<?, ?rank/s]\u001b[A"
          ]
        },
        {
          "output_type": "stream",
          "name": "stdout",
          "text": [
            "Saved HTML file: html-files-2024-04-26-10-22/14516350981.html\n"
          ]
        },
        {
          "output_type": "stream",
          "name": "stderr",
          "text": [
            "\n",
            "Processing ranks: 100%|██████████| 1/1 [00:01<00:00,  1.65s/rank]\u001b[A\n",
            "Processing keywords:   2%|▏         | 23/1009 [00:40<27:56,  1.70s/keyword]\n",
            "\n",
            "Processing keywords:   2%|▏         | 23/1009 [00:41<27:56,  1.70s/keyword]\n",
            "Processing ranks:   0%|          | 0/1 [00:01<?, ?rank/s]\u001b[A"
          ]
        },
        {
          "output_type": "stream",
          "name": "stdout",
          "text": [
            "Saved HTML file: html-files-2024-04-26-10-22/14516352068.html\n"
          ]
        },
        {
          "output_type": "stream",
          "name": "stderr",
          "text": [
            "\n",
            "Processing ranks: 100%|██████████| 1/1 [00:01<00:00,  1.62s/rank]\u001b[A\n",
            "Processing keywords:   2%|▏         | 24/1009 [00:41<27:37,  1.68s/keyword]\n",
            "\n",
            "Processing keywords:   2%|▏         | 24/1009 [00:42<27:37,  1.68s/keyword]\n",
            "Processing ranks:   0%|          | 0/1 [00:01<?, ?rank/s]\u001b[A"
          ]
        },
        {
          "output_type": "stream",
          "name": "stdout",
          "text": [
            "Saved HTML file: html-files-2024-04-26-10-22/14516352598.html\n"
          ]
        },
        {
          "output_type": "stream",
          "name": "stderr",
          "text": [
            "\n",
            "Processing ranks: 100%|██████████| 1/1 [00:01<00:00,  1.47s/rank]\u001b[A\n",
            "Processing keywords:   2%|▏         | 25/1009 [00:43<26:36,  1.62s/keyword]\n",
            "\n",
            "Processing keywords:   2%|▏         | 25/1009 [00:44<26:36,  1.62s/keyword]\n",
            "Processing ranks:   0%|          | 0/1 [00:01<?, ?rank/s]\u001b[A"
          ]
        },
        {
          "output_type": "stream",
          "name": "stdout",
          "text": [
            "Saved HTML file: html-files-2024-04-26-10-22/14516352686.html\n"
          ]
        },
        {
          "output_type": "stream",
          "name": "stderr",
          "text": [
            "\n",
            "Processing ranks: 100%|██████████| 1/1 [00:01<00:00,  1.69s/rank]\u001b[A\n",
            "Processing keywords:   3%|▎         | 26/1009 [00:44<27:00,  1.65s/keyword]\n",
            "\n",
            "Processing keywords:   3%|▎         | 26/1009 [00:45<27:00,  1.65s/keyword]\n",
            "Processing ranks:   0%|          | 0/1 [00:00<?, ?rank/s]\u001b[A"
          ]
        },
        {
          "output_type": "stream",
          "name": "stdout",
          "text": [
            "Saved HTML file: html-files-2024-04-26-10-22/14516353957.html\n"
          ]
        },
        {
          "output_type": "stream",
          "name": "stderr",
          "text": [
            "\n",
            "Processing ranks: 100%|██████████| 1/1 [00:01<00:00,  1.16s/rank]\u001b[A\n",
            "Processing keywords:   3%|▎         | 27/1009 [00:46<24:40,  1.51s/keyword]\n",
            "\n",
            "Processing keywords:   3%|▎         | 27/1009 [00:47<24:40,  1.51s/keyword]\n",
            "Processing ranks:   0%|          | 0/1 [00:01<?, ?rank/s]\u001b[A"
          ]
        },
        {
          "output_type": "stream",
          "name": "stdout",
          "text": [
            "Saved HTML file: html-files-2024-04-26-10-22/14516356052.html\n"
          ]
        },
        {
          "output_type": "stream",
          "name": "stderr",
          "text": [
            "\n",
            "Processing ranks: 100%|██████████| 1/1 [00:01<00:00,  1.96s/rank]\u001b[A\n",
            "Processing keywords:   3%|▎         | 28/1009 [00:48<26:57,  1.65s/keyword]\n",
            "\n",
            "Processing keywords:   3%|▎         | 28/1009 [00:49<26:57,  1.65s/keyword]\n",
            "Processing ranks:   0%|          | 0/1 [00:01<?, ?rank/s]\u001b[A"
          ]
        },
        {
          "output_type": "stream",
          "name": "stdout",
          "text": [
            "Saved HTML file: html-files-2024-04-26-10-22/14516356251.html\n"
          ]
        },
        {
          "output_type": "stream",
          "name": "stderr",
          "text": [
            "\n",
            "Processing ranks: 100%|██████████| 1/1 [00:01<00:00,  1.70s/rank]\u001b[A\n",
            "Processing keywords:   3%|▎         | 29/1009 [00:49<27:17,  1.67s/keyword]\n",
            "\n",
            "Processing keywords:   3%|▎         | 29/1009 [00:51<27:17,  1.67s/keyword]\n",
            "Processing ranks:   0%|          | 0/1 [00:01<?, ?rank/s]\u001b[A"
          ]
        },
        {
          "output_type": "stream",
          "name": "stdout",
          "text": [
            "Saved HTML file: html-files-2024-04-26-10-22/14516336317.html\n"
          ]
        },
        {
          "output_type": "stream",
          "name": "stderr",
          "text": [
            "\n",
            "Processing ranks: 100%|██████████| 1/1 [00:01<00:00,  1.67s/rank]\u001b[A\n",
            "Processing keywords:   3%|▎         | 30/1009 [00:51<27:20,  1.68s/keyword]\n",
            "\n",
            "Processing keywords:   3%|▎         | 30/1009 [00:52<27:20,  1.68s/keyword]\n",
            "Processing ranks:   0%|          | 0/1 [00:01<?, ?rank/s]\u001b[A"
          ]
        },
        {
          "output_type": "stream",
          "name": "stdout",
          "text": [
            "Saved HTML file: html-files-2024-04-26-10-22/14516356800.html\n"
          ]
        },
        {
          "output_type": "stream",
          "name": "stderr",
          "text": [
            "\n",
            "Processing ranks: 100%|██████████| 1/1 [00:01<00:00,  1.78s/rank]\u001b[A\n",
            "Processing keywords:   3%|▎         | 31/1009 [00:53<27:55,  1.71s/keyword]\n",
            "\n",
            "Processing keywords:   3%|▎         | 31/1009 [00:54<27:55,  1.71s/keyword]\n",
            "Processing ranks:   0%|          | 0/1 [00:01<?, ?rank/s]\u001b[A"
          ]
        },
        {
          "output_type": "stream",
          "name": "stdout",
          "text": [
            "Saved HTML file: html-files-2024-04-26-10-22/14516356957.html\n"
          ]
        },
        {
          "output_type": "stream",
          "name": "stderr",
          "text": [
            "\n",
            "Processing ranks: 100%|██████████| 1/1 [00:01<00:00,  1.81s/rank]\u001b[A\n",
            "Processing keywords:   3%|▎         | 32/1009 [00:55<28:26,  1.75s/keyword]\n",
            "\n",
            "Processing keywords:   3%|▎         | 32/1009 [00:56<28:26,  1.75s/keyword]\n",
            "Processing ranks:   0%|          | 0/1 [00:01<?, ?rank/s]\u001b[A"
          ]
        },
        {
          "output_type": "stream",
          "name": "stdout",
          "text": [
            "Saved HTML file: html-files-2024-04-26-10-22/14516359686.html\n"
          ]
        },
        {
          "output_type": "stream",
          "name": "stderr",
          "text": [
            "\n",
            "Processing ranks: 100%|██████████| 1/1 [00:01<00:00,  1.76s/rank]\u001b[A\n",
            "Processing keywords:   3%|▎         | 33/1009 [00:56<28:32,  1.75s/keyword]\n",
            "\n",
            "Processing keywords:   3%|▎         | 33/1009 [00:58<28:32,  1.75s/keyword]\n",
            "Processing ranks:   0%|          | 0/1 [00:01<?, ?rank/s]\u001b[A"
          ]
        },
        {
          "output_type": "stream",
          "name": "stdout",
          "text": [
            "Saved HTML file: html-files-2024-04-26-10-22/14516359783.html\n"
          ]
        },
        {
          "output_type": "stream",
          "name": "stderr",
          "text": [
            "\n",
            "Processing ranks: 100%|██████████| 1/1 [00:02<00:00,  2.00s/rank]\u001b[A\n",
            "Processing keywords:   3%|▎         | 34/1009 [00:58<29:49,  1.84s/keyword]\n",
            "\n",
            "Processing keywords:   3%|▎         | 34/1009 [01:00<29:49,  1.84s/keyword]\n",
            "Processing ranks:   0%|          | 0/1 [00:01<?, ?rank/s]\u001b[A"
          ]
        },
        {
          "output_type": "stream",
          "name": "stdout",
          "text": [
            "Saved HTML file: html-files-2024-04-26-10-22/14516361013.html\n"
          ]
        },
        {
          "output_type": "stream",
          "name": "stderr",
          "text": [
            "\n",
            "Processing ranks: 100%|██████████| 1/1 [00:01<00:00,  1.87s/rank]\u001b[A\n",
            "Processing keywords:   3%|▎         | 35/1009 [01:00<30:06,  1.85s/keyword]\n",
            "\n",
            "Processing keywords:   3%|▎         | 35/1009 [01:02<30:06,  1.85s/keyword]\n",
            "Processing ranks:   0%|          | 0/1 [00:01<?, ?rank/s]\u001b[A"
          ]
        },
        {
          "output_type": "stream",
          "name": "stdout",
          "text": [
            "Saved HTML file: html-files-2024-04-26-10-22/14516339226.html\n"
          ]
        },
        {
          "output_type": "stream",
          "name": "stderr",
          "text": [
            "\n",
            "Processing ranks: 100%|██████████| 1/1 [00:01<00:00,  1.99s/rank]\u001b[A\n",
            "Processing keywords:   4%|▎         | 36/1009 [01:02<30:50,  1.90s/keyword]\n",
            "\n",
            "Processing keywords:   4%|▎         | 36/1009 [01:03<30:50,  1.90s/keyword]\n",
            "Processing ranks:   0%|          | 0/1 [00:00<?, ?rank/s]\u001b[A"
          ]
        },
        {
          "output_type": "stream",
          "name": "stdout",
          "text": [
            "Saved HTML file: html-files-2024-04-26-10-22/14516361293.html\n"
          ]
        },
        {
          "output_type": "stream",
          "name": "stderr",
          "text": [
            "\n",
            "Processing ranks: 100%|██████████| 1/1 [00:00<00:00,  1.15rank/s]\u001b[A\n",
            "Processing keywords:   4%|▎         | 37/1009 [01:03<25:53,  1.60s/keyword]\n",
            "\n",
            "Processing keywords:   4%|▎         | 37/1009 [01:04<25:53,  1.60s/keyword]\n",
            "Processing ranks:   0%|          | 0/1 [00:01<?, ?rank/s]\u001b[A"
          ]
        },
        {
          "output_type": "stream",
          "name": "stdout",
          "text": [
            "Saved HTML file: html-files-2024-04-26-10-22/14516361708.html\n"
          ]
        },
        {
          "output_type": "stream",
          "name": "stderr",
          "text": [
            "\n",
            "Processing ranks: 100%|██████████| 1/1 [00:01<00:00,  1.66s/rank]\u001b[A\n",
            "Processing keywords:   4%|▍         | 38/1009 [01:05<26:17,  1.62s/keyword]\n",
            "\n",
            "Processing keywords:   4%|▍         | 38/1009 [01:06<26:17,  1.62s/keyword]\n",
            "Processing ranks:   0%|          | 0/1 [00:01<?, ?rank/s]\u001b[A"
          ]
        },
        {
          "output_type": "stream",
          "name": "stdout",
          "text": [
            "Saved HTML file: html-files-2024-04-26-10-22/14516336561.html\n"
          ]
        },
        {
          "output_type": "stream",
          "name": "stderr",
          "text": [
            "\n",
            "Processing ranks: 100%|██████████| 1/1 [00:01<00:00,  1.52s/rank]\u001b[A\n",
            "Processing keywords:   4%|▍         | 39/1009 [01:06<25:53,  1.60s/keyword]\n",
            "\n",
            "Processing keywords:   4%|▍         | 39/1009 [01:08<25:53,  1.60s/keyword]\n",
            "Processing ranks:   0%|          | 0/1 [00:01<?, ?rank/s]\u001b[A"
          ]
        },
        {
          "output_type": "stream",
          "name": "stdout",
          "text": [
            "Saved HTML file: html-files-2024-04-26-10-22/14516336634.html\n"
          ]
        },
        {
          "output_type": "stream",
          "name": "stderr",
          "text": [
            "\n",
            "Processing ranks: 100%|██████████| 1/1 [00:01<00:00,  1.54s/rank]\u001b[A\n",
            "Processing keywords:   4%|▍         | 40/1009 [01:08<25:41,  1.59s/keyword]\n",
            "\n",
            "Processing keywords:   4%|▍         | 40/1009 [01:09<25:41,  1.59s/keyword]\n",
            "Processing ranks:   0%|          | 0/1 [00:01<?, ?rank/s]\u001b[A"
          ]
        },
        {
          "output_type": "stream",
          "name": "stdout",
          "text": [
            "Saved HTML file: html-files-2024-04-26-10-22/14516362003.html\n"
          ]
        },
        {
          "output_type": "stream",
          "name": "stderr",
          "text": [
            "\n",
            "Processing ranks: 100%|██████████| 1/1 [00:01<00:00,  1.65s/rank]\u001b[A\n",
            "Processing keywords:   4%|▍         | 41/1009 [01:10<26:02,  1.61s/keyword]\n",
            "\n",
            "Processing keywords:   4%|▍         | 41/1009 [01:11<26:02,  1.61s/keyword]\n",
            "Processing ranks:   0%|          | 0/1 [00:01<?, ?rank/s]\u001b[A"
          ]
        },
        {
          "output_type": "stream",
          "name": "stdout",
          "text": [
            "Saved HTML file: html-files-2024-04-26-10-22/14516362114.html\n"
          ]
        },
        {
          "output_type": "stream",
          "name": "stderr",
          "text": [
            "\n",
            "Processing ranks: 100%|██████████| 1/1 [00:01<00:00,  1.89s/rank]\u001b[A\n",
            "Processing keywords:   4%|▍         | 42/1009 [01:12<27:27,  1.70s/keyword]\n",
            "\n",
            "Processing keywords:   4%|▍         | 42/1009 [01:13<27:27,  1.70s/keyword]\n",
            "Processing ranks:   0%|          | 0/1 [00:01<?, ?rank/s]\u001b[A"
          ]
        },
        {
          "output_type": "stream",
          "name": "stdout",
          "text": [
            "Saved HTML file: html-files-2024-04-26-10-22/14516362343.html\n"
          ]
        },
        {
          "output_type": "stream",
          "name": "stderr",
          "text": [
            "\n",
            "Processing ranks: 100%|██████████| 1/1 [00:01<00:00,  1.78s/rank]\u001b[A\n",
            "Processing keywords:   4%|▍         | 43/1009 [01:13<27:53,  1.73s/keyword]\n",
            "\n",
            "Processing keywords:   4%|▍         | 43/1009 [01:14<27:53,  1.73s/keyword]\n",
            "Processing ranks:   0%|          | 0/1 [00:00<?, ?rank/s]\u001b[A"
          ]
        },
        {
          "output_type": "stream",
          "name": "stdout",
          "text": [
            "Saved HTML file: html-files-2024-04-26-10-22/14516363152.html\n"
          ]
        },
        {
          "output_type": "stream",
          "name": "stderr",
          "text": [
            "\n",
            "Processing ranks: 100%|██████████| 1/1 [00:00<00:00,  1.20rank/s]\u001b[A\n",
            "Processing keywords:   4%|▍         | 44/1009 [01:14<23:36,  1.47s/keyword]\n",
            "\n",
            "Processing keywords:   4%|▍         | 44/1009 [01:15<23:36,  1.47s/keyword]\n",
            "Processing ranks:   0%|          | 0/1 [00:01<?, ?rank/s]\u001b[A"
          ]
        },
        {
          "output_type": "stream",
          "name": "stdout",
          "text": [
            "Saved HTML file: html-files-2024-04-26-10-22/14516363840.html\n"
          ]
        },
        {
          "output_type": "stream",
          "name": "stderr",
          "text": [
            "\n",
            "Processing ranks: 100%|██████████| 1/1 [00:01<00:00,  1.85s/rank]\u001b[A\n",
            "Processing keywords:   4%|▍         | 45/1009 [01:16<25:31,  1.59s/keyword]\n",
            "\n",
            "Processing keywords:   4%|▍         | 45/1009 [01:17<25:31,  1.59s/keyword]\n",
            "Processing ranks:   0%|          | 0/1 [00:01<?, ?rank/s]\u001b[A"
          ]
        },
        {
          "output_type": "stream",
          "name": "stdout",
          "text": [
            "Saved HTML file: html-files-2024-04-26-10-22/14516363927.html\n"
          ]
        },
        {
          "output_type": "stream",
          "name": "stderr",
          "text": [
            "\n",
            "Processing ranks: 100%|██████████| 1/1 [00:01<00:00,  1.55s/rank]\u001b[A\n",
            "Processing keywords:   5%|▍         | 46/1009 [01:18<25:23,  1.58s/keyword]\n",
            "\n",
            "Processing keywords:   5%|▍         | 46/1009 [01:19<25:23,  1.58s/keyword]\n",
            "Processing ranks:   0%|          | 0/1 [00:01<?, ?rank/s]\u001b[A"
          ]
        },
        {
          "output_type": "stream",
          "name": "stdout",
          "text": [
            "Saved HTML file: html-files-2024-04-26-10-22/14516364045.html\n"
          ]
        },
        {
          "output_type": "stream",
          "name": "stderr",
          "text": [
            "\n",
            "Processing ranks: 100%|██████████| 1/1 [00:01<00:00,  1.60s/rank]\u001b[A\n",
            "Processing keywords:   5%|▍         | 47/1009 [01:19<25:33,  1.59s/keyword]\n",
            "\n",
            "Processing keywords:   5%|▍         | 47/1009 [01:21<25:33,  1.59s/keyword]\n",
            "Processing ranks:   0%|          | 0/1 [00:01<?, ?rank/s]\u001b[A"
          ]
        },
        {
          "output_type": "stream",
          "name": "stdout",
          "text": [
            "Saved HTML file: html-files-2024-04-26-10-22/14516340639.html\n"
          ]
        },
        {
          "output_type": "stream",
          "name": "stderr",
          "text": [
            "\n",
            "Processing ranks: 100%|██████████| 1/1 [00:01<00:00,  1.77s/rank]\u001b[A\n",
            "Processing keywords:   5%|▍         | 48/1009 [01:21<26:30,  1.66s/keyword]\n",
            "\n",
            "Processing keywords:   5%|▍         | 48/1009 [01:22<26:30,  1.66s/keyword]\n",
            "Processing ranks:   0%|          | 0/1 [00:01<?, ?rank/s]\u001b[A"
          ]
        },
        {
          "output_type": "stream",
          "name": "stdout",
          "text": [
            "Saved HTML file: html-files-2024-04-26-10-22/14516364239.html\n"
          ]
        },
        {
          "output_type": "stream",
          "name": "stderr",
          "text": [
            "\n",
            "Processing ranks: 100%|██████████| 1/1 [00:01<00:00,  1.65s/rank]\u001b[A\n",
            "Processing keywords:   5%|▍         | 49/1009 [01:23<26:31,  1.66s/keyword]\n",
            "\n",
            "Processing keywords:   5%|▍         | 49/1009 [01:24<26:31,  1.66s/keyword]\n",
            "Processing ranks:   0%|          | 0/1 [00:01<?, ?rank/s]\u001b[A"
          ]
        },
        {
          "output_type": "stream",
          "name": "stdout",
          "text": [
            "Saved HTML file: html-files-2024-04-26-10-22/14516340691.html\n"
          ]
        },
        {
          "output_type": "stream",
          "name": "stderr",
          "text": [
            "\n",
            "Processing ranks: 100%|██████████| 1/1 [00:02<00:00,  2.12s/rank]\u001b[A\n",
            "Processing keywords:   5%|▍         | 50/1009 [01:25<28:48,  1.80s/keyword]\n",
            "\n",
            "Processing keywords:   5%|▍         | 50/1009 [01:26<28:48,  1.80s/keyword]\n",
            "Processing ranks:   0%|          | 0/1 [00:01<?, ?rank/s]\u001b[A"
          ]
        },
        {
          "output_type": "stream",
          "name": "stdout",
          "text": [
            "Saved HTML file: html-files-2024-04-26-10-22/14516365719.html\n"
          ]
        },
        {
          "output_type": "stream",
          "name": "stderr",
          "text": [
            "\n",
            "Processing ranks: 100%|██████████| 1/1 [00:01<00:00,  1.61s/rank]\u001b[A\n",
            "Processing keywords:   5%|▌         | 51/1009 [01:26<27:56,  1.75s/keyword]\n",
            "\n",
            "Processing keywords:   5%|▌         | 51/1009 [01:27<27:56,  1.75s/keyword]\n",
            "Processing ranks:   0%|          | 0/1 [00:00<?, ?rank/s]\u001b[A"
          ]
        },
        {
          "output_type": "stream",
          "name": "stdout",
          "text": [
            "Saved HTML file: html-files-2024-04-26-10-22/14516366120.html\n"
          ]
        },
        {
          "output_type": "stream",
          "name": "stderr",
          "text": [
            "\n",
            "Processing ranks: 100%|██████████| 1/1 [00:00<00:00,  1.13rank/s]\u001b[A\n",
            "Processing keywords:   5%|▌         | 52/1009 [01:27<23:50,  1.49s/keyword]\n",
            "\n",
            "Processing keywords:   5%|▌         | 52/1009 [01:28<23:50,  1.49s/keyword]\n",
            "Processing ranks:   0%|          | 0/1 [00:00<?, ?rank/s]\u001b[A"
          ]
        },
        {
          "output_type": "stream",
          "name": "stdout",
          "text": [
            "Saved HTML file: html-files-2024-04-26-10-22/14516367962.html\n"
          ]
        },
        {
          "output_type": "stream",
          "name": "stderr",
          "text": [
            "\n",
            "Processing ranks: 100%|██████████| 1/1 [00:01<00:00,  1.37s/rank]\u001b[A\n",
            "Processing keywords:   5%|▌         | 53/1009 [01:29<23:18,  1.46s/keyword]\n",
            "\n",
            "Processing keywords:   5%|▌         | 53/1009 [01:30<23:18,  1.46s/keyword]\n",
            "Processing ranks:   0%|          | 0/1 [00:01<?, ?rank/s]\u001b[A"
          ]
        },
        {
          "output_type": "stream",
          "name": "stdout",
          "text": [
            "Saved HTML file: html-files-2024-04-26-10-22/14516368771.html\n"
          ]
        },
        {
          "output_type": "stream",
          "name": "stderr",
          "text": [
            "\n",
            "Processing ranks: 100%|██████████| 1/1 [00:01<00:00,  1.61s/rank]\u001b[A\n",
            "Processing keywords:   5%|▌         | 54/1009 [01:30<24:04,  1.51s/keyword]\n",
            "\n",
            "Processing keywords:   5%|▌         | 54/1009 [01:32<24:04,  1.51s/keyword]\n",
            "Processing ranks:   0%|          | 0/1 [00:01<?, ?rank/s]\u001b[A"
          ]
        },
        {
          "output_type": "stream",
          "name": "stdout",
          "text": [
            "Saved HTML file: html-files-2024-04-26-10-22/14516368896.html\n"
          ]
        },
        {
          "output_type": "stream",
          "name": "stderr",
          "text": [
            "\n",
            "Processing ranks: 100%|██████████| 1/1 [00:01<00:00,  1.87s/rank]\u001b[A\n",
            "Processing keywords:   5%|▌         | 55/1009 [01:32<25:51,  1.63s/keyword]\n",
            "\n",
            "Processing keywords:   5%|▌         | 55/1009 [01:34<25:51,  1.63s/keyword]\n",
            "Processing ranks:   0%|          | 0/1 [00:01<?, ?rank/s]\u001b[A"
          ]
        },
        {
          "output_type": "stream",
          "name": "stdout",
          "text": [
            "Saved HTML file: html-files-2024-04-26-10-22/14516341965.html\n"
          ]
        },
        {
          "output_type": "stream",
          "name": "stderr",
          "text": [
            "\n",
            "Processing ranks: 100%|██████████| 1/1 [00:01<00:00,  1.69s/rank]\u001b[A\n",
            "Processing keywords:   6%|▌         | 56/1009 [01:34<26:13,  1.65s/keyword]\n",
            "\n",
            "Processing keywords:   6%|▌         | 56/1009 [01:36<26:13,  1.65s/keyword]\n",
            "Processing ranks:   0%|          | 0/1 [00:01<?, ?rank/s]\u001b[A"
          ]
        },
        {
          "output_type": "stream",
          "name": "stdout",
          "text": [
            "Saved HTML file: html-files-2024-04-26-10-22/14516371339.html\n"
          ]
        },
        {
          "output_type": "stream",
          "name": "stderr",
          "text": [
            "\n",
            "Processing ranks: 100%|██████████| 1/1 [00:02<00:00,  2.15s/rank]\u001b[A\n",
            "Processing keywords:   6%|▌         | 57/1009 [01:36<28:40,  1.81s/keyword]\n",
            "\n",
            "Processing keywords:   6%|▌         | 57/1009 [01:37<28:40,  1.81s/keyword]\n",
            "Processing ranks:   0%|          | 0/1 [00:01<?, ?rank/s]\u001b[A"
          ]
        },
        {
          "output_type": "stream",
          "name": "stdout",
          "text": [
            "Saved HTML file: html-files-2024-04-26-10-22/14516371395.html\n"
          ]
        },
        {
          "output_type": "stream",
          "name": "stderr",
          "text": [
            "\n",
            "Processing ranks: 100%|██████████| 1/1 [00:02<00:00,  2.00s/rank]\u001b[A\n",
            "Processing keywords:   6%|▌         | 58/1009 [01:38<29:38,  1.87s/keyword]\n",
            "\n",
            "Processing keywords:   6%|▌         | 58/1009 [01:40<29:38,  1.87s/keyword]\n",
            "Processing ranks:   0%|          | 0/1 [00:01<?, ?rank/s]\u001b[A"
          ]
        },
        {
          "output_type": "stream",
          "name": "stdout",
          "text": [
            "Saved HTML file: html-files-2024-04-26-10-22/14516371474.html\n"
          ]
        },
        {
          "output_type": "stream",
          "name": "stderr",
          "text": [
            "\n",
            "Processing ranks: 100%|██████████| 1/1 [00:01<00:00,  1.85s/rank]\u001b[A\n",
            "Processing keywords:   6%|▌         | 59/1009 [01:40<29:36,  1.87s/keyword]\n",
            "\n",
            "Processing keywords:   6%|▌         | 59/1009 [01:41<29:36,  1.87s/keyword]\n",
            "Processing ranks:   0%|          | 0/1 [00:01<?, ?rank/s]\u001b[A"
          ]
        },
        {
          "output_type": "stream",
          "name": "stdout",
          "text": [
            "Saved HTML file: html-files-2024-04-26-10-22/14516335162.html\n"
          ]
        },
        {
          "output_type": "stream",
          "name": "stderr",
          "text": [
            "\n",
            "Processing ranks: 100%|██████████| 1/1 [00:01<00:00,  1.81s/rank]\u001b[A\n",
            "Processing keywords:   6%|▌         | 60/1009 [01:42<29:24,  1.86s/keyword]\n",
            "\n",
            "Processing keywords:   6%|▌         | 60/1009 [01:43<29:24,  1.86s/keyword]\n",
            "Processing ranks:   0%|          | 0/1 [00:01<?, ?rank/s]\u001b[A"
          ]
        },
        {
          "output_type": "stream",
          "name": "stdout",
          "text": [
            "Saved HTML file: html-files-2024-04-26-10-22/14516372561.html\n"
          ]
        },
        {
          "output_type": "stream",
          "name": "stderr",
          "text": [
            "\n",
            "Processing ranks: 100%|██████████| 1/1 [00:01<00:00,  1.75s/rank]\u001b[A\n",
            "Processing keywords:   6%|▌         | 61/1009 [01:44<28:55,  1.83s/keyword]\n",
            "\n",
            "Processing keywords:   6%|▌         | 61/1009 [01:45<28:55,  1.83s/keyword]\n",
            "Processing ranks:   0%|          | 0/1 [00:01<?, ?rank/s]\u001b[A"
          ]
        },
        {
          "output_type": "stream",
          "name": "stdout",
          "text": [
            "Saved HTML file: html-files-2024-04-26-10-22/14516335464.html\n"
          ]
        },
        {
          "output_type": "stream",
          "name": "stderr",
          "text": [
            "\n",
            "Processing ranks: 100%|██████████| 1/1 [00:01<00:00,  1.82s/rank]\u001b[A\n",
            "Processing keywords:   6%|▌         | 62/1009 [01:45<28:56,  1.83s/keyword]\n",
            "\n",
            "Processing keywords:   6%|▌         | 62/1009 [01:47<28:56,  1.83s/keyword]\n",
            "Processing ranks:   0%|          | 0/1 [00:01<?, ?rank/s]\u001b[A"
          ]
        },
        {
          "output_type": "stream",
          "name": "stdout",
          "text": [
            "Saved HTML file: html-files-2024-04-26-10-22/14516337783.html\n"
          ]
        },
        {
          "output_type": "stream",
          "name": "stderr",
          "text": [
            "\n",
            "Processing ranks: 100%|██████████| 1/1 [00:01<00:00,  1.71s/rank]\u001b[A\n",
            "Processing keywords:   6%|▌         | 63/1009 [01:47<28:24,  1.80s/keyword]\n",
            "\n",
            "Processing keywords:   6%|▌         | 63/1009 [01:49<28:24,  1.80s/keyword]\n",
            "Processing ranks:   0%|          | 0/1 [00:01<?, ?rank/s]\u001b[A"
          ]
        },
        {
          "output_type": "stream",
          "name": "stdout",
          "text": [
            "Saved HTML file: html-files-2024-04-26-10-22/14516343862.html\n"
          ]
        },
        {
          "output_type": "stream",
          "name": "stderr",
          "text": [
            "\n",
            "Processing ranks: 100%|██████████| 1/1 [00:02<00:00,  2.02s/rank]\u001b[A\n",
            "Processing keywords:   6%|▋         | 64/1009 [01:49<29:30,  1.87s/keyword]\n",
            "\n",
            "Processing keywords:   6%|▋         | 64/1009 [01:51<29:30,  1.87s/keyword]\n",
            "Processing ranks:   0%|          | 0/1 [00:01<?, ?rank/s]\u001b[A"
          ]
        },
        {
          "output_type": "stream",
          "name": "stdout",
          "text": [
            "Saved HTML file: html-files-2024-04-26-10-22/14516375636.html\n"
          ]
        },
        {
          "output_type": "stream",
          "name": "stderr",
          "text": [
            "\n",
            "Processing ranks: 100%|██████████| 1/1 [00:01<00:00,  1.87s/rank]\u001b[A\n",
            "Processing keywords:   6%|▋         | 65/1009 [01:51<29:32,  1.88s/keyword]\n",
            "\n",
            "Processing keywords:   6%|▋         | 65/1009 [01:52<29:32,  1.88s/keyword]\n",
            "Processing ranks:   0%|          | 0/1 [00:01<?, ?rank/s]\u001b[A"
          ]
        },
        {
          "output_type": "stream",
          "name": "stdout",
          "text": [
            "Saved HTML file: html-files-2024-04-26-10-22/14516344687.html\n"
          ]
        },
        {
          "output_type": "stream",
          "name": "stderr",
          "text": [
            "\n",
            "Processing ranks: 100%|██████████| 1/1 [00:01<00:00,  1.46s/rank]\u001b[A\n",
            "Processing keywords:   7%|▋         | 66/1009 [01:53<27:41,  1.76s/keyword]\n",
            "\n",
            "Processing keywords:   7%|▋         | 66/1009 [01:54<27:41,  1.76s/keyword]\n",
            "Processing ranks:   0%|          | 0/1 [00:01<?, ?rank/s]\u001b[A"
          ]
        },
        {
          "output_type": "stream",
          "name": "stdout",
          "text": [
            "Saved HTML file: html-files-2024-04-26-10-22/14516337789.html\n"
          ]
        },
        {
          "output_type": "stream",
          "name": "stderr",
          "text": [
            "\n",
            "Processing ranks: 100%|██████████| 1/1 [00:01<00:00,  1.75s/rank]\u001b[A\n",
            "Processing keywords:   7%|▋         | 67/1009 [01:54<27:40,  1.76s/keyword]\n",
            "\n",
            "Processing keywords:   7%|▋         | 67/1009 [01:56<27:40,  1.76s/keyword]\n",
            "Processing ranks:   0%|          | 0/1 [00:01<?, ?rank/s]\u001b[A"
          ]
        },
        {
          "output_type": "stream",
          "name": "stdout",
          "text": [
            "Saved HTML file: html-files-2024-04-26-10-22/14516338811.html\n"
          ]
        },
        {
          "output_type": "stream",
          "name": "stderr",
          "text": [
            "\n",
            "Processing ranks: 100%|██████████| 1/1 [00:01<00:00,  1.55s/rank]\u001b[A\n",
            "Processing keywords:   7%|▋         | 68/1009 [01:56<26:43,  1.70s/keyword]\n",
            "\n",
            "Processing keywords:   7%|▋         | 68/1009 [01:57<26:43,  1.70s/keyword]\n",
            "Processing ranks:   0%|          | 0/1 [00:01<?, ?rank/s]\u001b[A"
          ]
        },
        {
          "output_type": "stream",
          "name": "stdout",
          "text": [
            "Saved HTML file: html-files-2024-04-26-10-22/14516338961.html\n"
          ]
        },
        {
          "output_type": "stream",
          "name": "stderr",
          "text": [
            "\n",
            "Processing ranks: 100%|██████████| 1/1 [00:01<00:00,  1.57s/rank]\u001b[A\n",
            "Processing keywords:   7%|▋         | 69/1009 [01:58<26:11,  1.67s/keyword]\n",
            "\n",
            "Processing keywords:   7%|▋         | 69/1009 [01:59<26:11,  1.67s/keyword]\n",
            "Processing ranks:   0%|          | 0/1 [00:01<?, ?rank/s]\u001b[A"
          ]
        },
        {
          "output_type": "stream",
          "name": "stdout",
          "text": [
            "Saved HTML file: html-files-2024-04-26-10-22/14516336231.html\n"
          ]
        },
        {
          "output_type": "stream",
          "name": "stderr",
          "text": [
            "\n",
            "Processing ranks: 100%|██████████| 1/1 [00:01<00:00,  1.99s/rank]\u001b[A\n",
            "Processing keywords:   7%|▋         | 70/1009 [02:00<27:45,  1.77s/keyword]\n",
            "\n",
            "Processing keywords:   7%|▋         | 70/1009 [02:01<27:45,  1.77s/keyword]\n",
            "Processing ranks:   0%|          | 0/1 [00:01<?, ?rank/s]\u001b[A"
          ]
        },
        {
          "output_type": "stream",
          "name": "stdout",
          "text": [
            "Saved HTML file: html-files-2024-04-26-10-22/14516343591.html\n"
          ]
        },
        {
          "output_type": "stream",
          "name": "stderr",
          "text": [
            "\n",
            "Processing ranks: 100%|██████████| 1/1 [00:01<00:00,  1.62s/rank]\u001b[A\n",
            "Processing keywords:   7%|▋         | 71/1009 [02:01<27:09,  1.74s/keyword]\n",
            "\n",
            "Processing keywords:   7%|▋         | 71/1009 [02:03<27:09,  1.74s/keyword]\n",
            "Processing ranks:   0%|          | 0/1 [00:01<?, ?rank/s]\u001b[A"
          ]
        },
        {
          "output_type": "stream",
          "name": "stdout",
          "text": [
            "Saved HTML file: html-files-2024-04-26-10-22/14516337942.html\n"
          ]
        },
        {
          "output_type": "stream",
          "name": "stderr",
          "text": [
            "\n",
            "Processing ranks: 100%|██████████| 1/1 [00:02<00:00,  2.11s/rank]\u001b[A\n",
            "Processing keywords:   7%|▋         | 72/1009 [02:03<28:56,  1.85s/keyword]\n",
            "\n",
            "Processing keywords:   7%|▋         | 72/1009 [02:04<28:56,  1.85s/keyword]\n",
            "Processing ranks:   0%|          | 0/1 [00:00<?, ?rank/s]\u001b[A"
          ]
        },
        {
          "output_type": "stream",
          "name": "stdout",
          "text": [
            "Saved HTML file: html-files-2024-04-26-10-22/14516345341.html\n"
          ]
        },
        {
          "output_type": "stream",
          "name": "stderr",
          "text": [
            "\n",
            "Processing ranks: 100%|██████████| 1/1 [00:00<00:00,  1.13rank/s]\u001b[A\n",
            "Processing keywords:   7%|▋         | 73/1009 [02:04<24:27,  1.57s/keyword]\n",
            "\n",
            "Processing keywords:   7%|▋         | 73/1009 [02:06<24:27,  1.57s/keyword]\n",
            "Processing ranks:   0%|          | 0/1 [00:01<?, ?rank/s]\u001b[A"
          ]
        },
        {
          "output_type": "stream",
          "name": "stdout",
          "text": [
            "Saved HTML file: html-files-2024-04-26-10-22/14516340343.html\n"
          ]
        },
        {
          "output_type": "stream",
          "name": "stderr",
          "text": [
            "\n",
            "Processing ranks: 100%|██████████| 1/1 [00:01<00:00,  1.84s/rank]\u001b[A\n",
            "Processing keywords:   7%|▋         | 74/1009 [02:06<25:49,  1.66s/keyword]\n",
            "\n",
            "Processing keywords:   7%|▋         | 74/1009 [02:07<25:49,  1.66s/keyword]\n",
            "Processing ranks:   0%|          | 0/1 [00:00<?, ?rank/s]\u001b[A"
          ]
        },
        {
          "output_type": "stream",
          "name": "stdout",
          "text": [
            "Saved HTML file: html-files-2024-04-26-10-22/14516336896.html\n"
          ]
        },
        {
          "output_type": "stream",
          "name": "stderr",
          "text": [
            "\n",
            "Processing ranks: 100%|██████████| 1/1 [00:00<00:00,  1.01rank/s]\u001b[A\n",
            "Processing keywords:   7%|▋         | 75/1009 [02:07<22:48,  1.46s/keyword]\n",
            "\n",
            "Processing keywords:   7%|▋         | 75/1009 [02:09<22:48,  1.46s/keyword]\n",
            "Processing ranks:   0%|          | 0/1 [00:01<?, ?rank/s]\u001b[A"
          ]
        },
        {
          "output_type": "stream",
          "name": "stdout",
          "text": [
            "Saved HTML file: html-files-2024-04-26-10-22/14516341180.html\n"
          ]
        },
        {
          "output_type": "stream",
          "name": "stderr",
          "text": [
            "\n",
            "Processing ranks: 100%|██████████| 1/1 [00:01<00:00,  1.80s/rank]\u001b[A\n",
            "Processing keywords:   8%|▊         | 76/1009 [02:09<24:26,  1.57s/keyword]\n",
            "\n",
            "Processing keywords:   8%|▊         | 76/1009 [02:10<24:26,  1.57s/keyword]\n",
            "Processing ranks:   0%|          | 0/1 [00:01<?, ?rank/s]\u001b[A"
          ]
        },
        {
          "output_type": "stream",
          "name": "stdout",
          "text": [
            "Saved HTML file: html-files-2024-04-26-10-22/14516345994.html\n"
          ]
        },
        {
          "output_type": "stream",
          "name": "stderr",
          "text": [
            "\n",
            "Processing ranks: 100%|██████████| 1/1 [00:01<00:00,  1.70s/rank]\u001b[A\n",
            "Processing keywords:   8%|▊         | 77/1009 [02:11<25:05,  1.62s/keyword]\n",
            "\n",
            "Processing keywords:   8%|▊         | 77/1009 [02:12<25:05,  1.62s/keyword]\n",
            "Processing ranks:   0%|          | 0/1 [00:01<?, ?rank/s]\u001b[A"
          ]
        },
        {
          "output_type": "stream",
          "name": "stdout",
          "text": [
            "Saved HTML file: html-files-2024-04-26-10-22/14516342009.html\n"
          ]
        },
        {
          "output_type": "stream",
          "name": "stderr",
          "text": [
            "\n",
            "Processing ranks: 100%|██████████| 1/1 [00:01<00:00,  1.67s/rank]\u001b[A\n",
            "Processing keywords:   8%|▊         | 78/1009 [02:12<25:24,  1.64s/keyword]\n",
            "\n",
            "Processing keywords:   8%|▊         | 78/1009 [02:14<25:24,  1.64s/keyword]\n",
            "Processing ranks:   0%|          | 0/1 [00:01<?, ?rank/s]\u001b[A"
          ]
        },
        {
          "output_type": "stream",
          "name": "stdout",
          "text": [
            "Saved HTML file: html-files-2024-04-26-10-22/14516335756.html\n"
          ]
        },
        {
          "output_type": "stream",
          "name": "stderr",
          "text": [
            "\n",
            "Processing ranks: 100%|██████████| 1/1 [00:01<00:00,  1.48s/rank]\u001b[A\n",
            "Processing keywords:   8%|▊         | 79/1009 [02:14<24:43,  1.60s/keyword]\n",
            "\n",
            "Processing keywords:   8%|▊         | 79/1009 [02:15<24:43,  1.60s/keyword]\n",
            "Processing ranks:   0%|          | 0/1 [00:01<?, ?rank/s]\u001b[A"
          ]
        },
        {
          "output_type": "stream",
          "name": "stdout",
          "text": [
            "Saved HTML file: html-files-2024-04-26-10-22/14516338715.html\n"
          ]
        },
        {
          "output_type": "stream",
          "name": "stderr",
          "text": [
            "\n",
            "Processing ranks: 100%|██████████| 1/1 [00:01<00:00,  1.96s/rank]\u001b[A\n",
            "Processing keywords:   8%|▊         | 80/1009 [02:16<26:27,  1.71s/keyword]\n",
            "\n",
            "Processing keywords:   8%|▊         | 80/1009 [02:17<26:27,  1.71s/keyword]\n",
            "Processing ranks:   0%|          | 0/1 [00:01<?, ?rank/s]\u001b[A"
          ]
        },
        {
          "output_type": "stream",
          "name": "stdout",
          "text": [
            "Saved HTML file: html-files-2024-04-26-10-22/14516346925.html\n"
          ]
        },
        {
          "output_type": "stream",
          "name": "stderr",
          "text": [
            "\n",
            "Processing ranks: 100%|██████████| 1/1 [00:01<00:00,  1.60s/rank]\u001b[A\n",
            "Processing keywords:   8%|▊         | 81/1009 [02:17<26:01,  1.68s/keyword]\n",
            "\n",
            "Processing keywords:   8%|▊         | 81/1009 [02:18<26:01,  1.68s/keyword]\n",
            "Processing ranks:   0%|          | 0/1 [00:00<?, ?rank/s]\u001b[A"
          ]
        },
        {
          "output_type": "stream",
          "name": "stdout",
          "text": [
            "Saved HTML file: html-files-2024-04-26-10-22/14516347996.html\n"
          ]
        },
        {
          "output_type": "stream",
          "name": "stderr",
          "text": [
            "\n",
            "Processing ranks: 100%|██████████| 1/1 [00:01<00:00,  1.11s/rank]\u001b[A\n",
            "Processing keywords:   8%|▊         | 82/1009 [02:19<23:27,  1.52s/keyword]\n",
            "\n",
            "Processing keywords:   8%|▊         | 82/1009 [02:20<23:27,  1.52s/keyword]\n",
            "Processing ranks:   0%|          | 0/1 [00:00<?, ?rank/s]\u001b[A"
          ]
        },
        {
          "output_type": "stream",
          "name": "stdout",
          "text": [
            "Saved HTML file: html-files-2024-04-26-10-22/14516337357.html\n"
          ]
        },
        {
          "output_type": "stream",
          "name": "stderr",
          "text": [
            "\n",
            "Processing ranks: 100%|██████████| 1/1 [00:01<00:00,  1.23s/rank]\u001b[A\n",
            "Processing keywords:   8%|▊         | 83/1009 [02:20<22:12,  1.44s/keyword]\n",
            "\n",
            "Processing keywords:   8%|▊         | 83/1009 [02:21<22:12,  1.44s/keyword]\n",
            "Processing ranks:   0%|          | 0/1 [00:01<?, ?rank/s]\u001b[A"
          ]
        },
        {
          "output_type": "stream",
          "name": "stdout",
          "text": [
            "Saved HTML file: html-files-2024-04-26-10-22/14516339595.html\n"
          ]
        },
        {
          "output_type": "stream",
          "name": "stderr",
          "text": [
            "\n",
            "Processing ranks: 100%|██████████| 1/1 [00:01<00:00,  1.55s/rank]\u001b[A\n",
            "Processing keywords:   8%|▊         | 84/1009 [02:21<22:48,  1.48s/keyword]\n",
            "\n",
            "Processing keywords:   8%|▊         | 84/1009 [02:23<22:48,  1.48s/keyword]\n",
            "Processing ranks:   0%|          | 0/1 [00:01<?, ?rank/s]\u001b[A"
          ]
        },
        {
          "output_type": "stream",
          "name": "stdout",
          "text": [
            "Saved HTML file: html-files-2024-04-26-10-22/14516339908.html\n"
          ]
        },
        {
          "output_type": "stream",
          "name": "stderr",
          "text": [
            "\n",
            "Processing ranks: 100%|██████████| 1/1 [00:01<00:00,  1.72s/rank]\u001b[A\n",
            "Processing keywords:   8%|▊         | 85/1009 [02:23<23:57,  1.56s/keyword]\n",
            "\n",
            "Processing keywords:   8%|▊         | 85/1009 [02:24<23:57,  1.56s/keyword]\n",
            "Processing ranks:   0%|          | 0/1 [00:01<?, ?rank/s]\u001b[A"
          ]
        },
        {
          "output_type": "stream",
          "name": "stdout",
          "text": [
            "Saved HTML file: html-files-2024-04-26-10-22/14516340046.html\n"
          ]
        },
        {
          "output_type": "stream",
          "name": "stderr",
          "text": [
            "\n",
            "Processing ranks: 100%|██████████| 1/1 [00:01<00:00,  1.49s/rank]\u001b[A\n",
            "Processing keywords:   9%|▊         | 86/1009 [02:25<23:45,  1.54s/keyword]\n",
            "\n",
            "Processing keywords:   9%|▊         | 86/1009 [02:26<23:45,  1.54s/keyword]\n",
            "Processing ranks:   0%|          | 0/1 [00:01<?, ?rank/s]\u001b[A"
          ]
        },
        {
          "output_type": "stream",
          "name": "stdout",
          "text": [
            "Saved HTML file: html-files-2024-04-26-10-22/14516340463.html\n"
          ]
        },
        {
          "output_type": "stream",
          "name": "stderr",
          "text": [
            "\n",
            "Processing ranks: 100%|██████████| 1/1 [00:01<00:00,  1.46s/rank]\u001b[A\n",
            "Processing keywords:   9%|▊         | 87/1009 [02:26<23:28,  1.53s/keyword]\n",
            "\n",
            "Processing keywords:   9%|▊         | 87/1009 [02:27<23:28,  1.53s/keyword]\n",
            "Processing ranks:   0%|          | 0/1 [00:00<?, ?rank/s]\u001b[A"
          ]
        },
        {
          "output_type": "stream",
          "name": "stdout",
          "text": [
            "Saved HTML file: html-files-2024-04-26-10-22/14516340684.html\n"
          ]
        },
        {
          "output_type": "stream",
          "name": "stderr",
          "text": [
            "\n",
            "Processing ranks: 100%|██████████| 1/1 [00:01<00:00,  1.67s/rank]\u001b[A\n",
            "Processing keywords:   9%|▊         | 88/1009 [02:28<24:13,  1.58s/keyword]\n",
            "\n",
            "Processing keywords:   9%|▊         | 88/1009 [02:30<24:13,  1.58s/keyword]\n",
            "Processing ranks:   0%|          | 0/1 [00:01<?, ?rank/s]\u001b[A"
          ]
        },
        {
          "output_type": "stream",
          "name": "stdout",
          "text": [
            "Saved HTML file: html-files-2024-04-26-10-22/14516341266.html\n"
          ]
        },
        {
          "output_type": "stream",
          "name": "stderr",
          "text": [
            "\n",
            "Processing ranks: 100%|██████████| 1/1 [00:02<00:00,  2.14s/rank]\u001b[A\n",
            "Processing keywords:   9%|▉         | 89/1009 [02:30<26:54,  1.75s/keyword]\n",
            "\n",
            "Processing keywords:   9%|▉         | 89/1009 [02:31<26:54,  1.75s/keyword]\n",
            "Processing ranks:   0%|          | 0/1 [00:01<?, ?rank/s]\u001b[A"
          ]
        },
        {
          "output_type": "stream",
          "name": "stdout",
          "text": [
            "Saved HTML file: html-files-2024-04-26-10-22/14516341338.html\n"
          ]
        },
        {
          "output_type": "stream",
          "name": "stderr",
          "text": [
            "\n",
            "Processing ranks: 100%|██████████| 1/1 [00:01<00:00,  1.67s/rank]\u001b[A\n",
            "Processing keywords:   9%|▉         | 90/1009 [02:32<26:35,  1.74s/keyword]\n",
            "\n",
            "Processing keywords:   9%|▉         | 90/1009 [02:33<26:35,  1.74s/keyword]\n",
            "Processing ranks:   0%|          | 0/1 [00:01<?, ?rank/s]\u001b[A"
          ]
        },
        {
          "output_type": "stream",
          "name": "stdout",
          "text": [
            "Saved HTML file: html-files-2024-04-26-10-22/14516337749.html\n"
          ]
        },
        {
          "output_type": "stream",
          "name": "stderr",
          "text": [
            "\n",
            "Processing ranks: 100%|██████████| 1/1 [00:01<00:00,  1.52s/rank]\u001b[A\n",
            "Processing keywords:   9%|▉         | 91/1009 [02:33<25:40,  1.68s/keyword]\n",
            "\n",
            "Processing keywords:   9%|▉         | 91/1009 [02:35<25:40,  1.68s/keyword]\n",
            "Processing ranks:   0%|          | 0/1 [00:01<?, ?rank/s]\u001b[A"
          ]
        },
        {
          "output_type": "stream",
          "name": "stdout",
          "text": [
            "Saved HTML file: html-files-2024-04-26-10-22/14516337958.html\n"
          ]
        },
        {
          "output_type": "stream",
          "name": "stderr",
          "text": [
            "\n",
            "Processing ranks: 100%|██████████| 1/1 [00:01<00:00,  1.84s/rank]\u001b[A\n",
            "Processing keywords:   9%|▉         | 92/1009 [02:35<26:30,  1.73s/keyword]\n",
            "\n",
            "Processing keywords:   9%|▉         | 92/1009 [02:36<26:30,  1.73s/keyword]\n",
            "Processing ranks:   0%|          | 0/1 [00:01<?, ?rank/s]\u001b[A"
          ]
        },
        {
          "output_type": "stream",
          "name": "stdout",
          "text": [
            "Saved HTML file: html-files-2024-04-26-10-22/14516338081.html\n"
          ]
        },
        {
          "output_type": "stream",
          "name": "stderr",
          "text": [
            "\n",
            "Processing ranks: 100%|██████████| 1/1 [00:01<00:00,  1.54s/rank]\u001b[A\n",
            "Processing keywords:   9%|▉         | 93/1009 [02:37<25:40,  1.68s/keyword]\n",
            "\n",
            "Processing keywords:   9%|▉         | 93/1009 [02:37<25:40,  1.68s/keyword]\n",
            "Processing ranks:   0%|          | 0/1 [00:00<?, ?rank/s]\u001b[A"
          ]
        },
        {
          "output_type": "stream",
          "name": "stdout",
          "text": [
            "Saved HTML file: html-files-2024-04-26-10-22/14516338350.html\n"
          ]
        },
        {
          "output_type": "stream",
          "name": "stderr",
          "text": [
            "\n",
            "Processing ranks: 100%|██████████| 1/1 [00:00<00:00,  1.18rank/s]\u001b[A\n",
            "Processing keywords:   9%|▉         | 94/1009 [02:38<21:57,  1.44s/keyword]\n",
            "\n",
            "Processing keywords:   9%|▉         | 94/1009 [02:39<21:57,  1.44s/keyword]\n",
            "Processing ranks:   0%|          | 0/1 [00:01<?, ?rank/s]\u001b[A"
          ]
        },
        {
          "output_type": "stream",
          "name": "stdout",
          "text": [
            "Saved HTML file: html-files-2024-04-26-10-22/14516338958.html\n"
          ]
        },
        {
          "output_type": "stream",
          "name": "stderr",
          "text": [
            "\n",
            "Processing ranks: 100%|██████████| 1/1 [00:01<00:00,  1.64s/rank]\u001b[A\n",
            "Processing keywords:   9%|▉         | 95/1009 [02:39<22:55,  1.50s/keyword]\n",
            "\n",
            "Processing keywords:   9%|▉         | 95/1009 [02:40<22:55,  1.50s/keyword]\n",
            "Processing ranks:   0%|          | 0/1 [00:01<?, ?rank/s]\u001b[A"
          ]
        },
        {
          "output_type": "stream",
          "name": "stdout",
          "text": [
            "Saved HTML file: html-files-2024-04-26-10-22/14516342775.html\n"
          ]
        },
        {
          "output_type": "stream",
          "name": "stderr",
          "text": [
            "\n",
            "Processing ranks: 100%|██████████| 1/1 [00:01<00:00,  1.74s/rank]\u001b[A\n",
            "Processing keywords:  10%|▉         | 96/1009 [02:41<24:03,  1.58s/keyword]\n",
            "\n",
            "Processing keywords:  10%|▉         | 96/1009 [02:42<24:03,  1.58s/keyword]\n",
            "Processing ranks:   0%|          | 0/1 [00:01<?, ?rank/s]\u001b[A"
          ]
        },
        {
          "output_type": "stream",
          "name": "stdout",
          "text": [
            "Saved HTML file: html-files-2024-04-26-10-22/14516343151.html\n"
          ]
        },
        {
          "output_type": "stream",
          "name": "stderr",
          "text": [
            "\n",
            "Processing ranks: 100%|██████████| 1/1 [00:01<00:00,  1.71s/rank]\u001b[A\n",
            "Processing keywords:  10%|▉         | 97/1009 [02:43<24:41,  1.62s/keyword]\n",
            "\n",
            "Processing keywords:  10%|▉         | 97/1009 [02:44<24:41,  1.62s/keyword]\n",
            "Processing ranks:   0%|          | 0/1 [00:01<?, ?rank/s]\u001b[A"
          ]
        },
        {
          "output_type": "stream",
          "name": "stdout",
          "text": [
            "Saved HTML file: html-files-2024-04-26-10-22/14516350747.html\n"
          ]
        },
        {
          "output_type": "stream",
          "name": "stderr",
          "text": [
            "\n",
            "Processing ranks: 100%|██████████| 1/1 [00:01<00:00,  1.66s/rank]\u001b[A\n",
            "Processing keywords:  10%|▉         | 98/1009 [02:44<24:55,  1.64s/keyword]\n",
            "\n",
            "Processing keywords:  10%|▉         | 98/1009 [02:46<24:55,  1.64s/keyword]\n",
            "Processing ranks:   0%|          | 0/1 [00:01<?, ?rank/s]\u001b[A"
          ]
        },
        {
          "output_type": "stream",
          "name": "stdout",
          "text": [
            "Saved HTML file: html-files-2024-04-26-10-22/14516338642.html\n"
          ]
        },
        {
          "output_type": "stream",
          "name": "stderr",
          "text": [
            "\n",
            "Processing ranks: 100%|██████████| 1/1 [00:01<00:00,  1.68s/rank]\u001b[A\n",
            "Processing keywords:  10%|▉         | 99/1009 [02:46<25:08,  1.66s/keyword]\n",
            "\n",
            "Processing keywords:  10%|▉         | 99/1009 [02:47<25:08,  1.66s/keyword]\n",
            "Processing ranks:   0%|          | 0/1 [00:01<?, ?rank/s]\u001b[A"
          ]
        },
        {
          "output_type": "stream",
          "name": "stdout",
          "text": [
            "Saved HTML file: html-files-2024-04-26-10-22/14516338917.html\n"
          ]
        },
        {
          "output_type": "stream",
          "name": "stderr",
          "text": [
            "\n",
            "Processing ranks: 100%|██████████| 1/1 [00:01<00:00,  1.81s/rank]\u001b[A\n",
            "Processing keywords:  10%|▉         | 100/1009 [02:48<25:55,  1.71s/keyword]\n",
            "\n",
            "Processing keywords:  10%|▉         | 100/1009 [02:49<25:55,  1.71s/keyword]\n",
            "Processing ranks:   0%|          | 0/1 [00:01<?, ?rank/s]\u001b[A"
          ]
        },
        {
          "output_type": "stream",
          "name": "stdout",
          "text": [
            "Saved HTML file: html-files-2024-04-26-10-22/14516343828.html\n"
          ]
        },
        {
          "output_type": "stream",
          "name": "stderr",
          "text": [
            "\n",
            "Processing ranks: 100%|██████████| 1/1 [00:01<00:00,  1.58s/rank]\u001b[A\n",
            "Processing keywords:  10%|█         | 101/1009 [02:50<25:22,  1.68s/keyword]\n",
            "\n",
            "Processing keywords:  10%|█         | 101/1009 [02:52<25:22,  1.68s/keyword]\n",
            "Processing ranks:   0%|          | 0/1 [00:02<?, ?rank/s]\u001b[A"
          ]
        },
        {
          "output_type": "stream",
          "name": "stdout",
          "text": [
            "Saved HTML file: html-files-2024-04-26-10-22/14516344340.html\n"
          ]
        },
        {
          "output_type": "stream",
          "name": "stderr",
          "text": [
            "\n",
            "Processing ranks: 100%|██████████| 1/1 [00:02<00:00,  2.62s/rank]\u001b[A\n",
            "Processing keywords:  10%|█         | 102/1009 [02:52<29:45,  1.97s/keyword]\n",
            "\n",
            "Processing keywords:  10%|█         | 102/1009 [02:53<29:45,  1.97s/keyword]\n",
            "Processing ranks:   0%|          | 0/1 [00:01<?, ?rank/s]\u001b[A"
          ]
        },
        {
          "output_type": "stream",
          "name": "stdout",
          "text": [
            "Saved HTML file: html-files-2024-04-26-10-22/14516344390.html\n"
          ]
        },
        {
          "output_type": "stream",
          "name": "stderr",
          "text": [
            "\n",
            "Processing ranks: 100%|██████████| 1/1 [00:01<00:00,  1.69s/rank]\u001b[A\n",
            "Processing keywords:  10%|█         | 103/1009 [02:54<28:33,  1.89s/keyword]\n",
            "\n",
            "Processing keywords:  10%|█         | 103/1009 [02:55<28:33,  1.89s/keyword]\n",
            "Processing ranks:   0%|          | 0/1 [00:01<?, ?rank/s]\u001b[A"
          ]
        },
        {
          "output_type": "stream",
          "name": "stdout",
          "text": [
            "Saved HTML file: html-files-2024-04-26-10-22/14516351988.html\n"
          ]
        },
        {
          "output_type": "stream",
          "name": "stderr",
          "text": [
            "\n",
            "Processing ranks: 100%|██████████| 1/1 [00:01<00:00,  1.92s/rank]\u001b[A\n",
            "Processing keywords:  10%|█         | 104/1009 [02:56<28:46,  1.91s/keyword]\n",
            "\n",
            "Processing keywords:  10%|█         | 104/1009 [02:57<28:46,  1.91s/keyword]\n",
            "Processing ranks:   0%|          | 0/1 [00:01<?, ?rank/s]\u001b[A"
          ]
        },
        {
          "output_type": "stream",
          "name": "stdout",
          "text": [
            "Saved HTML file: html-files-2024-04-26-10-22/14516352048.html\n"
          ]
        },
        {
          "output_type": "stream",
          "name": "stderr",
          "text": [
            "\n",
            "Processing ranks: 100%|██████████| 1/1 [00:01<00:00,  1.92s/rank]\u001b[A\n",
            "Processing keywords:  10%|█         | 105/1009 [02:58<28:53,  1.92s/keyword]\n",
            "\n",
            "Processing keywords:  10%|█         | 105/1009 [02:59<28:53,  1.92s/keyword]\n",
            "Processing ranks:   0%|          | 0/1 [00:01<?, ?rank/s]\u001b[A"
          ]
        },
        {
          "output_type": "stream",
          "name": "stdout",
          "text": [
            "Saved HTML file: html-files-2024-04-26-10-22/14516344812.html\n"
          ]
        },
        {
          "output_type": "stream",
          "name": "stderr",
          "text": [
            "\n",
            "Processing ranks: 100%|██████████| 1/1 [00:01<00:00,  1.38s/rank]\u001b[A\n",
            "Processing keywords:  11%|█         | 106/1009 [02:59<26:31,  1.76s/keyword]\n",
            "\n",
            "Processing keywords:  11%|█         | 106/1009 [03:00<26:31,  1.76s/keyword]\n",
            "Processing ranks:   0%|          | 0/1 [00:00<?, ?rank/s]\u001b[A"
          ]
        },
        {
          "output_type": "stream",
          "name": "stdout",
          "text": [
            "Saved HTML file: html-files-2024-04-26-10-22/14516344964.html\n"
          ]
        },
        {
          "output_type": "stream",
          "name": "stderr",
          "text": [
            "\n",
            "Processing ranks: 100%|██████████| 1/1 [00:01<00:00,  1.02s/rank]\u001b[A\n",
            "Processing keywords:  11%|█         | 107/1009 [03:00<23:15,  1.55s/keyword]\n",
            "\n",
            "Processing keywords:  11%|█         | 107/1009 [03:01<23:15,  1.55s/keyword]\n",
            "Processing ranks:   0%|          | 0/1 [00:01<?, ?rank/s]\u001b[A"
          ]
        },
        {
          "output_type": "stream",
          "name": "stdout",
          "text": [
            "Saved HTML file: html-files-2024-04-26-10-22/14516345275.html\n"
          ]
        },
        {
          "output_type": "stream",
          "name": "stderr",
          "text": [
            "\n",
            "Processing ranks: 100%|██████████| 1/1 [00:01<00:00,  1.87s/rank]\u001b[A\n",
            "Processing keywords:  11%|█         | 108/1009 [03:02<24:45,  1.65s/keyword]\n",
            "\n",
            "Processing keywords:  11%|█         | 108/1009 [03:03<24:45,  1.65s/keyword]\n",
            "Processing ranks:   0%|          | 0/1 [00:01<?, ?rank/s]\u001b[A"
          ]
        },
        {
          "output_type": "stream",
          "name": "stdout",
          "text": [
            "Saved HTML file: html-files-2024-04-26-10-22/14516345348.html\n"
          ]
        },
        {
          "output_type": "stream",
          "name": "stderr",
          "text": [
            "\n",
            "Processing ranks: 100%|██████████| 1/1 [00:01<00:00,  1.77s/rank]\u001b[A\n",
            "Processing keywords:  11%|█         | 109/1009 [03:04<25:23,  1.69s/keyword]\n",
            "\n",
            "Processing keywords:  11%|█         | 109/1009 [03:05<25:23,  1.69s/keyword]\n",
            "Processing ranks:   0%|          | 0/1 [00:01<?, ?rank/s]\u001b[A"
          ]
        },
        {
          "output_type": "stream",
          "name": "stdout",
          "text": [
            "Saved HTML file: html-files-2024-04-26-10-22/14516339258.html\n"
          ]
        },
        {
          "output_type": "stream",
          "name": "stderr",
          "text": [
            "\n",
            "Processing ranks: 100%|██████████| 1/1 [00:01<00:00,  1.94s/rank]\u001b[A\n",
            "Processing keywords:  11%|█         | 110/1009 [03:06<26:34,  1.77s/keyword]\n",
            "\n",
            "Processing keywords:  11%|█         | 110/1009 [03:07<26:34,  1.77s/keyword]\n",
            "Processing ranks:   0%|          | 0/1 [00:01<?, ?rank/s]\u001b[A"
          ]
        },
        {
          "output_type": "stream",
          "name": "stdout",
          "text": [
            "Saved HTML file: html-files-2024-04-26-10-22/14516339416.html\n"
          ]
        },
        {
          "output_type": "stream",
          "name": "stderr",
          "text": [
            "\n",
            "Processing ranks: 100%|██████████| 1/1 [00:01<00:00,  1.87s/rank]\u001b[A\n",
            "Processing keywords:  11%|█         | 111/1009 [03:08<27:02,  1.81s/keyword]\n",
            "\n",
            "Processing keywords:  11%|█         | 111/1009 [03:09<27:02,  1.81s/keyword]\n",
            "Processing ranks:   0%|          | 0/1 [00:01<?, ?rank/s]\u001b[A"
          ]
        },
        {
          "output_type": "stream",
          "name": "stdout",
          "text": [
            "Saved HTML file: html-files-2024-04-26-10-22/14516352842.html\n"
          ]
        },
        {
          "output_type": "stream",
          "name": "stderr",
          "text": [
            "\n",
            "Processing ranks: 100%|██████████| 1/1 [00:01<00:00,  1.57s/rank]\u001b[A\n",
            "Processing keywords:  11%|█         | 112/1009 [03:09<26:04,  1.74s/keyword]\n",
            "\n",
            "Processing keywords:  11%|█         | 112/1009 [03:10<26:04,  1.74s/keyword]\n",
            "Processing ranks:   0%|          | 0/1 [00:00<?, ?rank/s]\u001b[A"
          ]
        },
        {
          "output_type": "stream",
          "name": "stdout",
          "text": [
            "Saved HTML file: html-files-2024-04-26-10-22/14516346121.html\n"
          ]
        },
        {
          "output_type": "stream",
          "name": "stderr",
          "text": [
            "\n",
            "Processing ranks: 100%|██████████| 1/1 [00:01<00:00,  1.23s/rank]\u001b[A\n",
            "Processing keywords:  11%|█         | 113/1009 [03:11<23:49,  1.60s/keyword]\n",
            "\n",
            "Processing keywords:  11%|█         | 113/1009 [03:12<23:49,  1.60s/keyword]\n",
            "Processing ranks:   0%|          | 0/1 [00:01<?, ?rank/s]\u001b[A"
          ]
        },
        {
          "output_type": "stream",
          "name": "stdout",
          "text": [
            "Saved HTML file: html-files-2024-04-26-10-22/14516346839.html\n"
          ]
        },
        {
          "output_type": "stream",
          "name": "stderr",
          "text": [
            "\n",
            "Processing ranks: 100%|██████████| 1/1 [00:01<00:00,  1.51s/rank]\u001b[A\n",
            "Processing keywords:  11%|█▏        | 114/1009 [03:12<23:31,  1.58s/keyword]\n",
            "\n",
            "Processing keywords:  11%|█▏        | 114/1009 [03:13<23:31,  1.58s/keyword]\n",
            "Processing ranks:   0%|          | 0/1 [00:01<?, ?rank/s]\u001b[A"
          ]
        },
        {
          "output_type": "stream",
          "name": "stdout",
          "text": [
            "Saved HTML file: html-files-2024-04-26-10-22/14516353932.html\n"
          ]
        },
        {
          "output_type": "stream",
          "name": "stderr",
          "text": [
            "\n",
            "Processing ranks: 100%|██████████| 1/1 [00:01<00:00,  1.68s/rank]\u001b[A\n",
            "Processing keywords:  11%|█▏        | 115/1009 [03:14<24:01,  1.61s/keyword]\n",
            "\n",
            "Processing keywords:  11%|█▏        | 115/1009 [03:15<24:01,  1.61s/keyword]\n",
            "Processing ranks:   0%|          | 0/1 [00:01<?, ?rank/s]\u001b[A"
          ]
        },
        {
          "output_type": "stream",
          "name": "stdout",
          "text": [
            "Saved HTML file: html-files-2024-04-26-10-22/14516347520.html\n"
          ]
        },
        {
          "output_type": "stream",
          "name": "stderr",
          "text": [
            "\n",
            "Processing ranks: 100%|██████████| 1/1 [00:01<00:00,  1.76s/rank]\u001b[A\n",
            "Processing keywords:  11%|█▏        | 116/1009 [03:16<24:45,  1.66s/keyword]\n",
            "\n",
            "Processing keywords:  11%|█▏        | 116/1009 [03:17<24:45,  1.66s/keyword]\n",
            "Processing ranks:   0%|          | 0/1 [00:01<?, ?rank/s]\u001b[A"
          ]
        },
        {
          "output_type": "stream",
          "name": "stdout",
          "text": [
            "Saved HTML file: html-files-2024-04-26-10-22/14516348088.html\n"
          ]
        },
        {
          "output_type": "stream",
          "name": "stderr",
          "text": [
            "\n",
            "Processing ranks: 100%|██████████| 1/1 [00:01<00:00,  1.68s/rank]\u001b[A\n",
            "Processing keywords:  12%|█▏        | 117/1009 [03:17<24:53,  1.67s/keyword]\n",
            "\n",
            "Processing keywords:  12%|█▏        | 117/1009 [03:19<24:53,  1.67s/keyword]\n",
            "Processing ranks:   0%|          | 0/1 [00:01<?, ?rank/s]\u001b[A"
          ]
        },
        {
          "output_type": "stream",
          "name": "stdout",
          "text": [
            "Saved HTML file: html-files-2024-04-26-10-22/14516341030.html\n"
          ]
        },
        {
          "output_type": "stream",
          "name": "stderr",
          "text": [
            "\n",
            "Processing ranks: 100%|██████████| 1/1 [00:01<00:00,  1.71s/rank]\u001b[A\n",
            "Processing keywords:  12%|█▏        | 118/1009 [03:19<25:06,  1.69s/keyword]\n",
            "\n",
            "Processing keywords:  12%|█▏        | 118/1009 [03:20<25:06,  1.69s/keyword]\n",
            "Processing ranks:   0%|          | 0/1 [00:01<?, ?rank/s]\u001b[A"
          ]
        },
        {
          "output_type": "stream",
          "name": "stdout",
          "text": [
            "Saved HTML file: html-files-2024-04-26-10-22/14516341283.html\n"
          ]
        },
        {
          "output_type": "stream",
          "name": "stderr",
          "text": [
            "\n",
            "Processing ranks: 100%|██████████| 1/1 [00:01<00:00,  1.87s/rank]\u001b[A\n",
            "Processing keywords:  12%|█▏        | 119/1009 [03:21<25:59,  1.75s/keyword]\n",
            "\n",
            "Processing keywords:  12%|█▏        | 119/1009 [03:22<25:59,  1.75s/keyword]\n",
            "Processing ranks:   0%|          | 0/1 [00:01<?, ?rank/s]\u001b[A"
          ]
        },
        {
          "output_type": "stream",
          "name": "stdout",
          "text": [
            "Saved HTML file: html-files-2024-04-26-10-22/14516341521.html\n"
          ]
        },
        {
          "output_type": "stream",
          "name": "stderr",
          "text": [
            "\n",
            "Processing ranks: 100%|██████████| 1/1 [00:01<00:00,  1.73s/rank]\u001b[A\n",
            "Processing keywords:  12%|█▏        | 120/1009 [03:23<25:59,  1.75s/keyword]\n",
            "\n",
            "Processing keywords:  12%|█▏        | 120/1009 [03:24<25:59,  1.75s/keyword]\n",
            "Processing ranks:   0%|          | 0/1 [00:01<?, ?rank/s]\u001b[A"
          ]
        },
        {
          "output_type": "stream",
          "name": "stdout",
          "text": [
            "Saved HTML file: html-files-2024-04-26-10-22/14516349641.html\n"
          ]
        },
        {
          "output_type": "stream",
          "name": "stderr",
          "text": [
            "\n",
            "Processing ranks: 100%|██████████| 1/1 [00:01<00:00,  1.80s/rank]\u001b[A\n",
            "Processing keywords:  12%|█▏        | 121/1009 [03:24<26:18,  1.78s/keyword]\n",
            "\n",
            "Processing keywords:  12%|█▏        | 121/1009 [03:26<26:18,  1.78s/keyword]\n",
            "Processing ranks:   0%|          | 0/1 [00:01<?, ?rank/s]\u001b[A"
          ]
        },
        {
          "output_type": "stream",
          "name": "stdout",
          "text": [
            "Saved HTML file: html-files-2024-04-26-10-22/14516349881.html\n"
          ]
        },
        {
          "output_type": "stream",
          "name": "stderr",
          "text": [
            "\n",
            "Processing ranks: 100%|██████████| 1/1 [00:01<00:00,  1.65s/rank]\u001b[A\n",
            "Processing keywords:  12%|█▏        | 122/1009 [03:26<25:48,  1.75s/keyword]\n",
            "\n",
            "Processing keywords:  12%|█▏        | 122/1009 [03:28<25:48,  1.75s/keyword]\n",
            "Processing ranks:   0%|          | 0/1 [00:01<?, ?rank/s]\u001b[A"
          ]
        },
        {
          "output_type": "stream",
          "name": "stdout",
          "text": [
            "Saved HTML file: html-files-2024-04-26-10-22/14516356899.html\n"
          ]
        },
        {
          "output_type": "stream",
          "name": "stderr",
          "text": [
            "\n",
            "Processing ranks: 100%|██████████| 1/1 [00:01<00:00,  1.84s/rank]\u001b[A\n",
            "Processing keywords:  12%|█▏        | 123/1009 [03:28<26:16,  1.78s/keyword]\n",
            "\n",
            "Processing keywords:  12%|█▏        | 123/1009 [03:29<26:16,  1.78s/keyword]\n",
            "Processing ranks:   0%|          | 0/1 [00:01<?, ?rank/s]\u001b[A"
          ]
        },
        {
          "output_type": "stream",
          "name": "stdout",
          "text": [
            "Saved HTML file: html-files-2024-04-26-10-22/14516350620.html\n"
          ]
        },
        {
          "output_type": "stream",
          "name": "stderr",
          "text": [
            "\n",
            "Processing ranks: 100%|██████████| 1/1 [00:01<00:00,  1.57s/rank]\u001b[A\n",
            "Processing keywords:  12%|█▏        | 124/1009 [03:30<25:22,  1.72s/keyword]\n",
            "\n",
            "Processing keywords:  12%|█▏        | 124/1009 [03:31<25:22,  1.72s/keyword]\n",
            "Processing ranks:   0%|          | 0/1 [00:01<?, ?rank/s]\u001b[A"
          ]
        },
        {
          "output_type": "stream",
          "name": "stdout",
          "text": [
            "Saved HTML file: html-files-2024-04-26-10-22/14516351831.html\n"
          ]
        },
        {
          "output_type": "stream",
          "name": "stderr",
          "text": [
            "\n",
            "Processing ranks: 100%|██████████| 1/1 [00:01<00:00,  1.82s/rank]\u001b[A\n",
            "Processing keywords:  12%|█▏        | 125/1009 [03:31<25:51,  1.75s/keyword]\n",
            "\n",
            "Processing keywords:  12%|█▏        | 125/1009 [03:32<25:51,  1.75s/keyword]\n",
            "Processing ranks:   0%|          | 0/1 [00:00<?, ?rank/s]\u001b[A"
          ]
        },
        {
          "output_type": "stream",
          "name": "stdout",
          "text": [
            "Saved HTML file: html-files-2024-04-26-10-22/14516357312.html\n"
          ]
        },
        {
          "output_type": "stream",
          "name": "stderr",
          "text": [
            "\n",
            "Processing ranks: 100%|██████████| 1/1 [00:01<00:00,  1.01s/rank]\u001b[A\n",
            "Processing keywords:  12%|█▏        | 126/1009 [03:32<22:39,  1.54s/keyword]\n",
            "\n",
            "Processing keywords:  12%|█▏        | 126/1009 [03:34<22:39,  1.54s/keyword]\n",
            "Processing ranks:   0%|          | 0/1 [00:01<?, ?rank/s]\u001b[A"
          ]
        },
        {
          "output_type": "stream",
          "name": "stdout",
          "text": [
            "Saved HTML file: html-files-2024-04-26-10-22/14516352195.html\n"
          ]
        },
        {
          "output_type": "stream",
          "name": "stderr",
          "text": [
            "\n",
            "Processing ranks: 100%|██████████| 1/1 [00:01<00:00,  1.75s/rank]\u001b[A\n",
            "Processing keywords:  13%|█▎        | 127/1009 [03:34<23:36,  1.61s/keyword]\n",
            "\n",
            "Processing keywords:  13%|█▎        | 127/1009 [03:36<23:36,  1.61s/keyword]\n",
            "Processing ranks:   0%|          | 0/1 [00:01<?, ?rank/s]\u001b[A"
          ]
        },
        {
          "output_type": "stream",
          "name": "stdout",
          "text": [
            "Saved HTML file: html-files-2024-04-26-10-22/14516352392.html\n"
          ]
        },
        {
          "output_type": "stream",
          "name": "stderr",
          "text": [
            "\n",
            "Processing ranks: 100%|██████████| 1/1 [00:02<00:00,  2.01s/rank]\u001b[A\n",
            "Processing keywords:  13%|█▎        | 128/1009 [03:36<25:29,  1.74s/keyword]\n",
            "\n",
            "Processing keywords:  13%|█▎        | 128/1009 [03:38<25:29,  1.74s/keyword]\n",
            "Processing ranks:   0%|          | 0/1 [00:01<?, ?rank/s]\u001b[A"
          ]
        },
        {
          "output_type": "stream",
          "name": "stdout",
          "text": [
            "Saved HTML file: html-files-2024-04-26-10-22/14516342497.html\n"
          ]
        },
        {
          "output_type": "stream",
          "name": "stderr",
          "text": [
            "\n",
            "Processing ranks: 100%|██████████| 1/1 [00:01<00:00,  1.62s/rank]\u001b[A\n",
            "Processing keywords:  13%|█▎        | 129/1009 [03:38<25:03,  1.71s/keyword]\n",
            "\n",
            "Processing keywords:  13%|█▎        | 129/1009 [03:39<25:03,  1.71s/keyword]\n",
            "Processing ranks:   0%|          | 0/1 [00:01<?, ?rank/s]\u001b[A\n",
            "Processing ranks: 100%|██████████| 1/1 [00:01<00:00,  1.35s/rank]\u001b[A"
          ]
        },
        {
          "output_type": "stream",
          "name": "stdout",
          "text": [
            "Saved HTML file: html-files-2024-04-26-10-22/14516342559.html\n"
          ]
        },
        {
          "output_type": "stream",
          "name": "stderr",
          "text": [
            "\n",
            "Processing keywords:  13%|█▎        | 130/1009 [03:39<23:34,  1.61s/keyword]\n",
            "\n",
            "Processing keywords:  13%|█▎        | 130/1009 [03:41<23:34,  1.61s/keyword]\n",
            "Processing ranks:   0%|          | 0/1 [00:01<?, ?rank/s]\u001b[A"
          ]
        },
        {
          "output_type": "stream",
          "name": "stdout",
          "text": [
            "Saved HTML file: html-files-2024-04-26-10-22/14516352971.html\n"
          ]
        },
        {
          "output_type": "stream",
          "name": "stderr",
          "text": [
            "\n",
            "Processing ranks: 100%|██████████| 1/1 [00:01<00:00,  1.85s/rank]\u001b[A\n",
            "Processing keywords:  13%|█▎        | 131/1009 [03:41<24:41,  1.69s/keyword]\n",
            "\n",
            "Processing keywords:  13%|█▎        | 131/1009 [03:42<24:41,  1.69s/keyword]\n",
            "Processing ranks:   0%|          | 0/1 [00:01<?, ?rank/s]\u001b[A"
          ]
        },
        {
          "output_type": "stream",
          "name": "stdout",
          "text": [
            "Saved HTML file: html-files-2024-04-26-10-22/14516353076.html\n"
          ]
        },
        {
          "output_type": "stream",
          "name": "stderr",
          "text": [
            "\n",
            "Processing ranks: 100%|██████████| 1/1 [00:01<00:00,  1.51s/rank]\u001b[A\n",
            "Processing keywords:  13%|█▎        | 132/1009 [03:43<24:01,  1.64s/keyword]\n",
            "\n",
            "Processing keywords:  13%|█▎        | 132/1009 [03:44<24:01,  1.64s/keyword]\n",
            "Processing ranks:   0%|          | 0/1 [00:01<?, ?rank/s]\u001b[A"
          ]
        },
        {
          "output_type": "stream",
          "name": "stdout",
          "text": [
            "Saved HTML file: html-files-2024-04-26-10-22/14516353145.html\n"
          ]
        },
        {
          "output_type": "stream",
          "name": "stderr",
          "text": [
            "\n",
            "Processing ranks: 100%|██████████| 1/1 [00:01<00:00,  1.73s/rank]\u001b[A\n",
            "Processing keywords:  13%|█▎        | 133/1009 [03:44<24:29,  1.68s/keyword]\n",
            "\n",
            "Processing keywords:  13%|█▎        | 133/1009 [03:46<24:29,  1.68s/keyword]\n",
            "Processing ranks:   0%|          | 0/1 [00:01<?, ?rank/s]\u001b[A"
          ]
        },
        {
          "output_type": "stream",
          "name": "stdout",
          "text": [
            "Saved HTML file: html-files-2024-04-26-10-22/14516358347.html\n"
          ]
        },
        {
          "output_type": "stream",
          "name": "stderr",
          "text": [
            "\n",
            "Processing ranks: 100%|██████████| 1/1 [00:01<00:00,  1.81s/rank]\u001b[A\n",
            "Processing keywords:  13%|█▎        | 134/1009 [03:46<25:10,  1.73s/keyword]\n",
            "\n",
            "Processing keywords:  13%|█▎        | 134/1009 [03:48<25:10,  1.73s/keyword]\n",
            "Processing ranks:   0%|          | 0/1 [00:01<?, ?rank/s]\u001b[A"
          ]
        },
        {
          "output_type": "stream",
          "name": "stdout",
          "text": [
            "Saved HTML file: html-files-2024-04-26-10-22/14516358429.html\n"
          ]
        },
        {
          "output_type": "stream",
          "name": "stderr",
          "text": [
            "\n",
            "Processing ranks: 100%|██████████| 1/1 [00:01<00:00,  1.76s/rank]\u001b[A\n",
            "Processing keywords:  13%|█▎        | 135/1009 [03:48<25:23,  1.74s/keyword]\n",
            "\n",
            "Processing keywords:  13%|█▎        | 135/1009 [03:49<25:23,  1.74s/keyword]\n",
            "Processing ranks:   0%|          | 0/1 [00:00<?, ?rank/s]\u001b[A"
          ]
        },
        {
          "output_type": "stream",
          "name": "stdout",
          "text": [
            "Saved HTML file: html-files-2024-04-26-10-22/14516356437.html\n"
          ]
        },
        {
          "output_type": "stream",
          "name": "stderr",
          "text": [
            "\n",
            "Processing ranks: 100%|██████████| 1/1 [00:01<00:00,  1.28s/rank]\u001b[A\n",
            "Processing keywords:  13%|█▎        | 136/1009 [03:49<23:25,  1.61s/keyword]\n",
            "\n",
            "Processing keywords:  13%|█▎        | 136/1009 [03:51<23:25,  1.61s/keyword]\n",
            "Processing ranks:   0%|          | 0/1 [00:01<?, ?rank/s]\u001b[A"
          ]
        },
        {
          "output_type": "stream",
          "name": "stdout",
          "text": [
            "Saved HTML file: html-files-2024-04-26-10-22/14516357556.html\n"
          ]
        },
        {
          "output_type": "stream",
          "name": "stderr",
          "text": [
            "\n",
            "Processing ranks: 100%|██████████| 1/1 [00:01<00:00,  1.76s/rank]\u001b[A\n",
            "Processing keywords:  14%|█▎        | 137/1009 [03:51<24:09,  1.66s/keyword]\n",
            "\n",
            "Processing keywords:  14%|█▎        | 137/1009 [03:52<24:09,  1.66s/keyword]\n",
            "Processing ranks:   0%|          | 0/1 [00:00<?, ?rank/s]\u001b[A"
          ]
        },
        {
          "output_type": "stream",
          "name": "stdout",
          "text": [
            "Saved HTML file: html-files-2024-04-26-10-22/14516343087.html\n"
          ]
        },
        {
          "output_type": "stream",
          "name": "stderr",
          "text": [
            "\n",
            "Processing ranks: 100%|██████████| 1/1 [00:00<00:00,  1.11rank/s]\u001b[A\n",
            "Processing keywords:  14%|█▎        | 138/1009 [03:52<20:54,  1.44s/keyword]\n",
            "\n",
            "Processing keywords:  14%|█▎        | 138/1009 [03:53<20:54,  1.44s/keyword]\n",
            "Processing ranks:   0%|          | 0/1 [00:01<?, ?rank/s]\u001b[A"
          ]
        },
        {
          "output_type": "stream",
          "name": "stdout",
          "text": [
            "Saved HTML file: html-files-2024-04-26-10-22/14516357696.html\n"
          ]
        },
        {
          "output_type": "stream",
          "name": "stderr",
          "text": [
            "\n",
            "Processing ranks: 100%|██████████| 1/1 [00:01<00:00,  1.66s/rank]\u001b[A\n",
            "Processing keywords:  14%|█▍        | 139/1009 [03:54<21:56,  1.51s/keyword]\n",
            "\n",
            "Processing keywords:  14%|█▍        | 139/1009 [03:54<21:56,  1.51s/keyword]\n",
            "Processing ranks:   0%|          | 0/1 [00:00<?, ?rank/s]\u001b[A"
          ]
        },
        {
          "output_type": "stream",
          "name": "stdout",
          "text": [
            "Saved HTML file: html-files-2024-04-26-10-22/14516357902.html\n"
          ]
        },
        {
          "output_type": "stream",
          "name": "stderr",
          "text": [
            "\n",
            "Processing ranks: 100%|██████████| 1/1 [00:00<00:00,  1.08rank/s]\u001b[A\n",
            "Processing keywords:  14%|█▍        | 140/1009 [03:55<19:25,  1.34s/keyword]\n",
            "\n",
            "Processing keywords:  14%|█▍        | 140/1009 [03:56<19:25,  1.34s/keyword]\n",
            "Processing ranks:   0%|          | 0/1 [00:01<?, ?rank/s]\u001b[A"
          ]
        },
        {
          "output_type": "stream",
          "name": "stdout",
          "text": [
            "Saved HTML file: html-files-2024-04-26-10-22/14516358101.html\n"
          ]
        },
        {
          "output_type": "stream",
          "name": "stderr",
          "text": [
            "\n",
            "Processing ranks: 100%|██████████| 1/1 [00:01<00:00,  1.47s/rank]\u001b[A\n",
            "Processing keywords:  14%|█▍        | 141/1009 [03:56<20:03,  1.39s/keyword]\n",
            "\n",
            "Processing keywords:  14%|█▍        | 141/1009 [03:57<20:03,  1.39s/keyword]\n",
            "Processing ranks:   0%|          | 0/1 [00:01<?, ?rank/s]\u001b[A"
          ]
        },
        {
          "output_type": "stream",
          "name": "stdout",
          "text": [
            "Saved HTML file: html-files-2024-04-26-10-22/14516359939.html\n"
          ]
        },
        {
          "output_type": "stream",
          "name": "stderr",
          "text": [
            "\n",
            "Processing ranks: 100%|██████████| 1/1 [00:01<00:00,  1.61s/rank]\u001b[A\n",
            "Processing keywords:  14%|█▍        | 142/1009 [03:58<21:07,  1.46s/keyword]\n",
            "\n",
            "Processing keywords:  14%|█▍        | 142/1009 [03:59<21:07,  1.46s/keyword]\n",
            "Processing ranks:   0%|          | 0/1 [00:01<?, ?rank/s]\u001b[A"
          ]
        },
        {
          "output_type": "stream",
          "name": "stdout",
          "text": [
            "Saved HTML file: html-files-2024-04-26-10-22/14516335519.html\n"
          ]
        },
        {
          "output_type": "stream",
          "name": "stderr",
          "text": [
            "\n",
            "Processing ranks: 100%|██████████| 1/1 [00:01<00:00,  1.48s/rank]\u001b[A\n",
            "Processing keywords:  14%|█▍        | 143/1009 [03:59<21:16,  1.47s/keyword]\n",
            "\n",
            "Processing keywords:  14%|█▍        | 143/1009 [04:01<21:16,  1.47s/keyword]\n",
            "Processing ranks:   0%|          | 0/1 [00:01<?, ?rank/s]\u001b[A"
          ]
        },
        {
          "output_type": "stream",
          "name": "stdout",
          "text": [
            "Saved HTML file: html-files-2024-04-26-10-22/14516361362.html\n"
          ]
        },
        {
          "output_type": "stream",
          "name": "stderr",
          "text": [
            "\n",
            "Processing ranks: 100%|██████████| 1/1 [00:01<00:00,  1.71s/rank]\u001b[A\n",
            "Processing keywords:  14%|█▍        | 144/1009 [04:01<22:22,  1.55s/keyword]\n",
            "\n",
            "Processing keywords:  14%|█▍        | 144/1009 [04:03<22:22,  1.55s/keyword]\n",
            "Processing ranks:   0%|          | 0/1 [00:01<?, ?rank/s]\u001b[A"
          ]
        },
        {
          "output_type": "stream",
          "name": "stdout",
          "text": [
            "Saved HTML file: html-files-2024-04-26-10-22/14516361917.html\n"
          ]
        },
        {
          "output_type": "stream",
          "name": "stderr",
          "text": [
            "\n",
            "Processing ranks: 100%|██████████| 1/1 [00:02<00:00,  2.50s/rank]\u001b[A\n",
            "Processing keywords:  14%|█▍        | 145/1009 [04:04<26:30,  1.84s/keyword]\n",
            "\n",
            "Processing keywords:  14%|█▍        | 145/1009 [04:05<26:30,  1.84s/keyword]\n",
            "Processing ranks:   0%|          | 0/1 [00:01<?, ?rank/s]\u001b[A"
          ]
        },
        {
          "output_type": "stream",
          "name": "stdout",
          "text": [
            "Saved HTML file: html-files-2024-04-26-10-22/14516362594.html\n"
          ]
        },
        {
          "output_type": "stream",
          "name": "stderr",
          "text": [
            "\n",
            "Processing ranks: 100%|██████████| 1/1 [00:01<00:00,  1.65s/rank]\u001b[A\n",
            "Processing keywords:  14%|█▍        | 146/1009 [04:05<25:42,  1.79s/keyword]\n",
            "\n",
            "Processing keywords:  14%|█▍        | 146/1009 [04:06<25:42,  1.79s/keyword]\n",
            "Processing ranks:   0%|          | 0/1 [00:00<?, ?rank/s]\u001b[A"
          ]
        },
        {
          "output_type": "stream",
          "name": "stdout",
          "text": [
            "Saved HTML file: html-files-2024-04-26-10-22/14516361767.html\n"
          ]
        },
        {
          "output_type": "stream",
          "name": "stderr",
          "text": [
            "\n",
            "Processing ranks: 100%|██████████| 1/1 [00:01<00:00,  1.19s/rank]\u001b[A\n",
            "Processing keywords:  15%|█▍        | 147/1009 [04:06<23:09,  1.61s/keyword]\n",
            "\n",
            "Processing keywords:  15%|█▍        | 147/1009 [04:08<23:09,  1.61s/keyword]\n",
            "Processing ranks:   0%|          | 0/1 [00:01<?, ?rank/s]\u001b[A"
          ]
        },
        {
          "output_type": "stream",
          "name": "stdout",
          "text": [
            "Saved HTML file: html-files-2024-04-26-10-22/14516363010.html\n"
          ]
        },
        {
          "output_type": "stream",
          "name": "stderr",
          "text": [
            "\n",
            "Processing ranks: 100%|██████████| 1/1 [00:01<00:00,  1.58s/rank]\u001b[A\n",
            "Processing keywords:  15%|█▍        | 148/1009 [04:08<23:06,  1.61s/keyword]\n",
            "\n",
            "Processing keywords:  15%|█▍        | 148/1009 [04:09<23:06,  1.61s/keyword]\n",
            "Processing ranks:   0%|          | 0/1 [00:01<?, ?rank/s]\u001b[A"
          ]
        },
        {
          "output_type": "stream",
          "name": "stdout",
          "text": [
            "Saved HTML file: html-files-2024-04-26-10-22/14516363077.html\n"
          ]
        },
        {
          "output_type": "stream",
          "name": "stderr",
          "text": [
            "\n",
            "Processing ranks: 100%|██████████| 1/1 [00:01<00:00,  1.72s/rank]\u001b[A\n",
            "Processing keywords:  15%|█▍        | 149/1009 [04:10<23:41,  1.65s/keyword]\n",
            "\n",
            "Processing keywords:  15%|█▍        | 149/1009 [04:11<23:41,  1.65s/keyword]\n",
            "Processing ranks:   0%|          | 0/1 [00:01<?, ?rank/s]\u001b[A"
          ]
        },
        {
          "output_type": "stream",
          "name": "stdout",
          "text": [
            "Saved HTML file: html-files-2024-04-26-10-22/14516364271.html\n"
          ]
        },
        {
          "output_type": "stream",
          "name": "stderr",
          "text": [
            "\n",
            "Processing ranks: 100%|██████████| 1/1 [00:01<00:00,  1.46s/rank]\u001b[A\n",
            "Processing keywords:  15%|█▍        | 150/1009 [04:11<22:56,  1.60s/keyword]\n",
            "\n",
            "Processing keywords:  15%|█▍        | 150/1009 [04:13<22:56,  1.60s/keyword]\n",
            "Processing ranks:   0%|          | 0/1 [00:01<?, ?rank/s]\u001b[A"
          ]
        },
        {
          "output_type": "stream",
          "name": "stdout",
          "text": [
            "Saved HTML file: html-files-2024-04-26-10-22/14516364341.html\n"
          ]
        },
        {
          "output_type": "stream",
          "name": "stderr",
          "text": [
            "\n",
            "Processing ranks: 100%|██████████| 1/1 [00:01<00:00,  1.68s/rank]\u001b[A\n",
            "Processing keywords:  15%|█▍        | 151/1009 [04:13<23:20,  1.63s/keyword]\n",
            "\n",
            "Processing keywords:  15%|█▍        | 151/1009 [04:14<23:20,  1.63s/keyword]\n",
            "Processing ranks:   0%|          | 0/1 [00:01<?, ?rank/s]\u001b[A"
          ]
        },
        {
          "output_type": "stream",
          "name": "stdout",
          "text": [
            "Saved HTML file: html-files-2024-04-26-10-22/14516347900.html\n"
          ]
        },
        {
          "output_type": "stream",
          "name": "stderr",
          "text": [
            "\n",
            "Processing ranks: 100%|██████████| 1/1 [00:01<00:00,  1.96s/rank]\u001b[A\n",
            "Processing keywords:  15%|█▌        | 152/1009 [04:15<24:48,  1.74s/keyword]\n",
            "\n",
            "Processing keywords:  15%|█▌        | 152/1009 [04:16<24:48,  1.74s/keyword]\n",
            "Processing ranks:   0%|          | 0/1 [00:01<?, ?rank/s]\u001b[A"
          ]
        },
        {
          "output_type": "stream",
          "name": "stdout",
          "text": [
            "Saved HTML file: html-files-2024-04-26-10-22/14516365476.html\n"
          ]
        },
        {
          "output_type": "stream",
          "name": "stderr",
          "text": [
            "\n",
            "Processing ranks: 100%|██████████| 1/1 [00:01<00:00,  1.76s/rank]\u001b[A\n",
            "Processing keywords:  15%|█▌        | 153/1009 [04:17<24:55,  1.75s/keyword]\n",
            "\n",
            "Processing keywords:  15%|█▌        | 153/1009 [04:19<24:55,  1.75s/keyword]\n",
            "Processing ranks:   0%|          | 0/1 [00:02<?, ?rank/s]\u001b[A"
          ]
        },
        {
          "output_type": "stream",
          "name": "stdout",
          "text": [
            "Saved HTML file: html-files-2024-04-26-10-22/14516365735.html\n"
          ]
        },
        {
          "output_type": "stream",
          "name": "stderr",
          "text": [
            "\n",
            "Processing ranks: 100%|██████████| 1/1 [00:02<00:00,  2.59s/rank]\u001b[A\n",
            "Processing keywords:  15%|█▌        | 154/1009 [04:19<28:36,  2.01s/keyword]\n",
            "\n",
            "Processing keywords:  15%|█▌        | 154/1009 [04:21<28:36,  2.01s/keyword]\n",
            "Processing ranks:   0%|          | 0/1 [00:01<?, ?rank/s]\u001b[A"
          ]
        },
        {
          "output_type": "stream",
          "name": "stdout",
          "text": [
            "Saved HTML file: html-files-2024-04-26-10-22/14516344073.html\n"
          ]
        },
        {
          "output_type": "stream",
          "name": "stderr",
          "text": [
            "\n",
            "Processing ranks: 100%|██████████| 1/1 [00:01<00:00,  1.74s/rank]\u001b[A\n",
            "Processing keywords:  15%|█▌        | 155/1009 [04:21<27:31,  1.93s/keyword]\n",
            "\n",
            "Processing keywords:  15%|█▌        | 155/1009 [04:22<27:31,  1.93s/keyword]\n",
            "Processing ranks:   0%|          | 0/1 [00:00<?, ?rank/s]\u001b[A"
          ]
        },
        {
          "output_type": "stream",
          "name": "stdout",
          "text": [
            "Saved HTML file: html-files-2024-04-26-10-22/14516366756.html\n"
          ]
        },
        {
          "output_type": "stream",
          "name": "stderr",
          "text": [
            "\n",
            "Processing ranks: 100%|██████████| 1/1 [00:01<00:00,  1.21s/rank]\u001b[A\n",
            "Processing keywords:  15%|█▌        | 156/1009 [04:22<24:30,  1.72s/keyword]\n",
            "\n",
            "Processing keywords:  15%|█▌        | 156/1009 [04:24<24:30,  1.72s/keyword]\n",
            "Processing ranks:   0%|          | 0/1 [00:01<?, ?rank/s]\u001b[A"
          ]
        },
        {
          "output_type": "stream",
          "name": "stdout",
          "text": [
            "Saved HTML file: html-files-2024-04-26-10-22/14516366872.html\n"
          ]
        },
        {
          "output_type": "stream",
          "name": "stderr",
          "text": [
            "\n",
            "Processing ranks: 100%|██████████| 1/1 [00:01<00:00,  1.77s/rank]\u001b[A\n",
            "Processing keywords:  16%|█▌        | 157/1009 [04:24<24:47,  1.75s/keyword]\n",
            "\n",
            "Processing keywords:  16%|█▌        | 157/1009 [04:25<24:47,  1.75s/keyword]\n",
            "Processing ranks:   0%|          | 0/1 [00:00<?, ?rank/s]\u001b[A"
          ]
        },
        {
          "output_type": "stream",
          "name": "stdout",
          "text": [
            "Saved HTML file: html-files-2024-04-26-10-22/14516367076.html\n"
          ]
        },
        {
          "output_type": "stream",
          "name": "stderr",
          "text": [
            "\n",
            "Processing ranks: 100%|██████████| 1/1 [00:01<00:00,  1.19s/rank]\u001b[A\n",
            "Processing keywords:  16%|█▌        | 158/1009 [04:25<22:28,  1.58s/keyword]\n",
            "\n",
            "Processing keywords:  16%|█▌        | 158/1009 [04:27<22:28,  1.58s/keyword]\n",
            "Processing ranks:   0%|          | 0/1 [00:01<?, ?rank/s]\u001b[A"
          ]
        },
        {
          "output_type": "stream",
          "name": "stdout",
          "text": [
            "Saved HTML file: html-files-2024-04-26-10-22/14516367303.html\n"
          ]
        },
        {
          "output_type": "stream",
          "name": "stderr",
          "text": [
            "\n",
            "Processing ranks: 100%|██████████| 1/1 [00:01<00:00,  1.66s/rank]\u001b[A\n",
            "Processing keywords:  16%|█▌        | 159/1009 [04:27<22:52,  1.61s/keyword]\n",
            "\n",
            "Processing keywords:  16%|█▌        | 159/1009 [04:28<22:52,  1.61s/keyword]\n",
            "Processing ranks:   0%|          | 0/1 [00:00<?, ?rank/s]\u001b[A"
          ]
        },
        {
          "output_type": "stream",
          "name": "stdout",
          "text": [
            "Saved HTML file: html-files-2024-04-26-10-22/14516369055.html\n"
          ]
        },
        {
          "output_type": "stream",
          "name": "stderr",
          "text": [
            "\n",
            "Processing ranks: 100%|██████████| 1/1 [00:01<00:00,  1.27s/rank]\u001b[A\n",
            "Processing keywords:  16%|█▌        | 160/1009 [04:28<21:27,  1.52s/keyword]\n",
            "\n",
            "Processing keywords:  16%|█▌        | 160/1009 [04:30<21:27,  1.52s/keyword]\n",
            "Processing ranks:   0%|          | 0/1 [00:01<?, ?rank/s]\u001b[A"
          ]
        },
        {
          "output_type": "stream",
          "name": "stdout",
          "text": [
            "Saved HTML file: html-files-2024-04-26-10-22/14516369370.html\n"
          ]
        },
        {
          "output_type": "stream",
          "name": "stderr",
          "text": [
            "\n",
            "Processing ranks: 100%|██████████| 1/1 [00:01<00:00,  1.77s/rank]\u001b[A\n",
            "Processing keywords:  16%|█▌        | 161/1009 [04:30<22:35,  1.60s/keyword]\n",
            "\n",
            "Processing keywords:  16%|█▌        | 161/1009 [04:32<22:35,  1.60s/keyword]\n",
            "Processing ranks:   0%|          | 0/1 [00:01<?, ?rank/s]\u001b[A"
          ]
        },
        {
          "output_type": "stream",
          "name": "stdout",
          "text": [
            "Saved HTML file: html-files-2024-04-26-10-22/14516369492.html\n"
          ]
        },
        {
          "output_type": "stream",
          "name": "stderr",
          "text": [
            "\n",
            "Processing ranks: 100%|██████████| 1/1 [00:02<00:00,  2.18s/rank]\u001b[A\n",
            "Processing keywords:  16%|█▌        | 162/1009 [04:32<25:06,  1.78s/keyword]\n",
            "\n",
            "Processing keywords:  16%|█▌        | 162/1009 [04:34<25:06,  1.78s/keyword]\n",
            "Processing ranks:   0%|          | 0/1 [00:01<?, ?rank/s]\u001b[A"
          ]
        },
        {
          "output_type": "stream",
          "name": "stdout",
          "text": [
            "Saved HTML file: html-files-2024-04-26-10-22/14516369642.html\n"
          ]
        },
        {
          "output_type": "stream",
          "name": "stderr",
          "text": [
            "\n",
            "Processing ranks: 100%|██████████| 1/1 [00:01<00:00,  1.57s/rank]\u001b[A\n",
            "Processing keywords:  16%|█▌        | 163/1009 [04:34<24:15,  1.72s/keyword]\n",
            "\n",
            "Processing keywords:  16%|█▌        | 163/1009 [04:35<24:15,  1.72s/keyword]\n",
            "Processing ranks:   0%|          | 0/1 [00:01<?, ?rank/s]\u001b[A"
          ]
        },
        {
          "output_type": "stream",
          "name": "stdout",
          "text": [
            "Saved HTML file: html-files-2024-04-26-10-22/14516369820.html\n"
          ]
        },
        {
          "output_type": "stream",
          "name": "stderr",
          "text": [
            "\n",
            "Processing ranks: 100%|██████████| 1/1 [00:01<00:00,  1.70s/rank]\u001b[A\n",
            "Processing keywords:  16%|█▋        | 164/1009 [04:36<24:11,  1.72s/keyword]\n",
            "\n",
            "Processing keywords:  16%|█▋        | 164/1009 [04:37<24:11,  1.72s/keyword]\n",
            "Processing ranks:   0%|          | 0/1 [00:01<?, ?rank/s]\u001b[A"
          ]
        },
        {
          "output_type": "stream",
          "name": "stdout",
          "text": [
            "Saved HTML file: html-files-2024-04-26-10-22/14516369983.html\n"
          ]
        },
        {
          "output_type": "stream",
          "name": "stderr",
          "text": [
            "\n",
            "Processing ranks: 100%|██████████| 1/1 [00:01<00:00,  1.75s/rank]\u001b[A\n",
            "Processing keywords:  16%|█▋        | 165/1009 [04:37<24:23,  1.73s/keyword]\n",
            "\n",
            "Processing keywords:  16%|█▋        | 165/1009 [04:39<24:23,  1.73s/keyword]\n",
            "Processing ranks:   0%|          | 0/1 [00:01<?, ?rank/s]\u001b[A"
          ]
        },
        {
          "output_type": "stream",
          "name": "stdout",
          "text": [
            "Saved HTML file: html-files-2024-04-26-10-22/14516371245.html\n"
          ]
        },
        {
          "output_type": "stream",
          "name": "stderr",
          "text": [
            "\n",
            "Processing ranks: 100%|██████████| 1/1 [00:01<00:00,  1.54s/rank]\u001b[A\n",
            "Processing keywords:  16%|█▋        | 166/1009 [04:39<23:36,  1.68s/keyword]\n",
            "\n",
            "Processing keywords:  16%|█▋        | 166/1009 [04:40<23:36,  1.68s/keyword]\n",
            "Processing ranks:   0%|          | 0/1 [00:01<?, ?rank/s]\u001b[A"
          ]
        },
        {
          "output_type": "stream",
          "name": "stdout",
          "text": [
            "Saved HTML file: html-files-2024-04-26-10-22/14516366838.html\n"
          ]
        },
        {
          "output_type": "stream",
          "name": "stderr",
          "text": [
            "\n",
            "Processing ranks: 100%|██████████| 1/1 [00:01<00:00,  1.74s/rank]\u001b[A\n",
            "Processing keywords:  17%|█▋        | 167/1009 [04:41<23:55,  1.70s/keyword]\n",
            "\n",
            "Processing keywords:  17%|█▋        | 167/1009 [04:42<23:55,  1.70s/keyword]\n",
            "Processing ranks:   0%|          | 0/1 [00:01<?, ?rank/s]\u001b[A"
          ]
        },
        {
          "output_type": "stream",
          "name": "stdout",
          "text": [
            "Saved HTML file: html-files-2024-04-26-10-22/14516372305.html\n"
          ]
        },
        {
          "output_type": "stream",
          "name": "stderr",
          "text": [
            "\n",
            "Processing ranks: 100%|██████████| 1/1 [00:01<00:00,  1.66s/rank]\u001b[A\n",
            "Processing keywords:  17%|█▋        | 168/1009 [04:42<23:48,  1.70s/keyword]\n",
            "\n",
            "Processing keywords:  17%|█▋        | 168/1009 [04:44<23:48,  1.70s/keyword]\n",
            "Processing ranks:   0%|          | 0/1 [00:01<?, ?rank/s]\u001b[A"
          ]
        },
        {
          "output_type": "stream",
          "name": "stdout",
          "text": [
            "Saved HTML file: html-files-2024-04-26-10-22/14516344452.html\n"
          ]
        },
        {
          "output_type": "stream",
          "name": "stderr",
          "text": [
            "\n",
            "Processing ranks: 100%|██████████| 1/1 [00:02<00:00,  2.02s/rank]\u001b[A\n",
            "Processing keywords:  17%|█▋        | 169/1009 [04:44<25:15,  1.80s/keyword]\n",
            "\n",
            "Processing keywords:  17%|█▋        | 169/1009 [04:46<25:15,  1.80s/keyword]\n",
            "Processing ranks:   0%|          | 0/1 [00:01<?, ?rank/s]\u001b[A"
          ]
        },
        {
          "output_type": "stream",
          "name": "stdout",
          "text": [
            "Saved HTML file: html-files-2024-04-26-10-22/14516373951.html\n"
          ]
        },
        {
          "output_type": "stream",
          "name": "stderr",
          "text": [
            "\n",
            "Processing ranks: 100%|██████████| 1/1 [00:01<00:00,  1.87s/rank]\u001b[A\n",
            "Processing keywords:  17%|█▋        | 170/1009 [04:46<25:35,  1.83s/keyword]\n",
            "\n",
            "Processing keywords:  17%|█▋        | 170/1009 [04:48<25:35,  1.83s/keyword]\n",
            "Processing ranks:   0%|          | 0/1 [00:01<?, ?rank/s]\u001b[A"
          ]
        },
        {
          "output_type": "stream",
          "name": "stdout",
          "text": [
            "Saved HTML file: html-files-2024-04-26-10-22/14516374070.html\n"
          ]
        },
        {
          "output_type": "stream",
          "name": "stderr",
          "text": [
            "\n",
            "Processing ranks: 100%|██████████| 1/1 [00:01<00:00,  1.72s/rank]\u001b[A\n",
            "Processing keywords:  17%|█▋        | 171/1009 [04:48<25:11,  1.80s/keyword]\n",
            "\n",
            "Processing keywords:  17%|█▋        | 171/1009 [04:49<25:11,  1.80s/keyword]\n",
            "Processing ranks:   0%|          | 0/1 [00:01<?, ?rank/s]\u001b[A"
          ]
        },
        {
          "output_type": "stream",
          "name": "stdout",
          "text": [
            "Saved HTML file: html-files-2024-04-26-10-22/14516348935.html\n"
          ]
        },
        {
          "output_type": "stream",
          "name": "stderr",
          "text": [
            "\n",
            "Processing ranks: 100%|██████████| 1/1 [00:01<00:00,  1.70s/rank]\u001b[A\n",
            "Processing keywords:  17%|█▋        | 172/1009 [04:50<24:47,  1.78s/keyword]\n",
            "\n",
            "Processing keywords:  17%|█▋        | 172/1009 [04:50<24:47,  1.78s/keyword]\n",
            "Processing ranks:   0%|          | 0/1 [00:00<?, ?rank/s]\u001b[A"
          ]
        },
        {
          "output_type": "stream",
          "name": "stdout",
          "text": [
            "Saved HTML file: html-files-2024-04-26-10-22/14516367764.html\n"
          ]
        },
        {
          "output_type": "stream",
          "name": "stderr",
          "text": [
            "\n",
            "Processing ranks: 100%|██████████| 1/1 [00:00<00:00,  1.13rank/s]\u001b[A\n",
            "Processing keywords:  17%|█▋        | 173/1009 [04:51<21:06,  1.52s/keyword]\n",
            "\n",
            "Processing keywords:  17%|█▋        | 173/1009 [04:53<21:06,  1.52s/keyword]\n",
            "Processing ranks:   0%|          | 0/1 [00:01<?, ?rank/s]\u001b[A"
          ]
        },
        {
          "output_type": "stream",
          "name": "stdout",
          "text": [
            "Saved HTML file: html-files-2024-04-26-10-22/14516376034.html\n"
          ]
        },
        {
          "output_type": "stream",
          "name": "stderr",
          "text": [
            "\n",
            "Processing ranks: 100%|██████████| 1/1 [00:02<00:00,  2.47s/rank]\u001b[A\n",
            "Processing keywords:  17%|█▋        | 174/1009 [04:53<25:11,  1.81s/keyword]\n",
            "\n",
            "Processing keywords:  17%|█▋        | 174/1009 [04:55<25:11,  1.81s/keyword]\n",
            "Processing ranks:   0%|          | 0/1 [00:01<?, ?rank/s]\u001b[A"
          ]
        },
        {
          "output_type": "stream",
          "name": "stdout",
          "text": [
            "Saved HTML file: html-files-2024-04-26-10-22/14516376795.html\n"
          ]
        },
        {
          "output_type": "stream",
          "name": "stderr",
          "text": [
            "\n",
            "Processing ranks: 100%|██████████| 1/1 [00:01<00:00,  1.72s/rank]\u001b[A\n",
            "Processing keywords:  17%|█▋        | 175/1009 [04:55<24:52,  1.79s/keyword]\n",
            "\n",
            "Processing keywords:  17%|█▋        | 175/1009 [04:56<24:52,  1.79s/keyword]\n",
            "Processing ranks:   0%|          | 0/1 [00:01<?, ?rank/s]\u001b[A"
          ]
        },
        {
          "output_type": "stream",
          "name": "stdout",
          "text": [
            "Saved HTML file: html-files-2024-04-26-10-22/14516376989.html\n"
          ]
        },
        {
          "output_type": "stream",
          "name": "stderr",
          "text": [
            "\n",
            "Processing ranks: 100%|██████████| 1/1 [00:01<00:00,  1.89s/rank]\u001b[A\n",
            "Processing keywords:  17%|█▋        | 176/1009 [04:57<25:25,  1.83s/keyword]\n",
            "\n",
            "Processing keywords:  17%|█▋        | 176/1009 [04:58<25:25,  1.83s/keyword]\n",
            "Processing ranks:   0%|          | 0/1 [00:01<?, ?rank/s]\u001b[A"
          ]
        },
        {
          "output_type": "stream",
          "name": "stdout",
          "text": [
            "Saved HTML file: html-files-2024-04-26-10-22/14516377804.html\n"
          ]
        },
        {
          "output_type": "stream",
          "name": "stderr",
          "text": [
            "\n",
            "Processing ranks: 100%|██████████| 1/1 [00:01<00:00,  1.89s/rank]\u001b[A\n",
            "Processing keywords:  18%|█▊        | 177/1009 [04:59<25:44,  1.86s/keyword]\n",
            "\n",
            "Processing keywords:  18%|█▊        | 177/1009 [05:00<25:44,  1.86s/keyword]\n",
            "Processing ranks:   0%|          | 0/1 [00:01<?, ?rank/s]\u001b[A"
          ]
        },
        {
          "output_type": "stream",
          "name": "stdout",
          "text": [
            "Saved HTML file: html-files-2024-04-26-10-22/14516380297.html\n"
          ]
        },
        {
          "output_type": "stream",
          "name": "stderr",
          "text": [
            "\n",
            "Processing ranks: 100%|██████████| 1/1 [00:01<00:00,  1.73s/rank]\u001b[A\n",
            "Processing keywords:  18%|█▊        | 178/1009 [05:01<25:18,  1.83s/keyword]\n",
            "\n",
            "Processing keywords:  18%|█▊        | 178/1009 [05:02<25:18,  1.83s/keyword]\n",
            "Processing ranks:   0%|          | 0/1 [00:01<?, ?rank/s]\u001b[A"
          ]
        },
        {
          "output_type": "stream",
          "name": "stdout",
          "text": [
            "Saved HTML file: html-files-2024-04-26-10-22/14516380728.html\n"
          ]
        },
        {
          "output_type": "stream",
          "name": "stderr",
          "text": [
            "\n",
            "Processing ranks: 100%|██████████| 1/1 [00:01<00:00,  1.74s/rank]\u001b[A\n",
            "Processing keywords:  18%|█▊        | 179/1009 [05:02<24:57,  1.80s/keyword]\n",
            "\n",
            "Processing keywords:  18%|█▊        | 179/1009 [05:03<24:57,  1.80s/keyword]\n",
            "Processing ranks:   0%|          | 0/1 [00:00<?, ?rank/s]\u001b[A"
          ]
        },
        {
          "output_type": "stream",
          "name": "stdout",
          "text": [
            "Saved HTML file: html-files-2024-04-26-10-22/14516339737.html\n"
          ]
        },
        {
          "output_type": "stream",
          "name": "stderr",
          "text": [
            "\n",
            "Processing ranks: 100%|██████████| 1/1 [00:01<00:00,  1.07s/rank]\u001b[A\n",
            "Processing keywords:  18%|█▊        | 180/1009 [05:03<21:58,  1.59s/keyword]\n",
            "\n",
            "Processing keywords:  18%|█▊        | 180/1009 [05:05<21:58,  1.59s/keyword]\n",
            "Processing ranks:   0%|          | 0/1 [00:01<?, ?rank/s]\u001b[A"
          ]
        },
        {
          "output_type": "stream",
          "name": "stdout",
          "text": [
            "Saved HTML file: html-files-2024-04-26-10-22/14516380796.html\n"
          ]
        },
        {
          "output_type": "stream",
          "name": "stderr",
          "text": [
            "\n",
            "Processing ranks: 100%|██████████| 1/1 [00:01<00:00,  1.43s/rank]\u001b[A\n",
            "Processing keywords:  18%|█▊        | 181/1009 [05:05<21:22,  1.55s/keyword]\n",
            "\n",
            "Processing keywords:  18%|█▊        | 181/1009 [05:06<21:22,  1.55s/keyword]\n",
            "Processing ranks:   0%|          | 0/1 [00:01<?, ?rank/s]\u001b[A"
          ]
        },
        {
          "output_type": "stream",
          "name": "stdout",
          "text": [
            "Saved HTML file: html-files-2024-04-26-10-22/14516380950.html\n"
          ]
        },
        {
          "output_type": "stream",
          "name": "stderr",
          "text": [
            "\n",
            "Processing ranks: 100%|██████████| 1/1 [00:02<00:00,  2.00s/rank]\u001b[A\n",
            "Processing keywords:  18%|█▊        | 182/1009 [05:07<23:19,  1.69s/keyword]\n",
            "\n",
            "Processing keywords:  18%|█▊        | 182/1009 [05:08<23:19,  1.69s/keyword]\n",
            "Processing ranks:   0%|          | 0/1 [00:00<?, ?rank/s]\u001b[A"
          ]
        },
        {
          "output_type": "stream",
          "name": "stdout",
          "text": [
            "Saved HTML file: html-files-2024-04-26-10-22/14516381219.html\n"
          ]
        },
        {
          "output_type": "stream",
          "name": "stderr",
          "text": [
            "\n",
            "Processing ranks: 100%|██████████| 1/1 [00:00<00:00,  1.06rank/s]\u001b[A\n",
            "Processing keywords:  18%|█▊        | 183/1009 [05:08<20:17,  1.47s/keyword]\n",
            "\n",
            "Processing keywords:  18%|█▊        | 183/1009 [05:09<20:17,  1.47s/keyword]\n",
            "Processing ranks:   0%|          | 0/1 [00:01<?, ?rank/s]\u001b[A"
          ]
        },
        {
          "output_type": "stream",
          "name": "stdout",
          "text": [
            "Saved HTML file: html-files-2024-04-26-10-22/14516381833.html\n"
          ]
        },
        {
          "output_type": "stream",
          "name": "stderr",
          "text": [
            "\n",
            "Processing ranks: 100%|██████████| 1/1 [00:01<00:00,  1.86s/rank]\u001b[A\n",
            "Processing keywords:  18%|█▊        | 184/1009 [05:10<21:55,  1.59s/keyword]\n",
            "\n",
            "Processing keywords:  18%|█▊        | 184/1009 [05:11<21:55,  1.59s/keyword]\n",
            "Processing ranks:   0%|          | 0/1 [00:00<?, ?rank/s]\u001b[A"
          ]
        },
        {
          "output_type": "stream",
          "name": "stdout",
          "text": [
            "Saved HTML file: html-files-2024-04-26-10-22/14516382323.html\n"
          ]
        },
        {
          "output_type": "stream",
          "name": "stderr",
          "text": [
            "\n",
            "Processing ranks: 100%|██████████| 1/1 [00:01<00:00,  1.38s/rank]\u001b[A\n",
            "Processing keywords:  18%|█▊        | 185/1009 [05:11<21:05,  1.54s/keyword]\n",
            "\n",
            "Processing keywords:  18%|█▊        | 185/1009 [05:12<21:05,  1.54s/keyword]\n",
            "Processing ranks:   0%|          | 0/1 [00:01<?, ?rank/s]\u001b[A"
          ]
        },
        {
          "output_type": "stream",
          "name": "stdout",
          "text": [
            "Saved HTML file: html-files-2024-04-26-10-22/14516382862.html\n"
          ]
        },
        {
          "output_type": "stream",
          "name": "stderr",
          "text": [
            "\n",
            "Processing ranks: 100%|██████████| 1/1 [00:01<00:00,  1.89s/rank]\u001b[A\n",
            "Processing keywords:  18%|█▊        | 186/1009 [05:13<22:39,  1.65s/keyword]\n",
            "\n",
            "Processing keywords:  18%|█▊        | 186/1009 [05:15<22:39,  1.65s/keyword]\n",
            "Processing ranks:   0%|          | 0/1 [00:01<?, ?rank/s]\u001b[A"
          ]
        },
        {
          "output_type": "stream",
          "name": "stdout",
          "text": [
            "Saved HTML file: html-files-2024-04-26-10-22/14516383527.html\n"
          ]
        },
        {
          "output_type": "stream",
          "name": "stderr",
          "text": [
            "\n",
            "Processing ranks: 100%|██████████| 1/1 [00:02<00:00,  2.23s/rank]\u001b[A\n",
            "Processing keywords:  19%|█▊        | 187/1009 [05:15<25:06,  1.83s/keyword]\n",
            "\n",
            "Processing keywords:  19%|█▊        | 187/1009 [05:16<25:06,  1.83s/keyword]\n",
            "Processing ranks:   0%|          | 0/1 [00:00<?, ?rank/s]\u001b[A"
          ]
        },
        {
          "output_type": "stream",
          "name": "stdout",
          "text": [
            "Saved HTML file: html-files-2024-04-26-10-22/14516372611.html\n"
          ]
        },
        {
          "output_type": "stream",
          "name": "stderr",
          "text": [
            "\n",
            "Processing ranks: 100%|██████████| 1/1 [00:00<00:00,  1.10rank/s]\u001b[A\n",
            "Processing keywords:  19%|█▊        | 188/1009 [05:16<21:22,  1.56s/keyword]\n",
            "\n",
            "Processing keywords:  19%|█▊        | 188/1009 [05:17<21:22,  1.56s/keyword]\n",
            "Processing ranks:   0%|          | 0/1 [00:01<?, ?rank/s]\u001b[A"
          ]
        },
        {
          "output_type": "stream",
          "name": "stdout",
          "text": [
            "Saved HTML file: html-files-2024-04-26-10-22/14516384836.html\n"
          ]
        },
        {
          "output_type": "stream",
          "name": "stderr",
          "text": [
            "\n",
            "Processing ranks: 100%|██████████| 1/1 [00:01<00:00,  1.71s/rank]\u001b[A\n",
            "Processing keywords:  19%|█▊        | 189/1009 [05:18<22:01,  1.61s/keyword]\n",
            "\n",
            "Processing keywords:  19%|█▊        | 189/1009 [05:19<22:01,  1.61s/keyword]\n",
            "Processing ranks:   0%|          | 0/1 [00:01<?, ?rank/s]\u001b[A"
          ]
        },
        {
          "output_type": "stream",
          "name": "stdout",
          "text": [
            "Saved HTML file: html-files-2024-04-26-10-22/14516372863.html\n"
          ]
        },
        {
          "output_type": "stream",
          "name": "stderr",
          "text": [
            "\n",
            "Processing ranks: 100%|██████████| 1/1 [00:01<00:00,  1.79s/rank]\u001b[A\n",
            "Processing keywords:  19%|█▉        | 190/1009 [05:20<22:47,  1.67s/keyword]\n",
            "\n",
            "Processing keywords:  19%|█▉        | 190/1009 [05:21<22:47,  1.67s/keyword]\n",
            "Processing ranks:   0%|          | 0/1 [00:01<?, ?rank/s]\u001b[A"
          ]
        },
        {
          "output_type": "stream",
          "name": "stdout",
          "text": [
            "Saved HTML file: html-files-2024-04-26-10-22/14516387321.html\n"
          ]
        },
        {
          "output_type": "stream",
          "name": "stderr",
          "text": [
            "\n",
            "Processing ranks: 100%|██████████| 1/1 [00:01<00:00,  1.74s/rank]\u001b[A\n",
            "Processing keywords:  19%|█▉        | 191/1009 [05:22<23:06,  1.70s/keyword]\n",
            "\n",
            "Processing keywords:  19%|█▉        | 191/1009 [05:23<23:06,  1.70s/keyword]\n",
            "Processing ranks:   0%|          | 0/1 [00:01<?, ?rank/s]\u001b[A"
          ]
        },
        {
          "output_type": "stream",
          "name": "stdout",
          "text": [
            "Saved HTML file: html-files-2024-04-26-10-22/14516387878.html\n"
          ]
        },
        {
          "output_type": "stream",
          "name": "stderr",
          "text": [
            "\n",
            "Processing ranks: 100%|██████████| 1/1 [00:01<00:00,  1.80s/rank]\u001b[A\n",
            "Processing keywords:  19%|█▉        | 192/1009 [05:23<23:35,  1.73s/keyword]\n",
            "\n",
            "Processing keywords:  19%|█▉        | 192/1009 [05:24<23:35,  1.73s/keyword]\n",
            "Processing ranks:   0%|          | 0/1 [00:00<?, ?rank/s]\u001b[A"
          ]
        },
        {
          "output_type": "stream",
          "name": "stdout",
          "text": [
            "Saved HTML file: html-files-2024-04-26-10-22/14516346815.html\n"
          ]
        },
        {
          "output_type": "stream",
          "name": "stderr",
          "text": [
            "\n",
            "Processing ranks: 100%|██████████| 1/1 [00:00<00:00,  1.10rank/s]\u001b[A\n",
            "Processing keywords:  19%|█▉        | 193/1009 [05:24<20:15,  1.49s/keyword]\n",
            "\n",
            "Processing keywords:  19%|█▉        | 193/1009 [05:25<20:15,  1.49s/keyword]\n",
            "Processing ranks:   0%|          | 0/1 [00:01<?, ?rank/s]\u001b[A"
          ]
        },
        {
          "output_type": "stream",
          "name": "stdout",
          "text": [
            "Saved HTML file: html-files-2024-04-26-10-22/14516389115.html\n"
          ]
        },
        {
          "output_type": "stream",
          "name": "stderr",
          "text": [
            "\n",
            "Processing ranks: 100%|██████████| 1/1 [00:01<00:00,  1.81s/rank]\u001b[A\n",
            "Processing keywords:  19%|█▉        | 194/1009 [05:26<21:37,  1.59s/keyword]\n",
            "\n",
            "Processing keywords:  19%|█▉        | 194/1009 [05:27<21:37,  1.59s/keyword]\n",
            "Processing ranks:   0%|          | 0/1 [00:01<?, ?rank/s]\u001b[A"
          ]
        },
        {
          "output_type": "stream",
          "name": "stdout",
          "text": [
            "Saved HTML file: html-files-2024-04-26-10-22/14516347229.html\n"
          ]
        },
        {
          "output_type": "stream",
          "name": "stderr",
          "text": [
            "\n",
            "Processing ranks: 100%|██████████| 1/1 [00:01<00:00,  1.98s/rank]\u001b[A\n",
            "Processing keywords:  19%|█▉        | 195/1009 [05:28<23:15,  1.71s/keyword]\n",
            "\n",
            "Processing keywords:  19%|█▉        | 195/1009 [05:29<23:15,  1.71s/keyword]\n",
            "Processing ranks:   0%|          | 0/1 [00:01<?, ?rank/s]\u001b[A"
          ]
        },
        {
          "output_type": "stream",
          "name": "stdout",
          "text": [
            "Saved HTML file: html-files-2024-04-26-10-22/14516352154.html\n"
          ]
        },
        {
          "output_type": "stream",
          "name": "stderr",
          "text": [
            "\n",
            "Processing ranks: 100%|██████████| 1/1 [00:01<00:00,  1.42s/rank]\u001b[A\n",
            "Processing keywords:  19%|█▉        | 196/1009 [05:30<22:08,  1.63s/keyword]\n",
            "\n",
            "Processing keywords:  19%|█▉        | 196/1009 [05:31<22:08,  1.63s/keyword]\n",
            "Processing ranks:   0%|          | 0/1 [00:01<?, ?rank/s]\u001b[A"
          ]
        },
        {
          "output_type": "stream",
          "name": "stdout",
          "text": [
            "Saved HTML file: html-files-2024-04-26-10-22/14516347915.html\n"
          ]
        },
        {
          "output_type": "stream",
          "name": "stderr",
          "text": [
            "\n",
            "Processing ranks: 100%|██████████| 1/1 [00:01<00:00,  1.83s/rank]\u001b[A\n",
            "Processing keywords:  20%|█▉        | 197/1009 [05:31<22:58,  1.70s/keyword]\n",
            "\n",
            "Processing keywords:  20%|█▉        | 197/1009 [05:33<22:58,  1.70s/keyword]\n",
            "Processing ranks:   0%|          | 0/1 [00:01<?, ?rank/s]\u001b[A"
          ]
        },
        {
          "output_type": "stream",
          "name": "stdout",
          "text": [
            "Saved HTML file: html-files-2024-04-26-10-22/14516390883.html\n"
          ]
        },
        {
          "output_type": "stream",
          "name": "stderr",
          "text": [
            "\n",
            "Processing ranks: 100%|██████████| 1/1 [00:01<00:00,  1.71s/rank]\u001b[A\n",
            "Processing keywords:  20%|█▉        | 198/1009 [05:33<23:04,  1.71s/keyword]\n",
            "\n",
            "Processing keywords:  20%|█▉        | 198/1009 [05:34<23:04,  1.71s/keyword]\n",
            "Processing ranks:   0%|          | 0/1 [00:01<?, ?rank/s]\u001b[A"
          ]
        },
        {
          "output_type": "stream",
          "name": "stdout",
          "text": [
            "Saved HTML file: html-files-2024-04-26-10-22/14516390979.html\n"
          ]
        },
        {
          "output_type": "stream",
          "name": "stderr",
          "text": [
            "\n",
            "Processing ranks: 100%|██████████| 1/1 [00:01<00:00,  1.58s/rank]\u001b[A\n",
            "Processing keywords:  20%|█▉        | 199/1009 [05:35<22:35,  1.67s/keyword]\n",
            "\n",
            "Processing keywords:  20%|█▉        | 199/1009 [05:35<22:35,  1.67s/keyword]\n",
            "Processing ranks:   0%|          | 0/1 [00:00<?, ?rank/s]\u001b[A"
          ]
        },
        {
          "output_type": "stream",
          "name": "stdout",
          "text": [
            "Saved HTML file: html-files-2024-04-26-10-22/14516391101.html\n"
          ]
        },
        {
          "output_type": "stream",
          "name": "stderr",
          "text": [
            "\n",
            "Processing ranks: 100%|██████████| 1/1 [00:01<00:00,  1.01s/rank]\u001b[A\n",
            "Processing keywords:  20%|█▉        | 200/1009 [05:36<19:58,  1.48s/keyword]\n",
            "\n",
            "Processing keywords:  20%|█▉        | 200/1009 [05:37<19:58,  1.48s/keyword]\n",
            "Processing ranks:   0%|          | 0/1 [00:01<?, ?rank/s]\u001b[A"
          ]
        },
        {
          "output_type": "stream",
          "name": "stdout",
          "text": [
            "Saved HTML file: html-files-2024-04-26-10-22/14516391160.html\n"
          ]
        },
        {
          "output_type": "stream",
          "name": "stderr",
          "text": [
            "\n",
            "Processing ranks: 100%|██████████| 1/1 [00:01<00:00,  1.51s/rank]\u001b[A\n",
            "Processing keywords:  20%|█▉        | 201/1009 [05:37<20:08,  1.50s/keyword]\n",
            "\n",
            "Processing keywords:  20%|█▉        | 201/1009 [05:38<20:08,  1.50s/keyword]\n",
            "Processing ranks:   0%|          | 0/1 [00:01<?, ?rank/s]\u001b[A"
          ]
        },
        {
          "output_type": "stream",
          "name": "stdout",
          "text": [
            "Saved HTML file: html-files-2024-04-26-10-22/14516391291.html\n"
          ]
        },
        {
          "output_type": "stream",
          "name": "stderr",
          "text": [
            "\n",
            "Processing ranks: 100%|██████████| 1/1 [00:01<00:00,  1.70s/rank]\u001b[A\n",
            "Processing keywords:  20%|██        | 202/1009 [05:39<21:00,  1.56s/keyword]\n",
            "\n",
            "Processing keywords:  20%|██        | 202/1009 [05:40<21:00,  1.56s/keyword]\n",
            "Processing ranks:   0%|          | 0/1 [00:01<?, ?rank/s]\u001b[A"
          ]
        },
        {
          "output_type": "stream",
          "name": "stdout",
          "text": [
            "Saved HTML file: html-files-2024-04-26-10-22/14516391376.html\n"
          ]
        },
        {
          "output_type": "stream",
          "name": "stderr",
          "text": [
            "\n",
            "Processing ranks: 100%|██████████| 1/1 [00:01<00:00,  1.74s/rank]\u001b[A\n",
            "Processing keywords:  20%|██        | 203/1009 [05:41<21:48,  1.62s/keyword]\n",
            "\n",
            "Processing keywords:  20%|██        | 203/1009 [05:42<21:48,  1.62s/keyword]\n",
            "Processing ranks:   0%|          | 0/1 [00:01<?, ?rank/s]\u001b[A"
          ]
        },
        {
          "output_type": "stream",
          "name": "stdout",
          "text": [
            "Saved HTML file: html-files-2024-04-26-10-22/14516348437.html\n"
          ]
        },
        {
          "output_type": "stream",
          "name": "stderr",
          "text": [
            "\n",
            "Processing ranks: 100%|██████████| 1/1 [00:01<00:00,  1.78s/rank]\u001b[A\n",
            "Processing keywords:  20%|██        | 204/1009 [05:43<22:29,  1.68s/keyword]\n",
            "\n",
            "Processing keywords:  20%|██        | 204/1009 [05:44<22:29,  1.68s/keyword]\n",
            "Processing ranks:   0%|          | 0/1 [00:01<?, ?rank/s]\u001b[A"
          ]
        },
        {
          "output_type": "stream",
          "name": "stdout",
          "text": [
            "Saved HTML file: html-files-2024-04-26-10-22/14516348507.html\n"
          ]
        },
        {
          "output_type": "stream",
          "name": "stderr",
          "text": [
            "\n",
            "Processing ranks: 100%|██████████| 1/1 [00:01<00:00,  1.79s/rank]\u001b[A\n",
            "Processing keywords:  20%|██        | 205/1009 [05:44<22:59,  1.72s/keyword]\n",
            "\n",
            "Processing keywords:  20%|██        | 205/1009 [05:46<22:59,  1.72s/keyword]\n",
            "Processing ranks:   0%|          | 0/1 [00:01<?, ?rank/s]\u001b[A"
          ]
        },
        {
          "output_type": "stream",
          "name": "stdout",
          "text": [
            "Saved HTML file: html-files-2024-04-26-10-22/14516375450.html\n"
          ]
        },
        {
          "output_type": "stream",
          "name": "stderr",
          "text": [
            "\n",
            "Processing ranks: 100%|██████████| 1/1 [00:01<00:00,  1.66s/rank]\u001b[A\n",
            "Processing keywords:  20%|██        | 206/1009 [05:46<22:51,  1.71s/keyword]\n",
            "\n",
            "Processing keywords:  20%|██        | 206/1009 [05:47<22:51,  1.71s/keyword]\n",
            "Processing ranks:   0%|          | 0/1 [00:01<?, ?rank/s]\u001b[A"
          ]
        },
        {
          "output_type": "stream",
          "name": "stdout",
          "text": [
            "Saved HTML file: html-files-2024-04-26-10-22/14516393859.html\n"
          ]
        },
        {
          "output_type": "stream",
          "name": "stderr",
          "text": [
            "\n",
            "Processing ranks: 100%|██████████| 1/1 [00:01<00:00,  1.70s/rank]\u001b[A\n",
            "Processing keywords:  21%|██        | 207/1009 [05:48<22:52,  1.71s/keyword]\n",
            "\n",
            "Processing keywords:  21%|██        | 207/1009 [05:49<22:52,  1.71s/keyword]\n",
            "Processing ranks:   0%|          | 0/1 [00:01<?, ?rank/s]\u001b[A"
          ]
        },
        {
          "output_type": "stream",
          "name": "stdout",
          "text": [
            "Saved HTML file: html-files-2024-04-26-10-22/14516394722.html\n"
          ]
        },
        {
          "output_type": "stream",
          "name": "stderr",
          "text": [
            "\n",
            "Processing ranks: 100%|██████████| 1/1 [00:01<00:00,  1.69s/rank]\u001b[A\n",
            "Processing keywords:  21%|██        | 208/1009 [05:49<22:49,  1.71s/keyword]\n",
            "\n",
            "Processing keywords:  21%|██        | 208/1009 [05:51<22:49,  1.71s/keyword]\n",
            "Processing ranks:   0%|          | 0/1 [00:01<?, ?rank/s]\u001b[A"
          ]
        },
        {
          "output_type": "stream",
          "name": "stdout",
          "text": [
            "Saved HTML file: html-files-2024-04-26-10-22/14516394919.html\n"
          ]
        },
        {
          "output_type": "stream",
          "name": "stderr",
          "text": [
            "\n",
            "Processing ranks: 100%|██████████| 1/1 [00:01<00:00,  1.49s/rank]\u001b[A\n",
            "Processing keywords:  21%|██        | 209/1009 [05:51<22:01,  1.65s/keyword]\n",
            "\n",
            "Processing keywords:  21%|██        | 209/1009 [05:53<22:01,  1.65s/keyword]\n",
            "Processing ranks:   0%|          | 0/1 [00:01<?, ?rank/s]\u001b[A"
          ]
        },
        {
          "output_type": "stream",
          "name": "stdout",
          "text": [
            "Saved HTML file: html-files-2024-04-26-10-22/14516397741.html\n"
          ]
        },
        {
          "output_type": "stream",
          "name": "stderr",
          "text": [
            "\n",
            "Processing ranks: 100%|██████████| 1/1 [00:02<00:00,  2.08s/rank]\u001b[A\n",
            "Processing keywords:  21%|██        | 210/1009 [05:53<23:48,  1.79s/keyword]\n",
            "\n",
            "Processing keywords:  21%|██        | 210/1009 [05:55<23:48,  1.79s/keyword]\n",
            "Processing ranks:   0%|          | 0/1 [00:01<?, ?rank/s]\u001b[A"
          ]
        },
        {
          "output_type": "stream",
          "name": "stdout",
          "text": [
            "Saved HTML file: html-files-2024-04-26-10-22/14516402398.html\n"
          ]
        },
        {
          "output_type": "stream",
          "name": "stderr",
          "text": [
            "\n",
            "Processing ranks: 100%|██████████| 1/1 [00:02<00:00,  2.34s/rank]\u001b[A\n",
            "Processing keywords:  21%|██        | 211/1009 [05:55<26:05,  1.96s/keyword]\n",
            "\n",
            "Processing keywords:  21%|██        | 211/1009 [05:58<26:05,  1.96s/keyword]\n",
            "Processing ranks:   0%|          | 0/1 [00:02<?, ?rank/s]\u001b[A"
          ]
        },
        {
          "output_type": "stream",
          "name": "stdout",
          "text": [
            "Saved HTML file: html-files-2024-04-26-10-22/14516402664.html\n"
          ]
        },
        {
          "output_type": "stream",
          "name": "stderr",
          "text": [
            "\n",
            "Processing ranks: 100%|██████████| 1/1 [00:02<00:00,  2.74s/rank]\u001b[A\n",
            "Processing keywords:  21%|██        | 212/1009 [05:58<29:16,  2.20s/keyword]\n",
            "\n",
            "Processing keywords:  21%|██        | 212/1009 [05:59<29:16,  2.20s/keyword]\n",
            "Processing ranks:   0%|          | 0/1 [00:00<?, ?rank/s]\u001b[A"
          ]
        },
        {
          "output_type": "stream",
          "name": "stdout",
          "text": [
            "Saved HTML file: html-files-2024-04-26-10-22/14516403498.html\n"
          ]
        },
        {
          "output_type": "stream",
          "name": "stderr",
          "text": [
            "\n",
            "Processing ranks: 100%|██████████| 1/1 [00:01<00:00,  1.10s/rank]\u001b[A\n",
            "Processing keywords:  21%|██        | 213/1009 [05:59<24:56,  1.88s/keyword]\n",
            "\n",
            "Processing keywords:  21%|██        | 213/1009 [06:01<24:56,  1.88s/keyword]\n",
            "Processing ranks:   0%|          | 0/1 [00:01<?, ?rank/s]\u001b[A"
          ]
        },
        {
          "output_type": "stream",
          "name": "stdout",
          "text": [
            "Saved HTML file: html-files-2024-04-26-10-22/14516404037.html\n"
          ]
        },
        {
          "output_type": "stream",
          "name": "stderr",
          "text": [
            "\n",
            "Processing ranks: 100%|██████████| 1/1 [00:01<00:00,  1.62s/rank]\u001b[A\n",
            "Processing keywords:  21%|██        | 214/1009 [06:01<23:57,  1.81s/keyword]\n",
            "\n",
            "Processing keywords:  21%|██        | 214/1009 [06:02<23:57,  1.81s/keyword]\n",
            "Processing ranks:   0%|          | 0/1 [00:01<?, ?rank/s]\u001b[A"
          ]
        },
        {
          "output_type": "stream",
          "name": "stdout",
          "text": [
            "Saved HTML file: html-files-2024-04-26-10-22/14516405256.html\n"
          ]
        },
        {
          "output_type": "stream",
          "name": "stderr",
          "text": [
            "\n",
            "Processing ranks: 100%|██████████| 1/1 [00:01<00:00,  1.64s/rank]\u001b[A\n",
            "Processing keywords:  21%|██▏       | 215/1009 [06:03<23:20,  1.76s/keyword]\n",
            "\n",
            "Processing keywords:  21%|██▏       | 215/1009 [06:04<23:20,  1.76s/keyword]\n",
            "Processing ranks:   0%|          | 0/1 [00:01<?, ?rank/s]\u001b[A"
          ]
        },
        {
          "output_type": "stream",
          "name": "stdout",
          "text": [
            "Saved HTML file: html-files-2024-04-26-10-22/14516340098.html\n"
          ]
        },
        {
          "output_type": "stream",
          "name": "stderr",
          "text": [
            "\n",
            "Processing ranks: 100%|██████████| 1/1 [00:01<00:00,  1.60s/rank]\u001b[A\n",
            "Processing keywords:  21%|██▏       | 216/1009 [06:04<22:47,  1.72s/keyword]\n",
            "\n",
            "Processing keywords:  21%|██▏       | 216/1009 [06:06<22:47,  1.72s/keyword]\n",
            "Processing ranks:   0%|          | 0/1 [00:01<?, ?rank/s]\u001b[A"
          ]
        },
        {
          "output_type": "stream",
          "name": "stdout",
          "text": [
            "Saved HTML file: html-files-2024-04-26-10-22/14516335977.html\n"
          ]
        },
        {
          "output_type": "stream",
          "name": "stderr",
          "text": [
            "\n",
            "Processing ranks: 100%|██████████| 1/1 [00:01<00:00,  1.83s/rank]\u001b[A\n",
            "Processing keywords:  22%|██▏       | 217/1009 [06:06<23:17,  1.76s/keyword]\n",
            "\n",
            "Processing keywords:  22%|██▏       | 217/1009 [06:08<23:17,  1.76s/keyword]\n",
            "Processing ranks:   0%|          | 0/1 [00:01<?, ?rank/s]\u001b[A"
          ]
        },
        {
          "output_type": "stream",
          "name": "stdout",
          "text": [
            "Saved HTML file: html-files-2024-04-26-10-22/14516406814.html\n"
          ]
        },
        {
          "output_type": "stream",
          "name": "stderr",
          "text": [
            "\n",
            "Processing ranks: 100%|██████████| 1/1 [00:02<00:00,  2.11s/rank]\u001b[A\n",
            "Processing keywords:  22%|██▏       | 218/1009 [06:08<24:44,  1.88s/keyword]\n",
            "\n",
            "Processing keywords:  22%|██▏       | 218/1009 [06:10<24:44,  1.88s/keyword]\n",
            "Processing ranks:   0%|          | 0/1 [00:01<?, ?rank/s]\u001b[A"
          ]
        },
        {
          "output_type": "stream",
          "name": "stdout",
          "text": [
            "Saved HTML file: html-files-2024-04-26-10-22/14516406959.html\n"
          ]
        },
        {
          "output_type": "stream",
          "name": "stderr",
          "text": [
            "\n",
            "Processing ranks: 100%|██████████| 1/1 [00:01<00:00,  1.85s/rank]\u001b[A\n",
            "Processing keywords:  22%|██▏       | 219/1009 [06:10<24:42,  1.88s/keyword]\n",
            "\n",
            "Processing keywords:  22%|██▏       | 219/1009 [06:12<24:42,  1.88s/keyword]\n",
            "Processing ranks:   0%|          | 0/1 [00:01<?, ?rank/s]\u001b[A"
          ]
        },
        {
          "output_type": "stream",
          "name": "stdout",
          "text": [
            "Saved HTML file: html-files-2024-04-26-10-22/14516379274.html\n"
          ]
        },
        {
          "output_type": "stream",
          "name": "stderr",
          "text": [
            "\n",
            "Processing ranks: 100%|██████████| 1/1 [00:02<00:00,  2.11s/rank]\u001b[A\n",
            "Processing keywords:  22%|██▏       | 220/1009 [06:12<25:42,  1.95s/keyword]\n",
            "\n",
            "Processing keywords:  22%|██▏       | 220/1009 [06:14<25:42,  1.95s/keyword]\n",
            "Processing ranks:   0%|          | 0/1 [00:01<?, ?rank/s]\u001b[A"
          ]
        },
        {
          "output_type": "stream",
          "name": "stdout",
          "text": [
            "Saved HTML file: html-files-2024-04-26-10-22/14516379582.html\n"
          ]
        },
        {
          "output_type": "stream",
          "name": "stderr",
          "text": [
            "\n",
            "Processing ranks: 100%|██████████| 1/1 [00:01<00:00,  1.68s/rank]\u001b[A\n",
            "Processing keywords:  22%|██▏       | 221/1009 [06:14<24:40,  1.88s/keyword]\n",
            "\n",
            "Processing keywords:  22%|██▏       | 221/1009 [06:15<24:40,  1.88s/keyword]\n",
            "Processing ranks:   0%|          | 0/1 [00:01<?, ?rank/s]\u001b[A"
          ]
        },
        {
          "output_type": "stream",
          "name": "stdout",
          "text": [
            "Saved HTML file: html-files-2024-04-26-10-22/14516379864.html\n"
          ]
        },
        {
          "output_type": "stream",
          "name": "stderr",
          "text": [
            "\n",
            "Processing ranks: 100%|██████████| 1/1 [00:01<00:00,  1.81s/rank]\u001b[A\n",
            "Processing keywords:  22%|██▏       | 222/1009 [06:16<24:30,  1.87s/keyword]\n",
            "\n",
            "Processing keywords:  22%|██▏       | 222/1009 [06:17<24:30,  1.87s/keyword]\n",
            "Processing ranks:   0%|          | 0/1 [00:01<?, ?rank/s]\u001b[A"
          ]
        },
        {
          "output_type": "stream",
          "name": "stdout",
          "text": [
            "Saved HTML file: html-files-2024-04-26-10-22/14516408212.html\n"
          ]
        },
        {
          "output_type": "stream",
          "name": "stderr",
          "text": [
            "\n",
            "Processing ranks: 100%|██████████| 1/1 [00:01<00:00,  1.52s/rank]\u001b[A\n",
            "Processing keywords:  22%|██▏       | 223/1009 [06:17<23:13,  1.77s/keyword]\n",
            "\n",
            "Processing keywords:  22%|██▏       | 223/1009 [06:19<23:13,  1.77s/keyword]\n",
            "Processing ranks:   0%|          | 0/1 [00:01<?, ?rank/s]\u001b[A"
          ]
        },
        {
          "output_type": "stream",
          "name": "stdout",
          "text": [
            "Saved HTML file: html-files-2024-04-26-10-22/14516408395.html\n"
          ]
        },
        {
          "output_type": "stream",
          "name": "stderr",
          "text": [
            "\n",
            "Processing ranks: 100%|██████████| 1/1 [00:01<00:00,  1.75s/rank]\u001b[A\n",
            "Processing keywords:  22%|██▏       | 224/1009 [06:19<23:11,  1.77s/keyword]\n",
            "\n",
            "Processing keywords:  22%|██▏       | 224/1009 [06:20<23:11,  1.77s/keyword]\n",
            "Processing ranks:   0%|          | 0/1 [00:01<?, ?rank/s]\u001b[A"
          ]
        },
        {
          "output_type": "stream",
          "name": "stdout",
          "text": [
            "Saved HTML file: html-files-2024-04-26-10-22/14516408587.html\n"
          ]
        },
        {
          "output_type": "stream",
          "name": "stderr",
          "text": [
            "\n",
            "Processing ranks: 100%|██████████| 1/1 [00:01<00:00,  1.73s/rank]\u001b[A\n",
            "Processing keywords:  22%|██▏       | 225/1009 [06:21<23:02,  1.76s/keyword]\n",
            "\n",
            "Processing keywords:  22%|██▏       | 225/1009 [06:22<23:02,  1.76s/keyword]\n",
            "Processing ranks:   0%|          | 0/1 [00:00<?, ?rank/s]\u001b[A"
          ]
        },
        {
          "output_type": "stream",
          "name": "stdout",
          "text": [
            "Saved HTML file: html-files-2024-04-26-10-22/14516408671.html\n"
          ]
        },
        {
          "output_type": "stream",
          "name": "stderr",
          "text": [
            "\n",
            "Processing ranks: 100%|██████████| 1/1 [00:01<00:00,  1.04s/rank]\u001b[A\n",
            "Processing keywords:  22%|██▏       | 226/1009 [06:22<20:13,  1.55s/keyword]\n",
            "\n",
            "Processing keywords:  22%|██▏       | 226/1009 [06:23<20:13,  1.55s/keyword]\n",
            "Processing ranks:   0%|          | 0/1 [00:01<?, ?rank/s]\u001b[A"
          ]
        },
        {
          "output_type": "stream",
          "name": "stdout",
          "text": [
            "Saved HTML file: html-files-2024-04-26-10-22/14516408891.html\n"
          ]
        },
        {
          "output_type": "stream",
          "name": "stderr",
          "text": [
            "\n",
            "Processing ranks: 100%|██████████| 1/1 [00:01<00:00,  1.90s/rank]\u001b[A\n",
            "Processing keywords:  22%|██▏       | 227/1009 [06:24<21:41,  1.66s/keyword]\n",
            "\n",
            "Processing keywords:  22%|██▏       | 227/1009 [06:25<21:41,  1.66s/keyword]\n",
            "Processing ranks:   0%|          | 0/1 [00:01<?, ?rank/s]\u001b[A"
          ]
        },
        {
          "output_type": "stream",
          "name": "stdout",
          "text": [
            "Saved HTML file: html-files-2024-04-26-10-22/14516409321.html\n"
          ]
        },
        {
          "output_type": "stream",
          "name": "stderr",
          "text": [
            "\n",
            "Processing ranks: 100%|██████████| 1/1 [00:01<00:00,  1.81s/rank]\u001b[A\n",
            "Processing keywords:  23%|██▎       | 228/1009 [06:26<22:19,  1.71s/keyword]\n",
            "\n",
            "Processing keywords:  23%|██▎       | 228/1009 [06:27<22:19,  1.71s/keyword]\n",
            "Processing ranks:   0%|          | 0/1 [00:01<?, ?rank/s]\u001b[A"
          ]
        },
        {
          "output_type": "stream",
          "name": "stdout",
          "text": [
            "Saved HTML file: html-files-2024-04-26-10-22/14516409734.html\n"
          ]
        },
        {
          "output_type": "stream",
          "name": "stderr",
          "text": [
            "\n",
            "Processing ranks: 100%|██████████| 1/1 [00:01<00:00,  1.70s/rank]\u001b[A\n",
            "Processing keywords:  23%|██▎       | 229/1009 [06:27<22:17,  1.71s/keyword]\n",
            "\n",
            "Processing keywords:  23%|██▎       | 229/1009 [06:29<22:17,  1.71s/keyword]\n",
            "Processing ranks:   0%|          | 0/1 [00:01<?, ?rank/s]\u001b[A"
          ]
        },
        {
          "output_type": "stream",
          "name": "stdout",
          "text": [
            "Saved HTML file: html-files-2024-04-26-10-22/14516409905.html\n"
          ]
        },
        {
          "output_type": "stream",
          "name": "stderr",
          "text": [
            "\n",
            "Processing ranks: 100%|██████████| 1/1 [00:02<00:00,  2.02s/rank]\u001b[A\n",
            "Processing keywords:  23%|██▎       | 230/1009 [06:29<23:31,  1.81s/keyword]\n",
            "\n",
            "Processing keywords:  23%|██▎       | 230/1009 [06:31<23:31,  1.81s/keyword]\n",
            "Processing ranks:   0%|          | 0/1 [00:01<?, ?rank/s]\u001b[A"
          ]
        },
        {
          "output_type": "stream",
          "name": "stdout",
          "text": [
            "Saved HTML file: html-files-2024-04-26-10-22/14516380089.html\n"
          ]
        },
        {
          "output_type": "stream",
          "name": "stderr",
          "text": [
            "\n",
            "Processing ranks: 100%|██████████| 1/1 [00:01<00:00,  1.64s/rank]\u001b[A\n",
            "Processing keywords:  23%|██▎       | 231/1009 [06:31<22:53,  1.77s/keyword]\n",
            "\n",
            "Processing keywords:  23%|██▎       | 231/1009 [06:32<22:53,  1.77s/keyword]\n",
            "Processing ranks:   0%|          | 0/1 [00:00<?, ?rank/s]\u001b[A"
          ]
        },
        {
          "output_type": "stream",
          "name": "stdout",
          "text": [
            "Saved HTML file: html-files-2024-04-26-10-22/14516342622.html\n"
          ]
        },
        {
          "output_type": "stream",
          "name": "stderr",
          "text": [
            "\n",
            "Processing ranks: 100%|██████████| 1/1 [00:01<00:00,  1.15s/rank]\u001b[A\n",
            "Processing keywords:  23%|██▎       | 232/1009 [06:32<20:31,  1.58s/keyword]\n",
            "\n",
            "Processing keywords:  23%|██▎       | 232/1009 [06:34<20:31,  1.58s/keyword]\n",
            "Processing ranks:   0%|          | 0/1 [00:01<?, ?rank/s]\u001b[A"
          ]
        },
        {
          "output_type": "stream",
          "name": "stdout",
          "text": [
            "Saved HTML file: html-files-2024-04-26-10-22/14516411116.html\n"
          ]
        },
        {
          "output_type": "stream",
          "name": "stderr",
          "text": [
            "\n",
            "Processing ranks: 100%|██████████| 1/1 [00:01<00:00,  1.81s/rank]\u001b[A\n",
            "Processing keywords:  23%|██▎       | 233/1009 [06:34<21:26,  1.66s/keyword]\n",
            "\n",
            "Processing keywords:  23%|██▎       | 233/1009 [06:36<21:26,  1.66s/keyword]\n",
            "Processing ranks:   0%|          | 0/1 [00:01<?, ?rank/s]\u001b[A"
          ]
        },
        {
          "output_type": "stream",
          "name": "stdout",
          "text": [
            "Saved HTML file: html-files-2024-04-26-10-22/14516411646.html\n"
          ]
        },
        {
          "output_type": "stream",
          "name": "stderr",
          "text": [
            "\n",
            "Processing ranks: 100%|██████████| 1/1 [00:01<00:00,  1.89s/rank]\u001b[A\n",
            "Processing keywords:  23%|██▎       | 234/1009 [06:36<22:25,  1.74s/keyword]\n",
            "\n",
            "Processing keywords:  23%|██▎       | 234/1009 [06:37<22:25,  1.74s/keyword]\n",
            "Processing ranks:   0%|          | 0/1 [00:01<?, ?rank/s]\u001b[A"
          ]
        },
        {
          "output_type": "stream",
          "name": "stdout",
          "text": [
            "Saved HTML file: html-files-2024-04-26-10-22/14516411790.html\n"
          ]
        },
        {
          "output_type": "stream",
          "name": "stderr",
          "text": [
            "\n",
            "Processing ranks: 100%|██████████| 1/1 [00:01<00:00,  1.74s/rank]\u001b[A\n",
            "Processing keywords:  23%|██▎       | 235/1009 [06:38<22:29,  1.74s/keyword]\n",
            "\n",
            "Processing keywords:  23%|██▎       | 235/1009 [06:39<22:29,  1.74s/keyword]\n",
            "Processing ranks:   0%|          | 0/1 [00:01<?, ?rank/s]\u001b[A"
          ]
        },
        {
          "output_type": "stream",
          "name": "stdout",
          "text": [
            "Saved HTML file: html-files-2024-04-26-10-22/14516343280.html\n"
          ]
        },
        {
          "output_type": "stream",
          "name": "stderr",
          "text": [
            "\n",
            "Processing ranks: 100%|██████████| 1/1 [00:01<00:00,  1.80s/rank]\u001b[A\n",
            "Processing keywords:  23%|██▎       | 236/1009 [06:40<22:44,  1.77s/keyword]\n",
            "\n",
            "Processing keywords:  23%|██▎       | 236/1009 [06:41<22:44,  1.77s/keyword]\n",
            "Processing ranks:   0%|          | 0/1 [00:01<?, ?rank/s]\u001b[A"
          ]
        },
        {
          "output_type": "stream",
          "name": "stdout",
          "text": [
            "Saved HTML file: html-files-2024-04-26-10-22/14516412852.html\n"
          ]
        },
        {
          "output_type": "stream",
          "name": "stderr",
          "text": [
            "\n",
            "Processing ranks: 100%|██████████| 1/1 [00:01<00:00,  1.97s/rank]\u001b[A\n",
            "Processing keywords:  23%|██▎       | 237/1009 [06:42<23:35,  1.83s/keyword]\n",
            "\n",
            "Processing keywords:  23%|██▎       | 237/1009 [06:42<23:35,  1.83s/keyword]\n",
            "Processing ranks:   0%|          | 0/1 [00:00<?, ?rank/s]\u001b[A"
          ]
        },
        {
          "output_type": "stream",
          "name": "stdout",
          "text": [
            "Saved HTML file: html-files-2024-04-26-10-22/14516412934.html\n"
          ]
        },
        {
          "output_type": "stream",
          "name": "stderr",
          "text": [
            "\n",
            "Processing ranks: 100%|██████████| 1/1 [00:01<00:00,  1.01s/rank]\u001b[A\n",
            "Processing keywords:  24%|██▎       | 238/1009 [06:43<20:31,  1.60s/keyword]\n",
            "\n",
            "Processing keywords:  24%|██▎       | 238/1009 [06:43<20:31,  1.60s/keyword]\n",
            "Processing ranks:   0%|          | 0/1 [00:00<?, ?rank/s]\u001b[A"
          ]
        },
        {
          "output_type": "stream",
          "name": "stdout",
          "text": [
            "Saved HTML file: html-files-2024-04-26-10-22/14516413768.html\n"
          ]
        },
        {
          "output_type": "stream",
          "name": "stderr",
          "text": [
            "\n",
            "Processing ranks: 100%|██████████| 1/1 [00:00<00:00,  1.02rank/s]\u001b[A\n",
            "Processing keywords:  24%|██▎       | 239/1009 [06:44<18:11,  1.42s/keyword]\n",
            "\n",
            "Processing keywords:  24%|██▎       | 239/1009 [06:45<18:11,  1.42s/keyword]\n",
            "Processing ranks:   0%|          | 0/1 [00:01<?, ?rank/s]\u001b[A"
          ]
        },
        {
          "output_type": "stream",
          "name": "stdout",
          "text": [
            "Saved HTML file: html-files-2024-04-26-10-22/14516413926.html\n"
          ]
        },
        {
          "output_type": "stream",
          "name": "stderr",
          "text": [
            "\n",
            "Processing ranks: 100%|██████████| 1/1 [00:01<00:00,  1.78s/rank]\u001b[A\n",
            "Processing keywords:  24%|██▍       | 240/1009 [06:45<19:39,  1.53s/keyword]\n",
            "\n",
            "Processing keywords:  24%|██▍       | 240/1009 [06:47<19:39,  1.53s/keyword]\n",
            "Processing ranks:   0%|          | 0/1 [00:01<?, ?rank/s]\u001b[A"
          ]
        },
        {
          "output_type": "stream",
          "name": "stdout",
          "text": [
            "Saved HTML file: html-files-2024-04-26-10-22/14516414329.html\n"
          ]
        },
        {
          "output_type": "stream",
          "name": "stderr",
          "text": [
            "\n",
            "Processing ranks: 100%|██████████| 1/1 [00:01<00:00,  1.50s/rank]\u001b[A\n",
            "Processing keywords:  24%|██▍       | 241/1009 [06:47<19:34,  1.53s/keyword]\n",
            "\n",
            "Processing keywords:  24%|██▍       | 241/1009 [06:48<19:34,  1.53s/keyword]\n",
            "Processing ranks:   0%|          | 0/1 [00:01<?, ?rank/s]\u001b[A"
          ]
        },
        {
          "output_type": "stream",
          "name": "stdout",
          "text": [
            "Saved HTML file: html-files-2024-04-26-10-22/14516349283.html\n"
          ]
        },
        {
          "output_type": "stream",
          "name": "stderr",
          "text": [
            "\n",
            "Processing ranks: 100%|██████████| 1/1 [00:01<00:00,  1.57s/rank]\u001b[A\n",
            "Processing keywords:  24%|██▍       | 242/1009 [06:49<19:47,  1.55s/keyword]\n",
            "\n",
            "Processing keywords:  24%|██▍       | 242/1009 [06:50<19:47,  1.55s/keyword]\n",
            "Processing ranks:   0%|          | 0/1 [00:01<?, ?rank/s]\u001b[A"
          ]
        },
        {
          "output_type": "stream",
          "name": "stdout",
          "text": [
            "Saved HTML file: html-files-2024-04-26-10-22/14516415095.html\n"
          ]
        },
        {
          "output_type": "stream",
          "name": "stderr",
          "text": [
            "\n",
            "Processing ranks: 100%|██████████| 1/1 [00:01<00:00,  1.70s/rank]\u001b[A\n",
            "Processing keywords:  24%|██▍       | 243/1009 [06:50<20:26,  1.60s/keyword]\n",
            "\n",
            "Processing keywords:  24%|██▍       | 243/1009 [06:52<20:26,  1.60s/keyword]\n",
            "Processing ranks:   0%|          | 0/1 [00:01<?, ?rank/s]\u001b[A"
          ]
        },
        {
          "output_type": "stream",
          "name": "stdout",
          "text": [
            "Saved HTML file: html-files-2024-04-26-10-22/14516415446.html\n"
          ]
        },
        {
          "output_type": "stream",
          "name": "stderr",
          "text": [
            "\n",
            "Processing ranks: 100%|██████████| 1/1 [00:01<00:00,  1.75s/rank]\u001b[A\n",
            "Processing keywords:  24%|██▍       | 244/1009 [06:52<21:03,  1.65s/keyword]\n",
            "\n",
            "Processing keywords:  24%|██▍       | 244/1009 [06:53<21:03,  1.65s/keyword]\n",
            "Processing ranks:   0%|          | 0/1 [00:01<?, ?rank/s]\u001b[A"
          ]
        },
        {
          "output_type": "stream",
          "name": "stdout",
          "text": [
            "Saved HTML file: html-files-2024-04-26-10-22/14516416276.html\n"
          ]
        },
        {
          "output_type": "stream",
          "name": "stderr",
          "text": [
            "\n",
            "Processing ranks: 100%|██████████| 1/1 [00:01<00:00,  1.90s/rank]\u001b[A\n",
            "Processing keywords:  24%|██▍       | 245/1009 [06:54<22:02,  1.73s/keyword]\n",
            "\n",
            "Processing keywords:  24%|██▍       | 245/1009 [06:55<22:02,  1.73s/keyword]\n",
            "Processing ranks:   0%|          | 0/1 [00:01<?, ?rank/s]\u001b[A"
          ]
        },
        {
          "output_type": "stream",
          "name": "stdout",
          "text": [
            "Saved HTML file: html-files-2024-04-26-10-22/14516381983.html\n"
          ]
        },
        {
          "output_type": "stream",
          "name": "stderr",
          "text": [
            "\n",
            "Processing ranks: 100%|██████████| 1/1 [00:01<00:00,  1.95s/rank]\u001b[A\n",
            "Processing keywords:  24%|██▍       | 246/1009 [06:56<22:58,  1.81s/keyword]\n",
            "\n",
            "Processing keywords:  24%|██▍       | 246/1009 [06:57<22:58,  1.81s/keyword]\n",
            "Processing ranks:   0%|          | 0/1 [00:01<?, ?rank/s]\u001b[A"
          ]
        },
        {
          "output_type": "stream",
          "name": "stdout",
          "text": [
            "Saved HTML file: html-files-2024-04-26-10-22/14516419355.html\n"
          ]
        },
        {
          "output_type": "stream",
          "name": "stderr",
          "text": [
            "\n",
            "Processing ranks: 100%|██████████| 1/1 [00:01<00:00,  1.73s/rank]\u001b[A\n",
            "Processing keywords:  24%|██▍       | 247/1009 [06:58<22:43,  1.79s/keyword]\n",
            "\n",
            "Processing keywords:  24%|██▍       | 247/1009 [06:59<22:43,  1.79s/keyword]\n",
            "Processing ranks:   0%|          | 0/1 [00:01<?, ?rank/s]\u001b[A"
          ]
        },
        {
          "output_type": "stream",
          "name": "stdout",
          "text": [
            "Saved HTML file: html-files-2024-04-26-10-22/14516419520.html\n"
          ]
        },
        {
          "output_type": "stream",
          "name": "stderr",
          "text": [
            "\n",
            "Processing ranks: 100%|██████████| 1/1 [00:01<00:00,  1.72s/rank]\u001b[A\n",
            "Processing keywords:  25%|██▍       | 248/1009 [06:59<22:28,  1.77s/keyword]\n",
            "\n",
            "Processing keywords:  25%|██▍       | 248/1009 [07:01<22:28,  1.77s/keyword]\n",
            "Processing ranks:   0%|          | 0/1 [00:01<?, ?rank/s]\u001b[A"
          ]
        },
        {
          "output_type": "stream",
          "name": "stdout",
          "text": [
            "Saved HTML file: html-files-2024-04-26-10-22/14516382819.html\n"
          ]
        },
        {
          "output_type": "stream",
          "name": "stderr",
          "text": [
            "\n",
            "Processing ranks: 100%|██████████| 1/1 [00:01<00:00,  1.67s/rank]\u001b[A\n",
            "Processing keywords:  25%|██▍       | 249/1009 [07:01<22:09,  1.75s/keyword]\n",
            "\n",
            "Processing keywords:  25%|██▍       | 249/1009 [07:02<22:09,  1.75s/keyword]\n",
            "Processing ranks:   0%|          | 0/1 [00:00<?, ?rank/s]\u001b[A"
          ]
        },
        {
          "output_type": "stream",
          "name": "stdout",
          "text": [
            "Saved HTML file: html-files-2024-04-26-10-22/14516422099.html\n"
          ]
        },
        {
          "output_type": "stream",
          "name": "stderr",
          "text": [
            "\n",
            "Processing ranks: 100%|██████████| 1/1 [00:01<00:00,  1.14s/rank]\u001b[A\n",
            "Processing keywords:  25%|██▍       | 250/1009 [07:02<19:53,  1.57s/keyword]\n",
            "\n",
            "Processing keywords:  25%|██▍       | 250/1009 [07:04<19:53,  1.57s/keyword]\n",
            "Processing ranks:   0%|          | 0/1 [00:01<?, ?rank/s]\u001b[A"
          ]
        },
        {
          "output_type": "stream",
          "name": "stdout",
          "text": [
            "Saved HTML file: html-files-2024-04-26-10-22/14516422275.html\n"
          ]
        },
        {
          "output_type": "stream",
          "name": "stderr",
          "text": [
            "\n",
            "Processing ranks: 100%|██████████| 1/1 [00:01<00:00,  1.63s/rank]\u001b[A\n",
            "Processing keywords:  25%|██▍       | 251/1009 [07:04<20:10,  1.60s/keyword]\n",
            "\n",
            "Processing keywords:  25%|██▍       | 251/1009 [07:04<20:10,  1.60s/keyword]\n",
            "Processing ranks:   0%|          | 0/1 [00:00<?, ?rank/s]\u001b[A"
          ]
        },
        {
          "output_type": "stream",
          "name": "stdout",
          "text": [
            "Saved HTML file: html-files-2024-04-26-10-22/14516422356.html\n"
          ]
        },
        {
          "output_type": "stream",
          "name": "stderr",
          "text": [
            "\n",
            "Processing ranks: 100%|██████████| 1/1 [00:00<00:00,  1.24rank/s]\u001b[A\n",
            "Processing keywords:  25%|██▍       | 252/1009 [07:05<17:14,  1.37s/keyword]\n",
            "\n",
            "Processing keywords:  25%|██▍       | 252/1009 [07:05<17:14,  1.37s/keyword]\n",
            "Processing ranks:   0%|          | 0/1 [00:00<?, ?rank/s]\u001b[A"
          ]
        },
        {
          "output_type": "stream",
          "name": "stdout",
          "text": [
            "Saved HTML file: html-files-2024-04-26-10-22/14516383358.html\n"
          ]
        },
        {
          "output_type": "stream",
          "name": "stderr",
          "text": [
            "\n",
            "Processing ranks: 100%|██████████| 1/1 [00:01<00:00,  1.10s/rank]\u001b[A\n",
            "Processing keywords:  25%|██▌       | 253/1009 [07:06<16:16,  1.29s/keyword]\n",
            "\n",
            "Processing keywords:  25%|██▌       | 253/1009 [07:07<16:16,  1.29s/keyword]\n",
            "Processing ranks:   0%|          | 0/1 [00:01<?, ?rank/s]\u001b[A"
          ]
        },
        {
          "output_type": "stream",
          "name": "stdout",
          "text": [
            "Saved HTML file: html-files-2024-04-26-10-22/14516423206.html\n"
          ]
        },
        {
          "output_type": "stream",
          "name": "stderr",
          "text": [
            "\n",
            "Processing ranks: 100%|██████████| 1/1 [00:01<00:00,  1.75s/rank]\u001b[A\n",
            "Processing keywords:  25%|██▌       | 254/1009 [07:08<18:05,  1.44s/keyword]\n",
            "\n",
            "Processing keywords:  25%|██▌       | 254/1009 [07:09<18:05,  1.44s/keyword]\n",
            "Processing ranks:   0%|          | 0/1 [00:01<?, ?rank/s]\u001b[A"
          ]
        },
        {
          "output_type": "stream",
          "name": "stdout",
          "text": [
            "Saved HTML file: html-files-2024-04-26-10-22/14516340415.html\n"
          ]
        },
        {
          "output_type": "stream",
          "name": "stderr",
          "text": [
            "\n",
            "Processing ranks: 100%|██████████| 1/1 [00:02<00:00,  2.29s/rank]\u001b[A\n",
            "Processing keywords:  25%|██▌       | 255/1009 [07:10<21:21,  1.70s/keyword]\n",
            "\n",
            "Processing keywords:  25%|██▌       | 255/1009 [07:11<21:21,  1.70s/keyword]\n",
            "Processing ranks:   0%|          | 0/1 [00:01<?, ?rank/s]\u001b[A"
          ]
        },
        {
          "output_type": "stream",
          "name": "stdout",
          "text": [
            "Saved HTML file: html-files-2024-04-26-10-22/14516425867.html\n"
          ]
        },
        {
          "output_type": "stream",
          "name": "stderr",
          "text": [
            "\n",
            "Processing ranks: 100%|██████████| 1/1 [00:01<00:00,  1.96s/rank]\u001b[A\n",
            "Processing keywords:  25%|██▌       | 256/1009 [07:12<22:23,  1.78s/keyword]\n",
            "\n",
            "Processing keywords:  25%|██▌       | 256/1009 [07:14<22:23,  1.78s/keyword]\n",
            "Processing ranks:   0%|          | 0/1 [00:01<?, ?rank/s]\u001b[A"
          ]
        },
        {
          "output_type": "stream",
          "name": "stdout",
          "text": [
            "Saved HTML file: html-files-2024-04-26-10-22/14516384597.html\n"
          ]
        },
        {
          "output_type": "stream",
          "name": "stderr",
          "text": [
            "\n",
            "Processing ranks: 100%|██████████| 1/1 [00:02<00:00,  2.41s/rank]\u001b[A\n",
            "Processing keywords:  25%|██▌       | 257/1009 [07:14<24:47,  1.98s/keyword]\n",
            "\n",
            "Processing keywords:  25%|██▌       | 257/1009 [07:16<24:47,  1.98s/keyword]\n",
            "Processing ranks:   0%|          | 0/1 [00:01<?, ?rank/s]\u001b[A"
          ]
        },
        {
          "output_type": "stream",
          "name": "stdout",
          "text": [
            "Saved HTML file: html-files-2024-04-26-10-22/14516384858.html\n"
          ]
        },
        {
          "output_type": "stream",
          "name": "stderr",
          "text": [
            "\n",
            "Processing ranks: 100%|██████████| 1/1 [00:01<00:00,  1.66s/rank]\u001b[A\n",
            "Processing keywords:  26%|██▌       | 258/1009 [07:16<23:37,  1.89s/keyword]\n",
            "\n",
            "Processing keywords:  26%|██▌       | 258/1009 [07:18<23:37,  1.89s/keyword]\n",
            "Processing ranks:   0%|          | 0/1 [00:01<?, ?rank/s]\u001b[A"
          ]
        },
        {
          "output_type": "stream",
          "name": "stdout",
          "text": [
            "Saved HTML file: html-files-2024-04-26-10-22/14516427017.html\n"
          ]
        },
        {
          "output_type": "stream",
          "name": "stderr",
          "text": [
            "\n",
            "Processing ranks: 100%|██████████| 1/1 [00:01<00:00,  1.79s/rank]\u001b[A\n",
            "Processing keywords:  26%|██▌       | 259/1009 [07:18<23:17,  1.86s/keyword]\n",
            "\n",
            "Processing keywords:  26%|██▌       | 259/1009 [07:19<23:17,  1.86s/keyword]\n",
            "Processing ranks:   0%|          | 0/1 [00:01<?, ?rank/s]\u001b[A"
          ]
        },
        {
          "output_type": "stream",
          "name": "stdout",
          "text": [
            "Saved HTML file: html-files-2024-04-26-10-22/14516340770.html\n"
          ]
        },
        {
          "output_type": "stream",
          "name": "stderr",
          "text": [
            "\n",
            "Processing ranks: 100%|██████████| 1/1 [00:01<00:00,  1.76s/rank]\u001b[A\n",
            "Processing keywords:  26%|██▌       | 260/1009 [07:20<22:56,  1.84s/keyword]\n",
            "\n",
            "Processing keywords:  26%|██▌       | 260/1009 [07:21<22:56,  1.84s/keyword]\n",
            "Processing ranks:   0%|          | 0/1 [00:01<?, ?rank/s]\u001b[A"
          ]
        },
        {
          "output_type": "stream",
          "name": "stdout",
          "text": [
            "Saved HTML file: html-files-2024-04-26-10-22/14516427378.html\n"
          ]
        },
        {
          "output_type": "stream",
          "name": "stderr",
          "text": [
            "\n",
            "Processing ranks: 100%|██████████| 1/1 [00:01<00:00,  1.63s/rank]\u001b[A\n",
            "Processing keywords:  26%|██▌       | 261/1009 [07:21<22:12,  1.78s/keyword]\n",
            "\n",
            "Processing keywords:  26%|██▌       | 261/1009 [07:23<22:12,  1.78s/keyword]\n",
            "Processing ranks:   0%|          | 0/1 [00:01<?, ?rank/s]\u001b[A"
          ]
        },
        {
          "output_type": "stream",
          "name": "stdout",
          "text": [
            "Saved HTML file: html-files-2024-04-26-10-22/14516427578.html\n"
          ]
        },
        {
          "output_type": "stream",
          "name": "stderr",
          "text": [
            "\n",
            "Processing ranks: 100%|██████████| 1/1 [00:02<00:00,  2.08s/rank]\u001b[A\n",
            "Processing keywords:  26%|██▌       | 262/1009 [07:23<23:23,  1.88s/keyword]\n",
            "\n",
            "Processing keywords:  26%|██▌       | 262/1009 [07:25<23:23,  1.88s/keyword]\n",
            "Processing ranks:   0%|          | 0/1 [00:01<?, ?rank/s]\u001b[A"
          ]
        },
        {
          "output_type": "stream",
          "name": "stdout",
          "text": [
            "Saved HTML file: html-files-2024-04-26-10-22/14516428402.html\n"
          ]
        },
        {
          "output_type": "stream",
          "name": "stderr",
          "text": [
            "\n",
            "Processing ranks: 100%|██████████| 1/1 [00:01<00:00,  1.88s/rank]\u001b[A\n",
            "Processing keywords:  26%|██▌       | 263/1009 [07:25<23:25,  1.88s/keyword]\n",
            "\n",
            "Processing keywords:  26%|██▌       | 263/1009 [07:27<23:25,  1.88s/keyword]\n",
            "Processing ranks:   0%|          | 0/1 [00:01<?, ?rank/s]\u001b[A"
          ]
        },
        {
          "output_type": "stream",
          "name": "stdout",
          "text": [
            "Saved HTML file: html-files-2024-04-26-10-22/14516429669.html\n"
          ]
        },
        {
          "output_type": "stream",
          "name": "stderr",
          "text": [
            "\n",
            "Processing ranks: 100%|██████████| 1/1 [00:02<00:00,  2.16s/rank]\u001b[A\n",
            "Processing keywords:  26%|██▌       | 264/1009 [07:27<24:29,  1.97s/keyword]\n",
            "\n",
            "Processing keywords:  26%|██▌       | 264/1009 [07:28<24:29,  1.97s/keyword]\n",
            "Processing ranks:   0%|          | 0/1 [00:00<?, ?rank/s]\u001b[A"
          ]
        },
        {
          "output_type": "stream",
          "name": "stdout",
          "text": [
            "Saved HTML file: html-files-2024-04-26-10-22/14516430644.html\n"
          ]
        },
        {
          "output_type": "stream",
          "name": "stderr",
          "text": [
            "\n",
            "Processing ranks: 100%|██████████| 1/1 [00:01<00:00,  1.12s/rank]\u001b[A\n",
            "Processing keywords:  26%|██▋       | 265/1009 [07:29<21:21,  1.72s/keyword]\n",
            "\n",
            "Processing keywords:  26%|██▋       | 265/1009 [07:30<21:21,  1.72s/keyword]\n",
            "Processing ranks:   0%|          | 0/1 [00:01<?, ?rank/s]\u001b[A"
          ]
        },
        {
          "output_type": "stream",
          "name": "stdout",
          "text": [
            "Saved HTML file: html-files-2024-04-26-10-22/14516430840.html\n"
          ]
        },
        {
          "output_type": "stream",
          "name": "stderr",
          "text": [
            "\n",
            "Processing ranks: 100%|██████████| 1/1 [00:01<00:00,  1.62s/rank]\u001b[A\n",
            "Processing keywords:  26%|██▋       | 266/1009 [07:30<21:00,  1.70s/keyword]\n",
            "\n",
            "Processing keywords:  26%|██▋       | 266/1009 [07:32<21:00,  1.70s/keyword]\n",
            "Processing ranks:   0%|          | 0/1 [00:01<?, ?rank/s]\u001b[A"
          ]
        },
        {
          "output_type": "stream",
          "name": "stdout",
          "text": [
            "Saved HTML file: html-files-2024-04-26-10-22/14516386421.html\n"
          ]
        },
        {
          "output_type": "stream",
          "name": "stderr",
          "text": [
            "\n",
            "Processing ranks: 100%|██████████| 1/1 [00:01<00:00,  1.81s/rank]\u001b[A\n",
            "Processing keywords:  26%|██▋       | 267/1009 [07:32<21:29,  1.74s/keyword]\n",
            "\n",
            "Processing keywords:  26%|██▋       | 267/1009 [07:33<21:29,  1.74s/keyword]\n",
            "Processing ranks:   0%|          | 0/1 [00:01<?, ?rank/s]\u001b[A"
          ]
        },
        {
          "output_type": "stream",
          "name": "stdout",
          "text": [
            "Saved HTML file: html-files-2024-04-26-10-22/14516335239.html\n"
          ]
        },
        {
          "output_type": "stream",
          "name": "stderr",
          "text": [
            "\n",
            "Processing ranks: 100%|██████████| 1/1 [00:01<00:00,  1.58s/rank]\u001b[A\n",
            "Processing keywords:  27%|██▋       | 268/1009 [07:34<20:58,  1.70s/keyword]\n",
            "\n",
            "Processing keywords:  27%|██▋       | 268/1009 [07:35<20:58,  1.70s/keyword]\n",
            "Processing ranks:   0%|          | 0/1 [00:01<?, ?rank/s]\u001b[A"
          ]
        },
        {
          "output_type": "stream",
          "name": "stdout",
          "text": [
            "Saved HTML file: html-files-2024-04-26-10-22/14516335284.html\n"
          ]
        },
        {
          "output_type": "stream",
          "name": "stderr",
          "text": [
            "\n",
            "Processing ranks: 100%|██████████| 1/1 [00:01<00:00,  1.59s/rank]\u001b[A\n",
            "Processing keywords:  27%|██▋       | 269/1009 [07:35<20:35,  1.67s/keyword]\n",
            "\n",
            "Processing keywords:  27%|██▋       | 269/1009 [07:37<20:35,  1.67s/keyword]\n",
            "Processing ranks:   0%|          | 0/1 [00:01<?, ?rank/s]\u001b[A"
          ]
        },
        {
          "output_type": "stream",
          "name": "stdout",
          "text": [
            "Saved HTML file: html-files-2024-04-26-10-22/14516335375.html\n"
          ]
        },
        {
          "output_type": "stream",
          "name": "stderr",
          "text": [
            "\n",
            "Processing ranks: 100%|██████████| 1/1 [00:02<00:00,  2.12s/rank]\u001b[A\n",
            "Processing keywords:  27%|██▋       | 270/1009 [07:37<22:18,  1.81s/keyword]\n",
            "\n",
            "Processing keywords:  27%|██▋       | 270/1009 [07:39<22:18,  1.81s/keyword]\n",
            "Processing ranks:   0%|          | 0/1 [00:01<?, ?rank/s]\u001b[A"
          ]
        },
        {
          "output_type": "stream",
          "name": "stdout",
          "text": [
            "Saved HTML file: html-files-2024-04-26-10-22/14516335446.html\n"
          ]
        },
        {
          "output_type": "stream",
          "name": "stderr",
          "text": [
            "\n",
            "Processing ranks: 100%|██████████| 1/1 [00:01<00:00,  1.82s/rank]\u001b[A\n",
            "Processing keywords:  27%|██▋       | 271/1009 [07:39<22:22,  1.82s/keyword]\n",
            "\n",
            "Processing keywords:  27%|██▋       | 271/1009 [07:41<22:22,  1.82s/keyword]\n",
            "Processing ranks:   0%|          | 0/1 [00:01<?, ?rank/s]\u001b[A"
          ]
        },
        {
          "output_type": "stream",
          "name": "stdout",
          "text": [
            "Saved HTML file: html-files-2024-04-26-10-22/14516336435.html\n"
          ]
        },
        {
          "output_type": "stream",
          "name": "stderr",
          "text": [
            "\n",
            "Processing ranks: 100%|██████████| 1/1 [00:01<00:00,  1.90s/rank]\u001b[A\n",
            "Processing keywords:  27%|██▋       | 272/1009 [07:41<22:43,  1.85s/keyword]\n",
            "\n",
            "Processing keywords:  27%|██▋       | 272/1009 [07:43<22:43,  1.85s/keyword]\n",
            "Processing ranks:   0%|          | 0/1 [00:01<?, ?rank/s]\u001b[A"
          ]
        },
        {
          "output_type": "stream",
          "name": "stdout",
          "text": [
            "Saved HTML file: html-files-2024-04-26-10-22/14516350317.html\n"
          ]
        },
        {
          "output_type": "stream",
          "name": "stderr",
          "text": [
            "\n",
            "Processing ranks: 100%|██████████| 1/1 [00:01<00:00,  1.86s/rank]\u001b[A\n",
            "Processing keywords:  27%|██▋       | 273/1009 [07:43<22:47,  1.86s/keyword]\n",
            "\n",
            "Processing keywords:  27%|██▋       | 273/1009 [07:44<22:47,  1.86s/keyword]\n",
            "Processing ranks:   0%|          | 0/1 [00:01<?, ?rank/s]\u001b[A"
          ]
        },
        {
          "output_type": "stream",
          "name": "stdout",
          "text": [
            "Saved HTML file: html-files-2024-04-26-10-22/14516338490.html\n"
          ]
        },
        {
          "output_type": "stream",
          "name": "stderr",
          "text": [
            "\n",
            "Processing ranks: 100%|██████████| 1/1 [00:01<00:00,  1.69s/rank]\u001b[A\n",
            "Processing keywords:  27%|██▋       | 274/1009 [07:45<22:14,  1.82s/keyword]\n",
            "\n",
            "Processing keywords:  27%|██▋       | 274/1009 [07:46<22:14,  1.82s/keyword]\n",
            "Processing ranks:   0%|          | 0/1 [00:01<?, ?rank/s]\u001b[A"
          ]
        },
        {
          "output_type": "stream",
          "name": "stdout",
          "text": [
            "Saved HTML file: html-files-2024-04-26-10-22/14516389110.html\n"
          ]
        },
        {
          "output_type": "stream",
          "name": "stderr",
          "text": [
            "\n",
            "Processing ranks: 100%|██████████| 1/1 [00:01<00:00,  1.51s/rank]\u001b[A\n",
            "Processing keywords:  27%|██▋       | 275/1009 [07:46<21:09,  1.73s/keyword]\n",
            "\n",
            "Processing keywords:  27%|██▋       | 275/1009 [07:47<21:09,  1.73s/keyword]\n",
            "Processing ranks:   0%|          | 0/1 [00:01<?, ?rank/s]\u001b[A"
          ]
        },
        {
          "output_type": "stream",
          "name": "stdout",
          "text": [
            "Saved HTML file: html-files-2024-04-26-10-22/14516339511.html\n"
          ]
        },
        {
          "output_type": "stream",
          "name": "stderr",
          "text": [
            "\n",
            "Processing ranks: 100%|██████████| 1/1 [00:01<00:00,  1.45s/rank]\u001b[A\n",
            "Processing keywords:  27%|██▋       | 276/1009 [07:48<20:10,  1.65s/keyword]\n",
            "\n",
            "Processing keywords:  27%|██▋       | 276/1009 [07:49<20:10,  1.65s/keyword]\n",
            "Processing ranks:   0%|          | 0/1 [00:01<?, ?rank/s]\u001b[A"
          ]
        },
        {
          "output_type": "stream",
          "name": "stdout",
          "text": [
            "Saved HTML file: html-files-2024-04-26-10-22/14516347683.html\n"
          ]
        },
        {
          "output_type": "stream",
          "name": "stderr",
          "text": [
            "\n",
            "Processing ranks: 100%|██████████| 1/1 [00:01<00:00,  1.75s/rank]\u001b[A\n",
            "Processing keywords:  27%|██▋       | 277/1009 [07:50<20:34,  1.69s/keyword]\n",
            "\n",
            "Processing keywords:  27%|██▋       | 277/1009 [07:51<20:34,  1.69s/keyword]\n",
            "Processing ranks:   0%|          | 0/1 [00:01<?, ?rank/s]\u001b[A"
          ]
        },
        {
          "output_type": "stream",
          "name": "stdout",
          "text": [
            "Saved HTML file: html-files-2024-04-26-10-22/14516341135.html\n"
          ]
        },
        {
          "output_type": "stream",
          "name": "stderr",
          "text": [
            "\n",
            "Processing ranks: 100%|██████████| 1/1 [00:01<00:00,  1.59s/rank]\u001b[A\n",
            "Processing keywords:  28%|██▊       | 278/1009 [07:51<20:19,  1.67s/keyword]\n",
            "\n",
            "Processing keywords:  28%|██▊       | 278/1009 [07:52<20:19,  1.67s/keyword]\n",
            "Processing ranks:   0%|          | 0/1 [00:01<?, ?rank/s]\u001b[A"
          ]
        },
        {
          "output_type": "stream",
          "name": "stdout",
          "text": [
            "Saved HTML file: html-files-2024-04-26-10-22/14516340240.html\n"
          ]
        },
        {
          "output_type": "stream",
          "name": "stderr",
          "text": [
            "\n",
            "Processing ranks: 100%|██████████| 1/1 [00:01<00:00,  1.58s/rank]\u001b[A\n",
            "Processing keywords:  28%|██▊       | 279/1009 [07:53<20:04,  1.65s/keyword]\n",
            "\n",
            "Processing keywords:  28%|██▊       | 279/1009 [07:54<20:04,  1.65s/keyword]\n",
            "Processing ranks:   0%|          | 0/1 [00:01<?, ?rank/s]\u001b[A"
          ]
        },
        {
          "output_type": "stream",
          "name": "stdout",
          "text": [
            "Saved HTML file: html-files-2024-04-26-10-22/14516340338.html\n"
          ]
        },
        {
          "output_type": "stream",
          "name": "stderr",
          "text": [
            "\n",
            "Processing ranks: 100%|██████████| 1/1 [00:01<00:00,  1.92s/rank]\u001b[A\n",
            "Processing keywords:  28%|██▊       | 280/1009 [07:55<21:05,  1.74s/keyword]\n",
            "\n",
            "Processing keywords:  28%|██▊       | 280/1009 [07:56<21:05,  1.74s/keyword]\n",
            "Processing ranks:   0%|          | 0/1 [00:01<?, ?rank/s]\u001b[A"
          ]
        },
        {
          "output_type": "stream",
          "name": "stdout",
          "text": [
            "Saved HTML file: html-files-2024-04-26-10-22/14516341306.html\n"
          ]
        },
        {
          "output_type": "stream",
          "name": "stderr",
          "text": [
            "\n",
            "Processing ranks: 100%|██████████| 1/1 [00:02<00:00,  2.06s/rank]\u001b[A\n",
            "Processing keywords:  28%|██▊       | 281/1009 [07:57<22:20,  1.84s/keyword]\n",
            "\n",
            "Processing keywords:  28%|██▊       | 281/1009 [07:58<22:20,  1.84s/keyword]\n",
            "Processing ranks:   0%|          | 0/1 [00:01<?, ?rank/s]\u001b[A"
          ]
        },
        {
          "output_type": "stream",
          "name": "stdout",
          "text": [
            "Saved HTML file: html-files-2024-04-26-10-22/14516341277.html\n"
          ]
        },
        {
          "output_type": "stream",
          "name": "stderr",
          "text": [
            "\n",
            "Processing ranks: 100%|██████████| 1/1 [00:01<00:00,  1.89s/rank]\u001b[A\n",
            "Processing keywords:  28%|██▊       | 282/1009 [07:59<22:36,  1.87s/keyword]\n",
            "\n",
            "Processing keywords:  28%|██▊       | 282/1009 [08:00<22:36,  1.87s/keyword]\n",
            "Processing ranks:   0%|          | 0/1 [00:01<?, ?rank/s]\u001b[A"
          ]
        },
        {
          "output_type": "stream",
          "name": "stdout",
          "text": [
            "Saved HTML file: html-files-2024-04-26-10-22/14516342981.html\n"
          ]
        },
        {
          "output_type": "stream",
          "name": "stderr",
          "text": [
            "\n",
            "Processing ranks: 100%|██████████| 1/1 [00:01<00:00,  1.72s/rank]\u001b[A\n",
            "Processing keywords:  28%|██▊       | 283/1009 [08:00<22:05,  1.83s/keyword]\n",
            "\n",
            "Processing keywords:  28%|██▊       | 283/1009 [08:02<22:05,  1.83s/keyword]\n",
            "Processing ranks:   0%|          | 0/1 [00:01<?, ?rank/s]\u001b[A"
          ]
        },
        {
          "output_type": "stream",
          "name": "stdout",
          "text": [
            "Saved HTML file: html-files-2024-04-26-10-22/14516343135.html\n"
          ]
        },
        {
          "output_type": "stream",
          "name": "stderr",
          "text": [
            "\n",
            "Processing ranks: 100%|██████████| 1/1 [00:01<00:00,  1.80s/rank]\u001b[A\n",
            "Processing keywords:  28%|██▊       | 284/1009 [08:02<22:01,  1.82s/keyword]\n",
            "\n",
            "Processing keywords:  28%|██▊       | 284/1009 [08:04<22:01,  1.82s/keyword]\n",
            "Processing ranks:   0%|          | 0/1 [00:01<?, ?rank/s]\u001b[A"
          ]
        },
        {
          "output_type": "stream",
          "name": "stdout",
          "text": [
            "Saved HTML file: html-files-2024-04-26-10-22/14516390686.html\n"
          ]
        },
        {
          "output_type": "stream",
          "name": "stderr",
          "text": [
            "\n",
            "Processing ranks: 100%|██████████| 1/1 [00:01<00:00,  1.79s/rank]\u001b[A\n",
            "Processing keywords:  28%|██▊       | 285/1009 [08:04<21:57,  1.82s/keyword]\n",
            "\n",
            "Processing keywords:  28%|██▊       | 285/1009 [08:05<21:57,  1.82s/keyword]\n",
            "Processing ranks:   0%|          | 0/1 [00:00<?, ?rank/s]\u001b[A"
          ]
        },
        {
          "output_type": "stream",
          "name": "stdout",
          "text": [
            "Saved HTML file: html-files-2024-04-26-10-22/14516344859.html\n"
          ]
        },
        {
          "output_type": "stream",
          "name": "stderr",
          "text": [
            "\n",
            "Processing ranks: 100%|██████████| 1/1 [00:01<00:00,  1.22s/rank]\u001b[A\n",
            "Processing keywords:  28%|██▊       | 286/1009 [08:05<19:50,  1.65s/keyword]\n",
            "\n",
            "Processing keywords:  28%|██▊       | 286/1009 [08:07<19:50,  1.65s/keyword]\n",
            "Processing ranks:   0%|          | 0/1 [00:01<?, ?rank/s]\u001b[A"
          ]
        },
        {
          "output_type": "stream",
          "name": "stdout",
          "text": [
            "Saved HTML file: html-files-2024-04-26-10-22/14516345252.html\n"
          ]
        },
        {
          "output_type": "stream",
          "name": "stderr",
          "text": [
            "\n",
            "Processing ranks: 100%|██████████| 1/1 [00:01<00:00,  1.75s/rank]\u001b[A\n",
            "Processing keywords:  28%|██▊       | 287/1009 [08:07<20:15,  1.68s/keyword]\n",
            "\n",
            "Processing keywords:  28%|██▊       | 287/1009 [08:08<20:15,  1.68s/keyword]\n",
            "Processing ranks:   0%|          | 0/1 [00:00<?, ?rank/s]\u001b[A"
          ]
        },
        {
          "output_type": "stream",
          "name": "stdout",
          "text": [
            "Saved HTML file: html-files-2024-04-26-10-22/14516345389.html\n"
          ]
        },
        {
          "output_type": "stream",
          "name": "stderr",
          "text": [
            "\n",
            "Processing ranks: 100%|██████████| 1/1 [00:01<00:00,  1.07s/rank]\u001b[A\n",
            "Processing keywords:  29%|██▊       | 288/1009 [08:08<18:06,  1.51s/keyword]\n",
            "\n",
            "Processing keywords:  29%|██▊       | 288/1009 [08:10<18:06,  1.51s/keyword]\n",
            "Processing ranks:   0%|          | 0/1 [00:01<?, ?rank/s]\u001b[A"
          ]
        },
        {
          "output_type": "stream",
          "name": "stdout",
          "text": [
            "Saved HTML file: html-files-2024-04-26-10-22/14516345973.html\n"
          ]
        },
        {
          "output_type": "stream",
          "name": "stderr",
          "text": [
            "\n",
            "Processing ranks: 100%|██████████| 1/1 [00:01<00:00,  1.69s/rank]\u001b[A\n",
            "Processing keywords:  29%|██▊       | 289/1009 [08:10<18:51,  1.57s/keyword]\n",
            "\n",
            "Processing keywords:  29%|██▊       | 289/1009 [08:11<18:51,  1.57s/keyword]\n",
            "Processing ranks:   0%|          | 0/1 [00:01<?, ?rank/s]\u001b[A"
          ]
        },
        {
          "output_type": "stream",
          "name": "stdout",
          "text": [
            "Saved HTML file: html-files-2024-04-26-10-22/14516351494.html\n"
          ]
        },
        {
          "output_type": "stream",
          "name": "stderr",
          "text": [
            "\n",
            "Processing ranks: 100%|██████████| 1/1 [00:02<00:00,  2.03s/rank]\u001b[A\n",
            "Processing keywords:  29%|██▊       | 290/1009 [08:12<20:34,  1.72s/keyword]\n",
            "\n",
            "Processing keywords:  29%|██▊       | 290/1009 [08:13<20:34,  1.72s/keyword]\n",
            "Processing ranks:   0%|          | 0/1 [00:01<?, ?rank/s]\u001b[A"
          ]
        },
        {
          "output_type": "stream",
          "name": "stdout",
          "text": [
            "Saved HTML file: html-files-2024-04-26-10-22/14516351757.html\n"
          ]
        },
        {
          "output_type": "stream",
          "name": "stderr",
          "text": [
            "\n",
            "Processing ranks: 100%|██████████| 1/1 [00:01<00:00,  1.74s/rank]\u001b[A\n",
            "Processing keywords:  29%|██▉       | 291/1009 [08:14<20:41,  1.73s/keyword]\n",
            "\n",
            "Processing keywords:  29%|██▉       | 291/1009 [08:15<20:41,  1.73s/keyword]\n",
            "Processing ranks:   0%|          | 0/1 [00:01<?, ?rank/s]\u001b[A"
          ]
        },
        {
          "output_type": "stream",
          "name": "stdout",
          "text": [
            "Saved HTML file: html-files-2024-04-26-10-22/14516351869.html\n"
          ]
        },
        {
          "output_type": "stream",
          "name": "stderr",
          "text": [
            "\n",
            "Processing ranks: 100%|██████████| 1/1 [00:01<00:00,  1.83s/rank]\u001b[A\n",
            "Processing keywords:  29%|██▉       | 292/1009 [08:16<21:06,  1.77s/keyword]\n",
            "\n",
            "Processing keywords:  29%|██▉       | 292/1009 [08:17<21:06,  1.77s/keyword]\n",
            "Processing ranks:   0%|          | 0/1 [00:01<?, ?rank/s]\u001b[A"
          ]
        },
        {
          "output_type": "stream",
          "name": "stdout",
          "text": [
            "Saved HTML file: html-files-2024-04-26-10-22/14516346738.html\n"
          ]
        },
        {
          "output_type": "stream",
          "name": "stderr",
          "text": [
            "\n",
            "Processing ranks: 100%|██████████| 1/1 [00:01<00:00,  1.67s/rank]\u001b[A\n",
            "Processing keywords:  29%|██▉       | 293/1009 [08:17<20:49,  1.74s/keyword]\n",
            "\n",
            "Processing keywords:  29%|██▉       | 293/1009 [08:19<20:49,  1.74s/keyword]\n",
            "Processing ranks:   0%|          | 0/1 [00:01<?, ?rank/s]\u001b[A"
          ]
        },
        {
          "output_type": "stream",
          "name": "stdout",
          "text": [
            "Saved HTML file: html-files-2024-04-26-10-22/14516347440.html\n"
          ]
        },
        {
          "output_type": "stream",
          "name": "stderr",
          "text": [
            "\n",
            "Processing ranks: 100%|██████████| 1/1 [00:01<00:00,  1.62s/rank]\u001b[A\n",
            "Processing keywords:  29%|██▉       | 294/1009 [08:19<20:23,  1.71s/keyword]\n",
            "\n",
            "Processing keywords:  29%|██▉       | 294/1009 [08:20<20:23,  1.71s/keyword]\n",
            "Processing ranks:   0%|          | 0/1 [00:01<?, ?rank/s]\u001b[A"
          ]
        },
        {
          "output_type": "stream",
          "name": "stdout",
          "text": [
            "Saved HTML file: html-files-2024-04-26-10-22/14516347789.html\n"
          ]
        },
        {
          "output_type": "stream",
          "name": "stderr",
          "text": [
            "\n",
            "Processing ranks: 100%|██████████| 1/1 [00:01<00:00,  1.64s/rank]\u001b[A\n",
            "Processing keywords:  29%|██▉       | 295/1009 [08:21<20:10,  1.70s/keyword]\n",
            "\n",
            "Processing keywords:  29%|██▉       | 295/1009 [08:22<20:10,  1.70s/keyword]\n",
            "Processing ranks:   0%|          | 0/1 [00:00<?, ?rank/s]\u001b[A"
          ]
        },
        {
          "output_type": "stream",
          "name": "stdout",
          "text": [
            "Saved HTML file: html-files-2024-04-26-10-22/14516349503.html\n"
          ]
        },
        {
          "output_type": "stream",
          "name": "stderr",
          "text": [
            "\n",
            "Processing ranks: 100%|██████████| 1/1 [00:01<00:00,  1.36s/rank]\u001b[A\n",
            "Processing keywords:  29%|██▉       | 296/1009 [08:22<19:00,  1.60s/keyword]\n",
            "\n",
            "Processing keywords:  29%|██▉       | 296/1009 [08:23<19:00,  1.60s/keyword]\n",
            "Processing ranks:   0%|          | 0/1 [00:00<?, ?rank/s]\u001b[A"
          ]
        },
        {
          "output_type": "stream",
          "name": "stdout",
          "text": [
            "Saved HTML file: html-files-2024-04-26-10-22/14516392512.html\n"
          ]
        },
        {
          "output_type": "stream",
          "name": "stderr",
          "text": [
            "\n",
            "Processing ranks: 100%|██████████| 1/1 [00:00<00:00,  1.04rank/s]\u001b[A\n",
            "Processing keywords:  29%|██▉       | 297/1009 [08:23<16:48,  1.42s/keyword]\n",
            "\n",
            "Processing keywords:  29%|██▉       | 297/1009 [08:24<16:48,  1.42s/keyword]\n",
            "Processing ranks:   0%|          | 0/1 [00:01<?, ?rank/s]\u001b[A"
          ]
        },
        {
          "output_type": "stream",
          "name": "stdout",
          "text": [
            "Saved HTML file: html-files-2024-04-26-10-22/14516350341.html\n"
          ]
        },
        {
          "output_type": "stream",
          "name": "stderr",
          "text": [
            "\n",
            "Processing ranks: 100%|██████████| 1/1 [00:01<00:00,  1.94s/rank]\u001b[A\n",
            "Processing keywords:  30%|██▉       | 298/1009 [08:25<18:42,  1.58s/keyword]\n",
            "\n",
            "Processing keywords:  30%|██▉       | 298/1009 [08:26<18:42,  1.58s/keyword]\n",
            "Processing ranks:   0%|          | 0/1 [00:01<?, ?rank/s]\u001b[A"
          ]
        },
        {
          "output_type": "stream",
          "name": "stdout",
          "text": [
            "Saved HTML file: html-files-2024-04-26-10-22/14516350465.html\n"
          ]
        },
        {
          "output_type": "stream",
          "name": "stderr",
          "text": [
            "\n",
            "Processing ranks: 100%|██████████| 1/1 [00:01<00:00,  1.84s/rank]\u001b[A\n",
            "Processing keywords:  30%|██▉       | 299/1009 [08:27<19:42,  1.67s/keyword]\n",
            "\n",
            "Processing keywords:  30%|██▉       | 299/1009 [08:28<19:42,  1.67s/keyword]\n",
            "Processing ranks:   0%|          | 0/1 [00:01<?, ?rank/s]\u001b[A"
          ]
        },
        {
          "output_type": "stream",
          "name": "stdout",
          "text": [
            "Saved HTML file: html-files-2024-04-26-10-22/14516351135.html\n"
          ]
        },
        {
          "output_type": "stream",
          "name": "stderr",
          "text": [
            "\n",
            "Processing ranks: 100%|██████████| 1/1 [00:02<00:00,  2.26s/rank]\u001b[A\n",
            "Processing keywords:  30%|██▉       | 300/1009 [08:29<21:52,  1.85s/keyword]\n",
            "\n",
            "Processing keywords:  30%|██▉       | 300/1009 [08:30<21:52,  1.85s/keyword]\n",
            "Processing ranks:   0%|          | 0/1 [00:01<?, ?rank/s]\u001b[A"
          ]
        },
        {
          "output_type": "stream",
          "name": "stdout",
          "text": [
            "Saved HTML file: html-files-2024-04-26-10-22/14516352809.html\n"
          ]
        },
        {
          "output_type": "stream",
          "name": "stderr",
          "text": [
            "\n",
            "Processing ranks: 100%|██████████| 1/1 [00:01<00:00,  1.77s/rank]\u001b[A\n",
            "Processing keywords:  30%|██▉       | 301/1009 [08:31<21:40,  1.84s/keyword]\n",
            "\n",
            "Processing keywords:  30%|██▉       | 301/1009 [08:32<21:40,  1.84s/keyword]\n",
            "Processing ranks:   0%|          | 0/1 [00:01<?, ?rank/s]\u001b[A"
          ]
        },
        {
          "output_type": "stream",
          "name": "stdout",
          "text": [
            "Saved HTML file: html-files-2024-04-26-10-22/14516351526.html\n"
          ]
        },
        {
          "output_type": "stream",
          "name": "stderr",
          "text": [
            "\n",
            "Processing ranks: 100%|██████████| 1/1 [00:01<00:00,  1.73s/rank]\u001b[A\n",
            "Processing keywords:  30%|██▉       | 302/1009 [08:33<21:21,  1.81s/keyword]\n",
            "\n",
            "Processing keywords:  30%|██▉       | 302/1009 [08:34<21:21,  1.81s/keyword]\n",
            "Processing ranks:   0%|          | 0/1 [00:01<?, ?rank/s]\u001b[A"
          ]
        },
        {
          "output_type": "stream",
          "name": "stdout",
          "text": [
            "Saved HTML file: html-files-2024-04-26-10-22/14516351617.html\n"
          ]
        },
        {
          "output_type": "stream",
          "name": "stderr",
          "text": [
            "\n",
            "Processing ranks: 100%|██████████| 1/1 [00:01<00:00,  1.60s/rank]\u001b[A\n",
            "Processing keywords:  30%|███       | 303/1009 [08:34<20:39,  1.76s/keyword]\n",
            "\n",
            "Processing keywords:  30%|███       | 303/1009 [08:36<20:39,  1.76s/keyword]\n",
            "Processing ranks:   0%|          | 0/1 [00:01<?, ?rank/s]\u001b[A"
          ]
        },
        {
          "output_type": "stream",
          "name": "stdout",
          "text": [
            "Saved HTML file: html-files-2024-04-26-10-22/14516351692.html\n"
          ]
        },
        {
          "output_type": "stream",
          "name": "stderr",
          "text": [
            "\n",
            "Processing ranks: 100%|██████████| 1/1 [00:01<00:00,  1.71s/rank]\u001b[A\n",
            "Processing keywords:  30%|███       | 304/1009 [08:36<20:30,  1.75s/keyword]\n",
            "\n",
            "Processing keywords:  30%|███       | 304/1009 [08:37<20:30,  1.75s/keyword]\n",
            "Processing ranks:   0%|          | 0/1 [00:01<?, ?rank/s]\u001b[A"
          ]
        },
        {
          "output_type": "stream",
          "name": "stdout",
          "text": [
            "Saved HTML file: html-files-2024-04-26-10-22/14516351853.html\n"
          ]
        },
        {
          "output_type": "stream",
          "name": "stderr",
          "text": [
            "\n",
            "Processing ranks: 100%|██████████| 1/1 [00:01<00:00,  1.73s/rank]\u001b[A\n",
            "Processing keywords:  30%|███       | 305/1009 [08:38<20:28,  1.75s/keyword]\n",
            "\n",
            "Processing keywords:  30%|███       | 305/1009 [08:39<20:28,  1.75s/keyword]\n",
            "Processing ranks:   0%|          | 0/1 [00:01<?, ?rank/s]\u001b[A"
          ]
        },
        {
          "output_type": "stream",
          "name": "stdout",
          "text": [
            "Saved HTML file: html-files-2024-04-26-10-22/14516352108.html\n"
          ]
        },
        {
          "output_type": "stream",
          "name": "stderr",
          "text": [
            "\n",
            "Processing ranks: 100%|██████████| 1/1 [00:02<00:00,  2.18s/rank]\u001b[A\n",
            "Processing keywords:  30%|███       | 306/1009 [08:40<22:03,  1.88s/keyword]\n",
            "\n",
            "Processing keywords:  30%|███       | 306/1009 [08:41<22:03,  1.88s/keyword]\n",
            "Processing ranks:   0%|          | 0/1 [00:01<?, ?rank/s]\u001b[A"
          ]
        },
        {
          "output_type": "stream",
          "name": "stdout",
          "text": [
            "Saved HTML file: html-files-2024-04-26-10-22/14516353404.html\n"
          ]
        },
        {
          "output_type": "stream",
          "name": "stderr",
          "text": [
            "\n",
            "Processing ranks: 100%|██████████| 1/1 [00:01<00:00,  1.92s/rank]\u001b[A\n",
            "Processing keywords:  30%|███       | 307/1009 [08:42<22:14,  1.90s/keyword]\n",
            "\n",
            "Processing keywords:  30%|███       | 307/1009 [08:43<22:14,  1.90s/keyword]\n",
            "Processing ranks:   0%|          | 0/1 [00:01<?, ?rank/s]\u001b[A"
          ]
        },
        {
          "output_type": "stream",
          "name": "stdout",
          "text": [
            "Saved HTML file: html-files-2024-04-26-10-22/14516354798.html\n"
          ]
        },
        {
          "output_type": "stream",
          "name": "stderr",
          "text": [
            "\n",
            "Processing ranks: 100%|██████████| 1/1 [00:01<00:00,  1.91s/rank]\u001b[A\n",
            "Processing keywords:  31%|███       | 308/1009 [08:44<22:19,  1.91s/keyword]\n",
            "\n",
            "Processing keywords:  31%|███       | 308/1009 [08:44<22:19,  1.91s/keyword]\n",
            "Processing ranks:   0%|          | 0/1 [00:00<?, ?rank/s]\u001b[A"
          ]
        },
        {
          "output_type": "stream",
          "name": "stdout",
          "text": [
            "Saved HTML file: html-files-2024-04-26-10-22/14516354871.html\n"
          ]
        },
        {
          "output_type": "stream",
          "name": "stderr",
          "text": [
            "\n",
            "Processing ranks: 100%|██████████| 1/1 [00:01<00:00,  1.08s/rank]\u001b[A\n",
            "Processing keywords:  31%|███       | 309/1009 [08:45<19:26,  1.67s/keyword]\n",
            "\n",
            "Processing keywords:  31%|███       | 309/1009 [08:46<19:26,  1.67s/keyword]\n",
            "Processing ranks:   0%|          | 0/1 [00:01<?, ?rank/s]\u001b[A"
          ]
        },
        {
          "output_type": "stream",
          "name": "stdout",
          "text": [
            "Saved HTML file: html-files-2024-04-26-10-22/14516355655.html\n"
          ]
        },
        {
          "output_type": "stream",
          "name": "stderr",
          "text": [
            "\n",
            "Processing ranks: 100%|██████████| 1/1 [00:01<00:00,  1.84s/rank]\u001b[A\n",
            "Processing keywords:  31%|███       | 310/1009 [08:47<20:04,  1.72s/keyword]\n",
            "\n",
            "Processing keywords:  31%|███       | 310/1009 [08:48<20:04,  1.72s/keyword]\n",
            "Processing ranks:   0%|          | 0/1 [00:01<?, ?rank/s]\u001b[A"
          ]
        },
        {
          "output_type": "stream",
          "name": "stdout",
          "text": [
            "Saved HTML file: html-files-2024-04-26-10-22/14516356068.html\n"
          ]
        },
        {
          "output_type": "stream",
          "name": "stderr",
          "text": [
            "\n",
            "Processing ranks: 100%|██████████| 1/1 [00:02<00:00,  2.03s/rank]\u001b[A\n",
            "Processing keywords:  31%|███       | 311/1009 [08:49<21:12,  1.82s/keyword]\n",
            "\n",
            "Processing keywords:  31%|███       | 311/1009 [08:50<21:12,  1.82s/keyword]\n",
            "Processing ranks:   0%|          | 0/1 [00:01<?, ?rank/s]\u001b[A"
          ]
        },
        {
          "output_type": "stream",
          "name": "stdout",
          "text": [
            "Saved HTML file: html-files-2024-04-26-10-22/14516341357.html\n"
          ]
        },
        {
          "output_type": "stream",
          "name": "stderr",
          "text": [
            "\n",
            "Processing ranks: 100%|██████████| 1/1 [00:01<00:00,  1.72s/rank]\u001b[A\n",
            "Processing keywords:  31%|███       | 312/1009 [08:51<20:54,  1.80s/keyword]\n",
            "\n",
            "Processing keywords:  31%|███       | 312/1009 [08:52<20:54,  1.80s/keyword]\n",
            "Processing ranks:   0%|          | 0/1 [00:01<?, ?rank/s]\u001b[A"
          ]
        },
        {
          "output_type": "stream",
          "name": "stdout",
          "text": [
            "Saved HTML file: html-files-2024-04-26-10-22/14516357370.html\n"
          ]
        },
        {
          "output_type": "stream",
          "name": "stderr",
          "text": [
            "\n",
            "Processing ranks: 100%|██████████| 1/1 [00:01<00:00,  1.68s/rank]\u001b[A\n",
            "Processing keywords:  31%|███       | 313/1009 [08:52<20:32,  1.77s/keyword]\n",
            "\n",
            "Processing keywords:  31%|███       | 313/1009 [08:53<20:32,  1.77s/keyword]\n",
            "Processing ranks:   0%|          | 0/1 [00:01<?, ?rank/s]\u001b[A"
          ]
        },
        {
          "output_type": "stream",
          "name": "stdout",
          "text": [
            "Saved HTML file: html-files-2024-04-26-10-22/14516357679.html\n"
          ]
        },
        {
          "output_type": "stream",
          "name": "stderr",
          "text": [
            "\n",
            "Processing ranks: 100%|██████████| 1/1 [00:01<00:00,  1.51s/rank]\u001b[A\n",
            "Processing keywords:  31%|███       | 314/1009 [08:54<19:40,  1.70s/keyword]\n",
            "\n",
            "Processing keywords:  31%|███       | 314/1009 [08:55<19:40,  1.70s/keyword]\n",
            "Processing ranks:   0%|          | 0/1 [00:01<?, ?rank/s]\u001b[A"
          ]
        },
        {
          "output_type": "stream",
          "name": "stdout",
          "text": [
            "Saved HTML file: html-files-2024-04-26-10-22/14516357765.html\n"
          ]
        },
        {
          "output_type": "stream",
          "name": "stderr",
          "text": [
            "\n",
            "Processing ranks: 100%|██████████| 1/1 [00:02<00:00,  2.30s/rank]\u001b[A\n",
            "Processing keywords:  31%|███       | 315/1009 [08:56<21:49,  1.89s/keyword]\n",
            "\n",
            "Processing keywords:  31%|███       | 315/1009 [08:58<21:49,  1.89s/keyword]\n",
            "Processing ranks:   0%|          | 0/1 [00:01<?, ?rank/s]\u001b[A"
          ]
        },
        {
          "output_type": "stream",
          "name": "stdout",
          "text": [
            "Saved HTML file: html-files-2024-04-26-10-22/14516358129.html\n"
          ]
        },
        {
          "output_type": "stream",
          "name": "stderr",
          "text": [
            "\n",
            "Processing ranks: 100%|██████████| 1/1 [00:02<00:00,  2.02s/rank]\u001b[A\n",
            "Processing keywords:  31%|███▏      | 316/1009 [08:58<22:22,  1.94s/keyword]\n",
            "\n",
            "Processing keywords:  31%|███▏      | 316/1009 [09:00<22:22,  1.94s/keyword]\n",
            "Processing ranks:   0%|          | 0/1 [00:01<?, ?rank/s]\u001b[A"
          ]
        },
        {
          "output_type": "stream",
          "name": "stdout",
          "text": [
            "Saved HTML file: html-files-2024-04-26-10-22/14516358491.html\n"
          ]
        },
        {
          "output_type": "stream",
          "name": "stderr",
          "text": [
            "\n",
            "Processing ranks: 100%|██████████| 1/1 [00:02<00:00,  2.22s/rank]\u001b[A\n",
            "Processing keywords:  31%|███▏      | 317/1009 [09:00<23:22,  2.03s/keyword]\n",
            "\n",
            "Processing keywords:  31%|███▏      | 317/1009 [09:02<23:22,  2.03s/keyword]\n",
            "Processing ranks:   0%|          | 0/1 [00:01<?, ?rank/s]\u001b[A"
          ]
        },
        {
          "output_type": "stream",
          "name": "stdout",
          "text": [
            "Saved HTML file: html-files-2024-04-26-10-22/14516358707.html\n"
          ]
        },
        {
          "output_type": "stream",
          "name": "stderr",
          "text": [
            "\n",
            "Processing ranks: 100%|██████████| 1/1 [00:01<00:00,  1.71s/rank]\u001b[A\n",
            "Processing keywords:  32%|███▏      | 318/1009 [09:02<22:17,  1.94s/keyword]\n",
            "\n",
            "Processing keywords:  32%|███▏      | 318/1009 [09:04<22:17,  1.94s/keyword]\n",
            "Processing ranks:   0%|          | 0/1 [00:01<?, ?rank/s]\u001b[A"
          ]
        },
        {
          "output_type": "stream",
          "name": "stdout",
          "text": [
            "Saved HTML file: html-files-2024-04-26-10-22/14516336874.html\n"
          ]
        },
        {
          "output_type": "stream",
          "name": "stderr",
          "text": [
            "\n",
            "Processing ranks: 100%|██████████| 1/1 [00:01<00:00,  1.83s/rank]\u001b[A\n",
            "Processing keywords:  32%|███▏      | 319/1009 [09:04<21:57,  1.91s/keyword]\n",
            "\n",
            "Processing keywords:  32%|███▏      | 319/1009 [09:05<21:57,  1.91s/keyword]\n",
            "Processing ranks:   0%|          | 0/1 [00:01<?, ?rank/s]\u001b[A"
          ]
        },
        {
          "output_type": "stream",
          "name": "stdout",
          "text": [
            "Saved HTML file: html-files-2024-04-26-10-22/14516358931.html\n"
          ]
        },
        {
          "output_type": "stream",
          "name": "stderr",
          "text": [
            "\n",
            "Processing ranks: 100%|██████████| 1/1 [00:01<00:00,  1.79s/rank]\u001b[A\n",
            "Processing keywords:  32%|███▏      | 320/1009 [09:06<21:36,  1.88s/keyword]\n",
            "\n",
            "Processing keywords:  32%|███▏      | 320/1009 [09:07<21:36,  1.88s/keyword]\n",
            "Processing ranks:   0%|          | 0/1 [00:01<?, ?rank/s]\u001b[A"
          ]
        },
        {
          "output_type": "stream",
          "name": "stdout",
          "text": [
            "Saved HTML file: html-files-2024-04-26-10-22/14516353274.html\n"
          ]
        },
        {
          "output_type": "stream",
          "name": "stderr",
          "text": [
            "\n",
            "Processing ranks: 100%|██████████| 1/1 [00:01<00:00,  1.83s/rank]\u001b[A\n",
            "Processing keywords:  32%|███▏      | 321/1009 [09:08<21:28,  1.87s/keyword]\n",
            "\n",
            "Processing keywords:  32%|███▏      | 321/1009 [09:10<21:28,  1.87s/keyword]\n",
            "Processing ranks:   0%|          | 0/1 [00:02<?, ?rank/s]\u001b[A"
          ]
        },
        {
          "output_type": "stream",
          "name": "stdout",
          "text": [
            "Saved HTML file: html-files-2024-04-26-10-22/14516362951.html\n"
          ]
        },
        {
          "output_type": "stream",
          "name": "stderr",
          "text": [
            "\n",
            "Processing ranks: 100%|██████████| 1/1 [00:02<00:00,  2.84s/rank]\u001b[A\n",
            "Processing keywords:  32%|███▏      | 322/1009 [09:11<24:52,  2.17s/keyword]\n",
            "\n",
            "Processing keywords:  32%|███▏      | 322/1009 [09:12<24:52,  2.17s/keyword]\n",
            "Processing ranks:   0%|          | 0/1 [00:01<?, ?rank/s]\u001b[A"
          ]
        },
        {
          "output_type": "stream",
          "name": "stdout",
          "text": [
            "Saved HTML file: html-files-2024-04-26-10-22/14516341515.html\n"
          ]
        },
        {
          "output_type": "stream",
          "name": "stderr",
          "text": [
            "\n",
            "Processing ranks: 100%|██████████| 1/1 [00:02<00:00,  2.33s/rank]\u001b[A\n",
            "Processing keywords:  32%|███▏      | 323/1009 [09:13<25:26,  2.23s/keyword]\n",
            "\n",
            "Processing keywords:  32%|███▏      | 323/1009 [09:14<25:26,  2.23s/keyword]\n",
            "Processing ranks:   0%|          | 0/1 [00:01<?, ?rank/s]\u001b[A"
          ]
        },
        {
          "output_type": "stream",
          "name": "stdout",
          "text": [
            "Saved HTML file: html-files-2024-04-26-10-22/14516364505.html\n"
          ]
        },
        {
          "output_type": "stream",
          "name": "stderr",
          "text": [
            "\n",
            "Processing ranks: 100%|██████████| 1/1 [00:02<00:00,  2.01s/rank]\u001b[A\n",
            "Processing keywords:  32%|███▏      | 324/1009 [09:15<24:43,  2.17s/keyword]\n",
            "\n",
            "Processing keywords:  32%|███▏      | 324/1009 [09:16<24:43,  2.17s/keyword]\n",
            "Processing ranks:   0%|          | 0/1 [00:01<?, ?rank/s]\u001b[A"
          ]
        },
        {
          "output_type": "stream",
          "name": "stdout",
          "text": [
            "Saved HTML file: html-files-2024-04-26-10-22/14516395191.html\n"
          ]
        },
        {
          "output_type": "stream",
          "name": "stderr",
          "text": [
            "\n",
            "Processing ranks: 100%|██████████| 1/1 [00:01<00:00,  1.86s/rank]\u001b[A\n",
            "Processing keywords:  32%|███▏      | 325/1009 [09:17<23:43,  2.08s/keyword]\n",
            "\n",
            "Processing keywords:  32%|███▏      | 325/1009 [09:18<23:43,  2.08s/keyword]\n",
            "Processing ranks:   0%|          | 0/1 [00:01<?, ?rank/s]\u001b[A"
          ]
        },
        {
          "output_type": "stream",
          "name": "stdout",
          "text": [
            "Saved HTML file: html-files-2024-04-26-10-22/14516395413.html\n"
          ]
        },
        {
          "output_type": "stream",
          "name": "stderr",
          "text": [
            "\n",
            "Processing ranks: 100%|██████████| 1/1 [00:01<00:00,  1.69s/rank]\u001b[A\n",
            "Processing keywords:  32%|███▏      | 326/1009 [09:18<22:25,  1.97s/keyword]\n",
            "\n",
            "Processing keywords:  32%|███▏      | 326/1009 [09:20<22:25,  1.97s/keyword]\n",
            "Processing ranks:   0%|          | 0/1 [00:01<?, ?rank/s]\u001b[A"
          ]
        },
        {
          "output_type": "stream",
          "name": "stdout",
          "text": [
            "Saved HTML file: html-files-2024-04-26-10-22/14516367000.html\n"
          ]
        },
        {
          "output_type": "stream",
          "name": "stderr",
          "text": [
            "\n",
            "Processing ranks: 100%|██████████| 1/1 [00:01<00:00,  1.85s/rank]\u001b[A\n",
            "Processing keywords:  32%|███▏      | 327/1009 [09:20<22:02,  1.94s/keyword]\n",
            "\n",
            "Processing keywords:  32%|███▏      | 327/1009 [09:22<22:02,  1.94s/keyword]\n",
            "Processing ranks:   0%|          | 0/1 [00:01<?, ?rank/s]\u001b[A"
          ]
        },
        {
          "output_type": "stream",
          "name": "stdout",
          "text": [
            "Saved HTML file: html-files-2024-04-26-10-22/14516337152.html\n"
          ]
        },
        {
          "output_type": "stream",
          "name": "stderr",
          "text": [
            "\n",
            "Processing ranks: 100%|██████████| 1/1 [00:01<00:00,  1.76s/rank]\u001b[A\n",
            "Processing keywords:  33%|███▎      | 328/1009 [09:22<21:27,  1.89s/keyword]\n",
            "\n",
            "Processing keywords:  33%|███▎      | 328/1009 [09:24<21:27,  1.89s/keyword]\n",
            "Processing ranks:   0%|          | 0/1 [00:01<?, ?rank/s]\u001b[A"
          ]
        },
        {
          "output_type": "stream",
          "name": "stdout",
          "text": [
            "Saved HTML file: html-files-2024-04-26-10-22/14516368779.html\n"
          ]
        },
        {
          "output_type": "stream",
          "name": "stderr",
          "text": [
            "\n",
            "Processing ranks: 100%|██████████| 1/1 [00:02<00:00,  2.01s/rank]\u001b[A\n",
            "Processing keywords:  33%|███▎      | 329/1009 [09:24<21:53,  1.93s/keyword]\n",
            "\n",
            "Processing keywords:  33%|███▎      | 329/1009 [09:25<21:53,  1.93s/keyword]\n",
            "Processing ranks:   0%|          | 0/1 [00:00<?, ?rank/s]\u001b[A"
          ]
        },
        {
          "output_type": "stream",
          "name": "stdout",
          "text": [
            "Saved HTML file: html-files-2024-04-26-10-22/14516370112.html\n"
          ]
        },
        {
          "output_type": "stream",
          "name": "stderr",
          "text": [
            "\n",
            "Processing ranks: 100%|██████████| 1/1 [00:00<00:00,  1.09rank/s]\u001b[A\n",
            "Processing keywords:  33%|███▎      | 330/1009 [09:25<18:29,  1.63s/keyword]\n",
            "\n",
            "Processing keywords:  33%|███▎      | 330/1009 [09:27<18:29,  1.63s/keyword]\n",
            "Processing ranks:   0%|          | 0/1 [00:01<?, ?rank/s]\u001b[A"
          ]
        },
        {
          "output_type": "stream",
          "name": "stdout",
          "text": [
            "Saved HTML file: html-files-2024-04-26-10-22/14516371546.html\n"
          ]
        },
        {
          "output_type": "stream",
          "name": "stderr",
          "text": [
            "\n",
            "Processing ranks: 100%|██████████| 1/1 [00:01<00:00,  1.77s/rank]\u001b[A\n",
            "Processing keywords:  33%|███▎      | 331/1009 [09:27<18:59,  1.68s/keyword]\n",
            "\n",
            "Processing keywords:  33%|███▎      | 331/1009 [09:28<18:59,  1.68s/keyword]\n",
            "Processing ranks:   0%|          | 0/1 [00:01<?, ?rank/s]\u001b[A"
          ]
        },
        {
          "output_type": "stream",
          "name": "stdout",
          "text": [
            "Saved HTML file: html-files-2024-04-26-10-22/14516371707.html\n"
          ]
        },
        {
          "output_type": "stream",
          "name": "stderr",
          "text": [
            "\n",
            "Processing ranks: 100%|██████████| 1/1 [00:02<00:00,  2.02s/rank]\u001b[A\n",
            "Processing keywords:  33%|███▎      | 332/1009 [09:29<20:12,  1.79s/keyword]\n",
            "\n",
            "Processing keywords:  33%|███▎      | 332/1009 [09:30<20:12,  1.79s/keyword]\n",
            "Processing ranks:   0%|          | 0/1 [00:01<?, ?rank/s]\u001b[A"
          ]
        },
        {
          "output_type": "stream",
          "name": "stdout",
          "text": [
            "Saved HTML file: html-files-2024-04-26-10-22/14516371768.html\n"
          ]
        },
        {
          "output_type": "stream",
          "name": "stderr",
          "text": [
            "\n",
            "Processing ranks: 100%|██████████| 1/1 [00:01<00:00,  1.89s/rank]\u001b[A\n",
            "Processing keywords:  33%|███▎      | 333/1009 [09:31<20:34,  1.83s/keyword]\n",
            "\n",
            "Processing keywords:  33%|███▎      | 333/1009 [09:32<20:34,  1.83s/keyword]\n",
            "Processing ranks:   0%|          | 0/1 [00:01<?, ?rank/s]\u001b[A"
          ]
        },
        {
          "output_type": "stream",
          "name": "stdout",
          "text": [
            "Saved HTML file: html-files-2024-04-26-10-22/14516371988.html\n"
          ]
        },
        {
          "output_type": "stream",
          "name": "stderr",
          "text": [
            "\n",
            "Processing ranks: 100%|██████████| 1/1 [00:01<00:00,  1.83s/rank]\u001b[A\n",
            "Processing keywords:  33%|███▎      | 334/1009 [09:33<20:36,  1.83s/keyword]\n",
            "\n",
            "Processing keywords:  33%|███▎      | 334/1009 [09:34<20:36,  1.83s/keyword]\n",
            "Processing ranks:   0%|          | 0/1 [00:01<?, ?rank/s]\u001b[A"
          ]
        },
        {
          "output_type": "stream",
          "name": "stdout",
          "text": [
            "Saved HTML file: html-files-2024-04-26-10-22/14516372271.html\n"
          ]
        },
        {
          "output_type": "stream",
          "name": "stderr",
          "text": [
            "\n",
            "Processing ranks: 100%|██████████| 1/1 [00:01<00:00,  1.50s/rank]\u001b[A\n",
            "Processing keywords:  33%|███▎      | 335/1009 [09:34<19:32,  1.74s/keyword]\n",
            "\n",
            "Processing keywords:  33%|███▎      | 335/1009 [09:36<19:32,  1.74s/keyword]\n",
            "Processing ranks:   0%|          | 0/1 [00:01<?, ?rank/s]\u001b[A"
          ]
        },
        {
          "output_type": "stream",
          "name": "stdout",
          "text": [
            "Saved HTML file: html-files-2024-04-26-10-22/14516357789.html\n"
          ]
        },
        {
          "output_type": "stream",
          "name": "stderr",
          "text": [
            "\n",
            "Processing ranks: 100%|██████████| 1/1 [00:01<00:00,  1.73s/rank]\u001b[A\n",
            "Processing keywords:  33%|███▎      | 336/1009 [09:36<19:33,  1.74s/keyword]\n",
            "\n",
            "Processing keywords:  33%|███▎      | 336/1009 [09:37<19:33,  1.74s/keyword]\n",
            "Processing ranks:   0%|          | 0/1 [00:01<?, ?rank/s]\u001b[A"
          ]
        },
        {
          "output_type": "stream",
          "name": "stdout",
          "text": [
            "Saved HTML file: html-files-2024-04-26-10-22/14516373410.html\n"
          ]
        },
        {
          "output_type": "stream",
          "name": "stderr",
          "text": [
            "\n",
            "Processing ranks: 100%|██████████| 1/1 [00:01<00:00,  1.91s/rank]\u001b[A\n",
            "Processing keywords:  33%|███▎      | 337/1009 [09:38<20:08,  1.80s/keyword]\n",
            "\n",
            "Processing keywords:  33%|███▎      | 337/1009 [09:39<20:08,  1.80s/keyword]\n",
            "Processing ranks:   0%|          | 0/1 [00:01<?, ?rank/s]\u001b[A"
          ]
        },
        {
          "output_type": "stream",
          "name": "stdout",
          "text": [
            "Saved HTML file: html-files-2024-04-26-10-22/14516373647.html\n"
          ]
        },
        {
          "output_type": "stream",
          "name": "stderr",
          "text": [
            "\n",
            "Processing ranks: 100%|██████████| 1/1 [00:01<00:00,  1.63s/rank]\u001b[A\n",
            "Processing keywords:  33%|███▎      | 338/1009 [09:40<19:36,  1.75s/keyword]\n",
            "\n",
            "Processing keywords:  33%|███▎      | 338/1009 [09:41<19:36,  1.75s/keyword]\n",
            "Processing ranks:   0%|          | 0/1 [00:01<?, ?rank/s]\u001b[A"
          ]
        },
        {
          "output_type": "stream",
          "name": "stdout",
          "text": [
            "Saved HTML file: html-files-2024-04-26-10-22/14516374568.html\n"
          ]
        },
        {
          "output_type": "stream",
          "name": "stderr",
          "text": [
            "\n",
            "Processing ranks: 100%|██████████| 1/1 [00:01<00:00,  1.88s/rank]\u001b[A\n",
            "Processing keywords:  34%|███▎      | 339/1009 [09:41<20:05,  1.80s/keyword]\n",
            "\n",
            "Processing keywords:  34%|███▎      | 339/1009 [09:43<20:05,  1.80s/keyword]\n",
            "Processing ranks:   0%|          | 0/1 [00:01<?, ?rank/s]\u001b[A"
          ]
        },
        {
          "output_type": "stream",
          "name": "stdout",
          "text": [
            "Saved HTML file: html-files-2024-04-26-10-22/14516375026.html\n"
          ]
        },
        {
          "output_type": "stream",
          "name": "stderr",
          "text": [
            "\n",
            "Processing ranks: 100%|██████████| 1/1 [00:02<00:00,  2.35s/rank]\u001b[A\n",
            "Processing keywords:  34%|███▎      | 340/1009 [09:44<22:00,  1.97s/keyword]\n",
            "\n",
            "Processing keywords:  34%|███▎      | 340/1009 [09:45<22:00,  1.97s/keyword]\n",
            "Processing ranks:   0%|          | 0/1 [00:01<?, ?rank/s]\u001b[A"
          ]
        },
        {
          "output_type": "stream",
          "name": "stdout",
          "text": [
            "Saved HTML file: html-files-2024-04-26-10-22/14516375535.html\n"
          ]
        },
        {
          "output_type": "stream",
          "name": "stderr",
          "text": [
            "\n",
            "Processing ranks: 100%|██████████| 1/1 [00:01<00:00,  1.95s/rank]\u001b[A\n",
            "Processing keywords:  34%|███▍      | 341/1009 [09:46<21:57,  1.97s/keyword]\n",
            "\n",
            "Processing keywords:  34%|███▍      | 341/1009 [09:47<21:57,  1.97s/keyword]\n",
            "Processing ranks:   0%|          | 0/1 [00:01<?, ?rank/s]\u001b[A"
          ]
        },
        {
          "output_type": "stream",
          "name": "stdout",
          "text": [
            "Saved HTML file: html-files-2024-04-26-10-22/14516377522.html\n"
          ]
        },
        {
          "output_type": "stream",
          "name": "stderr",
          "text": [
            "\n",
            "Processing ranks: 100%|██████████| 1/1 [00:02<00:00,  2.17s/rank]\u001b[A\n",
            "Processing keywords:  34%|███▍      | 342/1009 [09:48<22:37,  2.04s/keyword]\n",
            "\n",
            "Processing keywords:  34%|███▍      | 342/1009 [09:49<22:37,  2.04s/keyword]\n",
            "Processing ranks:   0%|          | 0/1 [00:01<?, ?rank/s]\u001b[A"
          ]
        },
        {
          "output_type": "stream",
          "name": "stdout",
          "text": [
            "Saved HTML file: html-files-2024-04-26-10-22/14516377879.html\n"
          ]
        },
        {
          "output_type": "stream",
          "name": "stderr",
          "text": [
            "\n",
            "Processing ranks: 100%|██████████| 1/1 [00:01<00:00,  1.78s/rank]\u001b[A\n",
            "Processing keywords:  34%|███▍      | 343/1009 [09:50<21:48,  1.97s/keyword]\n",
            "\n",
            "Processing keywords:  34%|███▍      | 343/1009 [09:51<21:48,  1.97s/keyword]\n",
            "Processing ranks:   0%|          | 0/1 [00:01<?, ?rank/s]\u001b[A"
          ]
        },
        {
          "output_type": "stream",
          "name": "stdout",
          "text": [
            "Saved HTML file: html-files-2024-04-26-10-22/14516378066.html\n"
          ]
        },
        {
          "output_type": "stream",
          "name": "stderr",
          "text": [
            "\n",
            "Processing ranks: 100%|██████████| 1/1 [00:01<00:00,  1.65s/rank]\u001b[A\n",
            "Processing keywords:  34%|███▍      | 344/1009 [09:51<20:49,  1.88s/keyword]\n",
            "\n",
            "Processing keywords:  34%|███▍      | 344/1009 [09:53<20:49,  1.88s/keyword]\n",
            "Processing ranks:   0%|          | 0/1 [00:01<?, ?rank/s]\u001b[A"
          ]
        },
        {
          "output_type": "stream",
          "name": "stdout",
          "text": [
            "Saved HTML file: html-files-2024-04-26-10-22/14516378478.html\n"
          ]
        },
        {
          "output_type": "stream",
          "name": "stderr",
          "text": [
            "\n",
            "Processing ranks: 100%|██████████| 1/1 [00:01<00:00,  1.67s/rank]\u001b[A\n",
            "Processing keywords:  34%|███▍      | 345/1009 [09:53<20:11,  1.82s/keyword]\n",
            "\n",
            "Processing keywords:  34%|███▍      | 345/1009 [09:54<20:11,  1.82s/keyword]\n",
            "Processing ranks:   0%|          | 0/1 [00:00<?, ?rank/s]\u001b[A"
          ]
        },
        {
          "output_type": "stream",
          "name": "stdout",
          "text": [
            "Saved HTML file: html-files-2024-04-26-10-22/14516379210.html\n"
          ]
        },
        {
          "output_type": "stream",
          "name": "stderr",
          "text": [
            "\n",
            "Processing ranks: 100%|██████████| 1/1 [00:00<00:00,  1.02rank/s]\u001b[A\n",
            "Processing keywords:  34%|███▍      | 346/1009 [09:54<17:25,  1.58s/keyword]\n",
            "\n",
            "Processing keywords:  34%|███▍      | 346/1009 [09:56<17:25,  1.58s/keyword]\n",
            "Processing ranks:   0%|          | 0/1 [00:01<?, ?rank/s]\u001b[A"
          ]
        },
        {
          "output_type": "stream",
          "name": "stdout",
          "text": [
            "Saved HTML file: html-files-2024-04-26-10-22/14516380086.html\n"
          ]
        },
        {
          "output_type": "stream",
          "name": "stderr",
          "text": [
            "\n",
            "Processing ranks: 100%|██████████| 1/1 [00:02<00:00,  2.01s/rank]\u001b[A\n",
            "Processing keywords:  34%|███▍      | 347/1009 [09:56<18:53,  1.71s/keyword]\n",
            "\n",
            "Processing keywords:  34%|███▍      | 347/1009 [09:58<18:53,  1.71s/keyword]\n",
            "Processing ranks:   0%|          | 0/1 [00:01<?, ?rank/s]\u001b[A"
          ]
        },
        {
          "output_type": "stream",
          "name": "stdout",
          "text": [
            "Saved HTML file: html-files-2024-04-26-10-22/14516381676.html\n"
          ]
        },
        {
          "output_type": "stream",
          "name": "stderr",
          "text": [
            "\n",
            "Processing ranks: 100%|██████████| 1/1 [00:01<00:00,  1.84s/rank]\u001b[A\n",
            "Processing keywords:  34%|███▍      | 348/1009 [09:58<19:19,  1.75s/keyword]\n",
            "\n",
            "Processing keywords:  34%|███▍      | 348/1009 [09:59<19:19,  1.75s/keyword]\n",
            "Processing ranks:   0%|          | 0/1 [00:01<?, ?rank/s]\u001b[A"
          ]
        },
        {
          "output_type": "stream",
          "name": "stdout",
          "text": [
            "Saved HTML file: html-files-2024-04-26-10-22/14516382104.html\n"
          ]
        },
        {
          "output_type": "stream",
          "name": "stderr",
          "text": [
            "\n",
            "Processing ranks: 100%|██████████| 1/1 [00:01<00:00,  1.96s/rank]\u001b[A\n",
            "Processing keywords:  35%|███▍      | 349/1009 [10:00<20:01,  1.82s/keyword]\n",
            "\n",
            "Processing keywords:  35%|███▍      | 349/1009 [10:01<20:01,  1.82s/keyword]\n",
            "Processing ranks:   0%|          | 0/1 [00:01<?, ?rank/s]\u001b[A"
          ]
        },
        {
          "output_type": "stream",
          "name": "stdout",
          "text": [
            "Saved HTML file: html-files-2024-04-26-10-22/14516382497.html\n"
          ]
        },
        {
          "output_type": "stream",
          "name": "stderr",
          "text": [
            "\n",
            "Processing ranks: 100%|██████████| 1/1 [00:01<00:00,  1.89s/rank]\u001b[A\n",
            "Processing keywords:  35%|███▍      | 350/1009 [10:02<20:19,  1.85s/keyword]\n",
            "\n",
            "Processing keywords:  35%|███▍      | 350/1009 [10:04<20:19,  1.85s/keyword]\n",
            "Processing ranks:   0%|          | 0/1 [00:01<?, ?rank/s]\u001b[A"
          ]
        },
        {
          "output_type": "stream",
          "name": "stdout",
          "text": [
            "Saved HTML file: html-files-2024-04-26-10-22/14516382584.html\n"
          ]
        },
        {
          "output_type": "stream",
          "name": "stderr",
          "text": [
            "\n",
            "Processing ranks: 100%|██████████| 1/1 [00:02<00:00,  2.44s/rank]\u001b[A\n",
            "Processing keywords:  35%|███▍      | 351/1009 [10:04<22:20,  2.04s/keyword]\n",
            "\n",
            "Processing keywords:  35%|███▍      | 351/1009 [10:06<22:20,  2.04s/keyword]\n",
            "Processing ranks:   0%|          | 0/1 [00:01<?, ?rank/s]\u001b[A"
          ]
        },
        {
          "output_type": "stream",
          "name": "stdout",
          "text": [
            "Saved HTML file: html-files-2024-04-26-10-22/14516382981.html\n"
          ]
        },
        {
          "output_type": "stream",
          "name": "stderr",
          "text": [
            "\n",
            "Processing ranks: 100%|██████████| 1/1 [00:01<00:00,  1.78s/rank]\u001b[A\n",
            "Processing keywords:  35%|███▍      | 352/1009 [10:06<21:31,  1.97s/keyword]\n",
            "\n",
            "Processing keywords:  35%|███▍      | 352/1009 [10:07<21:31,  1.97s/keyword]\n",
            "Processing ranks:   0%|          | 0/1 [00:01<?, ?rank/s]\u001b[A"
          ]
        },
        {
          "output_type": "stream",
          "name": "stdout",
          "text": [
            "Saved HTML file: html-files-2024-04-26-10-22/14516383845.html\n"
          ]
        },
        {
          "output_type": "stream",
          "name": "stderr",
          "text": [
            "\n",
            "Processing ranks: 100%|██████████| 1/1 [00:01<00:00,  1.61s/rank]\u001b[A\n",
            "Processing keywords:  35%|███▍      | 353/1009 [10:08<20:24,  1.87s/keyword]\n",
            "\n",
            "Processing keywords:  35%|███▍      | 353/1009 [10:09<20:24,  1.87s/keyword]\n",
            "Processing ranks:   0%|          | 0/1 [00:01<?, ?rank/s]\u001b[A"
          ]
        },
        {
          "output_type": "stream",
          "name": "stdout",
          "text": [
            "Saved HTML file: html-files-2024-04-26-10-22/14516383979.html\n"
          ]
        },
        {
          "output_type": "stream",
          "name": "stderr",
          "text": [
            "\n",
            "Processing ranks: 100%|██████████| 1/1 [00:01<00:00,  1.60s/rank]\u001b[A\n",
            "Processing keywords:  35%|███▌      | 354/1009 [10:09<19:34,  1.79s/keyword]\n",
            "\n",
            "Processing keywords:  35%|███▌      | 354/1009 [10:11<19:34,  1.79s/keyword]\n",
            "Processing ranks:   0%|          | 0/1 [00:01<?, ?rank/s]\u001b[A"
          ]
        },
        {
          "output_type": "stream",
          "name": "stdout",
          "text": [
            "Saved HTML file: html-files-2024-04-26-10-22/14516354097.html\n"
          ]
        },
        {
          "output_type": "stream",
          "name": "stderr",
          "text": [
            "\n",
            "Processing ranks: 100%|██████████| 1/1 [00:01<00:00,  1.60s/rank]\u001b[A\n",
            "Processing keywords:  35%|███▌      | 355/1009 [10:11<18:59,  1.74s/keyword]\n",
            "\n",
            "Processing keywords:  35%|███▌      | 355/1009 [10:12<18:59,  1.74s/keyword]\n",
            "Processing ranks:   0%|          | 0/1 [00:00<?, ?rank/s]\u001b[A"
          ]
        },
        {
          "output_type": "stream",
          "name": "stdout",
          "text": [
            "Saved HTML file: html-files-2024-04-26-10-22/14516354306.html\n"
          ]
        },
        {
          "output_type": "stream",
          "name": "stderr",
          "text": [
            "\n",
            "Processing ranks: 100%|██████████| 1/1 [00:00<00:00,  1.09rank/s]\u001b[A\n",
            "Processing keywords:  35%|███▌      | 356/1009 [10:12<16:19,  1.50s/keyword]\n",
            "\n",
            "Processing keywords:  35%|███▌      | 356/1009 [10:13<16:19,  1.50s/keyword]\n",
            "Processing ranks:   0%|          | 0/1 [00:01<?, ?rank/s]\u001b[A"
          ]
        },
        {
          "output_type": "stream",
          "name": "stdout",
          "text": [
            "Saved HTML file: html-files-2024-04-26-10-22/14516384700.html\n"
          ]
        },
        {
          "output_type": "stream",
          "name": "stderr",
          "text": [
            "\n",
            "Processing ranks: 100%|██████████| 1/1 [00:01<00:00,  1.95s/rank]\u001b[A\n",
            "Processing keywords:  35%|███▌      | 357/1009 [10:14<17:50,  1.64s/keyword]\n",
            "\n",
            "Processing keywords:  35%|███▌      | 357/1009 [10:15<17:50,  1.64s/keyword]\n",
            "Processing ranks:   0%|          | 0/1 [00:01<?, ?rank/s]\u001b[A"
          ]
        },
        {
          "output_type": "stream",
          "name": "stdout",
          "text": [
            "Saved HTML file: html-files-2024-04-26-10-22/14516386656.html\n"
          ]
        },
        {
          "output_type": "stream",
          "name": "stderr",
          "text": [
            "\n",
            "Processing ranks: 100%|██████████| 1/1 [00:01<00:00,  1.77s/rank]\u001b[A\n",
            "Processing keywords:  35%|███▌      | 358/1009 [10:16<18:17,  1.69s/keyword]\n",
            "\n",
            "Processing keywords:  35%|███▌      | 358/1009 [10:17<18:17,  1.69s/keyword]\n",
            "Processing ranks:   0%|          | 0/1 [00:01<?, ?rank/s]\u001b[A"
          ]
        },
        {
          "output_type": "stream",
          "name": "stdout",
          "text": [
            "Saved HTML file: html-files-2024-04-26-10-22/14516386900.html\n"
          ]
        },
        {
          "output_type": "stream",
          "name": "stderr",
          "text": [
            "\n",
            "Processing ranks: 100%|██████████| 1/1 [00:02<00:00,  2.19s/rank]\u001b[A\n",
            "Processing keywords:  36%|███▌      | 359/1009 [10:18<19:57,  1.84s/keyword]\n",
            "\n",
            "Processing keywords:  36%|███▌      | 359/1009 [10:19<19:57,  1.84s/keyword]\n",
            "Processing ranks:   0%|          | 0/1 [00:00<?, ?rank/s]\u001b[A"
          ]
        },
        {
          "output_type": "stream",
          "name": "stdout",
          "text": [
            "Saved HTML file: html-files-2024-04-26-10-22/14516386959.html\n"
          ]
        },
        {
          "output_type": "stream",
          "name": "stderr",
          "text": [
            "\n",
            "Processing ranks: 100%|██████████| 1/1 [00:01<00:00,  1.44s/rank]\u001b[A\n",
            "Processing keywords:  36%|███▌      | 360/1009 [10:19<18:42,  1.73s/keyword]\n",
            "\n",
            "Processing keywords:  36%|███▌      | 360/1009 [10:21<18:42,  1.73s/keyword]\n",
            "Processing ranks:   0%|          | 0/1 [00:01<?, ?rank/s]\u001b[A"
          ]
        },
        {
          "output_type": "stream",
          "name": "stdout",
          "text": [
            "Saved HTML file: html-files-2024-04-26-10-22/14516398041.html\n"
          ]
        },
        {
          "output_type": "stream",
          "name": "stderr",
          "text": [
            "\n",
            "Processing ranks: 100%|██████████| 1/1 [00:01<00:00,  1.81s/rank]\u001b[A\n",
            "Processing keywords:  36%|███▌      | 361/1009 [10:21<19:04,  1.77s/keyword]\n",
            "\n",
            "Processing keywords:  36%|███▌      | 361/1009 [10:23<19:04,  1.77s/keyword]\n",
            "Processing ranks:   0%|          | 0/1 [00:01<?, ?rank/s]\u001b[A"
          ]
        },
        {
          "output_type": "stream",
          "name": "stdout",
          "text": [
            "Saved HTML file: html-files-2024-04-26-10-22/14516388036.html\n"
          ]
        },
        {
          "output_type": "stream",
          "name": "stderr",
          "text": [
            "\n",
            "Processing ranks: 100%|██████████| 1/1 [00:01<00:00,  1.79s/rank]\u001b[A\n",
            "Processing keywords:  36%|███▌      | 362/1009 [10:23<19:10,  1.78s/keyword]\n",
            "\n",
            "Processing keywords:  36%|███▌      | 362/1009 [10:24<19:10,  1.78s/keyword]\n",
            "Processing ranks:   0%|          | 0/1 [00:01<?, ?rank/s]\u001b[A"
          ]
        },
        {
          "output_type": "stream",
          "name": "stdout",
          "text": [
            "Saved HTML file: html-files-2024-04-26-10-22/14516338259.html\n"
          ]
        },
        {
          "output_type": "stream",
          "name": "stderr",
          "text": [
            "\n",
            "Processing ranks: 100%|██████████| 1/1 [00:01<00:00,  1.58s/rank]\u001b[A\n",
            "Processing keywords:  36%|███▌      | 363/1009 [10:25<18:34,  1.72s/keyword]\n",
            "\n",
            "Processing keywords:  36%|███▌      | 363/1009 [10:26<18:34,  1.72s/keyword]\n",
            "Processing ranks:   0%|          | 0/1 [00:01<?, ?rank/s]\u001b[A"
          ]
        },
        {
          "output_type": "stream",
          "name": "stdout",
          "text": [
            "Saved HTML file: html-files-2024-04-26-10-22/14516338543.html\n"
          ]
        },
        {
          "output_type": "stream",
          "name": "stderr",
          "text": [
            "\n",
            "Processing ranks: 100%|██████████| 1/1 [00:01<00:00,  1.92s/rank]\u001b[A\n",
            "Processing keywords:  36%|███▌      | 364/1009 [10:27<19:13,  1.79s/keyword]\n",
            "\n",
            "Processing keywords:  36%|███▌      | 364/1009 [10:28<19:13,  1.79s/keyword]\n",
            "Processing ranks:   0%|          | 0/1 [00:01<?, ?rank/s]\u001b[A"
          ]
        },
        {
          "output_type": "stream",
          "name": "stdout",
          "text": [
            "Saved HTML file: html-files-2024-04-26-10-22/14516390018.html\n"
          ]
        },
        {
          "output_type": "stream",
          "name": "stderr",
          "text": [
            "\n",
            "Processing ranks: 100%|██████████| 1/1 [00:01<00:00,  1.89s/rank]\u001b[A\n",
            "Processing keywords:  36%|███▌      | 365/1009 [10:29<19:36,  1.83s/keyword]\n",
            "\n",
            "Processing keywords:  36%|███▌      | 365/1009 [10:31<19:36,  1.83s/keyword]\n",
            "Processing ranks:   0%|          | 0/1 [00:02<?, ?rank/s]\u001b[A"
          ]
        },
        {
          "output_type": "stream",
          "name": "stdout",
          "text": [
            "Saved HTML file: html-files-2024-04-26-10-22/14516391047.html\n"
          ]
        },
        {
          "output_type": "stream",
          "name": "stderr",
          "text": [
            "\n",
            "Processing ranks: 100%|██████████| 1/1 [00:02<00:00,  2.45s/rank]\u001b[A\n",
            "Processing keywords:  36%|███▋      | 366/1009 [10:31<21:38,  2.02s/keyword]\n",
            "\n",
            "Processing keywords:  36%|███▋      | 366/1009 [10:33<21:38,  2.02s/keyword]\n",
            "Processing ranks:   0%|          | 0/1 [00:01<?, ?rank/s]\u001b[A"
          ]
        },
        {
          "output_type": "stream",
          "name": "stdout",
          "text": [
            "Saved HTML file: html-files-2024-04-26-10-22/14516391253.html\n"
          ]
        },
        {
          "output_type": "stream",
          "name": "stderr",
          "text": [
            "\n",
            "Processing ranks: 100%|██████████| 1/1 [00:02<00:00,  2.13s/rank]\u001b[A\n",
            "Processing keywords:  36%|███▋      | 367/1009 [10:33<22:00,  2.06s/keyword]\n",
            "\n",
            "Processing keywords:  36%|███▋      | 367/1009 [10:35<22:00,  2.06s/keyword]\n",
            "Processing ranks:   0%|          | 0/1 [00:01<?, ?rank/s]\u001b[A"
          ]
        },
        {
          "output_type": "stream",
          "name": "stdout",
          "text": [
            "Saved HTML file: html-files-2024-04-26-10-22/14516391673.html\n"
          ]
        },
        {
          "output_type": "stream",
          "name": "stderr",
          "text": [
            "\n",
            "Processing ranks: 100%|██████████| 1/1 [00:01<00:00,  1.84s/rank]\u001b[A\n",
            "Processing keywords:  36%|███▋      | 368/1009 [10:35<21:19,  2.00s/keyword]\n",
            "\n",
            "Processing keywords:  36%|███▋      | 368/1009 [10:36<21:19,  2.00s/keyword]\n",
            "Processing ranks:   0%|          | 0/1 [00:00<?, ?rank/s]\u001b[A"
          ]
        },
        {
          "output_type": "stream",
          "name": "stdout",
          "text": [
            "Saved HTML file: html-files-2024-04-26-10-22/14516339602.html\n"
          ]
        },
        {
          "output_type": "stream",
          "name": "stderr",
          "text": [
            "\n",
            "Processing ranks: 100%|██████████| 1/1 [00:01<00:00,  1.09s/rank]\u001b[A\n",
            "Processing keywords:  37%|███▋      | 369/1009 [10:36<18:27,  1.73s/keyword]\n",
            "\n",
            "Processing keywords:  37%|███▋      | 369/1009 [10:37<18:27,  1.73s/keyword]\n",
            "Processing ranks:   0%|          | 0/1 [00:01<?, ?rank/s]\u001b[A"
          ]
        },
        {
          "output_type": "stream",
          "name": "stdout",
          "text": [
            "Saved HTML file: html-files-2024-04-26-10-22/14516339708.html\n"
          ]
        },
        {
          "output_type": "stream",
          "name": "stderr",
          "text": [
            "\n",
            "Processing ranks: 100%|██████████| 1/1 [00:01<00:00,  1.99s/rank]\u001b[A\n",
            "Processing keywords:  37%|███▋      | 370/1009 [10:38<19:20,  1.82s/keyword]\n",
            "\n",
            "Processing keywords:  37%|███▋      | 370/1009 [10:39<19:20,  1.82s/keyword]\n",
            "Processing ranks:   0%|          | 0/1 [00:01<?, ?rank/s]\u001b[A"
          ]
        },
        {
          "output_type": "stream",
          "name": "stdout",
          "text": [
            "Saved HTML file: html-files-2024-04-26-10-22/14516392717.html\n"
          ]
        },
        {
          "output_type": "stream",
          "name": "stderr",
          "text": [
            "\n",
            "Processing ranks: 100%|██████████| 1/1 [00:01<00:00,  1.58s/rank]\u001b[A\n",
            "Processing keywords:  37%|███▋      | 371/1009 [10:40<18:38,  1.75s/keyword]\n",
            "\n",
            "Processing keywords:  37%|███▋      | 371/1009 [10:41<18:38,  1.75s/keyword]\n",
            "Processing ranks:   0%|          | 0/1 [00:01<?, ?rank/s]\u001b[A"
          ]
        },
        {
          "output_type": "stream",
          "name": "stdout",
          "text": [
            "Saved HTML file: html-files-2024-04-26-10-22/14516398219.html\n"
          ]
        },
        {
          "output_type": "stream",
          "name": "stderr",
          "text": [
            "\n",
            "Processing ranks: 100%|██████████| 1/1 [00:01<00:00,  1.73s/rank]\u001b[A\n",
            "Processing keywords:  37%|███▋      | 372/1009 [10:42<18:36,  1.75s/keyword]\n",
            "\n",
            "Processing keywords:  37%|███▋      | 372/1009 [10:43<18:36,  1.75s/keyword]\n",
            "Processing ranks:   0%|          | 0/1 [00:01<?, ?rank/s]\u001b[A"
          ]
        },
        {
          "output_type": "stream",
          "name": "stdout",
          "text": [
            "Saved HTML file: html-files-2024-04-26-10-22/14516398516.html\n"
          ]
        },
        {
          "output_type": "stream",
          "name": "stderr",
          "text": [
            "\n",
            "Processing ranks: 100%|██████████| 1/1 [00:01<00:00,  1.70s/rank]\u001b[A\n",
            "Processing keywords:  37%|███▋      | 373/1009 [10:43<18:29,  1.74s/keyword]\n",
            "\n",
            "Processing keywords:  37%|███▋      | 373/1009 [10:45<18:29,  1.74s/keyword]\n",
            "Processing ranks:   0%|          | 0/1 [00:01<?, ?rank/s]\u001b[A"
          ]
        },
        {
          "output_type": "stream",
          "name": "stdout",
          "text": [
            "Saved HTML file: html-files-2024-04-26-10-22/14516398581.html\n"
          ]
        },
        {
          "output_type": "stream",
          "name": "stderr",
          "text": [
            "\n",
            "Processing ranks: 100%|██████████| 1/1 [00:01<00:00,  1.89s/rank]\u001b[A\n",
            "Processing keywords:  37%|███▋      | 374/1009 [10:45<18:59,  1.79s/keyword]\n",
            "\n",
            "Processing keywords:  37%|███▋      | 374/1009 [10:46<18:59,  1.79s/keyword]\n",
            "Processing ranks:   0%|          | 0/1 [00:01<?, ?rank/s]\u001b[A"
          ]
        },
        {
          "output_type": "stream",
          "name": "stdout",
          "text": [
            "Saved HTML file: html-files-2024-04-26-10-22/14516394052.html\n"
          ]
        },
        {
          "output_type": "stream",
          "name": "stderr",
          "text": [
            "\n",
            "Processing ranks: 100%|██████████| 1/1 [00:01<00:00,  1.49s/rank]\u001b[A\n",
            "Processing keywords:  37%|███▋      | 375/1009 [10:47<18:03,  1.71s/keyword]\n",
            "\n",
            "Processing keywords:  37%|███▋      | 375/1009 [10:48<18:03,  1.71s/keyword]\n",
            "Processing ranks:   0%|          | 0/1 [00:01<?, ?rank/s]\u001b[A"
          ]
        },
        {
          "output_type": "stream",
          "name": "stdout",
          "text": [
            "Saved HTML file: html-files-2024-04-26-10-22/14516340153.html\n"
          ]
        },
        {
          "output_type": "stream",
          "name": "stderr",
          "text": [
            "\n",
            "Processing ranks: 100%|██████████| 1/1 [00:01<00:00,  1.75s/rank]\u001b[A\n",
            "Processing keywords:  37%|███▋      | 376/1009 [10:48<18:13,  1.73s/keyword]\n",
            "\n",
            "Processing keywords:  37%|███▋      | 376/1009 [10:50<18:13,  1.73s/keyword]\n",
            "Processing ranks:   0%|          | 0/1 [00:01<?, ?rank/s]\u001b[A"
          ]
        },
        {
          "output_type": "stream",
          "name": "stdout",
          "text": [
            "Saved HTML file: html-files-2024-04-26-10-22/14516340275.html\n"
          ]
        },
        {
          "output_type": "stream",
          "name": "stderr",
          "text": [
            "\n",
            "Processing ranks: 100%|██████████| 1/1 [00:01<00:00,  1.90s/rank]\u001b[A\n",
            "Processing keywords:  37%|███▋      | 377/1009 [10:50<18:50,  1.79s/keyword]\n",
            "\n",
            "Processing keywords:  37%|███▋      | 377/1009 [10:52<18:50,  1.79s/keyword]\n",
            "Processing ranks:   0%|          | 0/1 [00:01<?, ?rank/s]\u001b[A"
          ]
        },
        {
          "output_type": "stream",
          "name": "stdout",
          "text": [
            "Saved HTML file: html-files-2024-04-26-10-22/14516340419.html\n"
          ]
        },
        {
          "output_type": "stream",
          "name": "stderr",
          "text": [
            "\n",
            "Processing ranks: 100%|██████████| 1/1 [00:01<00:00,  1.93s/rank]\u001b[A\n",
            "Processing keywords:  37%|███▋      | 378/1009 [10:52<19:19,  1.84s/keyword]\n",
            "\n",
            "Processing keywords:  37%|███▋      | 378/1009 [10:54<19:19,  1.84s/keyword]\n",
            "Processing ranks:   0%|          | 0/1 [00:01<?, ?rank/s]\u001b[A"
          ]
        },
        {
          "output_type": "stream",
          "name": "stdout",
          "text": [
            "Saved HTML file: html-files-2024-04-26-10-22/14516340605.html\n"
          ]
        },
        {
          "output_type": "stream",
          "name": "stderr",
          "text": [
            "\n",
            "Processing ranks: 100%|██████████| 1/1 [00:01<00:00,  1.59s/rank]\u001b[A\n",
            "Processing keywords:  38%|███▊      | 379/1009 [10:54<18:35,  1.77s/keyword]\n",
            "\n",
            "Processing keywords:  38%|███▊      | 379/1009 [10:55<18:35,  1.77s/keyword]\n",
            "Processing ranks:   0%|          | 0/1 [00:01<?, ?rank/s]\u001b[A"
          ]
        },
        {
          "output_type": "stream",
          "name": "stdout",
          "text": [
            "Saved HTML file: html-files-2024-04-26-10-22/14516341286.html\n"
          ]
        },
        {
          "output_type": "stream",
          "name": "stderr",
          "text": [
            "\n",
            "Processing ranks: 100%|██████████| 1/1 [00:01<00:00,  1.85s/rank]\u001b[A\n",
            "Processing keywords:  38%|███▊      | 380/1009 [10:56<18:52,  1.80s/keyword]\n",
            "\n",
            "Processing keywords:  38%|███▊      | 380/1009 [10:57<18:52,  1.80s/keyword]\n",
            "Processing ranks:   0%|          | 0/1 [00:01<?, ?rank/s]\u001b[A"
          ]
        },
        {
          "output_type": "stream",
          "name": "stdout",
          "text": [
            "Saved HTML file: html-files-2024-04-26-10-22/14516398993.html\n"
          ]
        },
        {
          "output_type": "stream",
          "name": "stderr",
          "text": [
            "\n",
            "Processing ranks: 100%|██████████| 1/1 [00:01<00:00,  1.67s/rank]\u001b[A\n",
            "Processing keywords:  38%|███▊      | 381/1009 [10:57<18:28,  1.77s/keyword]\n",
            "\n",
            "Processing keywords:  38%|███▊      | 381/1009 [10:59<18:28,  1.77s/keyword]\n",
            "Processing ranks:   0%|          | 0/1 [00:01<?, ?rank/s]\u001b[A"
          ]
        },
        {
          "output_type": "stream",
          "name": "stdout",
          "text": [
            "Saved HTML file: html-files-2024-04-26-10-22/14516342112.html\n"
          ]
        },
        {
          "output_type": "stream",
          "name": "stderr",
          "text": [
            "\n",
            "Processing ranks: 100%|██████████| 1/1 [00:01<00:00,  1.74s/rank]\u001b[A\n",
            "Processing keywords:  38%|███▊      | 382/1009 [10:59<18:26,  1.77s/keyword]\n",
            "\n",
            "Processing keywords:  38%|███▊      | 382/1009 [11:02<18:26,  1.77s/keyword]\n",
            "Processing ranks:   0%|          | 0/1 [00:03<?, ?rank/s]\u001b[A"
          ]
        },
        {
          "output_type": "stream",
          "name": "stdout",
          "text": [
            "Saved HTML file: html-files-2024-04-26-10-22/14516397328.html\n"
          ]
        },
        {
          "output_type": "stream",
          "name": "stderr",
          "text": [
            "\n",
            "Processing ranks: 100%|██████████| 1/1 [00:03<00:00,  3.42s/rank]\u001b[A\n",
            "Processing keywords:  38%|███▊      | 383/1009 [11:03<23:38,  2.27s/keyword]\n",
            "\n",
            "Processing keywords:  38%|███▊      | 383/1009 [11:04<23:38,  2.27s/keyword]\n",
            "Processing ranks:   0%|          | 0/1 [00:01<?, ?rank/s]\u001b[A"
          ]
        },
        {
          "output_type": "stream",
          "name": "stdout",
          "text": [
            "Saved HTML file: html-files-2024-04-26-10-22/14516366089.html\n"
          ]
        },
        {
          "output_type": "stream",
          "name": "stderr",
          "text": [
            "\n",
            "Processing ranks: 100%|██████████| 1/1 [00:01<00:00,  1.60s/rank]\u001b[A\n",
            "Processing keywords:  38%|███▊      | 384/1009 [11:04<21:33,  2.07s/keyword]\n",
            "\n",
            "Processing keywords:  38%|███▊      | 384/1009 [11:06<21:33,  2.07s/keyword]\n",
            "Processing ranks:   0%|          | 0/1 [00:01<?, ?rank/s]\u001b[A"
          ]
        },
        {
          "output_type": "stream",
          "name": "stdout",
          "text": [
            "Saved HTML file: html-files-2024-04-26-10-22/14516398196.html\n"
          ]
        },
        {
          "output_type": "stream",
          "name": "stderr",
          "text": [
            "\n",
            "Processing ranks: 100%|██████████| 1/1 [00:02<00:00,  2.03s/rank]\u001b[A\n",
            "Processing keywords:  38%|███▊      | 385/1009 [11:06<21:28,  2.07s/keyword]\n",
            "\n",
            "Processing keywords:  38%|███▊      | 385/1009 [11:08<21:28,  2.07s/keyword]\n",
            "Processing ranks:   0%|          | 0/1 [00:01<?, ?rank/s]\u001b[A"
          ]
        },
        {
          "output_type": "stream",
          "name": "stdout",
          "text": [
            "Saved HTML file: html-files-2024-04-26-10-22/14516398590.html\n"
          ]
        },
        {
          "output_type": "stream",
          "name": "stderr",
          "text": [
            "\n",
            "Processing ranks: 100%|██████████| 1/1 [00:01<00:00,  1.89s/rank]\u001b[A\n",
            "Processing keywords:  38%|███▊      | 386/1009 [11:08<20:59,  2.02s/keyword]\n",
            "\n",
            "Processing keywords:  38%|███▊      | 386/1009 [11:10<20:59,  2.02s/keyword]\n",
            "Processing ranks:   0%|          | 0/1 [00:01<?, ?rank/s]\u001b[A"
          ]
        },
        {
          "output_type": "stream",
          "name": "stdout",
          "text": [
            "Saved HTML file: html-files-2024-04-26-10-22/14516342814.html\n"
          ]
        },
        {
          "output_type": "stream",
          "name": "stderr",
          "text": [
            "\n",
            "Processing ranks: 100%|██████████| 1/1 [00:02<00:00,  2.08s/rank]\u001b[A\n",
            "Processing keywords:  38%|███▊      | 387/1009 [11:10<21:12,  2.05s/keyword]\n",
            "\n",
            "Processing keywords:  38%|███▊      | 387/1009 [11:12<21:12,  2.05s/keyword]\n",
            "Processing ranks:   0%|          | 0/1 [00:01<?, ?rank/s]\u001b[A"
          ]
        },
        {
          "output_type": "stream",
          "name": "stdout",
          "text": [
            "Saved HTML file: html-files-2024-04-26-10-22/14516399100.html\n"
          ]
        },
        {
          "output_type": "stream",
          "name": "stderr",
          "text": [
            "\n",
            "Processing ranks: 100%|██████████| 1/1 [00:01<00:00,  1.70s/rank]\u001b[A\n",
            "Processing keywords:  38%|███▊      | 388/1009 [11:12<20:09,  1.95s/keyword]\n",
            "\n",
            "Processing keywords:  38%|███▊      | 388/1009 [11:13<20:09,  1.95s/keyword]\n",
            "Processing ranks:   0%|          | 0/1 [00:01<?, ?rank/s]\u001b[A"
          ]
        },
        {
          "output_type": "stream",
          "name": "stdout",
          "text": [
            "Saved HTML file: html-files-2024-04-26-10-22/14516342908.html\n"
          ]
        },
        {
          "output_type": "stream",
          "name": "stderr",
          "text": [
            "\n",
            "Processing ranks: 100%|██████████| 1/1 [00:01<00:00,  1.99s/rank]\u001b[A\n",
            "Processing keywords:  39%|███▊      | 389/1009 [11:14<20:18,  1.96s/keyword]\n",
            "\n",
            "Processing keywords:  39%|███▊      | 389/1009 [11:15<20:18,  1.96s/keyword]\n",
            "Processing ranks:   0%|          | 0/1 [00:01<?, ?rank/s]\u001b[A"
          ]
        },
        {
          "output_type": "stream",
          "name": "stdout",
          "text": [
            "Saved HTML file: html-files-2024-04-26-10-22/14516399187.html\n"
          ]
        },
        {
          "output_type": "stream",
          "name": "stderr",
          "text": [
            "\n",
            "Processing ranks: 100%|██████████| 1/1 [00:01<00:00,  1.89s/rank]\u001b[A\n",
            "Processing keywords:  39%|███▊      | 390/1009 [11:16<20:07,  1.95s/keyword]\n",
            "\n",
            "Processing keywords:  39%|███▊      | 390/1009 [11:17<20:07,  1.95s/keyword]\n",
            "Processing ranks:   0%|          | 0/1 [00:00<?, ?rank/s]\u001b[A"
          ]
        },
        {
          "output_type": "stream",
          "name": "stdout",
          "text": [
            "Saved HTML file: html-files-2024-04-26-10-22/14516343550.html\n"
          ]
        },
        {
          "output_type": "stream",
          "name": "stderr",
          "text": [
            "\n",
            "Processing ranks: 100%|██████████| 1/1 [00:01<00:00,  1.13s/rank]\u001b[A\n",
            "Processing keywords:  39%|███▉      | 391/1009 [11:17<17:40,  1.72s/keyword]\n",
            "\n",
            "Processing keywords:  39%|███▉      | 391/1009 [11:18<17:40,  1.72s/keyword]\n",
            "Processing ranks:   0%|          | 0/1 [00:01<?, ?rank/s]\u001b[A"
          ]
        },
        {
          "output_type": "stream",
          "name": "stdout",
          "text": [
            "Saved HTML file: html-files-2024-04-26-10-22/14516343741.html\n"
          ]
        },
        {
          "output_type": "stream",
          "name": "stderr",
          "text": [
            "\n",
            "Processing ranks: 100%|██████████| 1/1 [00:01<00:00,  1.94s/rank]\u001b[A\n",
            "Processing keywords:  39%|███▉      | 392/1009 [11:19<18:24,  1.79s/keyword]\n",
            "\n",
            "Processing keywords:  39%|███▉      | 392/1009 [11:20<18:24,  1.79s/keyword]\n",
            "Processing ranks:   0%|          | 0/1 [00:00<?, ?rank/s]\u001b[A"
          ]
        },
        {
          "output_type": "stream",
          "name": "stdout",
          "text": [
            "Saved HTML file: html-files-2024-04-26-10-22/14516344448.html\n"
          ]
        },
        {
          "output_type": "stream",
          "name": "stderr",
          "text": [
            "\n",
            "Processing ranks: 100%|██████████| 1/1 [00:01<00:00,  1.15s/rank]\u001b[A\n",
            "Processing keywords:  39%|███▉      | 393/1009 [11:20<16:30,  1.61s/keyword]\n",
            "\n",
            "Processing keywords:  39%|███▉      | 393/1009 [11:21<16:30,  1.61s/keyword]\n",
            "Processing ranks:   0%|          | 0/1 [00:00<?, ?rank/s]\u001b[A"
          ]
        },
        {
          "output_type": "stream",
          "name": "stdout",
          "text": [
            "Saved HTML file: html-files-2024-04-26-10-22/14516342038.html\n"
          ]
        },
        {
          "output_type": "stream",
          "name": "stderr",
          "text": [
            "\n",
            "Processing ranks: 100%|██████████| 1/1 [00:00<00:00,  1.11rank/s]\u001b[A\n",
            "Processing keywords:  39%|███▉      | 394/1009 [11:21<14:22,  1.40s/keyword]\n",
            "\n",
            "Processing keywords:  39%|███▉      | 394/1009 [11:23<14:22,  1.40s/keyword]\n",
            "Processing ranks:   0%|          | 0/1 [00:01<?, ?rank/s]\u001b[A"
          ]
        },
        {
          "output_type": "stream",
          "name": "stdout",
          "text": [
            "Saved HTML file: html-files-2024-04-26-10-22/14516399679.html\n"
          ]
        },
        {
          "output_type": "stream",
          "name": "stderr",
          "text": [
            "\n",
            "Processing ranks: 100%|██████████| 1/1 [00:02<00:00,  2.06s/rank]\u001b[A\n",
            "Processing keywords:  39%|███▉      | 395/1009 [11:23<16:24,  1.60s/keyword]\n",
            "\n",
            "Processing keywords:  39%|███▉      | 395/1009 [11:24<16:24,  1.60s/keyword]\n",
            "Processing ranks:   0%|          | 0/1 [00:00<?, ?rank/s]\u001b[A"
          ]
        },
        {
          "output_type": "stream",
          "name": "stdout",
          "text": [
            "Saved HTML file: html-files-2024-04-26-10-22/14516399862.html\n"
          ]
        },
        {
          "output_type": "stream",
          "name": "stderr",
          "text": [
            "\n",
            "Processing ranks: 100%|██████████| 1/1 [00:01<00:00,  1.26s/rank]\u001b[A\n",
            "Processing keywords:  39%|███▉      | 396/1009 [11:25<15:23,  1.51s/keyword]\n",
            "\n",
            "Processing keywords:  39%|███▉      | 396/1009 [11:26<15:23,  1.51s/keyword]\n",
            "Processing ranks:   0%|          | 0/1 [00:01<?, ?rank/s]\u001b[A"
          ]
        },
        {
          "output_type": "stream",
          "name": "stdout",
          "text": [
            "Saved HTML file: html-files-2024-04-26-10-22/14516400081.html\n"
          ]
        },
        {
          "output_type": "stream",
          "name": "stderr",
          "text": [
            "\n",
            "Processing ranks: 100%|██████████| 1/1 [00:01<00:00,  1.99s/rank]\u001b[A\n",
            "Processing keywords:  39%|███▉      | 397/1009 [11:27<16:56,  1.66s/keyword]\n",
            "\n",
            "Processing keywords:  39%|███▉      | 397/1009 [11:28<16:56,  1.66s/keyword]\n",
            "Processing ranks:   0%|          | 0/1 [00:01<?, ?rank/s]\u001b[A"
          ]
        },
        {
          "output_type": "stream",
          "name": "stdout",
          "text": [
            "Saved HTML file: html-files-2024-04-26-10-22/14516344612.html\n"
          ]
        },
        {
          "output_type": "stream",
          "name": "stderr",
          "text": [
            "\n",
            "Processing ranks: 100%|██████████| 1/1 [00:01<00:00,  1.88s/rank]\u001b[A\n",
            "Processing keywords:  39%|███▉      | 398/1009 [11:29<17:39,  1.73s/keyword]\n",
            "\n",
            "Processing keywords:  39%|███▉      | 398/1009 [11:30<17:39,  1.73s/keyword]\n",
            "Processing ranks:   0%|          | 0/1 [00:01<?, ?rank/s]\u001b[A"
          ]
        },
        {
          "output_type": "stream",
          "name": "stdout",
          "text": [
            "Saved HTML file: html-files-2024-04-26-10-22/14516400582.html\n"
          ]
        },
        {
          "output_type": "stream",
          "name": "stderr",
          "text": [
            "\n",
            "Processing ranks: 100%|██████████| 1/1 [00:01<00:00,  1.56s/rank]\u001b[A\n",
            "Processing keywords:  40%|███▉      | 399/1009 [11:30<17:09,  1.69s/keyword]\n",
            "\n",
            "Processing keywords:  40%|███▉      | 399/1009 [11:31<17:09,  1.69s/keyword]\n",
            "Processing ranks:   0%|          | 0/1 [00:01<?, ?rank/s]\u001b[A"
          ]
        },
        {
          "output_type": "stream",
          "name": "stdout",
          "text": [
            "Saved HTML file: html-files-2024-04-26-10-22/14516400781.html\n"
          ]
        },
        {
          "output_type": "stream",
          "name": "stderr",
          "text": [
            "\n",
            "Processing ranks: 100%|██████████| 1/1 [00:01<00:00,  1.72s/rank]\u001b[A\n",
            "Processing keywords:  40%|███▉      | 400/1009 [11:32<17:18,  1.70s/keyword]\n",
            "\n",
            "Processing keywords:  40%|███▉      | 400/1009 [11:33<17:18,  1.70s/keyword]\n",
            "Processing ranks:   0%|          | 0/1 [00:01<?, ?rank/s]\u001b[A"
          ]
        },
        {
          "output_type": "stream",
          "name": "stdout",
          "text": [
            "Saved HTML file: html-files-2024-04-26-10-22/14516344656.html\n"
          ]
        },
        {
          "output_type": "stream",
          "name": "stderr",
          "text": [
            "\n",
            "Processing ranks: 100%|██████████| 1/1 [00:01<00:00,  1.67s/rank]\u001b[A\n",
            "Processing keywords:  40%|███▉      | 401/1009 [11:34<17:12,  1.70s/keyword]\n",
            "\n",
            "Processing keywords:  40%|███▉      | 401/1009 [11:35<17:12,  1.70s/keyword]\n",
            "Processing ranks:   0%|          | 0/1 [00:01<?, ?rank/s]\u001b[A"
          ]
        },
        {
          "output_type": "stream",
          "name": "stdout",
          "text": [
            "Saved HTML file: html-files-2024-04-26-10-22/14516344795.html\n"
          ]
        },
        {
          "output_type": "stream",
          "name": "stderr",
          "text": [
            "\n",
            "Processing ranks: 100%|██████████| 1/1 [00:01<00:00,  1.89s/rank]\u001b[A\n",
            "Processing keywords:  40%|███▉      | 402/1009 [11:35<17:49,  1.76s/keyword]\n",
            "\n",
            "Processing keywords:  40%|███▉      | 402/1009 [11:37<17:49,  1.76s/keyword]\n",
            "Processing ranks:   0%|          | 0/1 [00:01<?, ?rank/s]\u001b[A"
          ]
        },
        {
          "output_type": "stream",
          "name": "stdout",
          "text": [
            "Saved HTML file: html-files-2024-04-26-10-22/14516402859.html\n"
          ]
        },
        {
          "output_type": "stream",
          "name": "stderr",
          "text": [
            "\n",
            "Processing ranks: 100%|██████████| 1/1 [00:01<00:00,  1.72s/rank]\u001b[A\n",
            "Processing keywords:  40%|███▉      | 403/1009 [11:37<17:43,  1.76s/keyword]\n",
            "\n",
            "Processing keywords:  40%|███▉      | 403/1009 [11:39<17:43,  1.76s/keyword]\n",
            "Processing ranks:   0%|          | 0/1 [00:01<?, ?rank/s]\u001b[A"
          ]
        },
        {
          "output_type": "stream",
          "name": "stdout",
          "text": [
            "Saved HTML file: html-files-2024-04-26-10-22/14516403730.html\n"
          ]
        },
        {
          "output_type": "stream",
          "name": "stderr",
          "text": [
            "\n",
            "Processing ranks: 100%|██████████| 1/1 [00:02<00:00,  2.05s/rank]\u001b[A\n",
            "Processing keywords:  40%|████      | 404/1009 [11:39<18:39,  1.85s/keyword]\n",
            "\n",
            "Processing keywords:  40%|████      | 404/1009 [11:41<18:39,  1.85s/keyword]\n",
            "Processing ranks:   0%|          | 0/1 [00:01<?, ?rank/s]\u001b[A"
          ]
        },
        {
          "output_type": "stream",
          "name": "stdout",
          "text": [
            "Saved HTML file: html-files-2024-04-26-10-22/14516367282.html\n"
          ]
        },
        {
          "output_type": "stream",
          "name": "stderr",
          "text": [
            "\n",
            "Processing ranks: 100%|██████████| 1/1 [00:01<00:00,  1.93s/rank]\u001b[A\n",
            "Processing keywords:  40%|████      | 405/1009 [11:41<18:55,  1.88s/keyword]\n",
            "\n",
            "Processing keywords:  40%|████      | 405/1009 [11:42<18:55,  1.88s/keyword]\n",
            "Processing ranks:   0%|          | 0/1 [00:01<?, ?rank/s]\u001b[A"
          ]
        },
        {
          "output_type": "stream",
          "name": "stdout",
          "text": [
            "Saved HTML file: html-files-2024-04-26-10-22/14516404170.html\n"
          ]
        },
        {
          "output_type": "stream",
          "name": "stderr",
          "text": [
            "\n",
            "Processing ranks: 100%|██████████| 1/1 [00:01<00:00,  1.73s/rank]\u001b[A\n",
            "Processing keywords:  40%|████      | 406/1009 [11:43<18:29,  1.84s/keyword]\n",
            "\n",
            "Processing keywords:  40%|████      | 406/1009 [11:44<18:29,  1.84s/keyword]\n",
            "Processing ranks:   0%|          | 0/1 [00:00<?, ?rank/s]\u001b[A"
          ]
        },
        {
          "output_type": "stream",
          "name": "stdout",
          "text": [
            "Saved HTML file: html-files-2024-04-26-10-22/14516404339.html\n"
          ]
        },
        {
          "output_type": "stream",
          "name": "stderr",
          "text": [
            "\n",
            "Processing ranks: 100%|██████████| 1/1 [00:01<00:00,  1.45s/rank]\u001b[A\n",
            "Processing keywords:  40%|████      | 407/1009 [11:44<17:20,  1.73s/keyword]\n",
            "\n",
            "Processing keywords:  40%|████      | 407/1009 [11:46<17:20,  1.73s/keyword]\n",
            "Processing ranks:   0%|          | 0/1 [00:01<?, ?rank/s]\u001b[A"
          ]
        },
        {
          "output_type": "stream",
          "name": "stdout",
          "text": [
            "Saved HTML file: html-files-2024-04-26-10-22/14516404485.html\n"
          ]
        },
        {
          "output_type": "stream",
          "name": "stderr",
          "text": [
            "\n",
            "Processing ranks: 100%|██████████| 1/1 [00:01<00:00,  1.65s/rank]\u001b[A\n",
            "Processing keywords:  40%|████      | 408/1009 [11:46<17:09,  1.71s/keyword]\n",
            "\n",
            "Processing keywords:  40%|████      | 408/1009 [11:47<17:09,  1.71s/keyword]\n",
            "Processing ranks:   0%|          | 0/1 [00:01<?, ?rank/s]\u001b[A"
          ]
        },
        {
          "output_type": "stream",
          "name": "stdout",
          "text": [
            "Saved HTML file: html-files-2024-04-26-10-22/14516404753.html\n"
          ]
        },
        {
          "output_type": "stream",
          "name": "stderr",
          "text": [
            "\n",
            "Processing ranks: 100%|██████████| 1/1 [00:01<00:00,  1.92s/rank]\u001b[A\n",
            "Processing keywords:  41%|████      | 409/1009 [11:48<17:47,  1.78s/keyword]\n",
            "\n",
            "Processing keywords:  41%|████      | 409/1009 [11:49<17:47,  1.78s/keyword]\n",
            "Processing ranks:   0%|          | 0/1 [00:01<?, ?rank/s]\u001b[A"
          ]
        },
        {
          "output_type": "stream",
          "name": "stdout",
          "text": [
            "Saved HTML file: html-files-2024-04-26-10-22/14516404809.html\n"
          ]
        },
        {
          "output_type": "stream",
          "name": "stderr",
          "text": [
            "\n",
            "Processing ranks: 100%|██████████| 1/1 [00:01<00:00,  1.74s/rank]\u001b[A\n",
            "Processing keywords:  41%|████      | 410/1009 [11:50<17:41,  1.77s/keyword]\n",
            "\n",
            "Processing keywords:  41%|████      | 410/1009 [11:51<17:41,  1.77s/keyword]\n",
            "Processing ranks:   0%|          | 0/1 [00:01<?, ?rank/s]\u001b[A"
          ]
        },
        {
          "output_type": "stream",
          "name": "stdout",
          "text": [
            "Saved HTML file: html-files-2024-04-26-10-22/14516407109.html\n"
          ]
        },
        {
          "output_type": "stream",
          "name": "stderr",
          "text": [
            "\n",
            "Processing ranks: 100%|██████████| 1/1 [00:01<00:00,  1.61s/rank]\u001b[A\n",
            "Processing keywords:  41%|████      | 411/1009 [11:51<17:14,  1.73s/keyword]\n",
            "\n",
            "Processing keywords:  41%|████      | 411/1009 [11:53<17:14,  1.73s/keyword]\n",
            "Processing ranks:   0%|          | 0/1 [00:01<?, ?rank/s]\u001b[A"
          ]
        },
        {
          "output_type": "stream",
          "name": "stdout",
          "text": [
            "Saved HTML file: html-files-2024-04-26-10-22/14516345647.html\n"
          ]
        },
        {
          "output_type": "stream",
          "name": "stderr",
          "text": [
            "\n",
            "Processing ranks: 100%|██████████| 1/1 [00:01<00:00,  1.71s/rank]\u001b[A\n",
            "Processing keywords:  41%|████      | 412/1009 [11:53<17:11,  1.73s/keyword]\n",
            "\n",
            "Processing keywords:  41%|████      | 412/1009 [11:55<17:11,  1.73s/keyword]\n",
            "Processing ranks:   0%|          | 0/1 [00:01<?, ?rank/s]\u001b[A"
          ]
        },
        {
          "output_type": "stream",
          "name": "stdout",
          "text": [
            "Saved HTML file: html-files-2024-04-26-10-22/14516407313.html\n"
          ]
        },
        {
          "output_type": "stream",
          "name": "stderr",
          "text": [
            "\n",
            "Processing ranks: 100%|██████████| 1/1 [00:01<00:00,  1.84s/rank]\u001b[A\n",
            "Processing keywords:  41%|████      | 413/1009 [11:55<17:35,  1.77s/keyword]\n",
            "\n",
            "Processing keywords:  41%|████      | 413/1009 [11:56<17:35,  1.77s/keyword]\n",
            "Processing ranks:   0%|          | 0/1 [00:01<?, ?rank/s]\u001b[A"
          ]
        },
        {
          "output_type": "stream",
          "name": "stdout",
          "text": [
            "Saved HTML file: html-files-2024-04-26-10-22/14516408049.html\n"
          ]
        },
        {
          "output_type": "stream",
          "name": "stderr",
          "text": [
            "\n",
            "Processing ranks: 100%|██████████| 1/1 [00:01<00:00,  1.95s/rank]\u001b[A\n",
            "Processing keywords:  41%|████      | 414/1009 [11:57<18:09,  1.83s/keyword]\n",
            "\n",
            "Processing keywords:  41%|████      | 414/1009 [11:58<18:09,  1.83s/keyword]\n",
            "Processing ranks:   0%|          | 0/1 [00:01<?, ?rank/s]\u001b[A"
          ]
        },
        {
          "output_type": "stream",
          "name": "stdout",
          "text": [
            "Saved HTML file: html-files-2024-04-26-10-22/14516408487.html\n"
          ]
        },
        {
          "output_type": "stream",
          "name": "stderr",
          "text": [
            "\n",
            "Processing ranks: 100%|██████████| 1/1 [00:01<00:00,  1.84s/rank]\u001b[A\n",
            "Processing keywords:  41%|████      | 415/1009 [11:59<18:12,  1.84s/keyword]\n",
            "\n",
            "Processing keywords:  41%|████      | 415/1009 [12:00<18:12,  1.84s/keyword]\n",
            "Processing ranks:   0%|          | 0/1 [00:01<?, ?rank/s]\u001b[A"
          ]
        },
        {
          "output_type": "stream",
          "name": "stdout",
          "text": [
            "Saved HTML file: html-files-2024-04-26-10-22/14516368140.html\n"
          ]
        },
        {
          "output_type": "stream",
          "name": "stderr",
          "text": [
            "\n",
            "Processing ranks: 100%|██████████| 1/1 [00:02<00:00,  2.11s/rank]\u001b[A\n",
            "Processing keywords:  41%|████      | 416/1009 [12:01<19:04,  1.93s/keyword]\n",
            "\n",
            "Processing keywords:  41%|████      | 416/1009 [12:02<19:04,  1.93s/keyword]\n",
            "Processing ranks:   0%|          | 0/1 [00:00<?, ?rank/s]\u001b[A"
          ]
        },
        {
          "output_type": "stream",
          "name": "stdout",
          "text": [
            "Saved HTML file: html-files-2024-04-26-10-22/14516411817.html\n"
          ]
        },
        {
          "output_type": "stream",
          "name": "stderr",
          "text": [
            "\n",
            "Processing ranks: 100%|██████████| 1/1 [00:01<00:00,  1.63s/rank]\u001b[A\n",
            "Processing keywords:  41%|████▏     | 417/1009 [12:03<18:13,  1.85s/keyword]\n",
            "\n",
            "Processing keywords:  41%|████▏     | 417/1009 [12:04<18:13,  1.85s/keyword]\n",
            "Processing ranks:   0%|          | 0/1 [00:01<?, ?rank/s]\u001b[A"
          ]
        },
        {
          "output_type": "stream",
          "name": "stdout",
          "text": [
            "Saved HTML file: html-files-2024-04-26-10-22/14516413041.html\n"
          ]
        },
        {
          "output_type": "stream",
          "name": "stderr",
          "text": [
            "\n",
            "Processing ranks: 100%|██████████| 1/1 [00:01<00:00,  1.80s/rank]\u001b[A\n",
            "Processing keywords:  41%|████▏     | 418/1009 [12:04<18:08,  1.84s/keyword]\n",
            "\n",
            "Processing keywords:  41%|████▏     | 418/1009 [12:06<18:08,  1.84s/keyword]\n",
            "Processing ranks:   0%|          | 0/1 [00:01<?, ?rank/s]\u001b[A"
          ]
        },
        {
          "output_type": "stream",
          "name": "stdout",
          "text": [
            "Saved HTML file: html-files-2024-04-26-10-22/14516413254.html\n"
          ]
        },
        {
          "output_type": "stream",
          "name": "stderr",
          "text": [
            "\n",
            "Processing ranks: 100%|██████████| 1/1 [00:01<00:00,  1.97s/rank]\u001b[A\n",
            "Processing keywords:  42%|████▏     | 419/1009 [12:06<18:33,  1.89s/keyword]\n",
            "\n",
            "Processing keywords:  42%|████▏     | 419/1009 [12:08<18:33,  1.89s/keyword]\n",
            "Processing ranks:   0%|          | 0/1 [00:01<?, ?rank/s]\u001b[A"
          ]
        },
        {
          "output_type": "stream",
          "name": "stdout",
          "text": [
            "Saved HTML file: html-files-2024-04-26-10-22/14516413594.html\n"
          ]
        },
        {
          "output_type": "stream",
          "name": "stderr",
          "text": [
            "\n",
            "Processing ranks: 100%|██████████| 1/1 [00:01<00:00,  1.61s/rank]\u001b[A\n",
            "Processing keywords:  42%|████▏     | 420/1009 [12:08<17:47,  1.81s/keyword]\n",
            "\n",
            "Processing keywords:  42%|████▏     | 420/1009 [12:09<17:47,  1.81s/keyword]\n",
            "Processing ranks:   0%|          | 0/1 [00:01<?, ?rank/s]\u001b[A"
          ]
        },
        {
          "output_type": "stream",
          "name": "stdout",
          "text": [
            "Saved HTML file: html-files-2024-04-26-10-22/14516413828.html\n"
          ]
        },
        {
          "output_type": "stream",
          "name": "stderr",
          "text": [
            "\n",
            "Processing ranks: 100%|██████████| 1/1 [00:01<00:00,  1.48s/rank]\u001b[A\n",
            "Processing keywords:  42%|████▏     | 421/1009 [12:10<16:49,  1.72s/keyword]\n",
            "\n",
            "Processing keywords:  42%|████▏     | 421/1009 [12:11<16:49,  1.72s/keyword]\n",
            "Processing ranks:   0%|          | 0/1 [00:01<?, ?rank/s]\u001b[A"
          ]
        },
        {
          "output_type": "stream",
          "name": "stdout",
          "text": [
            "Saved HTML file: html-files-2024-04-26-10-22/14516356562.html\n"
          ]
        },
        {
          "output_type": "stream",
          "name": "stderr",
          "text": [
            "\n",
            "Processing ranks: 100%|██████████| 1/1 [00:01<00:00,  1.65s/rank]\u001b[A\n",
            "Processing keywords:  42%|████▏     | 422/1009 [12:11<16:39,  1.70s/keyword]\n",
            "\n",
            "Processing keywords:  42%|████▏     | 422/1009 [12:13<16:39,  1.70s/keyword]\n",
            "Processing ranks:   0%|          | 0/1 [00:01<?, ?rank/s]\u001b[A"
          ]
        },
        {
          "output_type": "stream",
          "name": "stdout",
          "text": [
            "Saved HTML file: html-files-2024-04-26-10-22/14516414270.html\n"
          ]
        },
        {
          "output_type": "stream",
          "name": "stderr",
          "text": [
            "\n",
            "Processing ranks: 100%|██████████| 1/1 [00:01<00:00,  1.74s/rank]\u001b[A\n",
            "Processing keywords:  42%|████▏     | 423/1009 [12:13<16:47,  1.72s/keyword]\n",
            "\n",
            "Processing keywords:  42%|████▏     | 423/1009 [12:14<16:47,  1.72s/keyword]\n",
            "Processing ranks:   0%|          | 0/1 [00:01<?, ?rank/s]\u001b[A"
          ]
        },
        {
          "output_type": "stream",
          "name": "stdout",
          "text": [
            "Saved HTML file: html-files-2024-04-26-10-22/14516356871.html\n"
          ]
        },
        {
          "output_type": "stream",
          "name": "stderr",
          "text": [
            "\n",
            "Processing ranks: 100%|██████████| 1/1 [00:02<00:00,  2.10s/rank]\u001b[A\n",
            "Processing keywords:  42%|████▏     | 424/1009 [12:15<17:57,  1.84s/keyword]\n",
            "\n",
            "Processing keywords:  42%|████▏     | 424/1009 [12:16<17:57,  1.84s/keyword]\n",
            "Processing ranks:   0%|          | 0/1 [00:01<?, ?rank/s]\u001b[A"
          ]
        },
        {
          "output_type": "stream",
          "name": "stdout",
          "text": [
            "Saved HTML file: html-files-2024-04-26-10-22/14516414727.html\n"
          ]
        },
        {
          "output_type": "stream",
          "name": "stderr",
          "text": [
            "\n",
            "Processing ranks: 100%|██████████| 1/1 [00:01<00:00,  1.86s/rank]\u001b[A\n",
            "Processing keywords:  42%|████▏     | 425/1009 [12:17<18:04,  1.86s/keyword]\n",
            "\n",
            "Processing keywords:  42%|████▏     | 425/1009 [12:18<18:04,  1.86s/keyword]\n",
            "Processing ranks:   0%|          | 0/1 [00:01<?, ?rank/s]\u001b[A"
          ]
        },
        {
          "output_type": "stream",
          "name": "stdout",
          "text": [
            "Saved HTML file: html-files-2024-04-26-10-22/14516415024.html\n"
          ]
        },
        {
          "output_type": "stream",
          "name": "stderr",
          "text": [
            "\n",
            "Processing ranks: 100%|██████████| 1/1 [00:02<00:00,  2.05s/rank]\u001b[A\n",
            "Processing keywords:  42%|████▏     | 426/1009 [12:19<18:39,  1.92s/keyword]\n",
            "\n",
            "Processing keywords:  42%|████▏     | 426/1009 [12:20<18:39,  1.92s/keyword]\n",
            "Processing ranks:   0%|          | 0/1 [00:01<?, ?rank/s]\u001b[A"
          ]
        },
        {
          "output_type": "stream",
          "name": "stdout",
          "text": [
            "Saved HTML file: html-files-2024-04-26-10-22/14516415527.html\n"
          ]
        },
        {
          "output_type": "stream",
          "name": "stderr",
          "text": [
            "\n",
            "Processing ranks: 100%|██████████| 1/1 [00:01<00:00,  1.68s/rank]\u001b[A\n",
            "Processing keywords:  42%|████▏     | 427/1009 [12:21<17:58,  1.85s/keyword]\n",
            "\n",
            "Processing keywords:  42%|████▏     | 427/1009 [12:23<17:58,  1.85s/keyword]\n",
            "Processing ranks:   0%|          | 0/1 [00:01<?, ?rank/s]\u001b[A"
          ]
        },
        {
          "output_type": "stream",
          "name": "stdout",
          "text": [
            "Saved HTML file: html-files-2024-04-26-10-22/14516415625.html\n"
          ]
        },
        {
          "output_type": "stream",
          "name": "stderr",
          "text": [
            "\n",
            "Processing ranks: 100%|██████████| 1/1 [00:02<00:00,  2.28s/rank]\u001b[A\n",
            "Processing keywords:  42%|████▏     | 428/1009 [12:23<19:14,  1.99s/keyword]\n",
            "\n",
            "Processing keywords:  42%|████▏     | 428/1009 [12:24<19:14,  1.99s/keyword]\n",
            "Processing ranks:   0%|          | 0/1 [00:01<?, ?rank/s]\u001b[A"
          ]
        },
        {
          "output_type": "stream",
          "name": "stdout",
          "text": [
            "Saved HTML file: html-files-2024-04-26-10-22/14516357033.html\n"
          ]
        },
        {
          "output_type": "stream",
          "name": "stderr",
          "text": [
            "\n",
            "Processing ranks: 100%|██████████| 1/1 [00:01<00:00,  1.81s/rank]\u001b[A\n",
            "Processing keywords:  43%|████▎     | 429/1009 [12:25<18:47,  1.94s/keyword]\n",
            "\n",
            "Processing keywords:  43%|████▎     | 429/1009 [12:26<18:47,  1.94s/keyword]\n",
            "Processing ranks:   0%|          | 0/1 [00:01<?, ?rank/s]\u001b[A"
          ]
        },
        {
          "output_type": "stream",
          "name": "stdout",
          "text": [
            "Saved HTML file: html-files-2024-04-26-10-22/14516415859.html\n"
          ]
        },
        {
          "output_type": "stream",
          "name": "stderr",
          "text": [
            "\n",
            "Processing ranks: 100%|██████████| 1/1 [00:01<00:00,  1.71s/rank]\u001b[A\n",
            "Processing keywords:  43%|████▎     | 430/1009 [12:27<18:06,  1.88s/keyword]\n",
            "\n",
            "Processing keywords:  43%|████▎     | 430/1009 [12:28<18:06,  1.88s/keyword]\n",
            "Processing ranks:   0%|          | 0/1 [00:01<?, ?rank/s]\u001b[A"
          ]
        },
        {
          "output_type": "stream",
          "name": "stdout",
          "text": [
            "Saved HTML file: html-files-2024-04-26-10-22/14516416835.html\n"
          ]
        },
        {
          "output_type": "stream",
          "name": "stderr",
          "text": [
            "\n",
            "Processing ranks: 100%|██████████| 1/1 [00:01<00:00,  1.73s/rank]\u001b[A\n",
            "Processing keywords:  43%|████▎     | 431/1009 [12:28<17:42,  1.84s/keyword]\n",
            "\n",
            "Processing keywords:  43%|████▎     | 431/1009 [12:30<17:42,  1.84s/keyword]\n",
            "Processing ranks:   0%|          | 0/1 [00:01<?, ?rank/s]\u001b[A"
          ]
        },
        {
          "output_type": "stream",
          "name": "stdout",
          "text": [
            "Saved HTML file: html-files-2024-04-26-10-22/14516357299.html\n"
          ]
        },
        {
          "output_type": "stream",
          "name": "stderr",
          "text": [
            "\n",
            "Processing ranks: 100%|██████████| 1/1 [00:01<00:00,  1.96s/rank]\u001b[A\n",
            "Processing keywords:  43%|████▎     | 432/1009 [12:30<18:07,  1.88s/keyword]\n",
            "\n",
            "Processing keywords:  43%|████▎     | 432/1009 [12:32<18:07,  1.88s/keyword]\n",
            "Processing ranks:   0%|          | 0/1 [00:01<?, ?rank/s]\u001b[A"
          ]
        },
        {
          "output_type": "stream",
          "name": "stdout",
          "text": [
            "Saved HTML file: html-files-2024-04-26-10-22/14516357865.html\n"
          ]
        },
        {
          "output_type": "stream",
          "name": "stderr",
          "text": [
            "\n",
            "Processing ranks: 100%|██████████| 1/1 [00:01<00:00,  1.89s/rank]\u001b[A\n",
            "Processing keywords:  43%|████▎     | 433/1009 [12:32<18:11,  1.89s/keyword]\n",
            "\n",
            "Processing keywords:  43%|████▎     | 433/1009 [12:33<18:11,  1.89s/keyword]\n",
            "Processing ranks:   0%|          | 0/1 [00:01<?, ?rank/s]\u001b[A"
          ]
        },
        {
          "output_type": "stream",
          "name": "stdout",
          "text": [
            "Saved HTML file: html-files-2024-04-26-10-22/14516417802.html\n"
          ]
        },
        {
          "output_type": "stream",
          "name": "stderr",
          "text": [
            "\n",
            "Processing ranks: 100%|██████████| 1/1 [00:01<00:00,  1.74s/rank]\u001b[A\n",
            "Processing keywords:  43%|████▎     | 434/1009 [12:34<17:45,  1.85s/keyword]\n",
            "\n",
            "Processing keywords:  43%|████▎     | 434/1009 [12:35<17:45,  1.85s/keyword]\n",
            "Processing ranks:   0%|          | 0/1 [00:01<?, ?rank/s]\u001b[A"
          ]
        },
        {
          "output_type": "stream",
          "name": "stdout",
          "text": [
            "Saved HTML file: html-files-2024-04-26-10-22/14516417998.html\n"
          ]
        },
        {
          "output_type": "stream",
          "name": "stderr",
          "text": [
            "\n",
            "Processing ranks: 100%|██████████| 1/1 [00:01<00:00,  1.94s/rank]\u001b[A\n",
            "Processing keywords:  43%|████▎     | 435/1009 [12:36<18:01,  1.88s/keyword]\n",
            "\n",
            "Processing keywords:  43%|████▎     | 435/1009 [12:37<18:01,  1.88s/keyword]\n",
            "Processing ranks:   0%|          | 0/1 [00:01<?, ?rank/s]\u001b[A"
          ]
        },
        {
          "output_type": "stream",
          "name": "stdout",
          "text": [
            "Saved HTML file: html-files-2024-04-26-10-22/14516358116.html\n"
          ]
        },
        {
          "output_type": "stream",
          "name": "stderr",
          "text": [
            "\n",
            "Processing ranks: 100%|██████████| 1/1 [00:01<00:00,  1.86s/rank]\u001b[A\n",
            "Processing keywords:  43%|████▎     | 436/1009 [12:38<17:59,  1.88s/keyword]\n",
            "\n",
            "Processing keywords:  43%|████▎     | 436/1009 [12:39<17:59,  1.88s/keyword]\n",
            "Processing ranks:   0%|          | 0/1 [00:01<?, ?rank/s]\u001b[A"
          ]
        },
        {
          "output_type": "stream",
          "name": "stdout",
          "text": [
            "Saved HTML file: html-files-2024-04-26-10-22/14516359095.html\n"
          ]
        },
        {
          "output_type": "stream",
          "name": "stderr",
          "text": [
            "\n",
            "Processing ranks: 100%|██████████| 1/1 [00:01<00:00,  1.74s/rank]\u001b[A\n",
            "Processing keywords:  43%|████▎     | 437/1009 [12:40<17:38,  1.85s/keyword]\n",
            "\n",
            "Processing keywords:  43%|████▎     | 437/1009 [12:41<17:38,  1.85s/keyword]\n",
            "Processing ranks:   0%|          | 0/1 [00:01<?, ?rank/s]\u001b[A"
          ]
        },
        {
          "output_type": "stream",
          "name": "stdout",
          "text": [
            "Saved HTML file: html-files-2024-04-26-10-22/14516418621.html\n"
          ]
        },
        {
          "output_type": "stream",
          "name": "stderr",
          "text": [
            "\n",
            "Processing ranks: 100%|██████████| 1/1 [00:01<00:00,  1.60s/rank]\u001b[A\n",
            "Processing keywords:  43%|████▎     | 438/1009 [12:41<16:56,  1.78s/keyword]\n",
            "\n",
            "Processing keywords:  43%|████▎     | 438/1009 [12:43<16:56,  1.78s/keyword]\n",
            "Processing ranks:   0%|          | 0/1 [00:01<?, ?rank/s]\u001b[A"
          ]
        },
        {
          "output_type": "stream",
          "name": "stdout",
          "text": [
            "Saved HTML file: html-files-2024-04-26-10-22/14516342879.html\n"
          ]
        },
        {
          "output_type": "stream",
          "name": "stderr",
          "text": [
            "\n",
            "Processing ranks: 100%|██████████| 1/1 [00:01<00:00,  1.71s/rank]\u001b[A\n",
            "Processing keywords:  44%|████▎     | 439/1009 [12:43<16:45,  1.76s/keyword]\n",
            "\n",
            "Processing keywords:  44%|████▎     | 439/1009 [12:44<16:45,  1.76s/keyword]\n",
            "Processing ranks:   0%|          | 0/1 [00:00<?, ?rank/s]\u001b[A"
          ]
        },
        {
          "output_type": "stream",
          "name": "stdout",
          "text": [
            "Saved HTML file: html-files-2024-04-26-10-22/14516342952.html\n"
          ]
        },
        {
          "output_type": "stream",
          "name": "stderr",
          "text": [
            "\n",
            "Processing ranks: 100%|██████████| 1/1 [00:01<00:00,  1.05s/rank]\u001b[A\n",
            "Processing keywords:  44%|████▎     | 440/1009 [12:44<14:45,  1.56s/keyword]\n",
            "\n",
            "Processing keywords:  44%|████▎     | 440/1009 [12:46<14:45,  1.56s/keyword]\n",
            "Processing ranks:   0%|          | 0/1 [00:01<?, ?rank/s]\u001b[A"
          ]
        },
        {
          "output_type": "stream",
          "name": "stdout",
          "text": [
            "Saved HTML file: html-files-2024-04-26-10-22/14516343014.html\n"
          ]
        },
        {
          "output_type": "stream",
          "name": "stderr",
          "text": [
            "\n",
            "Processing ranks: 100%|██████████| 1/1 [00:02<00:00,  2.04s/rank]\u001b[A\n",
            "Processing keywords:  44%|████▎     | 441/1009 [12:46<16:11,  1.71s/keyword]\n",
            "\n",
            "Processing keywords:  44%|████▎     | 441/1009 [12:47<16:11,  1.71s/keyword]\n",
            "Processing ranks:   0%|          | 0/1 [00:01<?, ?rank/s]\u001b[A"
          ]
        },
        {
          "output_type": "stream",
          "name": "stdout",
          "text": [
            "Saved HTML file: html-files-2024-04-26-10-22/14516419592.html\n"
          ]
        },
        {
          "output_type": "stream",
          "name": "stderr",
          "text": [
            "\n",
            "Processing ranks: 100%|██████████| 1/1 [00:01<00:00,  1.70s/rank]\u001b[A\n",
            "Processing keywords:  44%|████▍     | 442/1009 [12:48<16:12,  1.72s/keyword]\n",
            "\n",
            "Processing keywords:  44%|████▍     | 442/1009 [12:49<16:12,  1.72s/keyword]\n",
            "Processing ranks:   0%|          | 0/1 [00:01<?, ?rank/s]\u001b[A"
          ]
        },
        {
          "output_type": "stream",
          "name": "stdout",
          "text": [
            "Saved HTML file: html-files-2024-04-26-10-22/14516420030.html\n"
          ]
        },
        {
          "output_type": "stream",
          "name": "stderr",
          "text": [
            "\n",
            "Processing ranks: 100%|██████████| 1/1 [00:01<00:00,  1.72s/rank]\u001b[A\n",
            "Processing keywords:  44%|████▍     | 443/1009 [12:50<16:15,  1.72s/keyword]\n",
            "\n",
            "Processing keywords:  44%|████▍     | 443/1009 [12:50<16:15,  1.72s/keyword]\n",
            "Processing ranks:   0%|          | 0/1 [00:00<?, ?rank/s]\u001b[A"
          ]
        },
        {
          "output_type": "stream",
          "name": "stdout",
          "text": [
            "Saved HTML file: html-files-2024-04-26-10-22/14516420367.html\n"
          ]
        },
        {
          "output_type": "stream",
          "name": "stderr",
          "text": [
            "\n",
            "Processing ranks: 100%|██████████| 1/1 [00:01<00:00,  1.16s/rank]\u001b[A\n",
            "Processing keywords:  44%|████▍     | 444/1009 [12:51<14:42,  1.56s/keyword]\n",
            "\n",
            "Processing keywords:  44%|████▍     | 444/1009 [12:52<14:42,  1.56s/keyword]\n",
            "Processing ranks:   0%|          | 0/1 [00:01<?, ?rank/s]\u001b[A"
          ]
        },
        {
          "output_type": "stream",
          "name": "stdout",
          "text": [
            "Saved HTML file: html-files-2024-04-26-10-22/14516420891.html\n"
          ]
        },
        {
          "output_type": "stream",
          "name": "stderr",
          "text": [
            "\n",
            "Processing ranks: 100%|██████████| 1/1 [00:01<00:00,  1.92s/rank]\u001b[A\n",
            "Processing keywords:  44%|████▍     | 445/1009 [12:53<15:45,  1.68s/keyword]\n",
            "\n",
            "Processing keywords:  44%|████▍     | 445/1009 [12:54<15:45,  1.68s/keyword]\n",
            "Processing ranks:   0%|          | 0/1 [00:01<?, ?rank/s]\u001b[A"
          ]
        },
        {
          "output_type": "stream",
          "name": "stdout",
          "text": [
            "Saved HTML file: html-files-2024-04-26-10-22/14516359984.html\n"
          ]
        },
        {
          "output_type": "stream",
          "name": "stderr",
          "text": [
            "\n",
            "Processing ranks: 100%|██████████| 1/1 [00:01<00:00,  1.79s/rank]\u001b[A\n",
            "Processing keywords:  44%|████▍     | 446/1009 [12:55<16:05,  1.71s/keyword]\n",
            "\n",
            "Processing keywords:  44%|████▍     | 446/1009 [12:56<16:05,  1.71s/keyword]\n",
            "Processing ranks:   0%|          | 0/1 [00:01<?, ?rank/s]\u001b[A"
          ]
        },
        {
          "output_type": "stream",
          "name": "stdout",
          "text": [
            "Saved HTML file: html-files-2024-04-26-10-22/14516360420.html\n"
          ]
        },
        {
          "output_type": "stream",
          "name": "stderr",
          "text": [
            "\n",
            "Processing ranks: 100%|██████████| 1/1 [00:01<00:00,  1.73s/rank]\u001b[A\n",
            "Processing keywords:  44%|████▍     | 447/1009 [12:56<16:09,  1.73s/keyword]\n",
            "\n",
            "Processing keywords:  44%|████▍     | 447/1009 [12:58<16:09,  1.73s/keyword]\n",
            "Processing ranks:   0%|          | 0/1 [00:01<?, ?rank/s]\u001b[A"
          ]
        },
        {
          "output_type": "stream",
          "name": "stdout",
          "text": [
            "Saved HTML file: html-files-2024-04-26-10-22/14516347045.html\n"
          ]
        },
        {
          "output_type": "stream",
          "name": "stderr",
          "text": [
            "\n",
            "Processing ranks: 100%|██████████| 1/1 [00:01<00:00,  1.57s/rank]\u001b[A\n",
            "Processing keywords:  44%|████▍     | 448/1009 [12:58<15:44,  1.68s/keyword]\n",
            "\n",
            "Processing keywords:  44%|████▍     | 448/1009 [12:59<15:44,  1.68s/keyword]\n",
            "Processing ranks:   0%|          | 0/1 [00:01<?, ?rank/s]\u001b[A"
          ]
        },
        {
          "output_type": "stream",
          "name": "stdout",
          "text": [
            "Saved HTML file: html-files-2024-04-26-10-22/14516372113.html\n"
          ]
        },
        {
          "output_type": "stream",
          "name": "stderr",
          "text": [
            "\n",
            "Processing ranks: 100%|██████████| 1/1 [00:01<00:00,  1.81s/rank]\u001b[A\n",
            "Processing keywords:  44%|████▍     | 449/1009 [13:00<16:06,  1.73s/keyword]\n",
            "\n",
            "Processing keywords:  44%|████▍     | 449/1009 [13:01<16:06,  1.73s/keyword]\n",
            "Processing ranks:   0%|          | 0/1 [00:01<?, ?rank/s]\u001b[A"
          ]
        },
        {
          "output_type": "stream",
          "name": "stdout",
          "text": [
            "Saved HTML file: html-files-2024-04-26-10-22/14516362019.html\n"
          ]
        },
        {
          "output_type": "stream",
          "name": "stderr",
          "text": [
            "\n",
            "Processing ranks: 100%|██████████| 1/1 [00:01<00:00,  1.60s/rank]\u001b[A\n",
            "Processing keywords:  45%|████▍     | 450/1009 [13:01<15:47,  1.70s/keyword]\n",
            "\n",
            "Processing keywords:  45%|████▍     | 450/1009 [13:03<15:47,  1.70s/keyword]\n",
            "Processing ranks:   0%|          | 0/1 [00:01<?, ?rank/s]\u001b[A"
          ]
        },
        {
          "output_type": "stream",
          "name": "stdout",
          "text": [
            "Saved HTML file: html-files-2024-04-26-10-22/14516422232.html\n"
          ]
        },
        {
          "output_type": "stream",
          "name": "stderr",
          "text": [
            "\n",
            "Processing ranks: 100%|██████████| 1/1 [00:01<00:00,  1.74s/rank]\u001b[A\n",
            "Processing keywords:  45%|████▍     | 451/1009 [13:03<15:56,  1.71s/keyword]\n",
            "\n",
            "Processing keywords:  45%|████▍     | 451/1009 [13:04<15:56,  1.71s/keyword]\n",
            "Processing ranks:   0%|          | 0/1 [00:00<?, ?rank/s]\u001b[A"
          ]
        },
        {
          "output_type": "stream",
          "name": "stdout",
          "text": [
            "Saved HTML file: html-files-2024-04-26-10-22/14516422896.html\n"
          ]
        },
        {
          "output_type": "stream",
          "name": "stderr",
          "text": [
            "\n",
            "Processing ranks: 100%|██████████| 1/1 [00:01<00:00,  1.08s/rank]\u001b[A\n",
            "Processing keywords:  45%|████▍     | 452/1009 [13:04<14:12,  1.53s/keyword]\n",
            "\n",
            "Processing keywords:  45%|████▍     | 452/1009 [13:05<14:12,  1.53s/keyword]\n",
            "Processing ranks:   0%|          | 0/1 [00:00<?, ?rank/s]\u001b[A"
          ]
        },
        {
          "output_type": "stream",
          "name": "stdout",
          "text": [
            "Saved HTML file: html-files-2024-04-26-10-22/14516423023.html\n"
          ]
        },
        {
          "output_type": "stream",
          "name": "stderr",
          "text": [
            "\n",
            "Processing ranks: 100%|██████████| 1/1 [00:01<00:00,  1.23s/rank]\u001b[A\n",
            "Processing keywords:  45%|████▍     | 453/1009 [13:05<13:23,  1.45s/keyword]\n",
            "\n",
            "Processing keywords:  45%|████▍     | 453/1009 [13:07<13:23,  1.45s/keyword]\n",
            "Processing ranks:   0%|          | 0/1 [00:01<?, ?rank/s]\u001b[A"
          ]
        },
        {
          "output_type": "stream",
          "name": "stdout",
          "text": [
            "Saved HTML file: html-files-2024-04-26-10-22/14516423212.html\n"
          ]
        },
        {
          "output_type": "stream",
          "name": "stderr",
          "text": [
            "\n",
            "Processing ranks: 100%|██████████| 1/1 [00:01<00:00,  1.85s/rank]\u001b[A\n",
            "Processing keywords:  45%|████▍     | 454/1009 [13:07<14:33,  1.57s/keyword]\n",
            "\n",
            "Processing keywords:  45%|████▍     | 454/1009 [13:09<14:33,  1.57s/keyword]\n",
            "Processing ranks:   0%|          | 0/1 [00:01<?, ?rank/s]\u001b[A"
          ]
        },
        {
          "output_type": "stream",
          "name": "stdout",
          "text": [
            "Saved HTML file: html-files-2024-04-26-10-22/14516423536.html\n"
          ]
        },
        {
          "output_type": "stream",
          "name": "stderr",
          "text": [
            "\n",
            "Processing ranks: 100%|██████████| 1/1 [00:01<00:00,  1.79s/rank]\u001b[A\n",
            "Processing keywords:  45%|████▌     | 455/1009 [13:09<15:09,  1.64s/keyword]\n",
            "\n",
            "Processing keywords:  45%|████▌     | 455/1009 [13:11<15:09,  1.64s/keyword]\n",
            "Processing ranks:   0%|          | 0/1 [00:01<?, ?rank/s]\u001b[A"
          ]
        },
        {
          "output_type": "stream",
          "name": "stdout",
          "text": [
            "Saved HTML file: html-files-2024-04-26-10-22/14516363055.html\n"
          ]
        },
        {
          "output_type": "stream",
          "name": "stderr",
          "text": [
            "\n",
            "Processing ranks: 100%|██████████| 1/1 [00:02<00:00,  2.04s/rank]\u001b[A\n",
            "Processing keywords:  45%|████▌     | 456/1009 [13:11<16:18,  1.77s/keyword]\n",
            "\n",
            "Processing keywords:  45%|████▌     | 456/1009 [13:12<16:18,  1.77s/keyword]\n",
            "Processing ranks:   0%|          | 0/1 [00:01<?, ?rank/s]\u001b[A"
          ]
        },
        {
          "output_type": "stream",
          "name": "stdout",
          "text": [
            "Saved HTML file: html-files-2024-04-26-10-22/14516423603.html\n"
          ]
        },
        {
          "output_type": "stream",
          "name": "stderr",
          "text": [
            "\n",
            "Processing ranks: 100%|██████████| 1/1 [00:01<00:00,  1.67s/rank]\u001b[A\n",
            "Processing keywords:  45%|████▌     | 457/1009 [13:13<16:04,  1.75s/keyword]\n",
            "\n",
            "Processing keywords:  45%|████▌     | 457/1009 [13:14<16:04,  1.75s/keyword]\n",
            "Processing ranks:   0%|          | 0/1 [00:01<?, ?rank/s]\u001b[A"
          ]
        },
        {
          "output_type": "stream",
          "name": "stdout",
          "text": [
            "Saved HTML file: html-files-2024-04-26-10-22/14516364391.html\n"
          ]
        },
        {
          "output_type": "stream",
          "name": "stderr",
          "text": [
            "\n",
            "Processing ranks: 100%|██████████| 1/1 [00:01<00:00,  1.77s/rank]\u001b[A\n",
            "Processing keywords:  45%|████▌     | 458/1009 [13:15<16:10,  1.76s/keyword]\n",
            "\n",
            "Processing keywords:  45%|████▌     | 458/1009 [13:16<16:10,  1.76s/keyword]\n",
            "Processing ranks:   0%|          | 0/1 [00:01<?, ?rank/s]\u001b[A"
          ]
        },
        {
          "output_type": "stream",
          "name": "stdout",
          "text": [
            "Saved HTML file: html-files-2024-04-26-10-22/14516365306.html\n"
          ]
        },
        {
          "output_type": "stream",
          "name": "stderr",
          "text": [
            "\n",
            "Processing ranks: 100%|██████████| 1/1 [00:01<00:00,  1.69s/rank]\u001b[A\n",
            "Processing keywords:  45%|████▌     | 459/1009 [13:16<15:59,  1.75s/keyword]\n",
            "\n",
            "Processing keywords:  45%|████▌     | 459/1009 [13:18<15:59,  1.75s/keyword]\n",
            "Processing ranks:   0%|          | 0/1 [00:01<?, ?rank/s]\u001b[A"
          ]
        },
        {
          "output_type": "stream",
          "name": "stdout",
          "text": [
            "Saved HTML file: html-files-2024-04-26-10-22/14516423991.html\n"
          ]
        },
        {
          "output_type": "stream",
          "name": "stderr",
          "text": [
            "\n",
            "Processing ranks: 100%|██████████| 1/1 [00:01<00:00,  1.50s/rank]\u001b[A\n",
            "Processing keywords:  46%|████▌     | 460/1009 [13:18<15:22,  1.68s/keyword]\n",
            "\n",
            "Processing keywords:  46%|████▌     | 460/1009 [13:19<15:22,  1.68s/keyword]\n",
            "Processing ranks:   0%|          | 0/1 [00:01<?, ?rank/s]\u001b[A"
          ]
        },
        {
          "output_type": "stream",
          "name": "stdout",
          "text": [
            "Saved HTML file: html-files-2024-04-26-10-22/14516424428.html\n"
          ]
        },
        {
          "output_type": "stream",
          "name": "stderr",
          "text": [
            "\n",
            "Processing ranks: 100%|██████████| 1/1 [00:01<00:00,  1.61s/rank]\u001b[A\n",
            "Processing keywords:  46%|████▌     | 461/1009 [13:20<15:13,  1.67s/keyword]\n",
            "\n",
            "Processing keywords:  46%|████▌     | 461/1009 [13:21<15:13,  1.67s/keyword]\n",
            "Processing ranks:   0%|          | 0/1 [00:01<?, ?rank/s]\u001b[A"
          ]
        },
        {
          "output_type": "stream",
          "name": "stdout",
          "text": [
            "Saved HTML file: html-files-2024-04-26-10-22/14516365449.html\n"
          ]
        },
        {
          "output_type": "stream",
          "name": "stderr",
          "text": [
            "\n",
            "Processing ranks: 100%|██████████| 1/1 [00:01<00:00,  1.71s/rank]\u001b[A\n",
            "Processing keywords:  46%|████▌     | 462/1009 [13:21<15:23,  1.69s/keyword]\n",
            "\n",
            "Processing keywords:  46%|████▌     | 462/1009 [13:23<15:23,  1.69s/keyword]\n",
            "Processing ranks:   0%|          | 0/1 [00:01<?, ?rank/s]\u001b[A"
          ]
        },
        {
          "output_type": "stream",
          "name": "stdout",
          "text": [
            "Saved HTML file: html-files-2024-04-26-10-22/14516365706.html\n"
          ]
        },
        {
          "output_type": "stream",
          "name": "stderr",
          "text": [
            "\n",
            "Processing ranks: 100%|██████████| 1/1 [00:01<00:00,  1.83s/rank]\u001b[A\n",
            "Processing keywords:  46%|████▌     | 463/1009 [13:23<15:48,  1.74s/keyword]\n",
            "\n",
            "Processing keywords:  46%|████▌     | 463/1009 [13:26<15:48,  1.74s/keyword]\n",
            "Processing ranks:   0%|          | 0/1 [00:02<?, ?rank/s]\u001b[A"
          ]
        },
        {
          "output_type": "stream",
          "name": "stdout",
          "text": [
            "Saved HTML file: html-files-2024-04-26-10-22/14516366047.html\n"
          ]
        },
        {
          "output_type": "stream",
          "name": "stderr",
          "text": [
            "\n",
            "Processing ranks: 100%|██████████| 1/1 [00:03<00:00,  3.12s/rank]\u001b[A\n",
            "Processing keywords:  46%|████▌     | 464/1009 [13:26<19:36,  2.16s/keyword]\n",
            "\n",
            "Processing keywords:  46%|████▌     | 464/1009 [13:28<19:36,  2.16s/keyword]\n",
            "Processing ranks:   0%|          | 0/1 [00:01<?, ?rank/s]\u001b[A"
          ]
        },
        {
          "output_type": "stream",
          "name": "stdout",
          "text": [
            "Saved HTML file: html-files-2024-04-26-10-22/14516366273.html\n"
          ]
        },
        {
          "output_type": "stream",
          "name": "stderr",
          "text": [
            "\n",
            "Processing ranks: 100%|██████████| 1/1 [00:01<00:00,  1.87s/rank]\u001b[A\n",
            "Processing keywords:  46%|████▌     | 465/1009 [13:28<18:50,  2.08s/keyword]\n",
            "\n",
            "Processing keywords:  46%|████▌     | 465/1009 [13:29<18:50,  2.08s/keyword]\n",
            "Processing ranks:   0%|          | 0/1 [00:01<?, ?rank/s]\u001b[A"
          ]
        },
        {
          "output_type": "stream",
          "name": "stdout",
          "text": [
            "Saved HTML file: html-files-2024-04-26-10-22/14516366481.html\n"
          ]
        },
        {
          "output_type": "stream",
          "name": "stderr",
          "text": [
            "\n",
            "Processing ranks: 100%|██████████| 1/1 [00:01<00:00,  1.63s/rank]\u001b[A\n",
            "Processing keywords:  46%|████▌     | 466/1009 [13:30<17:37,  1.95s/keyword]\n",
            "\n",
            "Processing keywords:  46%|████▌     | 466/1009 [13:31<17:37,  1.95s/keyword]\n",
            "Processing ranks:   0%|          | 0/1 [00:01<?, ?rank/s]\u001b[A"
          ]
        },
        {
          "output_type": "stream",
          "name": "stdout",
          "text": [
            "Saved HTML file: html-files-2024-04-26-10-22/14516367034.html\n"
          ]
        },
        {
          "output_type": "stream",
          "name": "stderr",
          "text": [
            "\n",
            "Processing ranks: 100%|██████████| 1/1 [00:01<00:00,  1.74s/rank]\u001b[A\n",
            "Processing keywords:  46%|████▋     | 467/1009 [13:32<17:05,  1.89s/keyword]\n",
            "\n",
            "Processing keywords:  46%|████▋     | 467/1009 [13:32<17:05,  1.89s/keyword]\n",
            "Processing ranks:   0%|          | 0/1 [00:00<?, ?rank/s]\u001b[A"
          ]
        },
        {
          "output_type": "stream",
          "name": "stdout",
          "text": [
            "Saved HTML file: html-files-2024-04-26-10-22/14516367537.html\n"
          ]
        },
        {
          "output_type": "stream",
          "name": "stderr",
          "text": [
            "\n",
            "Processing ranks: 100%|██████████| 1/1 [00:00<00:00,  1.18rank/s]\u001b[A\n",
            "Processing keywords:  46%|████▋     | 468/1009 [13:32<14:18,  1.59s/keyword]\n",
            "\n",
            "Processing keywords:  46%|████▋     | 468/1009 [13:34<14:18,  1.59s/keyword]\n",
            "Processing ranks:   0%|          | 0/1 [00:01<?, ?rank/s]\u001b[A"
          ]
        },
        {
          "output_type": "stream",
          "name": "stdout",
          "text": [
            "Saved HTML file: html-files-2024-04-26-10-22/14516409797.html\n"
          ]
        },
        {
          "output_type": "stream",
          "name": "stderr",
          "text": [
            "\n",
            "Processing ranks: 100%|██████████| 1/1 [00:01<00:00,  1.63s/rank]\u001b[A\n",
            "Processing keywords:  46%|████▋     | 469/1009 [13:34<14:25,  1.60s/keyword]\n",
            "\n",
            "Processing keywords:  46%|████▋     | 469/1009 [13:36<14:25,  1.60s/keyword]\n",
            "Processing ranks:   0%|          | 0/1 [00:01<?, ?rank/s]\u001b[A"
          ]
        },
        {
          "output_type": "stream",
          "name": "stdout",
          "text": [
            "Saved HTML file: html-files-2024-04-26-10-22/14516409859.html\n"
          ]
        },
        {
          "output_type": "stream",
          "name": "stderr",
          "text": [
            "\n",
            "Processing ranks: 100%|██████████| 1/1 [00:01<00:00,  1.98s/rank]\u001b[A\n",
            "Processing keywords:  47%|████▋     | 470/1009 [13:36<15:27,  1.72s/keyword]\n",
            "\n",
            "Processing keywords:  47%|████▋     | 470/1009 [13:37<15:27,  1.72s/keyword]\n",
            "Processing ranks:   0%|          | 0/1 [00:01<?, ?rank/s]\u001b[A"
          ]
        },
        {
          "output_type": "stream",
          "name": "stdout",
          "text": [
            "Saved HTML file: html-files-2024-04-26-10-22/14516336458.html\n"
          ]
        },
        {
          "output_type": "stream",
          "name": "stderr",
          "text": [
            "\n",
            "Processing ranks: 100%|██████████| 1/1 [00:01<00:00,  1.54s/rank]\u001b[A\n",
            "Processing keywords:  47%|████▋     | 471/1009 [13:38<14:59,  1.67s/keyword]\n",
            "\n",
            "Processing keywords:  47%|████▋     | 471/1009 [13:39<14:59,  1.67s/keyword]\n",
            "Processing ranks:   0%|          | 0/1 [00:01<?, ?rank/s]\u001b[A"
          ]
        },
        {
          "output_type": "stream",
          "name": "stdout",
          "text": [
            "Saved HTML file: html-files-2024-04-26-10-22/14516336612.html\n"
          ]
        },
        {
          "output_type": "stream",
          "name": "stderr",
          "text": [
            "\n",
            "Processing ranks: 100%|██████████| 1/1 [00:01<00:00,  1.95s/rank]\u001b[A\n",
            "Processing keywords:  47%|████▋     | 472/1009 [13:40<15:45,  1.76s/keyword]\n",
            "\n",
            "Processing keywords:  47%|████▋     | 472/1009 [13:41<15:45,  1.76s/keyword]\n",
            "Processing ranks:   0%|          | 0/1 [00:01<?, ?rank/s]\u001b[A"
          ]
        },
        {
          "output_type": "stream",
          "name": "stdout",
          "text": [
            "Saved HTML file: html-files-2024-04-26-10-22/14516410123.html\n"
          ]
        },
        {
          "output_type": "stream",
          "name": "stderr",
          "text": [
            "\n",
            "Processing ranks: 100%|██████████| 1/1 [00:01<00:00,  1.92s/rank]\u001b[A\n",
            "Processing keywords:  47%|████▋     | 473/1009 [13:42<16:11,  1.81s/keyword]\n",
            "\n",
            "Processing keywords:  47%|████▋     | 473/1009 [13:43<16:11,  1.81s/keyword]\n",
            "Processing ranks:   0%|          | 0/1 [00:01<?, ?rank/s]\u001b[A"
          ]
        },
        {
          "output_type": "stream",
          "name": "stdout",
          "text": [
            "Saved HTML file: html-files-2024-04-26-10-22/14516336824.html\n"
          ]
        },
        {
          "output_type": "stream",
          "name": "stderr",
          "text": [
            "\n",
            "Processing ranks: 100%|██████████| 1/1 [00:01<00:00,  1.89s/rank]\u001b[A\n",
            "Processing keywords:  47%|████▋     | 474/1009 [13:43<16:26,  1.84s/keyword]\n",
            "\n",
            "Processing keywords:  47%|████▋     | 474/1009 [13:45<16:26,  1.84s/keyword]\n",
            "Processing ranks:   0%|          | 0/1 [00:01<?, ?rank/s]\u001b[A"
          ]
        },
        {
          "output_type": "stream",
          "name": "stdout",
          "text": [
            "Saved HTML file: html-files-2024-04-26-10-22/14516337027.html\n"
          ]
        },
        {
          "output_type": "stream",
          "name": "stderr",
          "text": [
            "\n",
            "Processing ranks: 100%|██████████| 1/1 [00:01<00:00,  1.96s/rank]\u001b[A\n",
            "Processing keywords:  47%|████▋     | 475/1009 [13:45<16:47,  1.89s/keyword]\n",
            "\n",
            "Processing keywords:  47%|████▋     | 475/1009 [13:47<16:47,  1.89s/keyword]\n",
            "Processing ranks:   0%|          | 0/1 [00:01<?, ?rank/s]\u001b[A"
          ]
        },
        {
          "output_type": "stream",
          "name": "stdout",
          "text": [
            "Saved HTML file: html-files-2024-04-26-10-22/14516369153.html\n"
          ]
        },
        {
          "output_type": "stream",
          "name": "stderr",
          "text": [
            "\n",
            "Processing ranks: 100%|██████████| 1/1 [00:01<00:00,  1.81s/rank]\u001b[A\n",
            "Processing keywords:  47%|████▋     | 476/1009 [13:47<16:36,  1.87s/keyword]\n",
            "\n",
            "Processing keywords:  47%|████▋     | 476/1009 [13:49<16:36,  1.87s/keyword]\n",
            "Processing ranks:   0%|          | 0/1 [00:01<?, ?rank/s]\u001b[A"
          ]
        },
        {
          "output_type": "stream",
          "name": "stdout",
          "text": [
            "Saved HTML file: html-files-2024-04-26-10-22/14516347333.html\n"
          ]
        },
        {
          "output_type": "stream",
          "name": "stderr",
          "text": [
            "\n",
            "Processing ranks: 100%|██████████| 1/1 [00:02<00:00,  2.00s/rank]\u001b[A\n",
            "Processing keywords:  47%|████▋     | 477/1009 [13:49<16:59,  1.92s/keyword]\n",
            "\n",
            "Processing keywords:  47%|████▋     | 477/1009 [13:51<16:59,  1.92s/keyword]\n",
            "Processing ranks:   0%|          | 0/1 [00:01<?, ?rank/s]\u001b[A"
          ]
        },
        {
          "output_type": "stream",
          "name": "stdout",
          "text": [
            "Saved HTML file: html-files-2024-04-26-10-22/14516410288.html\n"
          ]
        },
        {
          "output_type": "stream",
          "name": "stderr",
          "text": [
            "\n",
            "Processing ranks: 100%|██████████| 1/1 [00:02<00:00,  2.06s/rank]\u001b[A\n",
            "Processing keywords:  47%|████▋     | 478/1009 [13:51<17:23,  1.97s/keyword]\n",
            "\n",
            "Processing keywords:  47%|████▋     | 478/1009 [13:53<17:23,  1.97s/keyword]\n",
            "Processing ranks:   0%|          | 0/1 [00:01<?, ?rank/s]\u001b[A"
          ]
        },
        {
          "output_type": "stream",
          "name": "stdout",
          "text": [
            "Saved HTML file: html-files-2024-04-26-10-22/14516369625.html\n"
          ]
        },
        {
          "output_type": "stream",
          "name": "stderr",
          "text": [
            "\n",
            "Processing ranks: 100%|██████████| 1/1 [00:01<00:00,  1.72s/rank]\u001b[A\n",
            "Processing keywords:  47%|████▋     | 479/1009 [13:53<16:46,  1.90s/keyword]\n",
            "\n",
            "Processing keywords:  47%|████▋     | 479/1009 [13:54<16:46,  1.90s/keyword]\n",
            "Processing ranks:   0%|          | 0/1 [00:01<?, ?rank/s]\u001b[A"
          ]
        },
        {
          "output_type": "stream",
          "name": "stdout",
          "text": [
            "Saved HTML file: html-files-2024-04-26-10-22/14516347486.html\n"
          ]
        },
        {
          "output_type": "stream",
          "name": "stderr",
          "text": [
            "\n",
            "Processing ranks: 100%|██████████| 1/1 [00:01<00:00,  1.65s/rank]\u001b[A\n",
            "Processing keywords:  48%|████▊     | 480/1009 [13:55<16:09,  1.83s/keyword]\n",
            "\n",
            "Processing keywords:  48%|████▊     | 480/1009 [13:56<16:09,  1.83s/keyword]\n",
            "Processing ranks:   0%|          | 0/1 [00:01<?, ?rank/s]\u001b[A"
          ]
        },
        {
          "output_type": "stream",
          "name": "stdout",
          "text": [
            "Saved HTML file: html-files-2024-04-26-10-22/14516347621.html\n"
          ]
        },
        {
          "output_type": "stream",
          "name": "stderr",
          "text": [
            "\n",
            "Processing ranks: 100%|██████████| 1/1 [00:01<00:00,  1.59s/rank]\u001b[A\n",
            "Processing keywords:  48%|████▊     | 481/1009 [13:56<15:32,  1.77s/keyword]\n",
            "\n",
            "Processing keywords:  48%|████▊     | 481/1009 [13:58<15:32,  1.77s/keyword]\n",
            "Processing ranks:   0%|          | 0/1 [00:01<?, ?rank/s]\u001b[A"
          ]
        },
        {
          "output_type": "stream",
          "name": "stdout",
          "text": [
            "Saved HTML file: html-files-2024-04-26-10-22/14516369992.html\n"
          ]
        },
        {
          "output_type": "stream",
          "name": "stderr",
          "text": [
            "\n",
            "Processing ranks: 100%|██████████| 1/1 [00:01<00:00,  1.89s/rank]\u001b[A\n",
            "Processing keywords:  48%|████▊     | 482/1009 [13:58<15:53,  1.81s/keyword]\n",
            "\n",
            "Processing keywords:  48%|████▊     | 482/1009 [14:00<15:53,  1.81s/keyword]\n",
            "Processing ranks:   0%|          | 0/1 [00:01<?, ?rank/s]\u001b[A"
          ]
        },
        {
          "output_type": "stream",
          "name": "stdout",
          "text": [
            "Saved HTML file: html-files-2024-04-26-10-22/14516370066.html\n"
          ]
        },
        {
          "output_type": "stream",
          "name": "stderr",
          "text": [
            "\n",
            "Processing ranks: 100%|██████████| 1/1 [00:01<00:00,  1.83s/rank]\u001b[A\n",
            "Processing keywords:  48%|████▊     | 483/1009 [14:00<15:57,  1.82s/keyword]\n",
            "\n",
            "Processing keywords:  48%|████▊     | 483/1009 [14:01<15:57,  1.82s/keyword]\n",
            "Processing ranks:   0%|          | 0/1 [00:01<?, ?rank/s]\u001b[A"
          ]
        },
        {
          "output_type": "stream",
          "name": "stdout",
          "text": [
            "Saved HTML file: html-files-2024-04-26-10-22/14516348230.html\n"
          ]
        },
        {
          "output_type": "stream",
          "name": "stderr",
          "text": [
            "\n",
            "Processing ranks: 100%|██████████| 1/1 [00:01<00:00,  1.99s/rank]\u001b[A\n",
            "Processing keywords:  48%|████▊     | 484/1009 [14:02<16:27,  1.88s/keyword]\n",
            "\n",
            "Processing keywords:  48%|████▊     | 484/1009 [14:04<16:27,  1.88s/keyword]\n",
            "Processing ranks:   0%|          | 0/1 [00:01<?, ?rank/s]\u001b[A"
          ]
        },
        {
          "output_type": "stream",
          "name": "stdout",
          "text": [
            "Saved HTML file: html-files-2024-04-26-10-22/14516348890.html\n"
          ]
        },
        {
          "output_type": "stream",
          "name": "stderr",
          "text": [
            "\n",
            "Processing ranks: 100%|██████████| 1/1 [00:01<00:00,  1.90s/rank]\u001b[A\n",
            "Processing keywords:  48%|████▊     | 485/1009 [14:04<16:31,  1.89s/keyword]\n",
            "\n",
            "Processing keywords:  48%|████▊     | 485/1009 [14:05<16:31,  1.89s/keyword]\n",
            "Processing ranks:   0%|          | 0/1 [00:01<?, ?rank/s]\u001b[A"
          ]
        },
        {
          "output_type": "stream",
          "name": "stdout",
          "text": [
            "Saved HTML file: html-files-2024-04-26-10-22/14516338988.html\n"
          ]
        },
        {
          "output_type": "stream",
          "name": "stderr",
          "text": [
            "\n",
            "Processing ranks: 100%|██████████| 1/1 [00:01<00:00,  1.59s/rank]\u001b[A\n",
            "Processing keywords:  48%|████▊     | 486/1009 [14:06<15:43,  1.80s/keyword]\n",
            "\n",
            "Processing keywords:  48%|████▊     | 486/1009 [14:07<15:43,  1.80s/keyword]\n",
            "Processing ranks:   0%|          | 0/1 [00:01<?, ?rank/s]\u001b[A"
          ]
        },
        {
          "output_type": "stream",
          "name": "stdout",
          "text": [
            "Saved HTML file: html-files-2024-04-26-10-22/14516339220.html\n"
          ]
        },
        {
          "output_type": "stream",
          "name": "stderr",
          "text": [
            "\n",
            "Processing ranks: 100%|██████████| 1/1 [00:01<00:00,  1.79s/rank]\u001b[A\n",
            "Processing keywords:  48%|████▊     | 487/1009 [14:08<15:44,  1.81s/keyword]\n",
            "\n",
            "Processing keywords:  48%|████▊     | 487/1009 [14:09<15:44,  1.81s/keyword]\n",
            "Processing ranks:   0%|          | 0/1 [00:01<?, ?rank/s]\u001b[A"
          ]
        },
        {
          "output_type": "stream",
          "name": "stdout",
          "text": [
            "Saved HTML file: html-files-2024-04-26-10-22/14516339385.html\n"
          ]
        },
        {
          "output_type": "stream",
          "name": "stderr",
          "text": [
            "\n",
            "Processing ranks: 100%|██████████| 1/1 [00:01<00:00,  1.68s/rank]\u001b[A\n",
            "Processing keywords:  48%|████▊     | 488/1009 [14:09<15:24,  1.77s/keyword]\n",
            "\n",
            "Processing keywords:  48%|████▊     | 488/1009 [14:11<15:24,  1.77s/keyword]\n",
            "Processing ranks:   0%|          | 0/1 [00:01<?, ?rank/s]\u001b[A"
          ]
        },
        {
          "output_type": "stream",
          "name": "stdout",
          "text": [
            "Saved HTML file: html-files-2024-04-26-10-22/14516335011.html\n"
          ]
        },
        {
          "output_type": "stream",
          "name": "stderr",
          "text": [
            "\n",
            "Processing ranks: 100%|██████████| 1/1 [00:01<00:00,  1.71s/rank]\u001b[A\n",
            "Processing keywords:  48%|████▊     | 489/1009 [14:11<15:15,  1.76s/keyword]\n",
            "\n",
            "Processing keywords:  48%|████▊     | 489/1009 [14:12<15:15,  1.76s/keyword]\n",
            "Processing ranks:   0%|          | 0/1 [00:01<?, ?rank/s]\u001b[A"
          ]
        },
        {
          "output_type": "stream",
          "name": "stdout",
          "text": [
            "Saved HTML file: html-files-2024-04-26-10-22/14516371273.html\n"
          ]
        },
        {
          "output_type": "stream",
          "name": "stderr",
          "text": [
            "\n",
            "Processing ranks: 100%|██████████| 1/1 [00:01<00:00,  1.62s/rank]\u001b[A\n",
            "Processing keywords:  49%|████▊     | 490/1009 [14:13<14:55,  1.72s/keyword]\n",
            "\n",
            "Processing keywords:  49%|████▊     | 490/1009 [14:14<14:55,  1.72s/keyword]\n",
            "Processing ranks:   0%|          | 0/1 [00:01<?, ?rank/s]\u001b[A"
          ]
        },
        {
          "output_type": "stream",
          "name": "stdout",
          "text": [
            "Saved HTML file: html-files-2024-04-26-10-22/14516371496.html\n"
          ]
        },
        {
          "output_type": "stream",
          "name": "stderr",
          "text": [
            "\n",
            "Processing ranks: 100%|██████████| 1/1 [00:01<00:00,  1.77s/rank]\u001b[A\n",
            "Processing keywords:  49%|████▊     | 491/1009 [14:14<15:02,  1.74s/keyword]\n",
            "\n",
            "Processing keywords:  49%|████▊     | 491/1009 [14:16<15:02,  1.74s/keyword]\n",
            "Processing ranks:   0%|          | 0/1 [00:01<?, ?rank/s]\u001b[A"
          ]
        },
        {
          "output_type": "stream",
          "name": "stdout",
          "text": [
            "Saved HTML file: html-files-2024-04-26-10-22/14516341471.html\n"
          ]
        },
        {
          "output_type": "stream",
          "name": "stderr",
          "text": [
            "\n",
            "Processing ranks: 100%|██████████| 1/1 [00:02<00:00,  2.25s/rank]\u001b[A\n",
            "Processing keywords:  49%|████▉     | 492/1009 [14:17<16:23,  1.90s/keyword]\n",
            "\n",
            "Processing keywords:  49%|████▉     | 492/1009 [14:18<16:23,  1.90s/keyword]\n",
            "Processing ranks:   0%|          | 0/1 [00:01<?, ?rank/s]\u001b[A"
          ]
        },
        {
          "output_type": "stream",
          "name": "stdout",
          "text": [
            "Saved HTML file: html-files-2024-04-26-10-22/14516372575.html\n"
          ]
        },
        {
          "output_type": "stream",
          "name": "stderr",
          "text": [
            "\n",
            "Processing ranks: 100%|██████████| 1/1 [00:01<00:00,  1.60s/rank]\u001b[A\n",
            "Processing keywords:  49%|████▉     | 493/1009 [14:18<15:37,  1.82s/keyword]\n",
            "\n",
            "Processing keywords:  49%|████▉     | 493/1009 [14:20<15:37,  1.82s/keyword]\n",
            "Processing ranks:   0%|          | 0/1 [00:01<?, ?rank/s]\u001b[A"
          ]
        },
        {
          "output_type": "stream",
          "name": "stdout",
          "text": [
            "Saved HTML file: html-files-2024-04-26-10-22/14516372945.html\n"
          ]
        },
        {
          "output_type": "stream",
          "name": "stderr",
          "text": [
            "\n",
            "Processing ranks: 100%|██████████| 1/1 [00:01<00:00,  1.97s/rank]\u001b[A\n",
            "Processing keywords:  49%|████▉     | 494/1009 [14:20<16:01,  1.87s/keyword]\n",
            "\n",
            "Processing keywords:  49%|████▉     | 494/1009 [14:22<16:01,  1.87s/keyword]\n",
            "Processing ranks:   0%|          | 0/1 [00:01<?, ?rank/s]\u001b[A"
          ]
        },
        {
          "output_type": "stream",
          "name": "stdout",
          "text": [
            "Saved HTML file: html-files-2024-04-26-10-22/14516373021.html\n"
          ]
        },
        {
          "output_type": "stream",
          "name": "stderr",
          "text": [
            "\n",
            "Processing ranks: 100%|██████████| 1/1 [00:01<00:00,  1.80s/rank]\u001b[A\n",
            "Processing keywords:  49%|████▉     | 495/1009 [14:22<15:51,  1.85s/keyword]\n",
            "\n",
            "Processing keywords:  49%|████▉     | 495/1009 [14:23<15:51,  1.85s/keyword]\n",
            "Processing ranks:   0%|          | 0/1 [00:01<?, ?rank/s]\u001b[A"
          ]
        },
        {
          "output_type": "stream",
          "name": "stdout",
          "text": [
            "Saved HTML file: html-files-2024-04-26-10-22/14516342889.html\n"
          ]
        },
        {
          "output_type": "stream",
          "name": "stderr",
          "text": [
            "\n",
            "Processing ranks: 100%|██████████| 1/1 [00:01<00:00,  1.68s/rank]\u001b[A\n",
            "Processing keywords:  49%|████▉     | 496/1009 [14:24<15:25,  1.80s/keyword]\n",
            "\n",
            "Processing keywords:  49%|████▉     | 496/1009 [14:25<15:25,  1.80s/keyword]\n",
            "Processing ranks:   0%|          | 0/1 [00:01<?, ?rank/s]\u001b[A"
          ]
        },
        {
          "output_type": "stream",
          "name": "stdout",
          "text": [
            "Saved HTML file: html-files-2024-04-26-10-22/14516343038.html\n"
          ]
        },
        {
          "output_type": "stream",
          "name": "stderr",
          "text": [
            "\n",
            "Processing ranks: 100%|██████████| 1/1 [00:01<00:00,  1.77s/rank]\u001b[A\n",
            "Processing keywords:  49%|████▉     | 497/1009 [14:26<15:21,  1.80s/keyword]\n",
            "\n",
            "Processing keywords:  49%|████▉     | 497/1009 [14:27<15:21,  1.80s/keyword]\n",
            "Processing ranks:   0%|          | 0/1 [00:01<?, ?rank/s]\u001b[A"
          ]
        },
        {
          "output_type": "stream",
          "name": "stdout",
          "text": [
            "Saved HTML file: html-files-2024-04-26-10-22/14516373463.html\n"
          ]
        },
        {
          "output_type": "stream",
          "name": "stderr",
          "text": [
            "\n",
            "Processing ranks: 100%|██████████| 1/1 [00:01<00:00,  1.77s/rank]\u001b[A\n",
            "Processing keywords:  49%|████▉     | 498/1009 [14:27<15:17,  1.80s/keyword]\n",
            "\n",
            "Processing keywords:  49%|████▉     | 498/1009 [14:29<15:17,  1.80s/keyword]\n",
            "Processing ranks:   0%|          | 0/1 [00:01<?, ?rank/s]\u001b[A"
          ]
        },
        {
          "output_type": "stream",
          "name": "stdout",
          "text": [
            "Saved HTML file: html-files-2024-04-26-10-22/14516373529.html\n"
          ]
        },
        {
          "output_type": "stream",
          "name": "stderr",
          "text": [
            "\n",
            "Processing ranks: 100%|██████████| 1/1 [00:01<00:00,  1.82s/rank]\u001b[A\n",
            "Processing keywords:  49%|████▉     | 499/1009 [14:29<15:21,  1.81s/keyword]\n",
            "\n",
            "Processing keywords:  49%|████▉     | 499/1009 [14:30<15:21,  1.81s/keyword]\n",
            "Processing ranks:   0%|          | 0/1 [00:01<?, ?rank/s]\u001b[A"
          ]
        },
        {
          "output_type": "stream",
          "name": "stdout",
          "text": [
            "Saved HTML file: html-files-2024-04-26-10-22/14516343377.html\n"
          ]
        },
        {
          "output_type": "stream",
          "name": "stderr",
          "text": [
            "\n",
            "Processing ranks: 100%|██████████| 1/1 [00:01<00:00,  1.64s/rank]\u001b[A\n",
            "Processing keywords:  50%|████▉     | 500/1009 [14:31<14:58,  1.76s/keyword]\n",
            "\n",
            "Processing keywords:  50%|████▉     | 500/1009 [14:32<14:58,  1.76s/keyword]\n",
            "Processing ranks:   0%|          | 0/1 [00:01<?, ?rank/s]\u001b[A"
          ]
        },
        {
          "output_type": "stream",
          "name": "stdout",
          "text": [
            "Saved HTML file: html-files-2024-04-26-10-22/14516343819.html\n"
          ]
        },
        {
          "output_type": "stream",
          "name": "stderr",
          "text": [
            "\n",
            "Processing ranks: 100%|██████████| 1/1 [00:01<00:00,  1.98s/rank]\u001b[A\n",
            "Processing keywords:  50%|████▉     | 501/1009 [14:33<15:33,  1.84s/keyword]\n",
            "\n",
            "Processing keywords:  50%|████▉     | 501/1009 [14:34<15:33,  1.84s/keyword]\n",
            "Processing ranks:   0%|          | 0/1 [00:01<?, ?rank/s]\u001b[A"
          ]
        },
        {
          "output_type": "stream",
          "name": "stdout",
          "text": [
            "Saved HTML file: html-files-2024-04-26-10-22/14516343346.html\n"
          ]
        },
        {
          "output_type": "stream",
          "name": "stderr",
          "text": [
            "\n",
            "Processing ranks: 100%|██████████| 1/1 [00:02<00:00,  2.07s/rank]\u001b[A\n",
            "Processing keywords:  50%|████▉     | 502/1009 [14:35<16:08,  1.91s/keyword]\n",
            "\n",
            "Processing keywords:  50%|████▉     | 502/1009 [14:36<16:08,  1.91s/keyword]\n",
            "Processing ranks:   0%|          | 0/1 [00:00<?, ?rank/s]\u001b[A"
          ]
        },
        {
          "output_type": "stream",
          "name": "stdout",
          "text": [
            "Saved HTML file: html-files-2024-04-26-10-22/14516374865.html\n"
          ]
        },
        {
          "output_type": "stream",
          "name": "stderr",
          "text": [
            "\n",
            "Processing ranks: 100%|██████████| 1/1 [00:01<00:00,  1.26s/rank]\u001b[A\n",
            "Processing keywords:  50%|████▉     | 503/1009 [14:36<14:31,  1.72s/keyword]\n",
            "\n",
            "Processing keywords:  50%|████▉     | 503/1009 [14:38<14:31,  1.72s/keyword]\n",
            "Processing ranks:   0%|          | 0/1 [00:01<?, ?rank/s]\u001b[A"
          ]
        },
        {
          "output_type": "stream",
          "name": "stdout",
          "text": [
            "Saved HTML file: html-files-2024-04-26-10-22/14516375206.html\n"
          ]
        },
        {
          "output_type": "stream",
          "name": "stderr",
          "text": [
            "\n",
            "Processing ranks: 100%|██████████| 1/1 [00:02<00:00,  2.02s/rank]\u001b[A\n",
            "Processing keywords:  50%|████▉     | 504/1009 [14:38<15:18,  1.82s/keyword]\n",
            "\n",
            "Processing keywords:  50%|████▉     | 504/1009 [14:40<15:18,  1.82s/keyword]\n",
            "Processing ranks:   0%|          | 0/1 [00:01<?, ?rank/s]\u001b[A"
          ]
        },
        {
          "output_type": "stream",
          "name": "stdout",
          "text": [
            "Saved HTML file: html-files-2024-04-26-10-22/14516346312.html\n"
          ]
        },
        {
          "output_type": "stream",
          "name": "stderr",
          "text": [
            "\n",
            "Processing ranks: 100%|██████████| 1/1 [00:02<00:00,  2.04s/rank]\u001b[A\n",
            "Processing keywords:  50%|█████     | 505/1009 [14:40<15:53,  1.89s/keyword]\n",
            "\n",
            "Processing keywords:  50%|█████     | 505/1009 [14:42<15:53,  1.89s/keyword]\n",
            "Processing ranks:   0%|          | 0/1 [00:01<?, ?rank/s]\u001b[A"
          ]
        },
        {
          "output_type": "stream",
          "name": "stdout",
          "text": [
            "Saved HTML file: html-files-2024-04-26-10-22/14516346620.html\n"
          ]
        },
        {
          "output_type": "stream",
          "name": "stderr",
          "text": [
            "\n",
            "Processing ranks: 100%|██████████| 1/1 [00:01<00:00,  1.51s/rank]\u001b[A\n",
            "Processing keywords:  50%|█████     | 506/1009 [14:42<14:56,  1.78s/keyword]\n",
            "\n",
            "Processing keywords:  50%|█████     | 506/1009 [14:43<14:56,  1.78s/keyword]\n",
            "Processing ranks:   0%|          | 0/1 [00:01<?, ?rank/s]\u001b[A"
          ]
        },
        {
          "output_type": "stream",
          "name": "stdout",
          "text": [
            "Saved HTML file: html-files-2024-04-26-10-22/14516346698.html\n"
          ]
        },
        {
          "output_type": "stream",
          "name": "stderr",
          "text": [
            "\n",
            "Processing ranks: 100%|██████████| 1/1 [00:01<00:00,  1.63s/rank]\u001b[A\n",
            "Processing keywords:  50%|█████     | 507/1009 [14:44<14:35,  1.74s/keyword]\n",
            "\n",
            "Processing keywords:  50%|█████     | 507/1009 [14:45<14:35,  1.74s/keyword]\n",
            "Processing ranks:   0%|          | 0/1 [00:01<?, ?rank/s]\u001b[A"
          ]
        },
        {
          "output_type": "stream",
          "name": "stdout",
          "text": [
            "Saved HTML file: html-files-2024-04-26-10-22/14516376157.html\n"
          ]
        },
        {
          "output_type": "stream",
          "name": "stderr",
          "text": [
            "\n",
            "Processing ranks: 100%|██████████| 1/1 [00:01<00:00,  1.66s/rank]\u001b[A\n",
            "Processing keywords:  50%|█████     | 508/1009 [14:45<14:23,  1.72s/keyword]\n",
            "\n",
            "Processing keywords:  50%|█████     | 508/1009 [14:47<14:23,  1.72s/keyword]\n",
            "Processing ranks:   0%|          | 0/1 [00:01<?, ?rank/s]\u001b[A"
          ]
        },
        {
          "output_type": "stream",
          "name": "stdout",
          "text": [
            "Saved HTML file: html-files-2024-04-26-10-22/14516376316.html\n"
          ]
        },
        {
          "output_type": "stream",
          "name": "stderr",
          "text": [
            "\n",
            "Processing ranks: 100%|██████████| 1/1 [00:01<00:00,  1.86s/rank]\u001b[A\n",
            "Processing keywords:  50%|█████     | 509/1009 [14:47<14:45,  1.77s/keyword]\n",
            "\n",
            "Processing keywords:  50%|█████     | 509/1009 [14:48<14:45,  1.77s/keyword]\n",
            "Processing ranks:   0%|          | 0/1 [00:01<?, ?rank/s]\u001b[A"
          ]
        },
        {
          "output_type": "stream",
          "name": "stdout",
          "text": [
            "Saved HTML file: html-files-2024-04-26-10-22/14516348557.html\n"
          ]
        },
        {
          "output_type": "stream",
          "name": "stderr",
          "text": [
            "\n",
            "Processing ranks: 100%|██████████| 1/1 [00:01<00:00,  1.59s/rank]\u001b[A\n",
            "Processing keywords:  51%|█████     | 510/1009 [14:49<14:20,  1.73s/keyword]\n",
            "\n",
            "Processing keywords:  51%|█████     | 510/1009 [14:50<14:20,  1.73s/keyword]\n",
            "Processing ranks:   0%|          | 0/1 [00:01<?, ?rank/s]\u001b[A"
          ]
        },
        {
          "output_type": "stream",
          "name": "stdout",
          "text": [
            "Saved HTML file: html-files-2024-04-26-10-22/14516377107.html\n"
          ]
        },
        {
          "output_type": "stream",
          "name": "stderr",
          "text": [
            "\n",
            "Processing ranks: 100%|██████████| 1/1 [00:01<00:00,  1.45s/rank]\u001b[A\n",
            "Processing keywords:  51%|█████     | 511/1009 [14:50<13:41,  1.65s/keyword]\n",
            "\n",
            "Processing keywords:  51%|█████     | 511/1009 [14:51<13:41,  1.65s/keyword]\n",
            "Processing ranks:   0%|          | 0/1 [00:00<?, ?rank/s]\u001b[A"
          ]
        },
        {
          "output_type": "stream",
          "name": "stdout",
          "text": [
            "Saved HTML file: html-files-2024-04-26-10-22/14516414126.html\n"
          ]
        },
        {
          "output_type": "stream",
          "name": "stderr",
          "text": [
            "\n",
            "Processing ranks: 100%|██████████| 1/1 [00:01<00:00,  1.75s/rank]\u001b[A\n",
            "Processing keywords:  51%|█████     | 512/1009 [14:52<13:57,  1.69s/keyword]\n",
            "\n",
            "Processing keywords:  51%|█████     | 512/1009 [14:53<13:57,  1.69s/keyword]\n",
            "Processing ranks:   0%|          | 0/1 [00:01<?, ?rank/s]\u001b[A"
          ]
        },
        {
          "output_type": "stream",
          "name": "stdout",
          "text": [
            "Saved HTML file: html-files-2024-04-26-10-22/14516377450.html\n"
          ]
        },
        {
          "output_type": "stream",
          "name": "stderr",
          "text": [
            "\n",
            "Processing ranks: 100%|██████████| 1/1 [00:01<00:00,  1.86s/rank]\u001b[A\n",
            "Processing keywords:  51%|█████     | 513/1009 [14:54<14:28,  1.75s/keyword]\n",
            "\n",
            "Processing keywords:  51%|█████     | 513/1009 [14:55<14:28,  1.75s/keyword]\n",
            "Processing ranks:   0%|          | 0/1 [00:01<?, ?rank/s]\u001b[A"
          ]
        },
        {
          "output_type": "stream",
          "name": "stdout",
          "text": [
            "Saved HTML file: html-files-2024-04-26-10-22/14516377561.html\n"
          ]
        },
        {
          "output_type": "stream",
          "name": "stderr",
          "text": [
            "\n",
            "Processing ranks: 100%|██████████| 1/1 [00:02<00:00,  2.09s/rank]\u001b[A\n",
            "Processing keywords:  51%|█████     | 514/1009 [14:56<15:20,  1.86s/keyword]\n",
            "\n",
            "Processing keywords:  51%|█████     | 514/1009 [14:57<15:20,  1.86s/keyword]\n",
            "Processing ranks:   0%|          | 0/1 [00:01<?, ?rank/s]\u001b[A"
          ]
        },
        {
          "output_type": "stream",
          "name": "stdout",
          "text": [
            "Saved HTML file: html-files-2024-04-26-10-22/14516377655.html\n"
          ]
        },
        {
          "output_type": "stream",
          "name": "stderr",
          "text": [
            "\n",
            "Processing ranks: 100%|██████████| 1/1 [00:01<00:00,  1.85s/rank]\u001b[A\n",
            "Processing keywords:  51%|█████     | 515/1009 [14:58<15:20,  1.86s/keyword]\n",
            "\n",
            "Processing keywords:  51%|█████     | 515/1009 [14:59<15:20,  1.86s/keyword]\n",
            "Processing ranks:   0%|          | 0/1 [00:01<?, ?rank/s]\u001b[A"
          ]
        },
        {
          "output_type": "stream",
          "name": "stdout",
          "text": [
            "Saved HTML file: html-files-2024-04-26-10-22/14516377882.html\n"
          ]
        },
        {
          "output_type": "stream",
          "name": "stderr",
          "text": [
            "\n",
            "Processing ranks: 100%|██████████| 1/1 [00:01<00:00,  1.54s/rank]\u001b[A\n",
            "Processing keywords:  51%|█████     | 516/1009 [14:59<14:33,  1.77s/keyword]\n",
            "\n",
            "Processing keywords:  51%|█████     | 516/1009 [15:01<14:33,  1.77s/keyword]\n",
            "Processing ranks:   0%|          | 0/1 [00:01<?, ?rank/s]\u001b[A"
          ]
        },
        {
          "output_type": "stream",
          "name": "stdout",
          "text": [
            "Saved HTML file: html-files-2024-04-26-10-22/14516345201.html\n"
          ]
        },
        {
          "output_type": "stream",
          "name": "stderr",
          "text": [
            "\n",
            "Processing ranks: 100%|██████████| 1/1 [00:01<00:00,  1.77s/rank]\u001b[A\n",
            "Processing keywords:  51%|█████     | 517/1009 [15:01<14:33,  1.78s/keyword]\n",
            "\n",
            "Processing keywords:  51%|█████     | 517/1009 [15:02<14:33,  1.78s/keyword]\n",
            "Processing ranks:   0%|          | 0/1 [00:01<?, ?rank/s]\u001b[A"
          ]
        },
        {
          "output_type": "stream",
          "name": "stdout",
          "text": [
            "Saved HTML file: html-files-2024-04-26-10-22/14516345405.html\n"
          ]
        },
        {
          "output_type": "stream",
          "name": "stderr",
          "text": [
            "\n",
            "Processing ranks: 100%|██████████| 1/1 [00:01<00:00,  1.66s/rank]\u001b[A\n",
            "Processing keywords:  51%|█████▏    | 518/1009 [15:03<14:16,  1.75s/keyword]\n",
            "\n",
            "Processing keywords:  51%|█████▏    | 518/1009 [15:04<14:16,  1.75s/keyword]\n",
            "Processing ranks:   0%|          | 0/1 [00:01<?, ?rank/s]\u001b[A"
          ]
        },
        {
          "output_type": "stream",
          "name": "stdout",
          "text": [
            "Saved HTML file: html-files-2024-04-26-10-22/14516379069.html\n"
          ]
        },
        {
          "output_type": "stream",
          "name": "stderr",
          "text": [
            "\n",
            "Processing ranks: 100%|██████████| 1/1 [00:01<00:00,  1.61s/rank]\u001b[A\n",
            "Processing keywords:  51%|█████▏    | 519/1009 [15:04<13:58,  1.71s/keyword]\n",
            "\n",
            "Processing keywords:  51%|█████▏    | 519/1009 [15:06<13:58,  1.71s/keyword]\n",
            "Processing ranks:   0%|          | 0/1 [00:01<?, ?rank/s]\u001b[A"
          ]
        },
        {
          "output_type": "stream",
          "name": "stdout",
          "text": [
            "Saved HTML file: html-files-2024-04-26-10-22/14516383866.html\n"
          ]
        },
        {
          "output_type": "stream",
          "name": "stderr",
          "text": [
            "\n",
            "Processing ranks: 100%|██████████| 1/1 [00:01<00:00,  1.92s/rank]\u001b[A\n",
            "Processing keywords:  52%|█████▏    | 520/1009 [15:06<14:30,  1.78s/keyword]\n",
            "\n",
            "Processing keywords:  52%|█████▏    | 520/1009 [15:07<14:30,  1.78s/keyword]\n",
            "Processing ranks:   0%|          | 0/1 [00:00<?, ?rank/s]\u001b[A"
          ]
        },
        {
          "output_type": "stream",
          "name": "stdout",
          "text": [
            "Saved HTML file: html-files-2024-04-26-10-22/14516345545.html\n"
          ]
        },
        {
          "output_type": "stream",
          "name": "stderr",
          "text": [
            "\n",
            "Processing ranks: 100%|██████████| 1/1 [00:01<00:00,  1.27s/rank]\u001b[A\n",
            "Processing keywords:  52%|█████▏    | 521/1009 [15:08<13:17,  1.63s/keyword]\n",
            "\n",
            "Processing keywords:  52%|█████▏    | 521/1009 [15:09<13:17,  1.63s/keyword]\n",
            "Processing ranks:   0%|          | 0/1 [00:01<?, ?rank/s]\u001b[A"
          ]
        },
        {
          "output_type": "stream",
          "name": "stdout",
          "text": [
            "Saved HTML file: html-files-2024-04-26-10-22/14516345636.html\n"
          ]
        },
        {
          "output_type": "stream",
          "name": "stderr",
          "text": [
            "\n",
            "Processing ranks: 100%|██████████| 1/1 [00:02<00:00,  2.10s/rank]\u001b[A\n",
            "Processing keywords:  52%|█████▏    | 522/1009 [15:10<14:26,  1.78s/keyword]\n",
            "\n",
            "Processing keywords:  52%|█████▏    | 522/1009 [15:11<14:26,  1.78s/keyword]\n",
            "Processing ranks:   0%|          | 0/1 [00:01<?, ?rank/s]\u001b[A"
          ]
        },
        {
          "output_type": "stream",
          "name": "stdout",
          "text": [
            "Saved HTML file: html-files-2024-04-26-10-22/14516345721.html\n"
          ]
        },
        {
          "output_type": "stream",
          "name": "stderr",
          "text": [
            "\n",
            "Processing ranks: 100%|██████████| 1/1 [00:01<00:00,  1.88s/rank]\u001b[A\n",
            "Processing keywords:  52%|█████▏    | 523/1009 [15:12<14:44,  1.82s/keyword]\n",
            "\n",
            "Processing keywords:  52%|█████▏    | 523/1009 [15:13<14:44,  1.82s/keyword]\n",
            "Processing ranks:   0%|          | 0/1 [00:01<?, ?rank/s]\u001b[A"
          ]
        },
        {
          "output_type": "stream",
          "name": "stdout",
          "text": [
            "Saved HTML file: html-files-2024-04-26-10-22/14516417001.html\n"
          ]
        },
        {
          "output_type": "stream",
          "name": "stderr",
          "text": [
            "\n",
            "Processing ranks: 100%|██████████| 1/1 [00:01<00:00,  1.89s/rank]\u001b[A\n",
            "Processing keywords:  52%|█████▏    | 524/1009 [15:14<14:56,  1.85s/keyword]\n",
            "\n",
            "Processing keywords:  52%|█████▏    | 524/1009 [15:15<14:56,  1.85s/keyword]\n",
            "Processing ranks:   0%|          | 0/1 [00:01<?, ?rank/s]\u001b[A"
          ]
        },
        {
          "output_type": "stream",
          "name": "stdout",
          "text": [
            "Saved HTML file: html-files-2024-04-26-10-22/14516379899.html\n"
          ]
        },
        {
          "output_type": "stream",
          "name": "stderr",
          "text": [
            "\n",
            "Processing ranks: 100%|██████████| 1/1 [00:01<00:00,  1.99s/rank]\u001b[A\n",
            "Processing keywords:  52%|█████▏    | 525/1009 [15:16<15:19,  1.90s/keyword]\n",
            "\n",
            "Processing keywords:  52%|█████▏    | 525/1009 [15:17<15:19,  1.90s/keyword]\n",
            "Processing ranks:   0%|          | 0/1 [00:01<?, ?rank/s]\u001b[A"
          ]
        },
        {
          "output_type": "stream",
          "name": "stdout",
          "text": [
            "Saved HTML file: html-files-2024-04-26-10-22/14516380341.html\n"
          ]
        },
        {
          "output_type": "stream",
          "name": "stderr",
          "text": [
            "\n",
            "Processing ranks: 100%|██████████| 1/1 [00:01<00:00,  1.80s/rank]\u001b[A\n",
            "Processing keywords:  52%|█████▏    | 526/1009 [15:18<15:07,  1.88s/keyword]\n",
            "\n",
            "Processing keywords:  52%|█████▏    | 526/1009 [15:19<15:07,  1.88s/keyword]\n",
            "Processing ranks:   0%|          | 0/1 [00:01<?, ?rank/s]\u001b[A"
          ]
        },
        {
          "output_type": "stream",
          "name": "stdout",
          "text": [
            "Saved HTML file: html-files-2024-04-26-10-22/14516380503.html\n"
          ]
        },
        {
          "output_type": "stream",
          "name": "stderr",
          "text": [
            "\n",
            "Processing ranks: 100%|██████████| 1/1 [00:01<00:00,  1.98s/rank]\u001b[A\n",
            "Processing keywords:  52%|█████▏    | 527/1009 [15:20<15:24,  1.92s/keyword]\n",
            "\n",
            "Processing keywords:  52%|█████▏    | 527/1009 [15:21<15:24,  1.92s/keyword]\n",
            "Processing ranks:   0%|          | 0/1 [00:01<?, ?rank/s]\u001b[A"
          ]
        },
        {
          "output_type": "stream",
          "name": "stdout",
          "text": [
            "Saved HTML file: html-files-2024-04-26-10-22/14516382015.html\n"
          ]
        },
        {
          "output_type": "stream",
          "name": "stderr",
          "text": [
            "\n",
            "Processing ranks: 100%|██████████| 1/1 [00:02<00:00,  2.16s/rank]\u001b[A\n",
            "Processing keywords:  52%|█████▏    | 528/1009 [15:22<16:00,  2.00s/keyword]\n",
            "\n",
            "Processing keywords:  52%|█████▏    | 528/1009 [15:23<16:00,  2.00s/keyword]\n",
            "Processing ranks:   0%|          | 0/1 [00:01<?, ?rank/s]\u001b[A"
          ]
        },
        {
          "output_type": "stream",
          "name": "stdout",
          "text": [
            "Saved HTML file: html-files-2024-04-26-10-22/14516382477.html\n"
          ]
        },
        {
          "output_type": "stream",
          "name": "stderr",
          "text": [
            "\n",
            "Processing ranks: 100%|██████████| 1/1 [00:01<00:00,  1.83s/rank]\u001b[A\n",
            "Processing keywords:  52%|█████▏    | 529/1009 [15:24<15:36,  1.95s/keyword]\n",
            "\n",
            "Processing keywords:  52%|█████▏    | 529/1009 [15:25<15:36,  1.95s/keyword]\n",
            "Processing ranks:   0%|          | 0/1 [00:01<?, ?rank/s]\u001b[A"
          ]
        },
        {
          "output_type": "stream",
          "name": "stdout",
          "text": [
            "Saved HTML file: html-files-2024-04-26-10-22/14516350977.html\n"
          ]
        },
        {
          "output_type": "stream",
          "name": "stderr",
          "text": [
            "\n",
            "Processing ranks: 100%|██████████| 1/1 [00:01<00:00,  1.69s/rank]\u001b[A\n",
            "Processing keywords:  53%|█████▎    | 530/1009 [15:25<14:59,  1.88s/keyword]\n",
            "\n",
            "Processing keywords:  53%|█████▎    | 530/1009 [15:27<14:59,  1.88s/keyword]\n",
            "Processing ranks:   0%|          | 0/1 [00:01<?, ?rank/s]\u001b[A"
          ]
        },
        {
          "output_type": "stream",
          "name": "stdout",
          "text": [
            "Saved HTML file: html-files-2024-04-26-10-22/14516351105.html\n"
          ]
        },
        {
          "output_type": "stream",
          "name": "stderr",
          "text": [
            "\n",
            "Processing ranks: 100%|██████████| 1/1 [00:01<00:00,  1.64s/rank]\u001b[A\n",
            "Processing keywords:  53%|█████▎    | 531/1009 [15:27<14:25,  1.81s/keyword]\n",
            "\n",
            "Processing keywords:  53%|█████▎    | 531/1009 [15:28<14:25,  1.81s/keyword]\n",
            "Processing ranks:   0%|          | 0/1 [00:01<?, ?rank/s]\u001b[A"
          ]
        },
        {
          "output_type": "stream",
          "name": "stdout",
          "text": [
            "Saved HTML file: html-files-2024-04-26-10-22/14516342810.html\n"
          ]
        },
        {
          "output_type": "stream",
          "name": "stderr",
          "text": [
            "\n",
            "Processing ranks: 100%|██████████| 1/1 [00:02<00:00,  2.05s/rank]\u001b[A\n",
            "Processing keywords:  53%|█████▎    | 532/1009 [15:29<14:59,  1.89s/keyword]\n",
            "\n",
            "Processing keywords:  53%|█████▎    | 532/1009 [15:30<14:59,  1.89s/keyword]\n",
            "Processing ranks:   0%|          | 0/1 [00:00<?, ?rank/s]\u001b[A"
          ]
        },
        {
          "output_type": "stream",
          "name": "stdout",
          "text": [
            "Saved HTML file: html-files-2024-04-26-10-22/14516343870.html\n"
          ]
        },
        {
          "output_type": "stream",
          "name": "stderr",
          "text": [
            "\n",
            "Processing ranks: 100%|██████████| 1/1 [00:01<00:00,  1.49s/rank]\u001b[A\n",
            "Processing keywords:  53%|█████▎    | 533/1009 [15:30<14:04,  1.77s/keyword]\n",
            "\n",
            "Processing keywords:  53%|█████▎    | 533/1009 [15:32<14:04,  1.77s/keyword]\n",
            "Processing ranks:   0%|          | 0/1 [00:01<?, ?rank/s]\u001b[A"
          ]
        },
        {
          "output_type": "stream",
          "name": "stdout",
          "text": [
            "Saved HTML file: html-files-2024-04-26-10-22/14516344119.html\n"
          ]
        },
        {
          "output_type": "stream",
          "name": "stderr",
          "text": [
            "\n",
            "Processing ranks: 100%|██████████| 1/1 [00:02<00:00,  2.26s/rank]\u001b[A\n",
            "Processing keywords:  53%|█████▎    | 534/1009 [15:33<15:16,  1.93s/keyword]\n",
            "\n",
            "Processing keywords:  53%|█████▎    | 534/1009 [15:34<15:16,  1.93s/keyword]\n",
            "Processing ranks:   0%|          | 0/1 [00:01<?, ?rank/s]\u001b[A"
          ]
        },
        {
          "output_type": "stream",
          "name": "stdout",
          "text": [
            "Saved HTML file: html-files-2024-04-26-10-22/14516417976.html\n"
          ]
        },
        {
          "output_type": "stream",
          "name": "stderr",
          "text": [
            "\n",
            "Processing ranks: 100%|██████████| 1/1 [00:02<00:00,  2.04s/rank]\u001b[A\n",
            "Processing keywords:  53%|█████▎    | 535/1009 [15:35<15:33,  1.97s/keyword]\n",
            "\n",
            "Processing keywords:  53%|█████▎    | 535/1009 [15:36<15:33,  1.97s/keyword]\n",
            "Processing ranks:   0%|          | 0/1 [00:01<?, ?rank/s]\u001b[A"
          ]
        },
        {
          "output_type": "stream",
          "name": "stdout",
          "text": [
            "Saved HTML file: html-files-2024-04-26-10-22/14516351694.html\n"
          ]
        },
        {
          "output_type": "stream",
          "name": "stderr",
          "text": [
            "\n",
            "Processing ranks: 100%|██████████| 1/1 [00:01<00:00,  1.62s/rank]\u001b[A\n",
            "Processing keywords:  53%|█████▎    | 536/1009 [15:36<14:45,  1.87s/keyword]\n",
            "\n",
            "Processing keywords:  53%|█████▎    | 536/1009 [15:38<14:45,  1.87s/keyword]\n",
            "Processing ranks:   0%|          | 0/1 [00:01<?, ?rank/s]\u001b[A"
          ]
        },
        {
          "output_type": "stream",
          "name": "stdout",
          "text": [
            "Saved HTML file: html-files-2024-04-26-10-22/14516345251.html\n"
          ]
        },
        {
          "output_type": "stream",
          "name": "stderr",
          "text": [
            "\n",
            "Processing ranks: 100%|██████████| 1/1 [00:01<00:00,  1.87s/rank]\u001b[A\n",
            "Processing keywords:  53%|█████▎    | 537/1009 [15:38<14:46,  1.88s/keyword]\n",
            "\n",
            "Processing keywords:  53%|█████▎    | 537/1009 [15:40<14:46,  1.88s/keyword]\n",
            "Processing ranks:   0%|          | 0/1 [00:01<?, ?rank/s]\u001b[A"
          ]
        },
        {
          "output_type": "stream",
          "name": "stdout",
          "text": [
            "Saved HTML file: html-files-2024-04-26-10-22/14516345934.html\n"
          ]
        },
        {
          "output_type": "stream",
          "name": "stderr",
          "text": [
            "\n",
            "Processing ranks: 100%|██████████| 1/1 [00:01<00:00,  1.62s/rank]\u001b[A\n",
            "Processing keywords:  53%|█████▎    | 538/1009 [15:40<14:11,  1.81s/keyword]\n",
            "\n",
            "Processing keywords:  53%|█████▎    | 538/1009 [15:41<14:11,  1.81s/keyword]\n",
            "Processing ranks:   0%|          | 0/1 [00:01<?, ?rank/s]\u001b[A"
          ]
        },
        {
          "output_type": "stream",
          "name": "stdout",
          "text": [
            "Saved HTML file: html-files-2024-04-26-10-22/14516346131.html\n"
          ]
        },
        {
          "output_type": "stream",
          "name": "stderr",
          "text": [
            "\n",
            "Processing ranks: 100%|██████████| 1/1 [00:01<00:00,  1.74s/rank]\u001b[A\n",
            "Processing keywords:  53%|█████▎    | 539/1009 [15:42<14:01,  1.79s/keyword]\n",
            "\n",
            "Processing keywords:  53%|█████▎    | 539/1009 [15:42<14:01,  1.79s/keyword]\n",
            "Processing ranks:   0%|          | 0/1 [00:00<?, ?rank/s]\u001b[A"
          ]
        },
        {
          "output_type": "stream",
          "name": "stdout",
          "text": [
            "Saved HTML file: html-files-2024-04-26-10-22/14516346660.html\n"
          ]
        },
        {
          "output_type": "stream",
          "name": "stderr",
          "text": [
            "\n",
            "Processing ranks: 100%|██████████| 1/1 [00:01<00:00,  1.07s/rank]\u001b[A\n",
            "Processing keywords:  54%|█████▎    | 540/1009 [15:43<12:21,  1.58s/keyword]\n",
            "\n",
            "Processing keywords:  54%|█████▎    | 540/1009 [15:44<12:21,  1.58s/keyword]\n",
            "Processing ranks:   0%|          | 0/1 [00:01<?, ?rank/s]\u001b[A"
          ]
        },
        {
          "output_type": "stream",
          "name": "stdout",
          "text": [
            "Saved HTML file: html-files-2024-04-26-10-22/14516384080.html\n"
          ]
        },
        {
          "output_type": "stream",
          "name": "stderr",
          "text": [
            "\n",
            "Processing ranks: 100%|██████████| 1/1 [00:01<00:00,  1.59s/rank]\u001b[A\n",
            "Processing keywords:  54%|█████▎    | 541/1009 [15:44<12:24,  1.59s/keyword]\n",
            "\n",
            "Processing keywords:  54%|█████▎    | 541/1009 [15:46<12:24,  1.59s/keyword]\n",
            "Processing ranks:   0%|          | 0/1 [00:01<?, ?rank/s]\u001b[A"
          ]
        },
        {
          "output_type": "stream",
          "name": "stdout",
          "text": [
            "Saved HTML file: html-files-2024-04-26-10-22/14516347341.html\n"
          ]
        },
        {
          "output_type": "stream",
          "name": "stderr",
          "text": [
            "\n",
            "Processing ranks: 100%|██████████| 1/1 [00:01<00:00,  1.81s/rank]\u001b[A\n",
            "Processing keywords:  54%|█████▎    | 542/1009 [15:46<12:56,  1.66s/keyword]\n",
            "\n",
            "Processing keywords:  54%|█████▎    | 542/1009 [15:48<12:56,  1.66s/keyword]\n",
            "Processing ranks:   0%|          | 0/1 [00:01<?, ?rank/s]\u001b[A"
          ]
        },
        {
          "output_type": "stream",
          "name": "stdout",
          "text": [
            "Saved HTML file: html-files-2024-04-26-10-22/14516384831.html\n"
          ]
        },
        {
          "output_type": "stream",
          "name": "stderr",
          "text": [
            "\n",
            "Processing ranks: 100%|██████████| 1/1 [00:01<00:00,  1.86s/rank]\u001b[A\n",
            "Processing keywords:  54%|█████▍    | 543/1009 [15:48<13:25,  1.73s/keyword]\n",
            "\n",
            "Processing keywords:  54%|█████▍    | 543/1009 [15:50<13:25,  1.73s/keyword]\n",
            "Processing ranks:   0%|          | 0/1 [00:01<?, ?rank/s]\u001b[A"
          ]
        },
        {
          "output_type": "stream",
          "name": "stdout",
          "text": [
            "Saved HTML file: html-files-2024-04-26-10-22/14516384957.html\n"
          ]
        },
        {
          "output_type": "stream",
          "name": "stderr",
          "text": [
            "\n",
            "Processing ranks: 100%|██████████| 1/1 [00:02<00:00,  2.05s/rank]\u001b[A\n",
            "Processing keywords:  54%|█████▍    | 544/1009 [15:50<14:11,  1.83s/keyword]\n",
            "\n",
            "Processing keywords:  54%|█████▍    | 544/1009 [15:52<14:11,  1.83s/keyword]\n",
            "Processing ranks:   0%|          | 0/1 [00:01<?, ?rank/s]\u001b[A"
          ]
        },
        {
          "output_type": "stream",
          "name": "stdout",
          "text": [
            "Saved HTML file: html-files-2024-04-26-10-22/14516348297.html\n"
          ]
        },
        {
          "output_type": "stream",
          "name": "stderr",
          "text": [
            "\n",
            "Processing ranks: 100%|██████████| 1/1 [00:02<00:00,  2.19s/rank]\u001b[A\n",
            "Processing keywords:  54%|█████▍    | 545/1009 [15:52<15:02,  1.95s/keyword]\n",
            "\n",
            "Processing keywords:  54%|█████▍    | 545/1009 [15:54<15:02,  1.95s/keyword]\n",
            "Processing ranks:   0%|          | 0/1 [00:01<?, ?rank/s]\u001b[A"
          ]
        },
        {
          "output_type": "stream",
          "name": "stdout",
          "text": [
            "Saved HTML file: html-files-2024-04-26-10-22/14516385441.html\n"
          ]
        },
        {
          "output_type": "stream",
          "name": "stderr",
          "text": [
            "\n",
            "Processing ranks: 100%|██████████| 1/1 [00:01<00:00,  1.70s/rank]\u001b[A\n",
            "Processing keywords:  54%|█████▍    | 546/1009 [15:54<14:28,  1.88s/keyword]\n",
            "\n",
            "Processing keywords:  54%|█████▍    | 546/1009 [15:55<14:28,  1.88s/keyword]\n",
            "Processing ranks:   0%|          | 0/1 [00:01<?, ?rank/s]\u001b[A"
          ]
        },
        {
          "output_type": "stream",
          "name": "stdout",
          "text": [
            "Saved HTML file: html-files-2024-04-26-10-22/14516385840.html\n"
          ]
        },
        {
          "output_type": "stream",
          "name": "stderr",
          "text": [
            "\n",
            "Processing ranks: 100%|██████████| 1/1 [00:01<00:00,  1.69s/rank]\u001b[A\n",
            "Processing keywords:  54%|█████▍    | 547/1009 [15:56<14:03,  1.83s/keyword]\n",
            "\n",
            "Processing keywords:  54%|█████▍    | 547/1009 [15:57<14:03,  1.83s/keyword]\n",
            "Processing ranks:   0%|          | 0/1 [00:01<?, ?rank/s]\u001b[A"
          ]
        },
        {
          "output_type": "stream",
          "name": "stdout",
          "text": [
            "Saved HTML file: html-files-2024-04-26-10-22/14516348837.html\n"
          ]
        },
        {
          "output_type": "stream",
          "name": "stderr",
          "text": [
            "\n",
            "Processing ranks: 100%|██████████| 1/1 [00:01<00:00,  1.54s/rank]\u001b[A\n",
            "Processing keywords:  54%|█████▍    | 548/1009 [15:57<13:24,  1.74s/keyword]\n",
            "\n",
            "Processing keywords:  54%|█████▍    | 548/1009 [15:59<13:24,  1.74s/keyword]\n",
            "Processing ranks:   0%|          | 0/1 [00:01<?, ?rank/s]\u001b[A"
          ]
        },
        {
          "output_type": "stream",
          "name": "stdout",
          "text": [
            "Saved HTML file: html-files-2024-04-26-10-22/14516386787.html\n"
          ]
        },
        {
          "output_type": "stream",
          "name": "stderr",
          "text": [
            "\n",
            "Processing ranks: 100%|██████████| 1/1 [00:01<00:00,  1.64s/rank]\u001b[A\n",
            "Processing keywords:  54%|█████▍    | 549/1009 [15:59<13:09,  1.72s/keyword]\n",
            "\n",
            "Processing keywords:  54%|█████▍    | 549/1009 [16:01<13:09,  1.72s/keyword]\n",
            "Processing ranks:   0%|          | 0/1 [00:01<?, ?rank/s]\u001b[A"
          ]
        },
        {
          "output_type": "stream",
          "name": "stdout",
          "text": [
            "Saved HTML file: html-files-2024-04-26-10-22/14516387210.html\n"
          ]
        },
        {
          "output_type": "stream",
          "name": "stderr",
          "text": [
            "\n",
            "Processing ranks: 100%|██████████| 1/1 [00:01<00:00,  1.93s/rank]\u001b[A\n",
            "Processing keywords:  55%|█████▍    | 550/1009 [16:01<13:39,  1.79s/keyword]\n",
            "\n",
            "Processing keywords:  55%|█████▍    | 550/1009 [16:03<13:39,  1.79s/keyword]\n",
            "Processing ranks:   0%|          | 0/1 [00:01<?, ?rank/s]\u001b[A"
          ]
        },
        {
          "output_type": "stream",
          "name": "stdout",
          "text": [
            "Saved HTML file: html-files-2024-04-26-10-22/14516350368.html\n"
          ]
        },
        {
          "output_type": "stream",
          "name": "stderr",
          "text": [
            "\n",
            "Processing ranks: 100%|██████████| 1/1 [00:02<00:00,  2.14s/rank]\u001b[A\n",
            "Processing keywords:  55%|█████▍    | 551/1009 [16:03<14:29,  1.90s/keyword]\n",
            "\n",
            "Processing keywords:  55%|█████▍    | 551/1009 [16:04<14:29,  1.90s/keyword]\n",
            "Processing ranks:   0%|          | 0/1 [00:00<?, ?rank/s]\u001b[A"
          ]
        },
        {
          "output_type": "stream",
          "name": "stdout",
          "text": [
            "Saved HTML file: html-files-2024-04-26-10-22/14516350496.html\n"
          ]
        },
        {
          "output_type": "stream",
          "name": "stderr",
          "text": [
            "\n",
            "Processing ranks: 100%|██████████| 1/1 [00:01<00:00,  1.34s/rank]\u001b[A\n",
            "Processing keywords:  55%|█████▍    | 552/1009 [16:05<13:14,  1.74s/keyword]\n",
            "\n",
            "Processing keywords:  55%|█████▍    | 552/1009 [16:05<13:14,  1.74s/keyword]\n",
            "Processing ranks:   0%|          | 0/1 [00:00<?, ?rank/s]\u001b[A"
          ]
        },
        {
          "output_type": "stream",
          "name": "stdout",
          "text": [
            "Saved HTML file: html-files-2024-04-26-10-22/14516420074.html\n"
          ]
        },
        {
          "output_type": "stream",
          "name": "stderr",
          "text": [
            "\n",
            "Processing ranks: 100%|██████████| 1/1 [00:01<00:00,  1.07s/rank]\u001b[A\n",
            "Processing keywords:  55%|█████▍    | 553/1009 [16:06<11:43,  1.54s/keyword]\n",
            "\n",
            "Processing keywords:  55%|█████▍    | 553/1009 [16:07<11:43,  1.54s/keyword]\n",
            "Processing ranks:   0%|          | 0/1 [00:01<?, ?rank/s]\u001b[A"
          ]
        },
        {
          "output_type": "stream",
          "name": "stdout",
          "text": [
            "Saved HTML file: html-files-2024-04-26-10-22/14516388380.html\n"
          ]
        },
        {
          "output_type": "stream",
          "name": "stderr",
          "text": [
            "\n",
            "Processing ranks: 100%|██████████| 1/1 [00:02<00:00,  2.09s/rank]\u001b[A\n",
            "Processing keywords:  55%|█████▍    | 554/1009 [16:08<13:00,  1.72s/keyword]\n",
            "\n",
            "Processing keywords:  55%|█████▍    | 554/1009 [16:09<13:00,  1.72s/keyword]\n",
            "Processing ranks:   0%|          | 0/1 [00:01<?, ?rank/s]\u001b[A"
          ]
        },
        {
          "output_type": "stream",
          "name": "stdout",
          "text": [
            "Saved HTML file: html-files-2024-04-26-10-22/14516420487.html\n"
          ]
        },
        {
          "output_type": "stream",
          "name": "stderr",
          "text": [
            "\n",
            "Processing ranks: 100%|██████████| 1/1 [00:01<00:00,  1.73s/rank]\u001b[A\n",
            "Processing keywords:  55%|█████▌    | 555/1009 [16:10<13:03,  1.73s/keyword]\n",
            "\n",
            "Processing keywords:  55%|█████▌    | 555/1009 [16:11<13:03,  1.73s/keyword]\n",
            "Processing ranks:   0%|          | 0/1 [00:01<?, ?rank/s]\u001b[A"
          ]
        },
        {
          "output_type": "stream",
          "name": "stdout",
          "text": [
            "Saved HTML file: html-files-2024-04-26-10-22/14516352783.html\n"
          ]
        },
        {
          "output_type": "stream",
          "name": "stderr",
          "text": [
            "\n",
            "Processing ranks: 100%|██████████| 1/1 [00:02<00:00,  2.25s/rank]\u001b[A\n",
            "Processing keywords:  55%|█████▌    | 556/1009 [16:12<14:15,  1.89s/keyword]\n",
            "\n",
            "Processing keywords:  55%|█████▌    | 556/1009 [16:12<14:15,  1.89s/keyword]\n",
            "Processing ranks:   0%|          | 0/1 [00:00<?, ?rank/s]\u001b[A"
          ]
        },
        {
          "output_type": "stream",
          "name": "stdout",
          "text": [
            "Saved HTML file: html-files-2024-04-26-10-22/14516353079.html\n"
          ]
        },
        {
          "output_type": "stream",
          "name": "stderr",
          "text": [
            "\n",
            "Processing ranks: 100%|██████████| 1/1 [00:01<00:00,  1.25s/rank]\u001b[A\n",
            "Processing keywords:  55%|█████▌    | 557/1009 [16:13<12:49,  1.70s/keyword]\n",
            "\n",
            "Processing keywords:  55%|█████▌    | 557/1009 [16:14<12:49,  1.70s/keyword]\n",
            "Processing ranks:   0%|          | 0/1 [00:01<?, ?rank/s]\u001b[A"
          ]
        },
        {
          "output_type": "stream",
          "name": "stdout",
          "text": [
            "Saved HTML file: html-files-2024-04-26-10-22/14516390749.html\n"
          ]
        },
        {
          "output_type": "stream",
          "name": "stderr",
          "text": [
            "\n",
            "Processing ranks: 100%|██████████| 1/1 [00:01<00:00,  1.69s/rank]\u001b[A\n",
            "Processing keywords:  55%|█████▌    | 558/1009 [16:15<12:48,  1.70s/keyword]\n",
            "\n",
            "Processing keywords:  55%|█████▌    | 558/1009 [16:17<12:48,  1.70s/keyword]\n",
            "Processing ranks:   0%|          | 0/1 [00:01<?, ?rank/s]\u001b[A"
          ]
        },
        {
          "output_type": "stream",
          "name": "stdout",
          "text": [
            "Saved HTML file: html-files-2024-04-26-10-22/14516422273.html\n"
          ]
        },
        {
          "output_type": "stream",
          "name": "stderr",
          "text": [
            "\n",
            "Processing ranks: 100%|██████████| 1/1 [00:02<00:00,  2.11s/rank]\u001b[A\n",
            "Processing keywords:  55%|█████▌    | 559/1009 [16:17<13:44,  1.83s/keyword]\n",
            "\n",
            "Processing keywords:  55%|█████▌    | 559/1009 [16:18<13:44,  1.83s/keyword]\n",
            "Processing ranks:   0%|          | 0/1 [00:01<?, ?rank/s]\u001b[A"
          ]
        },
        {
          "output_type": "stream",
          "name": "stdout",
          "text": [
            "Saved HTML file: html-files-2024-04-26-10-22/14516353000.html\n"
          ]
        },
        {
          "output_type": "stream",
          "name": "stderr",
          "text": [
            "\n",
            "Processing ranks: 100%|██████████| 1/1 [00:01<00:00,  1.91s/rank]\u001b[A\n",
            "Processing keywords:  56%|█████▌    | 560/1009 [16:19<13:55,  1.86s/keyword]\n",
            "\n",
            "Processing keywords:  56%|█████▌    | 560/1009 [16:19<13:55,  1.86s/keyword]\n",
            "Processing ranks:   0%|          | 0/1 [00:00<?, ?rank/s]\u001b[A"
          ]
        },
        {
          "output_type": "stream",
          "name": "stdout",
          "text": [
            "Saved HTML file: html-files-2024-04-26-10-22/14516392360.html\n"
          ]
        },
        {
          "output_type": "stream",
          "name": "stderr",
          "text": [
            "\n",
            "Processing ranks: 100%|██████████| 1/1 [00:00<00:00,  1.10rank/s]\u001b[A\n",
            "Processing keywords:  56%|█████▌    | 561/1009 [16:20<11:47,  1.58s/keyword]\n",
            "\n",
            "Processing keywords:  56%|█████▌    | 561/1009 [16:21<11:47,  1.58s/keyword]\n",
            "Processing ranks:   0%|          | 0/1 [00:01<?, ?rank/s]\u001b[A"
          ]
        },
        {
          "output_type": "stream",
          "name": "stdout",
          "text": [
            "Saved HTML file: html-files-2024-04-26-10-22/14516355253.html\n"
          ]
        },
        {
          "output_type": "stream",
          "name": "stderr",
          "text": [
            "\n",
            "Processing ranks: 100%|██████████| 1/1 [00:01<00:00,  1.82s/rank]\u001b[A\n",
            "Processing keywords:  56%|█████▌    | 562/1009 [16:22<12:20,  1.66s/keyword]\n",
            "\n",
            "Processing keywords:  56%|█████▌    | 562/1009 [16:23<12:20,  1.66s/keyword]\n",
            "Processing ranks:   0%|          | 0/1 [00:01<?, ?rank/s]\u001b[A"
          ]
        },
        {
          "output_type": "stream",
          "name": "stdout",
          "text": [
            "Saved HTML file: html-files-2024-04-26-10-22/14516353381.html\n"
          ]
        },
        {
          "output_type": "stream",
          "name": "stderr",
          "text": [
            "\n",
            "Processing ranks: 100%|██████████| 1/1 [00:02<00:00,  2.01s/rank]\u001b[A\n",
            "Processing keywords:  56%|█████▌    | 563/1009 [16:24<13:09,  1.77s/keyword]\n",
            "\n",
            "Processing keywords:  56%|█████▌    | 563/1009 [16:24<13:09,  1.77s/keyword]\n",
            "Processing ranks:   0%|          | 0/1 [00:00<?, ?rank/s]\u001b[A"
          ]
        },
        {
          "output_type": "stream",
          "name": "stdout",
          "text": [
            "Saved HTML file: html-files-2024-04-26-10-22/14516393002.html\n"
          ]
        },
        {
          "output_type": "stream",
          "name": "stderr",
          "text": [
            "\n",
            "Processing ranks: 100%|██████████| 1/1 [00:01<00:00,  1.21s/rank]\u001b[A\n",
            "Processing keywords:  56%|█████▌    | 564/1009 [16:25<11:54,  1.61s/keyword]\n",
            "\n",
            "Processing keywords:  56%|█████▌    | 564/1009 [16:26<11:54,  1.61s/keyword]\n",
            "Processing ranks:   0%|          | 0/1 [00:01<?, ?rank/s]\u001b[A"
          ]
        },
        {
          "output_type": "stream",
          "name": "stdout",
          "text": [
            "Saved HTML file: html-files-2024-04-26-10-22/14516346713.html\n"
          ]
        },
        {
          "output_type": "stream",
          "name": "stderr",
          "text": [
            "\n",
            "Processing ranks: 100%|██████████| 1/1 [00:02<00:00,  2.16s/rank]\u001b[A\n",
            "Processing keywords:  56%|█████▌    | 565/1009 [16:27<13:11,  1.78s/keyword]\n",
            "\n",
            "Processing keywords:  56%|█████▌    | 565/1009 [16:29<13:11,  1.78s/keyword]\n",
            "Processing ranks:   0%|          | 0/1 [00:01<?, ?rank/s]\u001b[A"
          ]
        },
        {
          "output_type": "stream",
          "name": "stdout",
          "text": [
            "Saved HTML file: html-files-2024-04-26-10-22/14516359391.html\n"
          ]
        },
        {
          "output_type": "stream",
          "name": "stderr",
          "text": [
            "\n",
            "Processing ranks: 100%|██████████| 1/1 [00:02<00:00,  2.12s/rank]\u001b[A\n",
            "Processing keywords:  56%|█████▌    | 566/1009 [16:29<13:57,  1.89s/keyword]\n",
            "\n",
            "Processing keywords:  56%|█████▌    | 566/1009 [16:30<13:57,  1.89s/keyword]\n",
            "Processing ranks:   0%|          | 0/1 [00:01<?, ?rank/s]\u001b[A"
          ]
        },
        {
          "output_type": "stream",
          "name": "stdout",
          "text": [
            "Saved HTML file: html-files-2024-04-26-10-22/14516359716.html\n"
          ]
        },
        {
          "output_type": "stream",
          "name": "stderr",
          "text": [
            "\n",
            "Processing ranks: 100%|██████████| 1/1 [00:01<00:00,  1.88s/rank]\u001b[A\n",
            "Processing keywords:  56%|█████▌    | 567/1009 [16:31<13:56,  1.89s/keyword]\n",
            "\n",
            "Processing keywords:  56%|█████▌    | 567/1009 [16:32<13:56,  1.89s/keyword]\n",
            "Processing ranks:   0%|          | 0/1 [00:01<?, ?rank/s]\u001b[A"
          ]
        },
        {
          "output_type": "stream",
          "name": "stdout",
          "text": [
            "Saved HTML file: html-files-2024-04-26-10-22/14516360072.html\n"
          ]
        },
        {
          "output_type": "stream",
          "name": "stderr",
          "text": [
            "\n",
            "Processing ranks: 100%|██████████| 1/1 [00:01<00:00,  1.74s/rank]\u001b[A\n",
            "Processing keywords:  56%|█████▋    | 568/1009 [16:33<13:36,  1.85s/keyword]\n",
            "\n",
            "Processing keywords:  56%|█████▋    | 568/1009 [16:34<13:36,  1.85s/keyword]\n",
            "Processing ranks:   0%|          | 0/1 [00:01<?, ?rank/s]\u001b[A"
          ]
        },
        {
          "output_type": "stream",
          "name": "stdout",
          "text": [
            "Saved HTML file: html-files-2024-04-26-10-22/14516360131.html\n"
          ]
        },
        {
          "output_type": "stream",
          "name": "stderr",
          "text": [
            "\n",
            "Processing ranks: 100%|██████████| 1/1 [00:01<00:00,  1.70s/rank]\u001b[A\n",
            "Processing keywords:  56%|█████▋    | 569/1009 [16:35<13:17,  1.81s/keyword]\n",
            "\n",
            "Processing keywords:  56%|█████▋    | 569/1009 [16:36<13:17,  1.81s/keyword]\n",
            "Processing ranks:   0%|          | 0/1 [00:01<?, ?rank/s]\u001b[A"
          ]
        },
        {
          "output_type": "stream",
          "name": "stdout",
          "text": [
            "Saved HTML file: html-files-2024-04-26-10-22/14516394076.html\n"
          ]
        },
        {
          "output_type": "stream",
          "name": "stderr",
          "text": [
            "\n",
            "Processing ranks: 100%|██████████| 1/1 [00:01<00:00,  1.58s/rank]\u001b[A\n",
            "Processing keywords:  56%|█████▋    | 570/1009 [16:36<12:47,  1.75s/keyword]\n",
            "\n",
            "Processing keywords:  56%|█████▋    | 570/1009 [16:37<12:47,  1.75s/keyword]\n",
            "Processing ranks:   0%|          | 0/1 [00:01<?, ?rank/s]\u001b[A"
          ]
        },
        {
          "output_type": "stream",
          "name": "stdout",
          "text": [
            "Saved HTML file: html-files-2024-04-26-10-22/14516354902.html\n"
          ]
        },
        {
          "output_type": "stream",
          "name": "stderr",
          "text": [
            "\n",
            "Processing ranks: 100%|██████████| 1/1 [00:01<00:00,  1.62s/rank]\u001b[A\n",
            "Processing keywords:  57%|█████▋    | 571/1009 [16:38<12:31,  1.72s/keyword]\n",
            "\n",
            "Processing keywords:  57%|█████▋    | 571/1009 [16:39<12:31,  1.72s/keyword]\n",
            "Processing ranks:   0%|          | 0/1 [00:01<?, ?rank/s]\u001b[A"
          ]
        },
        {
          "output_type": "stream",
          "name": "stdout",
          "text": [
            "Saved HTML file: html-files-2024-04-26-10-22/14516355134.html\n"
          ]
        },
        {
          "output_type": "stream",
          "name": "stderr",
          "text": [
            "\n",
            "Processing ranks: 100%|██████████| 1/1 [00:02<00:00,  2.10s/rank]\u001b[A\n",
            "Processing keywords:  57%|█████▋    | 572/1009 [16:40<13:23,  1.84s/keyword]\n",
            "\n",
            "Processing keywords:  57%|█████▋    | 572/1009 [16:41<13:23,  1.84s/keyword]\n",
            "Processing ranks:   0%|          | 0/1 [00:01<?, ?rank/s]\u001b[A"
          ]
        },
        {
          "output_type": "stream",
          "name": "stdout",
          "text": [
            "Saved HTML file: html-files-2024-04-26-10-22/14516355241.html\n"
          ]
        },
        {
          "output_type": "stream",
          "name": "stderr",
          "text": [
            "\n",
            "Processing ranks: 100%|██████████| 1/1 [00:01<00:00,  1.93s/rank]\u001b[A\n",
            "Processing keywords:  57%|█████▋    | 573/1009 [16:42<13:39,  1.88s/keyword]\n",
            "\n",
            "Processing keywords:  57%|█████▋    | 573/1009 [16:43<13:39,  1.88s/keyword]\n",
            "Processing ranks:   0%|          | 0/1 [00:00<?, ?rank/s]\u001b[A"
          ]
        },
        {
          "output_type": "stream",
          "name": "stdout",
          "text": [
            "Saved HTML file: html-files-2024-04-26-10-22/14516362097.html\n"
          ]
        },
        {
          "output_type": "stream",
          "name": "stderr",
          "text": [
            "\n",
            "Processing ranks: 100%|██████████| 1/1 [00:01<00:00,  1.29s/rank]\u001b[A\n",
            "Processing keywords:  57%|█████▋    | 574/1009 [16:43<12:23,  1.71s/keyword]\n",
            "\n",
            "Processing keywords:  57%|█████▋    | 574/1009 [16:44<12:23,  1.71s/keyword]\n",
            "Processing ranks:   0%|          | 0/1 [00:00<?, ?rank/s]\u001b[A"
          ]
        },
        {
          "output_type": "stream",
          "name": "stdout",
          "text": [
            "Saved HTML file: html-files-2024-04-26-10-22/14516362373.html\n"
          ]
        },
        {
          "output_type": "stream",
          "name": "stderr",
          "text": [
            "\n",
            "Processing ranks: 100%|██████████| 1/1 [00:01<00:00,  1.46s/rank]\u001b[A\n",
            "Processing keywords:  57%|█████▋    | 575/1009 [16:45<11:51,  1.64s/keyword]\n",
            "\n",
            "Processing keywords:  57%|█████▋    | 575/1009 [16:46<11:51,  1.64s/keyword]\n",
            "Processing ranks:   0%|          | 0/1 [00:01<?, ?rank/s]\u001b[A"
          ]
        },
        {
          "output_type": "stream",
          "name": "stdout",
          "text": [
            "Saved HTML file: html-files-2024-04-26-10-22/14516395117.html\n"
          ]
        },
        {
          "output_type": "stream",
          "name": "stderr",
          "text": [
            "\n",
            "Processing ranks: 100%|██████████| 1/1 [00:01<00:00,  1.74s/rank]\u001b[A\n",
            "Processing keywords:  57%|█████▋    | 576/1009 [16:46<12:06,  1.68s/keyword]\n",
            "\n",
            "Processing keywords:  57%|█████▋    | 576/1009 [16:48<12:06,  1.68s/keyword]\n",
            "Processing ranks:   0%|          | 0/1 [00:01<?, ?rank/s]\u001b[A"
          ]
        },
        {
          "output_type": "stream",
          "name": "stdout",
          "text": [
            "Saved HTML file: html-files-2024-04-26-10-22/14516364498.html\n"
          ]
        },
        {
          "output_type": "stream",
          "name": "stderr",
          "text": [
            "\n",
            "Processing ranks: 100%|██████████| 1/1 [00:02<00:00,  2.13s/rank]\u001b[A\n",
            "Processing keywords:  57%|█████▋    | 577/1009 [16:49<13:06,  1.82s/keyword]\n",
            "\n",
            "Processing keywords:  57%|█████▋    | 577/1009 [16:50<13:06,  1.82s/keyword]\n",
            "Processing ranks:   0%|          | 0/1 [00:01<?, ?rank/s]\u001b[A"
          ]
        },
        {
          "output_type": "stream",
          "name": "stdout",
          "text": [
            "Saved HTML file: html-files-2024-04-26-10-22/14516364590.html\n"
          ]
        },
        {
          "output_type": "stream",
          "name": "stderr",
          "text": [
            "\n",
            "Processing ranks: 100%|██████████| 1/1 [00:01<00:00,  1.89s/rank]\u001b[A\n",
            "Processing keywords:  57%|█████▋    | 578/1009 [16:51<13:16,  1.85s/keyword]\n",
            "\n",
            "Processing keywords:  57%|█████▋    | 578/1009 [16:52<13:16,  1.85s/keyword]\n",
            "Processing ranks:   0%|          | 0/1 [00:01<?, ?rank/s]\u001b[A"
          ]
        },
        {
          "output_type": "stream",
          "name": "stdout",
          "text": [
            "Saved HTML file: html-files-2024-04-26-10-22/14516396646.html\n"
          ]
        },
        {
          "output_type": "stream",
          "name": "stderr",
          "text": [
            "\n",
            "Processing ranks: 100%|██████████| 1/1 [00:01<00:00,  1.62s/rank]\u001b[A\n",
            "Processing keywords:  57%|█████▋    | 579/1009 [16:52<12:48,  1.79s/keyword]\n",
            "\n",
            "Processing keywords:  57%|█████▋    | 579/1009 [16:53<12:48,  1.79s/keyword]\n",
            "Processing ranks:   0%|          | 0/1 [00:00<?, ?rank/s]\u001b[A"
          ]
        },
        {
          "output_type": "stream",
          "name": "stdout",
          "text": [
            "Saved HTML file: html-files-2024-04-26-10-22/14516396757.html\n"
          ]
        },
        {
          "output_type": "stream",
          "name": "stderr",
          "text": [
            "\n",
            "Processing ranks: 100%|██████████| 1/1 [00:01<00:00,  1.31s/rank]\u001b[A\n",
            "Processing keywords:  57%|█████▋    | 580/1009 [16:53<11:47,  1.65s/keyword]\n",
            "\n",
            "Processing keywords:  57%|█████▋    | 580/1009 [16:55<11:47,  1.65s/keyword]\n",
            "Processing ranks:   0%|          | 0/1 [00:01<?, ?rank/s]\u001b[A"
          ]
        },
        {
          "output_type": "stream",
          "name": "stdout",
          "text": [
            "Saved HTML file: html-files-2024-04-26-10-22/14516365236.html\n"
          ]
        },
        {
          "output_type": "stream",
          "name": "stderr",
          "text": [
            "\n",
            "Processing ranks: 100%|██████████| 1/1 [00:01<00:00,  1.61s/rank]\u001b[A\n",
            "Processing keywords:  58%|█████▊    | 581/1009 [16:55<11:43,  1.64s/keyword]\n",
            "\n",
            "Processing keywords:  58%|█████▊    | 581/1009 [16:56<11:43,  1.64s/keyword]\n",
            "Processing ranks:   0%|          | 0/1 [00:01<?, ?rank/s]\u001b[A"
          ]
        },
        {
          "output_type": "stream",
          "name": "stdout",
          "text": [
            "Saved HTML file: html-files-2024-04-26-10-22/14516397127.html\n"
          ]
        },
        {
          "output_type": "stream",
          "name": "stderr",
          "text": [
            "\n",
            "Processing ranks: 100%|██████████| 1/1 [00:01<00:00,  1.61s/rank]\u001b[A\n",
            "Processing keywords:  58%|█████▊    | 582/1009 [16:57<11:39,  1.64s/keyword]\n",
            "\n",
            "Processing keywords:  58%|█████▊    | 582/1009 [16:58<11:39,  1.64s/keyword]\n",
            "Processing ranks:   0%|          | 0/1 [00:01<?, ?rank/s]\u001b[A"
          ]
        },
        {
          "output_type": "stream",
          "name": "stdout",
          "text": [
            "Saved HTML file: html-files-2024-04-26-10-22/14516365766.html\n"
          ]
        },
        {
          "output_type": "stream",
          "name": "stderr",
          "text": [
            "\n",
            "Processing ranks: 100%|██████████| 1/1 [00:01<00:00,  1.57s/rank]\u001b[A\n",
            "Processing keywords:  58%|█████▊    | 583/1009 [16:58<11:31,  1.62s/keyword]\n",
            "\n",
            "Processing keywords:  58%|█████▊    | 583/1009 [17:00<11:31,  1.62s/keyword]\n",
            "Processing ranks:   0%|          | 0/1 [00:01<?, ?rank/s]\u001b[A"
          ]
        },
        {
          "output_type": "stream",
          "name": "stdout",
          "text": [
            "Saved HTML file: html-files-2024-04-26-10-22/14516397176.html\n"
          ]
        },
        {
          "output_type": "stream",
          "name": "stderr",
          "text": [
            "\n",
            "Processing ranks: 100%|██████████| 1/1 [00:01<00:00,  1.67s/rank]\u001b[A\n",
            "Processing keywords:  58%|█████▊    | 584/1009 [17:00<11:38,  1.64s/keyword]\n",
            "\n",
            "Processing keywords:  58%|█████▊    | 584/1009 [17:02<11:38,  1.64s/keyword]\n",
            "Processing ranks:   0%|          | 0/1 [00:01<?, ?rank/s]\u001b[A"
          ]
        },
        {
          "output_type": "stream",
          "name": "stdout",
          "text": [
            "Saved HTML file: html-files-2024-04-26-10-22/14516397611.html\n"
          ]
        },
        {
          "output_type": "stream",
          "name": "stderr",
          "text": [
            "\n",
            "Processing ranks: 100%|██████████| 1/1 [00:02<00:00,  2.62s/rank]\u001b[A\n",
            "Processing keywords:  58%|█████▊    | 585/1009 [17:03<13:45,  1.95s/keyword]\n",
            "\n",
            "Processing keywords:  58%|█████▊    | 585/1009 [17:04<13:45,  1.95s/keyword]\n",
            "Processing ranks:   0%|          | 0/1 [00:01<?, ?rank/s]\u001b[A"
          ]
        },
        {
          "output_type": "stream",
          "name": "stdout",
          "text": [
            "Saved HTML file: html-files-2024-04-26-10-22/14516347120.html\n"
          ]
        },
        {
          "output_type": "stream",
          "name": "stderr",
          "text": [
            "\n",
            "Processing ranks: 100%|██████████| 1/1 [00:02<00:00,  2.10s/rank]\u001b[A\n",
            "Processing keywords:  58%|█████▊    | 586/1009 [17:05<14:06,  2.00s/keyword]\n",
            "\n",
            "Processing keywords:  58%|█████▊    | 586/1009 [17:06<14:06,  2.00s/keyword]\n",
            "Processing ranks:   0%|          | 0/1 [00:01<?, ?rank/s]\u001b[A"
          ]
        },
        {
          "output_type": "stream",
          "name": "stdout",
          "text": [
            "Saved HTML file: html-files-2024-04-26-10-22/14516347251.html\n"
          ]
        },
        {
          "output_type": "stream",
          "name": "stderr",
          "text": [
            "\n",
            "Processing ranks: 100%|██████████| 1/1 [00:01<00:00,  1.89s/rank]\u001b[A\n",
            "Processing keywords:  58%|█████▊    | 587/1009 [17:07<13:54,  1.98s/keyword]\n",
            "\n",
            "Processing keywords:  58%|█████▊    | 587/1009 [17:08<13:54,  1.98s/keyword]\n",
            "Processing ranks:   0%|          | 0/1 [00:01<?, ?rank/s]\u001b[A"
          ]
        },
        {
          "output_type": "stream",
          "name": "stdout",
          "text": [
            "Saved HTML file: html-files-2024-04-26-10-22/14516366776.html\n"
          ]
        },
        {
          "output_type": "stream",
          "name": "stderr",
          "text": [
            "\n",
            "Processing ranks: 100%|██████████| 1/1 [00:02<00:00,  2.28s/rank]\u001b[A\n",
            "Processing keywords:  58%|█████▊    | 588/1009 [17:09<14:33,  2.08s/keyword]\n",
            "\n",
            "Processing keywords:  58%|█████▊    | 588/1009 [17:10<14:33,  2.08s/keyword]\n",
            "Processing ranks:   0%|          | 0/1 [00:00<?, ?rank/s]\u001b[A"
          ]
        },
        {
          "output_type": "stream",
          "name": "stdout",
          "text": [
            "Saved HTML file: html-files-2024-04-26-10-22/14516369337.html\n"
          ]
        },
        {
          "output_type": "stream",
          "name": "stderr",
          "text": [
            "\n",
            "Processing ranks: 100%|██████████| 1/1 [00:01<00:00,  1.62s/rank]\u001b[A\n",
            "Processing keywords:  58%|█████▊    | 589/1009 [17:11<13:38,  1.95s/keyword]\n",
            "\n",
            "Processing keywords:  58%|█████▊    | 589/1009 [17:12<13:38,  1.95s/keyword]\n",
            "Processing ranks:   0%|          | 0/1 [00:01<?, ?rank/s]\u001b[A"
          ]
        },
        {
          "output_type": "stream",
          "name": "stdout",
          "text": [
            "Saved HTML file: html-files-2024-04-26-10-22/14516393654.html\n"
          ]
        },
        {
          "output_type": "stream",
          "name": "stderr",
          "text": [
            "\n",
            "Processing ranks: 100%|██████████| 1/1 [00:01<00:00,  1.92s/rank]\u001b[A\n",
            "Processing keywords:  58%|█████▊    | 590/1009 [17:13<13:37,  1.95s/keyword]\n",
            "\n",
            "Processing keywords:  58%|█████▊    | 590/1009 [17:13<13:37,  1.95s/keyword]\n",
            "Processing ranks:   0%|          | 0/1 [00:00<?, ?rank/s]\u001b[A"
          ]
        },
        {
          "output_type": "stream",
          "name": "stdout",
          "text": [
            "Saved HTML file: html-files-2024-04-26-10-22/14516348045.html\n"
          ]
        },
        {
          "output_type": "stream",
          "name": "stderr",
          "text": [
            "\n",
            "Processing ranks: 100%|██████████| 1/1 [00:02<00:00,  2.66s/rank]\u001b[A\n",
            "Processing keywords:  59%|█████▊    | 591/1009 [17:15<15:10,  2.18s/keyword]\n",
            "\n",
            "Processing keywords:  59%|█████▊    | 591/1009 [17:17<15:10,  2.18s/keyword]\n",
            "Processing ranks:   0%|          | 0/1 [00:01<?, ?rank/s]\u001b[A"
          ]
        },
        {
          "output_type": "stream",
          "name": "stdout",
          "text": [
            "Saved HTML file: html-files-2024-04-26-10-22/14516348171.html\n"
          ]
        },
        {
          "output_type": "stream",
          "name": "stderr",
          "text": [
            "\n",
            "Processing ranks: 100%|██████████| 1/1 [00:02<00:00,  2.21s/rank]\u001b[A\n",
            "Processing keywords:  59%|█████▊    | 592/1009 [17:18<15:28,  2.23s/keyword]\n",
            "\n",
            "Processing keywords:  59%|█████▊    | 592/1009 [17:19<15:28,  2.23s/keyword]\n",
            "Processing ranks:   0%|          | 0/1 [00:01<?, ?rank/s]\u001b[A"
          ]
        },
        {
          "output_type": "stream",
          "name": "stdout",
          "text": [
            "Saved HTML file: html-files-2024-04-26-10-22/14516399259.html\n"
          ]
        },
        {
          "output_type": "stream",
          "name": "stderr",
          "text": [
            "\n",
            "Processing ranks: 100%|██████████| 1/1 [00:01<00:00,  1.79s/rank]\u001b[A\n",
            "Processing keywords:  59%|█████▉    | 593/1009 [17:19<14:33,  2.10s/keyword]\n",
            "\n",
            "Processing keywords:  59%|█████▉    | 593/1009 [17:21<14:33,  2.10s/keyword]\n",
            "Processing ranks:   0%|          | 0/1 [00:01<?, ?rank/s]\u001b[A"
          ]
        },
        {
          "output_type": "stream",
          "name": "stdout",
          "text": [
            "Saved HTML file: html-files-2024-04-26-10-22/14516399463.html\n"
          ]
        },
        {
          "output_type": "stream",
          "name": "stderr",
          "text": [
            "\n",
            "Processing ranks: 100%|██████████| 1/1 [00:01<00:00,  1.58s/rank]\u001b[A\n",
            "Processing keywords:  59%|█████▉    | 594/1009 [17:21<13:29,  1.95s/keyword]\n",
            "\n",
            "Processing keywords:  59%|█████▉    | 594/1009 [17:22<13:29,  1.95s/keyword]\n",
            "Processing ranks:   0%|          | 0/1 [00:01<?, ?rank/s]\u001b[A"
          ]
        },
        {
          "output_type": "stream",
          "name": "stdout",
          "text": [
            "Saved HTML file: html-files-2024-04-26-10-22/14516399578.html\n"
          ]
        },
        {
          "output_type": "stream",
          "name": "stderr",
          "text": [
            "\n",
            "Processing ranks: 100%|██████████| 1/1 [00:02<00:00,  2.06s/rank]\u001b[A\n",
            "Processing keywords:  59%|█████▉    | 595/1009 [17:23<13:43,  1.99s/keyword]\n",
            "\n",
            "Processing keywords:  59%|█████▉    | 595/1009 [17:25<13:43,  1.99s/keyword]\n",
            "Processing ranks:   0%|          | 0/1 [00:01<?, ?rank/s]\u001b[A"
          ]
        },
        {
          "output_type": "stream",
          "name": "stdout",
          "text": [
            "Saved HTML file: html-files-2024-04-26-10-22/14516348549.html\n"
          ]
        },
        {
          "output_type": "stream",
          "name": "stderr",
          "text": [
            "\n",
            "Processing ranks: 100%|██████████| 1/1 [00:02<00:00,  2.22s/rank]\u001b[A\n",
            "Processing keywords:  59%|█████▉    | 596/1009 [17:25<14:12,  2.06s/keyword]\n",
            "\n",
            "Processing keywords:  59%|█████▉    | 596/1009 [17:27<14:12,  2.06s/keyword]\n",
            "Processing ranks:   0%|          | 0/1 [00:01<?, ?rank/s]\u001b[A"
          ]
        },
        {
          "output_type": "stream",
          "name": "stdout",
          "text": [
            "Saved HTML file: html-files-2024-04-26-10-22/14516371616.html\n"
          ]
        },
        {
          "output_type": "stream",
          "name": "stderr",
          "text": [
            "\n",
            "Processing ranks: 100%|██████████| 1/1 [00:01<00:00,  1.94s/rank]\u001b[A\n",
            "Processing keywords:  59%|█████▉    | 597/1009 [17:27<13:57,  2.03s/keyword]\n",
            "\n",
            "Processing keywords:  59%|█████▉    | 597/1009 [17:29<13:57,  2.03s/keyword]\n",
            "Processing ranks:   0%|          | 0/1 [00:01<?, ?rank/s]\u001b[A"
          ]
        },
        {
          "output_type": "stream",
          "name": "stdout",
          "text": [
            "Saved HTML file: html-files-2024-04-26-10-22/14516371984.html\n"
          ]
        },
        {
          "output_type": "stream",
          "name": "stderr",
          "text": [
            "\n",
            "Processing ranks: 100%|██████████| 1/1 [00:02<00:00,  2.13s/rank]\u001b[A\n",
            "Processing keywords:  59%|█████▉    | 598/1009 [17:30<14:10,  2.07s/keyword]\n",
            "\n",
            "Processing keywords:  59%|█████▉    | 598/1009 [17:31<14:10,  2.07s/keyword]\n",
            "Processing ranks:   0%|          | 0/1 [00:01<?, ?rank/s]\u001b[A"
          ]
        },
        {
          "output_type": "stream",
          "name": "stdout",
          "text": [
            "Saved HTML file: html-files-2024-04-26-10-22/14516400750.html\n"
          ]
        },
        {
          "output_type": "stream",
          "name": "stderr",
          "text": [
            "\n",
            "Processing ranks: 100%|██████████| 1/1 [00:01<00:00,  1.59s/rank]\u001b[A\n",
            "Processing keywords:  59%|█████▉    | 599/1009 [17:31<13:12,  1.93s/keyword]\n",
            "\n",
            "Processing keywords:  59%|█████▉    | 599/1009 [17:33<13:12,  1.93s/keyword]\n",
            "Processing ranks:   0%|          | 0/1 [00:01<?, ?rank/s]\u001b[A"
          ]
        },
        {
          "output_type": "stream",
          "name": "stdout",
          "text": [
            "Saved HTML file: html-files-2024-04-26-10-22/14516401066.html\n"
          ]
        },
        {
          "output_type": "stream",
          "name": "stderr",
          "text": [
            "\n",
            "Processing ranks: 100%|██████████| 1/1 [00:01<00:00,  1.94s/rank]\u001b[A\n",
            "Processing keywords:  59%|█████▉    | 600/1009 [17:33<13:14,  1.94s/keyword]\n",
            "\n",
            "Processing keywords:  59%|█████▉    | 600/1009 [17:34<13:14,  1.94s/keyword]\n",
            "Processing ranks:   0%|          | 0/1 [00:01<?, ?rank/s]\u001b[A"
          ]
        },
        {
          "output_type": "stream",
          "name": "stdout",
          "text": [
            "Saved HTML file: html-files-2024-04-26-10-22/14516402939.html\n"
          ]
        },
        {
          "output_type": "stream",
          "name": "stderr",
          "text": [
            "\n",
            "Processing ranks: 100%|██████████| 1/1 [00:01<00:00,  1.69s/rank]\u001b[A\n",
            "Processing keywords:  60%|█████▉    | 601/1009 [17:35<12:43,  1.87s/keyword]\n",
            "\n",
            "Processing keywords:  60%|█████▉    | 601/1009 [17:36<12:43,  1.87s/keyword]\n",
            "Processing ranks:   0%|          | 0/1 [00:01<?, ?rank/s]\u001b[A"
          ]
        },
        {
          "output_type": "stream",
          "name": "stdout",
          "text": [
            "Saved HTML file: html-files-2024-04-26-10-22/14516403179.html\n"
          ]
        },
        {
          "output_type": "stream",
          "name": "stderr",
          "text": [
            "\n",
            "Processing ranks: 100%|██████████| 1/1 [00:01<00:00,  1.74s/rank]\u001b[A\n",
            "Processing keywords:  60%|█████▉    | 602/1009 [17:37<12:27,  1.84s/keyword]\n",
            "\n",
            "Processing keywords:  60%|█████▉    | 602/1009 [17:38<12:27,  1.84s/keyword]\n",
            "Processing ranks:   0%|          | 0/1 [00:01<?, ?rank/s]\u001b[A"
          ]
        },
        {
          "output_type": "stream",
          "name": "stdout",
          "text": [
            "Saved HTML file: html-files-2024-04-26-10-22/14516403374.html\n"
          ]
        },
        {
          "output_type": "stream",
          "name": "stderr",
          "text": [
            "\n",
            "Processing ranks: 100%|██████████| 1/1 [00:01<00:00,  1.54s/rank]\u001b[A\n",
            "Processing keywords:  60%|█████▉    | 603/1009 [17:38<11:52,  1.75s/keyword]\n",
            "\n",
            "Processing keywords:  60%|█████▉    | 603/1009 [17:39<11:52,  1.75s/keyword]\n",
            "Processing ranks:   0%|          | 0/1 [00:00<?, ?rank/s]\u001b[A"
          ]
        },
        {
          "output_type": "stream",
          "name": "stdout",
          "text": [
            "Saved HTML file: html-files-2024-04-26-10-22/14516403966.html\n"
          ]
        },
        {
          "output_type": "stream",
          "name": "stderr",
          "text": [
            "\n",
            "Processing ranks: 100%|██████████| 1/1 [00:00<00:00,  1.00rank/s]\u001b[A\n",
            "Processing keywords:  60%|█████▉    | 604/1009 [17:39<10:22,  1.54s/keyword]\n",
            "\n",
            "Processing keywords:  60%|█████▉    | 604/1009 [17:41<10:22,  1.54s/keyword]\n",
            "Processing ranks:   0%|          | 0/1 [00:01<?, ?rank/s]\u001b[A"
          ]
        },
        {
          "output_type": "stream",
          "name": "stdout",
          "text": [
            "Saved HTML file: html-files-2024-04-26-10-22/14516404825.html\n"
          ]
        },
        {
          "output_type": "stream",
          "name": "stderr",
          "text": [
            "\n",
            "Processing ranks: 100%|██████████| 1/1 [00:02<00:00,  2.39s/rank]\u001b[A\n",
            "Processing keywords:  60%|█████▉    | 605/1009 [17:42<12:07,  1.80s/keyword]\n",
            "\n",
            "Processing keywords:  60%|█████▉    | 605/1009 [17:43<12:07,  1.80s/keyword]\n",
            "Processing ranks:   0%|          | 0/1 [00:01<?, ?rank/s]\u001b[A"
          ]
        },
        {
          "output_type": "stream",
          "name": "stdout",
          "text": [
            "Saved HTML file: html-files-2024-04-26-10-22/14516405074.html\n"
          ]
        },
        {
          "output_type": "stream",
          "name": "stderr",
          "text": [
            "\n",
            "Processing ranks: 100%|██████████| 1/1 [00:01<00:00,  1.92s/rank]\u001b[A\n",
            "Processing keywords:  60%|██████    | 606/1009 [17:44<12:22,  1.84s/keyword]\n",
            "\n",
            "Processing keywords:  60%|██████    | 606/1009 [17:45<12:22,  1.84s/keyword]\n",
            "Processing ranks:   0%|          | 0/1 [00:01<?, ?rank/s]\u001b[A"
          ]
        },
        {
          "output_type": "stream",
          "name": "stdout",
          "text": [
            "Saved HTML file: html-files-2024-04-26-10-22/14516393715.html\n"
          ]
        },
        {
          "output_type": "stream",
          "name": "stderr",
          "text": [
            "\n",
            "Processing ranks: 100%|██████████| 1/1 [00:01<00:00,  1.94s/rank]\u001b[A\n",
            "Processing keywords:  60%|██████    | 607/1009 [17:45<12:35,  1.88s/keyword]\n",
            "\n",
            "Processing keywords:  60%|██████    | 607/1009 [17:47<12:35,  1.88s/keyword]\n",
            "Processing ranks:   0%|          | 0/1 [00:01<?, ?rank/s]\u001b[A"
          ]
        },
        {
          "output_type": "stream",
          "name": "stdout",
          "text": [
            "Saved HTML file: html-files-2024-04-26-10-22/14516405243.html\n"
          ]
        },
        {
          "output_type": "stream",
          "name": "stderr",
          "text": [
            "\n",
            "Processing ranks: 100%|██████████| 1/1 [00:02<00:00,  2.13s/rank]\u001b[A\n",
            "Processing keywords:  60%|██████    | 608/1009 [17:48<13:06,  1.96s/keyword]\n",
            "\n",
            "Processing keywords:  60%|██████    | 608/1009 [17:48<13:06,  1.96s/keyword]\n",
            "Processing ranks:   0%|          | 0/1 [00:00<?, ?rank/s]\u001b[A"
          ]
        },
        {
          "output_type": "stream",
          "name": "stdout",
          "text": [
            "Saved HTML file: html-files-2024-04-26-10-22/14516405409.html\n"
          ]
        },
        {
          "output_type": "stream",
          "name": "stderr",
          "text": [
            "\n",
            "Processing ranks: 100%|██████████| 1/1 [00:01<00:00,  1.32s/rank]\u001b[A\n",
            "Processing keywords:  60%|██████    | 609/1009 [17:49<11:49,  1.77s/keyword]\n",
            "\n",
            "Processing keywords:  60%|██████    | 609/1009 [17:50<11:49,  1.77s/keyword]\n",
            "Processing ranks:   0%|          | 0/1 [00:00<?, ?rank/s]\u001b[A"
          ]
        },
        {
          "output_type": "stream",
          "name": "stdout",
          "text": [
            "Saved HTML file: html-files-2024-04-26-10-22/14516349684.html\n"
          ]
        },
        {
          "output_type": "stream",
          "name": "stderr",
          "text": [
            "\n",
            "Processing ranks: 100%|██████████| 1/1 [00:01<00:00,  1.25s/rank]\u001b[A\n",
            "Processing keywords:  60%|██████    | 610/1009 [17:50<10:47,  1.62s/keyword]\n",
            "\n",
            "Processing keywords:  60%|██████    | 610/1009 [17:52<10:47,  1.62s/keyword]\n",
            "Processing ranks:   0%|          | 0/1 [00:01<?, ?rank/s]\u001b[A"
          ]
        },
        {
          "output_type": "stream",
          "name": "stdout",
          "text": [
            "Saved HTML file: html-files-2024-04-26-10-22/14516406045.html\n"
          ]
        },
        {
          "output_type": "stream",
          "name": "stderr",
          "text": [
            "\n",
            "Processing ranks: 100%|██████████| 1/1 [00:01<00:00,  1.65s/rank]\u001b[A\n",
            "Processing keywords:  61%|██████    | 611/1009 [17:52<10:52,  1.64s/keyword]\n",
            "\n",
            "Processing keywords:  61%|██████    | 611/1009 [17:53<10:52,  1.64s/keyword]\n",
            "Processing ranks:   0%|          | 0/1 [00:01<?, ?rank/s]\u001b[A"
          ]
        },
        {
          "output_type": "stream",
          "name": "stdout",
          "text": [
            "Saved HTML file: html-files-2024-04-26-10-22/14516406394.html\n"
          ]
        },
        {
          "output_type": "stream",
          "name": "stderr",
          "text": [
            "\n",
            "Processing ranks: 100%|██████████| 1/1 [00:02<00:00,  2.03s/rank]\u001b[A\n",
            "Processing keywords:  61%|██████    | 612/1009 [17:54<11:40,  1.77s/keyword]\n",
            "\n",
            "Processing keywords:  61%|██████    | 612/1009 [17:56<11:40,  1.77s/keyword]\n",
            "Processing ranks:   0%|          | 0/1 [00:01<?, ?rank/s]\u001b[A"
          ]
        },
        {
          "output_type": "stream",
          "name": "stdout",
          "text": [
            "Saved HTML file: html-files-2024-04-26-10-22/14516407914.html\n"
          ]
        },
        {
          "output_type": "stream",
          "name": "stderr",
          "text": [
            "\n",
            "Processing ranks: 100%|██████████| 1/1 [00:01<00:00,  1.92s/rank]\u001b[A\n",
            "Processing keywords:  61%|██████    | 613/1009 [17:56<11:59,  1.82s/keyword]\n",
            "\n",
            "Processing keywords:  61%|██████    | 613/1009 [17:57<11:59,  1.82s/keyword]\n",
            "Processing ranks:   0%|          | 0/1 [00:01<?, ?rank/s]\u001b[A"
          ]
        },
        {
          "output_type": "stream",
          "name": "stdout",
          "text": [
            "Saved HTML file: html-files-2024-04-26-10-22/14516408080.html\n"
          ]
        },
        {
          "output_type": "stream",
          "name": "stderr",
          "text": [
            "\n",
            "Processing ranks: 100%|██████████| 1/1 [00:01<00:00,  1.79s/rank]\u001b[A\n",
            "Processing keywords:  61%|██████    | 614/1009 [17:58<11:57,  1.82s/keyword]\n",
            "\n",
            "Processing keywords:  61%|██████    | 614/1009 [17:59<11:57,  1.82s/keyword]\n",
            "Processing ranks:   0%|          | 0/1 [00:01<?, ?rank/s]\u001b[A"
          ]
        },
        {
          "output_type": "stream",
          "name": "stdout",
          "text": [
            "Saved HTML file: html-files-2024-04-26-10-22/14516408428.html\n"
          ]
        },
        {
          "output_type": "stream",
          "name": "stderr",
          "text": [
            "\n",
            "Processing ranks: 100%|██████████| 1/1 [00:01<00:00,  1.82s/rank]\u001b[A\n",
            "Processing keywords:  61%|██████    | 615/1009 [18:00<11:58,  1.82s/keyword]\n",
            "\n",
            "Processing keywords:  61%|██████    | 615/1009 [18:01<11:58,  1.82s/keyword]\n",
            "Processing ranks:   0%|          | 0/1 [00:01<?, ?rank/s]\u001b[A"
          ]
        },
        {
          "output_type": "stream",
          "name": "stdout",
          "text": [
            "Saved HTML file: html-files-2024-04-26-10-22/14516409249.html\n"
          ]
        },
        {
          "output_type": "stream",
          "name": "stderr",
          "text": [
            "\n",
            "Processing ranks: 100%|██████████| 1/1 [00:01<00:00,  1.82s/rank]\u001b[A\n",
            "Processing keywords:  61%|██████    | 616/1009 [18:01<11:59,  1.83s/keyword]\n",
            "\n",
            "Processing keywords:  61%|██████    | 616/1009 [18:03<11:59,  1.83s/keyword]\n",
            "Processing ranks:   0%|          | 0/1 [00:01<?, ?rank/s]\u001b[A"
          ]
        },
        {
          "output_type": "stream",
          "name": "stdout",
          "text": [
            "Saved HTML file: html-files-2024-04-26-10-22/14516409425.html\n"
          ]
        },
        {
          "output_type": "stream",
          "name": "stderr",
          "text": [
            "\n",
            "Processing ranks: 100%|██████████| 1/1 [00:02<00:00,  2.15s/rank]\u001b[A\n",
            "Processing keywords:  61%|██████    | 617/1009 [18:04<12:37,  1.93s/keyword]\n",
            "\n",
            "Processing keywords:  61%|██████    | 617/1009 [18:04<12:37,  1.93s/keyword]\n",
            "Processing ranks:   0%|          | 0/1 [00:00<?, ?rank/s]\u001b[A"
          ]
        },
        {
          "output_type": "stream",
          "name": "stdout",
          "text": [
            "Saved HTML file: html-files-2024-04-26-10-22/14516409910.html\n"
          ]
        },
        {
          "output_type": "stream",
          "name": "stderr",
          "text": [
            "\n",
            "Processing ranks: 100%|██████████| 1/1 [00:01<00:00,  1.24s/rank]\u001b[A\n",
            "Processing keywords:  61%|██████    | 618/1009 [18:05<11:18,  1.73s/keyword]\n",
            "\n",
            "Processing keywords:  61%|██████    | 618/1009 [18:06<11:18,  1.73s/keyword]\n",
            "Processing ranks:   0%|          | 0/1 [00:01<?, ?rank/s]\u001b[A"
          ]
        },
        {
          "output_type": "stream",
          "name": "stdout",
          "text": [
            "Saved HTML file: html-files-2024-04-26-10-22/14516350187.html\n"
          ]
        },
        {
          "output_type": "stream",
          "name": "stderr",
          "text": [
            "\n",
            "Processing ranks: 100%|██████████| 1/1 [00:01<00:00,  1.98s/rank]\u001b[A\n",
            "Processing keywords:  61%|██████▏   | 619/1009 [18:07<11:47,  1.81s/keyword]\n",
            "\n",
            "Processing keywords:  61%|██████▏   | 619/1009 [18:08<11:47,  1.81s/keyword]\n",
            "Processing ranks:   0%|          | 0/1 [00:01<?, ?rank/s]\u001b[A"
          ]
        },
        {
          "output_type": "stream",
          "name": "stdout",
          "text": [
            "Saved HTML file: html-files-2024-04-26-10-22/14516415804.html\n"
          ]
        },
        {
          "output_type": "stream",
          "name": "stderr",
          "text": [
            "\n",
            "Processing ranks: 100%|██████████| 1/1 [00:01<00:00,  1.97s/rank]\u001b[A\n",
            "Processing keywords:  61%|██████▏   | 620/1009 [18:09<12:06,  1.87s/keyword]\n",
            "\n",
            "Processing keywords:  61%|██████▏   | 620/1009 [18:09<12:06,  1.87s/keyword]\n",
            "Processing ranks:   0%|          | 0/1 [00:00<?, ?rank/s]\u001b[A"
          ]
        },
        {
          "output_type": "stream",
          "name": "stdout",
          "text": [
            "Saved HTML file: html-files-2024-04-26-10-22/14516416545.html\n"
          ]
        },
        {
          "output_type": "stream",
          "name": "stderr",
          "text": [
            "\n",
            "Processing ranks: 100%|██████████| 1/1 [00:01<00:00,  1.20s/rank]\u001b[A\n",
            "Processing keywords:  62%|██████▏   | 621/1009 [18:10<10:49,  1.67s/keyword]\n",
            "\n",
            "Processing keywords:  62%|██████▏   | 621/1009 [18:11<10:49,  1.67s/keyword]\n",
            "Processing ranks:   0%|          | 0/1 [00:01<?, ?rank/s]\u001b[A"
          ]
        },
        {
          "output_type": "stream",
          "name": "stdout",
          "text": [
            "Saved HTML file: html-files-2024-04-26-10-22/14516416727.html\n"
          ]
        },
        {
          "output_type": "stream",
          "name": "stderr",
          "text": [
            "\n",
            "Processing ranks: 100%|██████████| 1/1 [00:01<00:00,  1.78s/rank]\u001b[A\n",
            "Processing keywords:  62%|██████▏   | 622/1009 [18:12<11:03,  1.72s/keyword]\n",
            "\n",
            "Processing keywords:  62%|██████▏   | 622/1009 [18:13<11:03,  1.72s/keyword]\n",
            "Processing ranks:   0%|          | 0/1 [00:01<?, ?rank/s]\u001b[A"
          ]
        },
        {
          "output_type": "stream",
          "name": "stdout",
          "text": [
            "Saved HTML file: html-files-2024-04-26-10-22/14516416949.html\n"
          ]
        },
        {
          "output_type": "stream",
          "name": "stderr",
          "text": [
            "\n",
            "Processing ranks: 100%|██████████| 1/1 [00:01<00:00,  1.56s/rank]\u001b[A\n",
            "Processing keywords:  62%|██████▏   | 623/1009 [18:13<10:46,  1.68s/keyword]\n",
            "\n",
            "Processing keywords:  62%|██████▏   | 623/1009 [18:15<10:46,  1.68s/keyword]\n",
            "Processing ranks:   0%|          | 0/1 [00:01<?, ?rank/s]\u001b[A"
          ]
        },
        {
          "output_type": "stream",
          "name": "stdout",
          "text": [
            "Saved HTML file: html-files-2024-04-26-10-22/14516417461.html\n"
          ]
        },
        {
          "output_type": "stream",
          "name": "stderr",
          "text": [
            "\n",
            "Processing ranks: 100%|██████████| 1/1 [00:01<00:00,  1.67s/rank]\u001b[A\n",
            "Processing keywords:  62%|██████▏   | 624/1009 [18:15<10:46,  1.68s/keyword]\n",
            "\n",
            "Processing keywords:  62%|██████▏   | 624/1009 [18:16<10:46,  1.68s/keyword]\n",
            "Processing ranks:   0%|          | 0/1 [00:01<?, ?rank/s]\u001b[A"
          ]
        },
        {
          "output_type": "stream",
          "name": "stdout",
          "text": [
            "Saved HTML file: html-files-2024-04-26-10-22/14516418578.html\n"
          ]
        },
        {
          "output_type": "stream",
          "name": "stderr",
          "text": [
            "\n",
            "Processing ranks: 100%|██████████| 1/1 [00:01<00:00,  1.81s/rank]\u001b[A\n",
            "Processing keywords:  62%|██████▏   | 625/1009 [18:17<11:01,  1.72s/keyword]\n",
            "\n",
            "Processing keywords:  62%|██████▏   | 625/1009 [18:18<11:01,  1.72s/keyword]\n",
            "Processing ranks:   0%|          | 0/1 [00:01<?, ?rank/s]\u001b[A"
          ]
        },
        {
          "output_type": "stream",
          "name": "stdout",
          "text": [
            "Saved HTML file: html-files-2024-04-26-10-22/14516419092.html\n"
          ]
        },
        {
          "output_type": "stream",
          "name": "stderr",
          "text": [
            "\n",
            "Processing ranks: 100%|██████████| 1/1 [00:01<00:00,  1.61s/rank]\u001b[A\n",
            "Processing keywords:  62%|██████▏   | 626/1009 [18:19<10:48,  1.69s/keyword]\n",
            "\n",
            "Processing keywords:  62%|██████▏   | 626/1009 [18:20<10:48,  1.69s/keyword]\n",
            "Processing ranks:   0%|          | 0/1 [00:01<?, ?rank/s]\u001b[A"
          ]
        },
        {
          "output_type": "stream",
          "name": "stdout",
          "text": [
            "Saved HTML file: html-files-2024-04-26-10-22/14516420493.html\n"
          ]
        },
        {
          "output_type": "stream",
          "name": "stderr",
          "text": [
            "\n",
            "Processing ranks: 100%|██████████| 1/1 [00:01<00:00,  1.91s/rank]\u001b[A\n",
            "Processing keywords:  62%|██████▏   | 627/1009 [18:21<11:15,  1.77s/keyword]\n",
            "\n",
            "Processing keywords:  62%|██████▏   | 627/1009 [18:22<11:15,  1.77s/keyword]\n",
            "Processing ranks:   0%|          | 0/1 [00:01<?, ?rank/s]\u001b[A"
          ]
        },
        {
          "output_type": "stream",
          "name": "stdout",
          "text": [
            "Saved HTML file: html-files-2024-04-26-10-22/14516420965.html\n"
          ]
        },
        {
          "output_type": "stream",
          "name": "stderr",
          "text": [
            "\n",
            "Processing ranks: 100%|██████████| 1/1 [00:01<00:00,  1.84s/rank]\u001b[A\n",
            "Processing keywords:  62%|██████▏   | 628/1009 [18:22<11:24,  1.80s/keyword]\n",
            "\n",
            "Processing keywords:  62%|██████▏   | 628/1009 [18:24<11:24,  1.80s/keyword]\n",
            "Processing ranks:   0%|          | 0/1 [00:01<?, ?rank/s]\u001b[A"
          ]
        },
        {
          "output_type": "stream",
          "name": "stdout",
          "text": [
            "Saved HTML file: html-files-2024-04-26-10-22/14516421737.html\n"
          ]
        },
        {
          "output_type": "stream",
          "name": "stderr",
          "text": [
            "\n",
            "Processing ranks: 100%|██████████| 1/1 [00:02<00:00,  2.21s/rank]\u001b[A\n",
            "Processing keywords:  62%|██████▏   | 629/1009 [18:25<12:11,  1.92s/keyword]\n",
            "\n",
            "Processing keywords:  62%|██████▏   | 629/1009 [18:26<12:11,  1.92s/keyword]\n",
            "Processing ranks:   0%|          | 0/1 [00:01<?, ?rank/s]\u001b[A"
          ]
        },
        {
          "output_type": "stream",
          "name": "stdout",
          "text": [
            "Saved HTML file: html-files-2024-04-26-10-22/14516422172.html\n"
          ]
        },
        {
          "output_type": "stream",
          "name": "stderr",
          "text": [
            "\n",
            "Processing ranks: 100%|██████████| 1/1 [00:02<00:00,  2.24s/rank]\u001b[A\n",
            "Processing keywords:  62%|██████▏   | 630/1009 [18:27<12:47,  2.03s/keyword]\n",
            "\n",
            "Processing keywords:  62%|██████▏   | 630/1009 [18:28<12:47,  2.03s/keyword]\n",
            "Processing ranks:   0%|          | 0/1 [00:01<?, ?rank/s]\u001b[A"
          ]
        },
        {
          "output_type": "stream",
          "name": "stdout",
          "text": [
            "Saved HTML file: html-files-2024-04-26-10-22/14516422500.html\n"
          ]
        },
        {
          "output_type": "stream",
          "name": "stderr",
          "text": [
            "\n",
            "Processing ranks: 100%|██████████| 1/1 [00:01<00:00,  1.99s/rank]\u001b[A\n",
            "Processing keywords:  63%|██████▎   | 631/1009 [18:29<12:44,  2.02s/keyword]\n",
            "\n",
            "Processing keywords:  63%|██████▎   | 631/1009 [18:30<12:44,  2.02s/keyword]\n",
            "Processing ranks:   0%|          | 0/1 [00:01<?, ?rank/s]\u001b[A"
          ]
        },
        {
          "output_type": "stream",
          "name": "stdout",
          "text": [
            "Saved HTML file: html-files-2024-04-26-10-22/14516422700.html\n"
          ]
        },
        {
          "output_type": "stream",
          "name": "stderr",
          "text": [
            "\n",
            "Processing ranks: 100%|██████████| 1/1 [00:01<00:00,  1.76s/rank]\u001b[A\n",
            "Processing keywords:  63%|██████▎   | 632/1009 [18:31<12:14,  1.95s/keyword]\n",
            "\n",
            "Processing keywords:  63%|██████▎   | 632/1009 [18:32<12:14,  1.95s/keyword]\n",
            "Processing ranks:   0%|          | 0/1 [00:01<?, ?rank/s]\u001b[A"
          ]
        },
        {
          "output_type": "stream",
          "name": "stdout",
          "text": [
            "Saved HTML file: html-files-2024-04-26-10-22/14516422974.html\n"
          ]
        },
        {
          "output_type": "stream",
          "name": "stderr",
          "text": [
            "\n",
            "Processing ranks: 100%|██████████| 1/1 [00:01<00:00,  1.73s/rank]\u001b[A\n",
            "Processing keywords:  63%|██████▎   | 633/1009 [18:32<11:50,  1.89s/keyword]\n",
            "\n",
            "Processing keywords:  63%|██████▎   | 633/1009 [18:33<11:50,  1.89s/keyword]\n",
            "Processing ranks:   0%|          | 0/1 [00:00<?, ?rank/s]\u001b[A"
          ]
        },
        {
          "output_type": "stream",
          "name": "stdout",
          "text": [
            "Saved HTML file: html-files-2024-04-26-10-22/14516376233.html\n"
          ]
        },
        {
          "output_type": "stream",
          "name": "stderr",
          "text": [
            "\n",
            "Processing ranks: 100%|██████████| 1/1 [00:01<00:00,  1.01s/rank]\u001b[A\n",
            "Processing keywords:  63%|██████▎   | 634/1009 [18:33<10:11,  1.63s/keyword]\n",
            "\n",
            "Processing keywords:  63%|██████▎   | 634/1009 [18:35<10:11,  1.63s/keyword]\n",
            "Processing ranks:   0%|          | 0/1 [00:01<?, ?rank/s]\u001b[A"
          ]
        },
        {
          "output_type": "stream",
          "name": "stdout",
          "text": [
            "Saved HTML file: html-files-2024-04-26-10-22/14516376360.html\n"
          ]
        },
        {
          "output_type": "stream",
          "name": "stderr",
          "text": [
            "\n",
            "Processing ranks: 100%|██████████| 1/1 [00:01<00:00,  1.83s/rank]\u001b[A\n",
            "Processing keywords:  63%|██████▎   | 635/1009 [18:35<10:34,  1.70s/keyword]\n",
            "\n",
            "Processing keywords:  63%|██████▎   | 635/1009 [18:37<10:34,  1.70s/keyword]\n",
            "Processing ranks:   0%|          | 0/1 [00:01<?, ?rank/s]\u001b[A"
          ]
        },
        {
          "output_type": "stream",
          "name": "stdout",
          "text": [
            "Saved HTML file: html-files-2024-04-26-10-22/14516423900.html\n"
          ]
        },
        {
          "output_type": "stream",
          "name": "stderr",
          "text": [
            "\n",
            "Processing ranks: 100%|██████████| 1/1 [00:01<00:00,  1.70s/rank]\u001b[A\n",
            "Processing keywords:  63%|██████▎   | 636/1009 [18:37<10:36,  1.71s/keyword]\n",
            "\n",
            "Processing keywords:  63%|██████▎   | 636/1009 [18:38<10:36,  1.71s/keyword]\n",
            "Processing ranks:   0%|          | 0/1 [00:01<?, ?rank/s]\u001b[A"
          ]
        },
        {
          "output_type": "stream",
          "name": "stdout",
          "text": [
            "Saved HTML file: html-files-2024-04-26-10-22/14516377821.html\n"
          ]
        },
        {
          "output_type": "stream",
          "name": "stderr",
          "text": [
            "\n",
            "Processing ranks: 100%|██████████| 1/1 [00:01<00:00,  1.72s/rank]\u001b[A\n",
            "Processing keywords:  63%|██████▎   | 637/1009 [18:39<10:38,  1.72s/keyword]\n",
            "\n",
            "Processing keywords:  63%|██████▎   | 637/1009 [18:40<10:38,  1.72s/keyword]\n",
            "Processing ranks:   0%|          | 0/1 [00:01<?, ?rank/s]\u001b[A"
          ]
        },
        {
          "output_type": "stream",
          "name": "stdout",
          "text": [
            "Saved HTML file: html-files-2024-04-26-10-22/14516378327.html\n"
          ]
        },
        {
          "output_type": "stream",
          "name": "stderr",
          "text": [
            "\n",
            "Processing ranks: 100%|██████████| 1/1 [00:01<00:00,  1.92s/rank]\u001b[A\n",
            "Processing keywords:  63%|██████▎   | 638/1009 [18:41<11:02,  1.78s/keyword]\n",
            "\n",
            "Processing keywords:  63%|██████▎   | 638/1009 [18:42<11:02,  1.78s/keyword]\n",
            "Processing ranks:   0%|          | 0/1 [00:01<?, ?rank/s]\u001b[A"
          ]
        },
        {
          "output_type": "stream",
          "name": "stdout",
          "text": [
            "Saved HTML file: html-files-2024-04-26-10-22/14516378592.html\n"
          ]
        },
        {
          "output_type": "stream",
          "name": "stderr",
          "text": [
            "\n",
            "Processing ranks: 100%|██████████| 1/1 [00:01<00:00,  1.92s/rank]\u001b[A\n",
            "Processing keywords:  63%|██████▎   | 639/1009 [18:43<11:17,  1.83s/keyword]\n",
            "\n",
            "Processing keywords:  63%|██████▎   | 639/1009 [18:44<11:17,  1.83s/keyword]\n",
            "Processing ranks:   0%|          | 0/1 [00:01<?, ?rank/s]\u001b[A"
          ]
        },
        {
          "output_type": "stream",
          "name": "stdout",
          "text": [
            "Saved HTML file: html-files-2024-04-26-10-22/14516379290.html\n"
          ]
        },
        {
          "output_type": "stream",
          "name": "stderr",
          "text": [
            "\n",
            "Processing ranks: 100%|██████████| 1/1 [00:02<00:00,  2.20s/rank]\u001b[A\n",
            "Processing keywords:  63%|██████▎   | 640/1009 [18:45<11:58,  1.95s/keyword]\n",
            "\n",
            "Processing keywords:  63%|██████▎   | 640/1009 [18:46<11:58,  1.95s/keyword]\n",
            "Processing ranks:   0%|          | 0/1 [00:01<?, ?rank/s]\u001b[A"
          ]
        },
        {
          "output_type": "stream",
          "name": "stdout",
          "text": [
            "Saved HTML file: html-files-2024-04-26-10-22/14516379462.html\n"
          ]
        },
        {
          "output_type": "stream",
          "name": "stderr",
          "text": [
            "\n",
            "Processing ranks: 100%|██████████| 1/1 [00:01<00:00,  1.92s/rank]\u001b[A\n",
            "Processing keywords:  64%|██████▎   | 641/1009 [18:47<11:55,  1.94s/keyword]\n",
            "\n",
            "Processing keywords:  64%|██████▎   | 641/1009 [18:48<11:55,  1.94s/keyword]\n",
            "Processing ranks:   0%|          | 0/1 [00:01<?, ?rank/s]\u001b[A"
          ]
        },
        {
          "output_type": "stream",
          "name": "stdout",
          "text": [
            "Saved HTML file: html-files-2024-04-26-10-22/14516357458.html\n"
          ]
        },
        {
          "output_type": "stream",
          "name": "stderr",
          "text": [
            "\n",
            "Processing ranks: 100%|██████████| 1/1 [00:01<00:00,  1.97s/rank]\u001b[A\n",
            "Processing keywords:  64%|██████▎   | 642/1009 [18:49<11:57,  1.96s/keyword]\n",
            "\n",
            "Processing keywords:  64%|██████▎   | 642/1009 [18:50<11:57,  1.96s/keyword]\n",
            "Processing ranks:   0%|          | 0/1 [00:01<?, ?rank/s]\u001b[A"
          ]
        },
        {
          "output_type": "stream",
          "name": "stdout",
          "text": [
            "Saved HTML file: html-files-2024-04-26-10-22/14516379827.html\n"
          ]
        },
        {
          "output_type": "stream",
          "name": "stderr",
          "text": [
            "\n",
            "Processing ranks: 100%|██████████| 1/1 [00:01<00:00,  1.72s/rank]\u001b[A\n",
            "Processing keywords:  64%|██████▎   | 643/1009 [18:51<11:32,  1.89s/keyword]\n",
            "\n",
            "Processing keywords:  64%|██████▎   | 643/1009 [18:52<11:32,  1.89s/keyword]\n",
            "Processing ranks:   0%|          | 0/1 [00:01<?, ?rank/s]\u001b[A"
          ]
        },
        {
          "output_type": "stream",
          "name": "stdout",
          "text": [
            "Saved HTML file: html-files-2024-04-26-10-22/14516381614.html\n"
          ]
        },
        {
          "output_type": "stream",
          "name": "stderr",
          "text": [
            "\n",
            "Processing ranks: 100%|██████████| 1/1 [00:01<00:00,  1.62s/rank]\u001b[A\n",
            "Processing keywords:  64%|██████▍   | 644/1009 [18:52<11:02,  1.81s/keyword]\n",
            "\n",
            "Processing keywords:  64%|██████▍   | 644/1009 [18:53<11:02,  1.81s/keyword]\n",
            "Processing ranks:   0%|          | 0/1 [00:01<?, ?rank/s]\u001b[A"
          ]
        },
        {
          "output_type": "stream",
          "name": "stdout",
          "text": [
            "Saved HTML file: html-files-2024-04-26-10-22/14516424175.html\n"
          ]
        },
        {
          "output_type": "stream",
          "name": "stderr",
          "text": [
            "\n",
            "Processing ranks: 100%|██████████| 1/1 [00:01<00:00,  1.77s/rank]\u001b[A\n",
            "Processing keywords:  64%|██████▍   | 645/1009 [18:54<10:56,  1.80s/keyword]\n",
            "\n",
            "Processing keywords:  64%|██████▍   | 645/1009 [18:55<10:56,  1.80s/keyword]\n",
            "Processing ranks:   0%|          | 0/1 [00:01<?, ?rank/s]\u001b[A"
          ]
        },
        {
          "output_type": "stream",
          "name": "stdout",
          "text": [
            "Saved HTML file: html-files-2024-04-26-10-22/14516382001.html\n"
          ]
        },
        {
          "output_type": "stream",
          "name": "stderr",
          "text": [
            "\n",
            "Processing ranks: 100%|██████████| 1/1 [00:01<00:00,  1.70s/rank]\u001b[A\n",
            "Processing keywords:  64%|██████▍   | 646/1009 [18:56<10:45,  1.78s/keyword]\n",
            "\n",
            "Processing keywords:  64%|██████▍   | 646/1009 [18:57<10:45,  1.78s/keyword]\n",
            "Processing ranks:   0%|          | 0/1 [00:01<?, ?rank/s]\u001b[A"
          ]
        },
        {
          "output_type": "stream",
          "name": "stdout",
          "text": [
            "Saved HTML file: html-files-2024-04-26-10-22/14516382300.html\n"
          ]
        },
        {
          "output_type": "stream",
          "name": "stderr",
          "text": [
            "\n",
            "Processing ranks: 100%|██████████| 1/1 [00:01<00:00,  1.83s/rank]\u001b[A\n",
            "Processing keywords:  64%|██████▍   | 647/1009 [18:58<10:51,  1.80s/keyword]\n",
            "\n",
            "Processing keywords:  64%|██████▍   | 647/1009 [18:59<10:51,  1.80s/keyword]\n",
            "Processing ranks:   0%|          | 0/1 [00:01<?, ?rank/s]\u001b[A"
          ]
        },
        {
          "output_type": "stream",
          "name": "stdout",
          "text": [
            "Saved HTML file: html-files-2024-04-26-10-22/14516382830.html\n"
          ]
        },
        {
          "output_type": "stream",
          "name": "stderr",
          "text": [
            "\n",
            "Processing ranks: 100%|██████████| 1/1 [00:01<00:00,  1.64s/rank]\u001b[A\n",
            "Processing keywords:  64%|██████▍   | 648/1009 [18:59<10:34,  1.76s/keyword]\n",
            "\n",
            "Processing keywords:  64%|██████▍   | 648/1009 [19:01<10:34,  1.76s/keyword]\n",
            "Processing ranks:   0%|          | 0/1 [00:01<?, ?rank/s]\u001b[A"
          ]
        },
        {
          "output_type": "stream",
          "name": "stdout",
          "text": [
            "Saved HTML file: html-files-2024-04-26-10-22/14516383428.html\n"
          ]
        },
        {
          "output_type": "stream",
          "name": "stderr",
          "text": [
            "\n",
            "Processing ranks: 100%|██████████| 1/1 [00:01<00:00,  1.91s/rank]\u001b[A\n",
            "Processing keywords:  64%|██████▍   | 649/1009 [19:01<10:50,  1.81s/keyword]\n",
            "\n",
            "Processing keywords:  64%|██████▍   | 649/1009 [19:03<10:50,  1.81s/keyword]\n",
            "Processing ranks:   0%|          | 0/1 [00:01<?, ?rank/s]\u001b[A"
          ]
        },
        {
          "output_type": "stream",
          "name": "stdout",
          "text": [
            "Saved HTML file: html-files-2024-04-26-10-22/14516383757.html\n"
          ]
        },
        {
          "output_type": "stream",
          "name": "stderr",
          "text": [
            "\n",
            "Processing ranks: 100%|██████████| 1/1 [00:02<00:00,  2.38s/rank]\u001b[A\n",
            "Processing keywords:  64%|██████▍   | 650/1009 [19:04<11:52,  1.99s/keyword]\n",
            "\n",
            "Processing keywords:  64%|██████▍   | 650/1009 [19:05<11:52,  1.99s/keyword]\n",
            "Processing ranks:   0%|          | 0/1 [00:01<?, ?rank/s]\u001b[A"
          ]
        },
        {
          "output_type": "stream",
          "name": "stdout",
          "text": [
            "Saved HTML file: html-files-2024-04-26-10-22/14516384014.html\n"
          ]
        },
        {
          "output_type": "stream",
          "name": "stderr",
          "text": [
            "\n",
            "Processing ranks: 100%|██████████| 1/1 [00:02<00:00,  2.08s/rank]\u001b[A\n",
            "Processing keywords:  65%|██████▍   | 651/1009 [19:06<12:03,  2.02s/keyword]\n",
            "\n",
            "Processing keywords:  65%|██████▍   | 651/1009 [19:07<12:03,  2.02s/keyword]\n",
            "Processing ranks:   0%|          | 0/1 [00:01<?, ?rank/s]\u001b[A"
          ]
        },
        {
          "output_type": "stream",
          "name": "stdout",
          "text": [
            "Saved HTML file: html-files-2024-04-26-10-22/14516384369.html\n"
          ]
        },
        {
          "output_type": "stream",
          "name": "stderr",
          "text": [
            "\n",
            "Processing ranks: 100%|██████████| 1/1 [00:02<00:00,  2.22s/rank]\u001b[A\n",
            "Processing keywords:  65%|██████▍   | 652/1009 [19:08<12:25,  2.09s/keyword]\n",
            "\n",
            "Processing keywords:  65%|██████▍   | 652/1009 [19:09<12:25,  2.09s/keyword]\n",
            "Processing ranks:   0%|          | 0/1 [00:01<?, ?rank/s]\u001b[A"
          ]
        },
        {
          "output_type": "stream",
          "name": "stdout",
          "text": [
            "Saved HTML file: html-files-2024-04-26-10-22/14516385050.html\n"
          ]
        },
        {
          "output_type": "stream",
          "name": "stderr",
          "text": [
            "\n",
            "Processing ranks: 100%|██████████| 1/1 [00:01<00:00,  1.81s/rank]\u001b[A\n",
            "Processing keywords:  65%|██████▍   | 653/1009 [19:10<11:56,  2.01s/keyword]\n",
            "\n",
            "Processing keywords:  65%|██████▍   | 653/1009 [19:11<11:56,  2.01s/keyword]\n",
            "Processing ranks:   0%|          | 0/1 [00:01<?, ?rank/s]\u001b[A"
          ]
        },
        {
          "output_type": "stream",
          "name": "stdout",
          "text": [
            "Saved HTML file: html-files-2024-04-26-10-22/14516386324.html\n"
          ]
        },
        {
          "output_type": "stream",
          "name": "stderr",
          "text": [
            "\n",
            "Processing ranks: 100%|██████████| 1/1 [00:01<00:00,  1.76s/rank]\u001b[A\n",
            "Processing keywords:  65%|██████▍   | 654/1009 [19:11<11:29,  1.94s/keyword]\n",
            "\n",
            "Processing keywords:  65%|██████▍   | 654/1009 [19:13<11:29,  1.94s/keyword]\n",
            "Processing ranks:   0%|          | 0/1 [00:01<?, ?rank/s]\u001b[A"
          ]
        },
        {
          "output_type": "stream",
          "name": "stdout",
          "text": [
            "Saved HTML file: html-files-2024-04-26-10-22/14516424441.html\n"
          ]
        },
        {
          "output_type": "stream",
          "name": "stderr",
          "text": [
            "\n",
            "Processing ranks: 100%|██████████| 1/1 [00:02<00:00,  2.03s/rank]\u001b[A\n",
            "Processing keywords:  65%|██████▍   | 655/1009 [19:14<11:38,  1.97s/keyword]\n",
            "\n",
            "Processing keywords:  65%|██████▍   | 655/1009 [19:15<11:38,  1.97s/keyword]\n",
            "Processing ranks:   0%|          | 0/1 [00:01<?, ?rank/s]\u001b[A"
          ]
        },
        {
          "output_type": "stream",
          "name": "stdout",
          "text": [
            "Saved HTML file: html-files-2024-04-26-10-22/14516388164.html\n"
          ]
        },
        {
          "output_type": "stream",
          "name": "stderr",
          "text": [
            "\n",
            "Processing ranks: 100%|██████████| 1/1 [00:01<00:00,  1.76s/rank]\u001b[A\n",
            "Processing keywords:  65%|██████▌   | 656/1009 [19:15<11:15,  1.91s/keyword]\n",
            "\n",
            "Processing keywords:  65%|██████▌   | 656/1009 [19:17<11:15,  1.91s/keyword]\n",
            "Processing ranks:   0%|          | 0/1 [00:01<?, ?rank/s]\u001b[A"
          ]
        },
        {
          "output_type": "stream",
          "name": "stdout",
          "text": [
            "Saved HTML file: html-files-2024-04-26-10-22/14516335252.html\n"
          ]
        },
        {
          "output_type": "stream",
          "name": "stderr",
          "text": [
            "\n",
            "Processing ranks: 100%|██████████| 1/1 [00:02<00:00,  2.22s/rank]\u001b[A\n",
            "Processing keywords:  65%|██████▌   | 657/1009 [19:18<11:47,  2.01s/keyword]\n",
            "\n",
            "Processing keywords:  65%|██████▌   | 657/1009 [19:21<11:47,  2.01s/keyword]\n",
            "Processing ranks:   0%|          | 0/1 [00:03<?, ?rank/s]\u001b[A"
          ]
        },
        {
          "output_type": "stream",
          "name": "stdout",
          "text": [
            "Saved HTML file: html-files-2024-04-26-10-22/14516392800.html\n"
          ]
        },
        {
          "output_type": "stream",
          "name": "stderr",
          "text": [
            "\n",
            "Processing ranks: 100%|██████████| 1/1 [00:03<00:00,  3.66s/rank]\u001b[A\n",
            "Processing keywords:  65%|██████▌   | 658/1009 [19:21<14:41,  2.51s/keyword]\n",
            "\n",
            "Processing keywords:  65%|██████▌   | 658/1009 [19:22<14:41,  2.51s/keyword]\n",
            "Processing ranks:   0%|          | 0/1 [00:01<?, ?rank/s]\u001b[A"
          ]
        },
        {
          "output_type": "stream",
          "name": "stdout",
          "text": [
            "Saved HTML file: html-files-2024-04-26-10-22/14516393672.html\n"
          ]
        },
        {
          "output_type": "stream",
          "name": "stderr",
          "text": [
            "\n",
            "Processing ranks: 100%|██████████| 1/1 [00:02<00:00,  2.00s/rank]\u001b[A\n",
            "Processing keywords:  65%|██████▌   | 659/1009 [19:23<13:46,  2.36s/keyword]\n",
            "\n",
            "Processing keywords:  65%|██████▌   | 659/1009 [19:25<13:46,  2.36s/keyword]\n",
            "Processing ranks:   0%|          | 0/1 [00:01<?, ?rank/s]\u001b[A"
          ]
        },
        {
          "output_type": "stream",
          "name": "stdout",
          "text": [
            "Saved HTML file: html-files-2024-04-26-10-22/14516401201.html\n"
          ]
        },
        {
          "output_type": "stream",
          "name": "stderr",
          "text": [
            "\n",
            "Processing ranks: 100%|██████████| 1/1 [00:01<00:00,  1.87s/rank]\u001b[A\n",
            "Processing keywords:  65%|██████▌   | 660/1009 [19:25<12:54,  2.22s/keyword]\n",
            "\n",
            "Processing keywords:  65%|██████▌   | 660/1009 [19:27<12:54,  2.22s/keyword]\n",
            "Processing ranks:   0%|          | 0/1 [00:01<?, ?rank/s]\u001b[A"
          ]
        },
        {
          "output_type": "stream",
          "name": "stdout",
          "text": [
            "Saved HTML file: html-files-2024-04-26-10-22/14516335163.html\n"
          ]
        },
        {
          "output_type": "stream",
          "name": "stderr",
          "text": [
            "\n",
            "Processing ranks: 100%|██████████| 1/1 [00:01<00:00,  1.95s/rank]\u001b[A\n",
            "Processing keywords:  66%|██████▌   | 661/1009 [19:27<12:26,  2.15s/keyword]\n",
            "\n",
            "Processing keywords:  66%|██████▌   | 661/1009 [19:28<12:26,  2.15s/keyword]\n",
            "Processing ranks:   0%|          | 0/1 [00:01<?, ?rank/s]\u001b[A"
          ]
        },
        {
          "output_type": "stream",
          "name": "stdout",
          "text": [
            "Saved HTML file: html-files-2024-04-26-10-22/14516401282.html\n"
          ]
        },
        {
          "output_type": "stream",
          "name": "stderr",
          "text": [
            "\n",
            "Processing ranks: 100%|██████████| 1/1 [00:02<00:00,  2.14s/rank]\u001b[A\n",
            "Processing keywords:  66%|██████▌   | 662/1009 [19:29<12:26,  2.15s/keyword]\n",
            "\n",
            "Processing keywords:  66%|██████▌   | 662/1009 [19:31<12:26,  2.15s/keyword]\n",
            "Processing ranks:   0%|          | 0/1 [00:01<?, ?rank/s]\u001b[A"
          ]
        },
        {
          "output_type": "stream",
          "name": "stdout",
          "text": [
            "Saved HTML file: html-files-2024-04-26-10-22/14516335222.html\n"
          ]
        },
        {
          "output_type": "stream",
          "name": "stderr",
          "text": [
            "\n",
            "Processing ranks: 100%|██████████| 1/1 [00:02<00:00,  2.09s/rank]\u001b[A\n",
            "Processing keywords:  66%|██████▌   | 663/1009 [19:31<12:22,  2.14s/keyword]\n",
            "\n",
            "Processing keywords:  66%|██████▌   | 663/1009 [19:33<12:22,  2.14s/keyword]\n",
            "Processing ranks:   0%|          | 0/1 [00:01<?, ?rank/s]\u001b[A"
          ]
        },
        {
          "output_type": "stream",
          "name": "stdout",
          "text": [
            "Saved HTML file: html-files-2024-04-26-10-22/14516336500.html\n"
          ]
        },
        {
          "output_type": "stream",
          "name": "stderr",
          "text": [
            "\n",
            "Processing ranks: 100%|██████████| 1/1 [00:01<00:00,  1.99s/rank]\u001b[A\n",
            "Processing keywords:  66%|██████▌   | 664/1009 [19:33<12:06,  2.11s/keyword]\n",
            "\n",
            "Processing keywords:  66%|██████▌   | 664/1009 [19:35<12:06,  2.11s/keyword]\n",
            "Processing ranks:   0%|          | 0/1 [00:01<?, ?rank/s]\u001b[A"
          ]
        },
        {
          "output_type": "stream",
          "name": "stdout",
          "text": [
            "Saved HTML file: html-files-2024-04-26-10-22/14516337005.html\n"
          ]
        },
        {
          "output_type": "stream",
          "name": "stderr",
          "text": [
            "\n",
            "Processing ranks: 100%|██████████| 1/1 [00:02<00:00,  2.16s/rank]\u001b[A\n",
            "Processing keywords:  66%|██████▌   | 665/1009 [19:36<12:12,  2.13s/keyword]\n",
            "\n",
            "Processing keywords:  66%|██████▌   | 665/1009 [19:37<12:12,  2.13s/keyword]\n",
            "Processing ranks:   0%|          | 0/1 [00:01<?, ?rank/s]\u001b[A"
          ]
        },
        {
          "output_type": "stream",
          "name": "stdout",
          "text": [
            "Saved HTML file: html-files-2024-04-26-10-22/14516409987.html\n"
          ]
        },
        {
          "output_type": "stream",
          "name": "stderr",
          "text": [
            "\n",
            "Processing ranks: 100%|██████████| 1/1 [00:01<00:00,  1.68s/rank]\u001b[A\n",
            "Processing keywords:  66%|██████▌   | 666/1009 [19:37<11:26,  2.00s/keyword]\n",
            "\n",
            "Processing keywords:  66%|██████▌   | 666/1009 [19:39<11:26,  2.00s/keyword]\n",
            "Processing ranks:   0%|          | 0/1 [00:01<?, ?rank/s]\u001b[A"
          ]
        },
        {
          "output_type": "stream",
          "name": "stdout",
          "text": [
            "Saved HTML file: html-files-2024-04-26-10-22/14516338011.html\n"
          ]
        },
        {
          "output_type": "stream",
          "name": "stderr",
          "text": [
            "\n",
            "Processing ranks: 100%|██████████| 1/1 [00:01<00:00,  1.75s/rank]\u001b[A\n",
            "Processing keywords:  66%|██████▌   | 667/1009 [19:39<11:00,  1.93s/keyword]\n",
            "\n",
            "Processing keywords:  66%|██████▌   | 667/1009 [19:41<11:00,  1.93s/keyword]\n",
            "Processing ranks:   0%|          | 0/1 [00:01<?, ?rank/s]\u001b[A"
          ]
        },
        {
          "output_type": "stream",
          "name": "stdout",
          "text": [
            "Saved HTML file: html-files-2024-04-26-10-22/14516373402.html\n"
          ]
        },
        {
          "output_type": "stream",
          "name": "stderr",
          "text": [
            "\n",
            "Processing ranks: 100%|██████████| 1/1 [00:01<00:00,  1.94s/rank]\u001b[A\n",
            "Processing keywords:  66%|██████▌   | 668/1009 [19:41<11:01,  1.94s/keyword]\n",
            "\n",
            "Processing keywords:  66%|██████▌   | 668/1009 [19:42<11:01,  1.94s/keyword]\n",
            "Processing ranks:   0%|          | 0/1 [00:01<?, ?rank/s]\u001b[A"
          ]
        },
        {
          "output_type": "stream",
          "name": "stdout",
          "text": [
            "Saved HTML file: html-files-2024-04-26-10-22/14516411488.html\n"
          ]
        },
        {
          "output_type": "stream",
          "name": "stderr",
          "text": [
            "\n",
            "Processing ranks: 100%|██████████| 1/1 [00:01<00:00,  1.72s/rank]\u001b[A\n",
            "Processing keywords:  66%|██████▋   | 669/1009 [19:43<10:38,  1.88s/keyword]\n",
            "\n",
            "Processing keywords:  66%|██████▋   | 669/1009 [19:44<10:38,  1.88s/keyword]\n",
            "Processing ranks:   0%|          | 0/1 [00:01<?, ?rank/s]\u001b[A"
          ]
        },
        {
          "output_type": "stream",
          "name": "stdout",
          "text": [
            "Saved HTML file: html-files-2024-04-26-10-22/14516412385.html\n"
          ]
        },
        {
          "output_type": "stream",
          "name": "stderr",
          "text": [
            "\n",
            "Processing ranks: 100%|██████████| 1/1 [00:01<00:00,  1.72s/rank]\u001b[A\n",
            "Processing keywords:  66%|██████▋   | 670/1009 [19:44<10:22,  1.84s/keyword]\n",
            "\n",
            "Processing keywords:  66%|██████▋   | 670/1009 [19:46<10:22,  1.84s/keyword]\n",
            "Processing ranks:   0%|          | 0/1 [00:01<?, ?rank/s]\u001b[A"
          ]
        },
        {
          "output_type": "stream",
          "name": "stdout",
          "text": [
            "Saved HTML file: html-files-2024-04-26-10-22/14516425105.html\n"
          ]
        },
        {
          "output_type": "stream",
          "name": "stderr",
          "text": [
            "\n",
            "Processing ranks: 100%|██████████| 1/1 [00:01<00:00,  1.99s/rank]\u001b[A\n",
            "Processing keywords:  67%|██████▋   | 671/1009 [19:46<10:38,  1.89s/keyword]\n",
            "\n",
            "Processing keywords:  67%|██████▋   | 671/1009 [19:48<10:38,  1.89s/keyword]\n",
            "Processing ranks:   0%|          | 0/1 [00:01<?, ?rank/s]\u001b[A"
          ]
        },
        {
          "output_type": "stream",
          "name": "stdout",
          "text": [
            "Saved HTML file: html-files-2024-04-26-10-22/14516413527.html\n"
          ]
        },
        {
          "output_type": "stream",
          "name": "stderr",
          "text": [
            "\n",
            "Processing ranks: 100%|██████████| 1/1 [00:02<00:00,  2.18s/rank]\u001b[A\n",
            "Processing keywords:  67%|██████▋   | 672/1009 [19:49<11:07,  1.98s/keyword]\n",
            "\n",
            "Processing keywords:  67%|██████▋   | 672/1009 [19:50<11:07,  1.98s/keyword]\n",
            "Processing ranks:   0%|          | 0/1 [00:01<?, ?rank/s]\u001b[A"
          ]
        },
        {
          "output_type": "stream",
          "name": "stdout",
          "text": [
            "Saved HTML file: html-files-2024-04-26-10-22/14516413738.html\n"
          ]
        },
        {
          "output_type": "stream",
          "name": "stderr",
          "text": [
            "\n",
            "Processing ranks: 100%|██████████| 1/1 [00:01<00:00,  1.86s/rank]\u001b[A\n",
            "Processing keywords:  67%|██████▋   | 673/1009 [19:51<10:54,  1.95s/keyword]\n",
            "\n",
            "Processing keywords:  67%|██████▋   | 673/1009 [19:52<10:54,  1.95s/keyword]\n",
            "Processing ranks:   0%|          | 0/1 [00:01<?, ?rank/s]\u001b[A"
          ]
        },
        {
          "output_type": "stream",
          "name": "stdout",
          "text": [
            "Saved HTML file: html-files-2024-04-26-10-22/14516416320.html\n"
          ]
        },
        {
          "output_type": "stream",
          "name": "stderr",
          "text": [
            "\n",
            "Processing ranks: 100%|██████████| 1/1 [00:01<00:00,  1.91s/rank]\u001b[A\n",
            "Processing keywords:  67%|██████▋   | 674/1009 [19:52<10:50,  1.94s/keyword]\n",
            "\n",
            "Processing keywords:  67%|██████▋   | 674/1009 [19:54<10:50,  1.94s/keyword]\n",
            "Processing ranks:   0%|          | 0/1 [00:01<?, ?rank/s]\u001b[A"
          ]
        },
        {
          "output_type": "stream",
          "name": "stdout",
          "text": [
            "Saved HTML file: html-files-2024-04-26-10-22/14516339721.html\n"
          ]
        },
        {
          "output_type": "stream",
          "name": "stderr",
          "text": [
            "\n",
            "Processing ranks: 100%|██████████| 1/1 [00:02<00:00,  2.04s/rank]\u001b[A\n",
            "Processing keywords:  67%|██████▋   | 675/1009 [19:55<11:02,  1.98s/keyword]\n",
            "\n",
            "Processing keywords:  67%|██████▋   | 675/1009 [19:56<11:02,  1.98s/keyword]\n",
            "Processing ranks:   0%|          | 0/1 [00:01<?, ?rank/s]\u001b[A"
          ]
        },
        {
          "output_type": "stream",
          "name": "stdout",
          "text": [
            "Saved HTML file: html-files-2024-04-26-10-22/14516373869.html\n"
          ]
        },
        {
          "output_type": "stream",
          "name": "stderr",
          "text": [
            "\n",
            "Processing ranks: 100%|██████████| 1/1 [00:01<00:00,  1.67s/rank]\u001b[A\n",
            "Processing keywords:  67%|██████▋   | 676/1009 [19:56<10:31,  1.90s/keyword]\n",
            "\n",
            "Processing keywords:  67%|██████▋   | 676/1009 [19:58<10:31,  1.90s/keyword]\n",
            "Processing ranks:   0%|          | 0/1 [00:01<?, ?rank/s]\u001b[A"
          ]
        },
        {
          "output_type": "stream",
          "name": "stdout",
          "text": [
            "Saved HTML file: html-files-2024-04-26-10-22/14516420760.html\n"
          ]
        },
        {
          "output_type": "stream",
          "name": "stderr",
          "text": [
            "\n",
            "Processing ranks: 100%|██████████| 1/1 [00:01<00:00,  1.78s/rank]\u001b[A\n",
            "Processing keywords:  67%|██████▋   | 677/1009 [19:58<10:19,  1.87s/keyword]\n",
            "\n",
            "Processing keywords:  67%|██████▋   | 677/1009 [19:59<10:19,  1.87s/keyword]\n",
            "Processing ranks:   0%|          | 0/1 [00:01<?, ?rank/s]\u001b[A"
          ]
        },
        {
          "output_type": "stream",
          "name": "stdout",
          "text": [
            "Saved HTML file: html-files-2024-04-26-10-22/14516422339.html\n"
          ]
        },
        {
          "output_type": "stream",
          "name": "stderr",
          "text": [
            "\n",
            "Processing ranks: 100%|██████████| 1/1 [00:01<00:00,  1.57s/rank]\u001b[A\n",
            "Processing keywords:  67%|██████▋   | 678/1009 [20:00<09:49,  1.78s/keyword]\n",
            "\n",
            "Processing keywords:  67%|██████▋   | 678/1009 [20:01<09:49,  1.78s/keyword]\n",
            "Processing ranks:   0%|          | 0/1 [00:01<?, ?rank/s]\u001b[A"
          ]
        },
        {
          "output_type": "stream",
          "name": "stdout",
          "text": [
            "Saved HTML file: html-files-2024-04-26-10-22/14516343084.html\n"
          ]
        },
        {
          "output_type": "stream",
          "name": "stderr",
          "text": [
            "\n",
            "Processing ranks: 100%|██████████| 1/1 [00:02<00:00,  2.26s/rank]\u001b[A\n",
            "Processing keywords:  67%|██████▋   | 679/1009 [20:02<10:37,  1.93s/keyword]\n",
            "\n",
            "Processing keywords:  67%|██████▋   | 679/1009 [20:03<10:37,  1.93s/keyword]\n",
            "Processing ranks:   0%|          | 0/1 [00:00<?, ?rank/s]\u001b[A"
          ]
        },
        {
          "output_type": "stream",
          "name": "stdout",
          "text": [
            "Saved HTML file: html-files-2024-04-26-10-22/14516359272.html\n"
          ]
        },
        {
          "output_type": "stream",
          "name": "stderr",
          "text": [
            "\n",
            "Processing ranks: 100%|██████████| 1/1 [00:00<00:00,  1.01rank/s]\u001b[A\n",
            "Processing keywords:  67%|██████▋   | 680/1009 [20:03<09:04,  1.66s/keyword]\n",
            "\n",
            "Processing keywords:  67%|██████▋   | 680/1009 [20:04<09:04,  1.66s/keyword]\n",
            "Processing ranks:   0%|          | 0/1 [00:01<?, ?rank/s]\u001b[A"
          ]
        },
        {
          "output_type": "stream",
          "name": "stdout",
          "text": [
            "Saved HTML file: html-files-2024-04-26-10-22/14516350897.html\n"
          ]
        },
        {
          "output_type": "stream",
          "name": "stderr",
          "text": [
            "\n",
            "Processing ranks: 100%|██████████| 1/1 [00:02<00:00,  2.02s/rank]\u001b[A\n",
            "Processing keywords:  67%|██████▋   | 681/1009 [20:05<09:41,  1.77s/keyword]\n",
            "\n",
            "Processing keywords:  67%|██████▋   | 681/1009 [20:06<09:41,  1.77s/keyword]\n",
            "Processing ranks:   0%|          | 0/1 [00:01<?, ?rank/s]\u001b[A"
          ]
        },
        {
          "output_type": "stream",
          "name": "stdout",
          "text": [
            "Saved HTML file: html-files-2024-04-26-10-22/14516343535.html\n"
          ]
        },
        {
          "output_type": "stream",
          "name": "stderr",
          "text": [
            "\n",
            "Processing ranks: 100%|██████████| 1/1 [00:02<00:00,  2.06s/rank]\u001b[A\n",
            "Processing keywords:  68%|██████▊   | 682/1009 [20:07<10:09,  1.87s/keyword]\n",
            "\n",
            "Processing keywords:  68%|██████▊   | 682/1009 [20:09<10:09,  1.87s/keyword]\n",
            "Processing ranks:   0%|          | 0/1 [00:01<?, ?rank/s]\u001b[A"
          ]
        },
        {
          "output_type": "stream",
          "name": "stdout",
          "text": [
            "Saved HTML file: html-files-2024-04-26-10-22/14516425792.html\n"
          ]
        },
        {
          "output_type": "stream",
          "name": "stderr",
          "text": [
            "\n",
            "Processing ranks: 100%|██████████| 1/1 [00:02<00:00,  2.03s/rank]\u001b[A\n",
            "Processing keywords:  68%|██████▊   | 683/1009 [20:09<10:27,  1.92s/keyword]\n",
            "\n",
            "Processing keywords:  68%|██████▊   | 683/1009 [20:10<10:27,  1.92s/keyword]\n",
            "Processing ranks:   0%|          | 0/1 [00:01<?, ?rank/s]\u001b[A"
          ]
        },
        {
          "output_type": "stream",
          "name": "stdout",
          "text": [
            "Saved HTML file: html-files-2024-04-26-10-22/14516344841.html\n"
          ]
        },
        {
          "output_type": "stream",
          "name": "stderr",
          "text": [
            "\n",
            "Processing ranks: 100%|██████████| 1/1 [00:02<00:00,  2.13s/rank]\u001b[A\n",
            "Processing keywords:  68%|██████▊   | 684/1009 [20:11<10:47,  1.99s/keyword]\n",
            "\n",
            "Processing keywords:  68%|██████▊   | 684/1009 [20:13<10:47,  1.99s/keyword]\n",
            "Processing ranks:   0%|          | 0/1 [00:01<?, ?rank/s]\u001b[A"
          ]
        },
        {
          "output_type": "stream",
          "name": "stdout",
          "text": [
            "Saved HTML file: html-files-2024-04-26-10-22/14516345173.html\n"
          ]
        },
        {
          "output_type": "stream",
          "name": "stderr",
          "text": [
            "\n",
            "Processing ranks: 100%|██████████| 1/1 [00:02<00:00,  2.20s/rank]\u001b[A\n",
            "Processing keywords:  68%|██████▊   | 685/1009 [20:13<11:08,  2.06s/keyword]\n",
            "\n",
            "Processing keywords:  68%|██████▊   | 685/1009 [20:15<11:08,  2.06s/keyword]\n",
            "Processing ranks:   0%|          | 0/1 [00:01<?, ?rank/s]\u001b[A"
          ]
        },
        {
          "output_type": "stream",
          "name": "stdout",
          "text": [
            "Saved HTML file: html-files-2024-04-26-10-22/14516345239.html\n"
          ]
        },
        {
          "output_type": "stream",
          "name": "stderr",
          "text": [
            "\n",
            "Processing ranks: 100%|██████████| 1/1 [00:01<00:00,  1.69s/rank]\u001b[A\n",
            "Processing keywords:  68%|██████▊   | 686/1009 [20:15<10:32,  1.96s/keyword]\n",
            "\n",
            "Processing keywords:  68%|██████▊   | 686/1009 [20:16<10:32,  1.96s/keyword]\n",
            "Processing ranks:   0%|          | 0/1 [00:01<?, ?rank/s]\u001b[A"
          ]
        },
        {
          "output_type": "stream",
          "name": "stdout",
          "text": [
            "Saved HTML file: html-files-2024-04-26-10-22/14516348397.html\n"
          ]
        },
        {
          "output_type": "stream",
          "name": "stderr",
          "text": [
            "\n",
            "Processing ranks: 100%|██████████| 1/1 [00:01<00:00,  1.75s/rank]\u001b[A\n",
            "Processing keywords:  68%|██████▊   | 687/1009 [20:17<10:11,  1.90s/keyword]\n",
            "\n",
            "Processing keywords:  68%|██████▊   | 687/1009 [20:18<10:11,  1.90s/keyword]\n",
            "Processing ranks:   0%|          | 0/1 [00:01<?, ?rank/s]\u001b[A"
          ]
        },
        {
          "output_type": "stream",
          "name": "stdout",
          "text": [
            "Saved HTML file: html-files-2024-04-26-10-22/14516428958.html\n"
          ]
        },
        {
          "output_type": "stream",
          "name": "stderr",
          "text": [
            "\n",
            "Processing ranks: 100%|██████████| 1/1 [00:01<00:00,  1.65s/rank]\u001b[A\n",
            "Processing keywords:  68%|██████▊   | 688/1009 [20:19<09:48,  1.83s/keyword]\n",
            "\n",
            "Processing keywords:  68%|██████▊   | 688/1009 [20:20<09:48,  1.83s/keyword]\n",
            "Processing ranks:   0%|          | 0/1 [00:01<?, ?rank/s]\u001b[A"
          ]
        },
        {
          "output_type": "stream",
          "name": "stdout",
          "text": [
            "Saved HTML file: html-files-2024-04-26-10-22/14516351830.html\n"
          ]
        },
        {
          "output_type": "stream",
          "name": "stderr",
          "text": [
            "\n",
            "Processing ranks: 100%|██████████| 1/1 [00:01<00:00,  1.84s/rank]\u001b[A\n",
            "Processing keywords:  68%|██████▊   | 689/1009 [20:21<09:49,  1.84s/keyword]\n",
            "\n",
            "Processing keywords:  68%|██████▊   | 689/1009 [20:21<09:49,  1.84s/keyword]\n",
            "Processing ranks:   0%|          | 0/1 [00:00<?, ?rank/s]\u001b[A"
          ]
        },
        {
          "output_type": "stream",
          "name": "stdout",
          "text": [
            "Saved HTML file: html-files-2024-04-26-10-22/14516353483.html\n"
          ]
        },
        {
          "output_type": "stream",
          "name": "stderr",
          "text": [
            "\n",
            "Processing ranks: 100%|██████████| 1/1 [00:00<00:00,  1.04rank/s]\u001b[A\n",
            "Processing keywords:  68%|██████▊   | 690/1009 [20:21<08:24,  1.58s/keyword]\n",
            "\n",
            "Processing keywords:  68%|██████▊   | 690/1009 [20:22<08:24,  1.58s/keyword]\n",
            "Processing ranks:   0%|          | 0/1 [00:00<?, ?rank/s]\u001b[A"
          ]
        },
        {
          "output_type": "stream",
          "name": "stdout",
          "text": [
            "Saved HTML file: html-files-2024-04-26-10-22/14516430933.html\n"
          ]
        },
        {
          "output_type": "stream",
          "name": "stderr",
          "text": [
            "\n",
            "Processing ranks: 100%|██████████| 1/1 [00:01<00:00,  1.11s/rank]\u001b[A\n",
            "Processing keywords:  68%|██████▊   | 691/1009 [20:23<07:39,  1.45s/keyword]\n",
            "\n",
            "Processing keywords:  68%|██████▊   | 691/1009 [20:24<07:39,  1.45s/keyword]\n",
            "Processing ranks:   0%|          | 0/1 [00:01<?, ?rank/s]\u001b[A"
          ]
        },
        {
          "output_type": "stream",
          "name": "stdout",
          "text": [
            "Saved HTML file: html-files-2024-04-26-10-22/14516430985.html\n"
          ]
        },
        {
          "output_type": "stream",
          "name": "stderr",
          "text": [
            "\n",
            "Processing ranks: 100%|██████████| 1/1 [00:01<00:00,  1.65s/rank]\u001b[A\n",
            "Processing keywords:  69%|██████▊   | 692/1009 [20:24<07:59,  1.51s/keyword]\n",
            "\n",
            "Processing keywords:  69%|██████▊   | 692/1009 [20:26<07:59,  1.51s/keyword]\n",
            "Processing ranks:   0%|          | 0/1 [00:01<?, ?rank/s]\u001b[A"
          ]
        },
        {
          "output_type": "stream",
          "name": "stdout",
          "text": [
            "Saved HTML file: html-files-2024-04-26-10-22/14516396350.html\n"
          ]
        },
        {
          "output_type": "stream",
          "name": "stderr",
          "text": [
            "\n",
            "Processing ranks: 100%|██████████| 1/1 [00:01<00:00,  1.90s/rank]\u001b[A\n",
            "Processing keywords:  69%|██████▊   | 693/1009 [20:26<08:36,  1.63s/keyword]\n",
            "\n",
            "Processing keywords:  69%|██████▊   | 693/1009 [20:28<08:36,  1.63s/keyword]\n",
            "Processing ranks:   0%|          | 0/1 [00:01<?, ?rank/s]\u001b[A"
          ]
        },
        {
          "output_type": "stream",
          "name": "stdout",
          "text": [
            "Saved HTML file: html-files-2024-04-26-10-22/14516357205.html\n"
          ]
        },
        {
          "output_type": "stream",
          "name": "stderr",
          "text": [
            "\n",
            "Processing ranks: 100%|██████████| 1/1 [00:02<00:00,  2.19s/rank]\u001b[A\n",
            "Processing keywords:  69%|██████▉   | 694/1009 [20:28<09:30,  1.81s/keyword]\n",
            "\n",
            "Processing keywords:  69%|██████▉   | 694/1009 [20:30<09:30,  1.81s/keyword]\n",
            "Processing ranks:   0%|          | 0/1 [00:01<?, ?rank/s]\u001b[A"
          ]
        },
        {
          "output_type": "stream",
          "name": "stdout",
          "text": [
            "Saved HTML file: html-files-2024-04-26-10-22/14516357510.html\n"
          ]
        },
        {
          "output_type": "stream",
          "name": "stderr",
          "text": [
            "\n",
            "Processing ranks: 100%|██████████| 1/1 [00:01<00:00,  1.95s/rank]\u001b[A\n",
            "Processing keywords:  69%|██████▉   | 695/1009 [20:30<09:43,  1.86s/keyword]\n",
            "\n",
            "Processing keywords:  69%|██████▉   | 695/1009 [20:32<09:43,  1.86s/keyword]\n",
            "Processing ranks:   0%|          | 0/1 [00:01<?, ?rank/s]\u001b[A"
          ]
        },
        {
          "output_type": "stream",
          "name": "stdout",
          "text": [
            "Saved HTML file: html-files-2024-04-26-10-22/14516355035.html\n"
          ]
        },
        {
          "output_type": "stream",
          "name": "stderr",
          "text": [
            "\n",
            "Processing ranks: 100%|██████████| 1/1 [00:02<00:00,  2.03s/rank]\u001b[A\n",
            "Processing keywords:  69%|██████▉   | 696/1009 [20:32<10:00,  1.92s/keyword]\n",
            "\n",
            "Processing keywords:  69%|██████▉   | 696/1009 [20:34<10:00,  1.92s/keyword]\n",
            "Processing ranks:   0%|          | 0/1 [00:01<?, ?rank/s]\u001b[A"
          ]
        },
        {
          "output_type": "stream",
          "name": "stdout",
          "text": [
            "Saved HTML file: html-files-2024-04-26-10-22/14516356249.html\n"
          ]
        },
        {
          "output_type": "stream",
          "name": "stderr",
          "text": [
            "\n",
            "Processing ranks: 100%|██████████| 1/1 [00:01<00:00,  1.83s/rank]\u001b[A\n",
            "Processing keywords:  69%|██████▉   | 697/1009 [20:34<09:51,  1.90s/keyword]\n",
            "\n",
            "Processing keywords:  69%|██████▉   | 697/1009 [20:35<09:51,  1.90s/keyword]\n",
            "Processing ranks:   0%|          | 0/1 [00:00<?, ?rank/s]\u001b[A"
          ]
        },
        {
          "output_type": "stream",
          "name": "stdout",
          "text": [
            "Saved HTML file: html-files-2024-04-26-10-22/14516362300.html\n"
          ]
        },
        {
          "output_type": "stream",
          "name": "stderr",
          "text": [
            "\n",
            "Processing ranks: 100%|██████████| 1/1 [00:01<00:00,  1.36s/rank]\u001b[A\n",
            "Processing keywords:  69%|██████▉   | 698/1009 [20:36<09:01,  1.74s/keyword]\n",
            "\n",
            "Processing keywords:  69%|██████▉   | 698/1009 [20:37<09:01,  1.74s/keyword]\n",
            "Processing ranks:   0%|          | 0/1 [00:01<?, ?rank/s]\u001b[A"
          ]
        },
        {
          "output_type": "stream",
          "name": "stdout",
          "text": [
            "Saved HTML file: html-files-2024-04-26-10-22/14516362596.html\n"
          ]
        },
        {
          "output_type": "stream",
          "name": "stderr",
          "text": [
            "\n",
            "Processing ranks: 100%|██████████| 1/1 [00:01<00:00,  1.81s/rank]\u001b[A\n",
            "Processing keywords:  69%|██████▉   | 699/1009 [20:38<09:07,  1.77s/keyword]\n",
            "\n",
            "Processing keywords:  69%|██████▉   | 699/1009 [20:38<09:07,  1.77s/keyword]\n",
            "Processing ranks:   0%|          | 0/1 [00:00<?, ?rank/s]\u001b[A"
          ]
        },
        {
          "output_type": "stream",
          "name": "stdout",
          "text": [
            "Saved HTML file: html-files-2024-04-26-10-22/14516357616.html\n"
          ]
        },
        {
          "output_type": "stream",
          "name": "stderr",
          "text": [
            "\n",
            "Processing ranks: 100%|██████████| 1/1 [00:01<00:00,  1.10s/rank]\u001b[A\n",
            "Processing keywords:  69%|██████▉   | 700/1009 [20:39<08:07,  1.58s/keyword]\n",
            "\n",
            "Processing keywords:  69%|██████▉   | 700/1009 [20:40<08:07,  1.58s/keyword]\n",
            "Processing ranks:   0%|          | 0/1 [00:01<?, ?rank/s]\u001b[A"
          ]
        },
        {
          "output_type": "stream",
          "name": "stdout",
          "text": [
            "Saved HTML file: html-files-2024-04-26-10-22/14516357759.html\n"
          ]
        },
        {
          "output_type": "stream",
          "name": "stderr",
          "text": [
            "\n",
            "Processing ranks: 100%|██████████| 1/1 [00:01<00:00,  1.80s/rank]\u001b[A\n",
            "Processing keywords:  69%|██████▉   | 701/1009 [20:40<08:27,  1.65s/keyword]\n",
            "\n",
            "Processing keywords:  69%|██████▉   | 701/1009 [20:42<08:27,  1.65s/keyword]\n",
            "Processing ranks:   0%|          | 0/1 [00:01<?, ?rank/s]\u001b[A"
          ]
        },
        {
          "output_type": "stream",
          "name": "stdout",
          "text": [
            "Saved HTML file: html-files-2024-04-26-10-22/14516358260.html\n"
          ]
        },
        {
          "output_type": "stream",
          "name": "stderr",
          "text": [
            "\n",
            "Processing ranks: 100%|██████████| 1/1 [00:01<00:00,  1.58s/rank]\u001b[A\n",
            "Processing keywords:  70%|██████▉   | 702/1009 [20:42<08:22,  1.64s/keyword]\n",
            "\n",
            "Processing keywords:  70%|██████▉   | 702/1009 [20:43<08:22,  1.64s/keyword]\n",
            "Processing ranks:   0%|          | 0/1 [00:01<?, ?rank/s]\u001b[A"
          ]
        },
        {
          "output_type": "stream",
          "name": "stdout",
          "text": [
            "Saved HTML file: html-files-2024-04-26-10-22/14516363011.html\n"
          ]
        },
        {
          "output_type": "stream",
          "name": "stderr",
          "text": [
            "\n",
            "Processing ranks: 100%|██████████| 1/1 [00:01<00:00,  1.80s/rank]\u001b[A\n",
            "Processing keywords:  70%|██████▉   | 703/1009 [20:44<08:37,  1.69s/keyword]\n",
            "\n",
            "Processing keywords:  70%|██████▉   | 703/1009 [20:45<08:37,  1.69s/keyword]\n",
            "Processing ranks:   0%|          | 0/1 [00:01<?, ?rank/s]\u001b[A"
          ]
        },
        {
          "output_type": "stream",
          "name": "stdout",
          "text": [
            "Saved HTML file: html-files-2024-04-26-10-22/14516364340.html\n"
          ]
        },
        {
          "output_type": "stream",
          "name": "stderr",
          "text": [
            "\n",
            "Processing ranks: 100%|██████████| 1/1 [00:02<00:00,  2.11s/rank]\u001b[A\n",
            "Processing keywords:  70%|██████▉   | 704/1009 [20:46<09:16,  1.82s/keyword]\n",
            "\n",
            "Processing keywords:  70%|██████▉   | 704/1009 [20:48<09:16,  1.82s/keyword]\n",
            "Processing ranks:   0%|          | 0/1 [00:01<?, ?rank/s]\u001b[A"
          ]
        },
        {
          "output_type": "stream",
          "name": "stdout",
          "text": [
            "Saved HTML file: html-files-2024-04-26-10-22/14516398477.html\n"
          ]
        },
        {
          "output_type": "stream",
          "name": "stderr",
          "text": [
            "\n",
            "Processing ranks: 100%|██████████| 1/1 [00:02<00:00,  2.02s/rank]\u001b[A\n",
            "Processing keywords:  70%|██████▉   | 705/1009 [20:48<09:34,  1.89s/keyword]\n",
            "\n",
            "Processing keywords:  70%|██████▉   | 705/1009 [20:49<09:34,  1.89s/keyword]\n",
            "Processing ranks:   0%|          | 0/1 [00:00<?, ?rank/s]\u001b[A"
          ]
        },
        {
          "output_type": "stream",
          "name": "stdout",
          "text": [
            "Saved HTML file: html-files-2024-04-26-10-22/14516358771.html\n"
          ]
        },
        {
          "output_type": "stream",
          "name": "stderr",
          "text": [
            "\n",
            "Processing ranks: 100%|██████████| 1/1 [00:01<00:00,  1.45s/rank]\u001b[A\n",
            "Processing keywords:  70%|██████▉   | 706/1009 [20:50<08:53,  1.76s/keyword]\n",
            "\n",
            "Processing keywords:  70%|██████▉   | 706/1009 [20:51<08:53,  1.76s/keyword]\n",
            "Processing ranks:   0%|          | 0/1 [00:01<?, ?rank/s]\u001b[A"
          ]
        },
        {
          "output_type": "stream",
          "name": "stdout",
          "text": [
            "Saved HTML file: html-files-2024-04-26-10-22/14516365675.html\n"
          ]
        },
        {
          "output_type": "stream",
          "name": "stderr",
          "text": [
            "\n",
            "Processing ranks: 100%|██████████| 1/1 [00:01<00:00,  1.87s/rank]\u001b[A\n",
            "Processing keywords:  70%|███████   | 707/1009 [20:51<09:02,  1.80s/keyword]\n",
            "\n",
            "Processing keywords:  70%|███████   | 707/1009 [20:53<09:02,  1.80s/keyword]\n",
            "Processing ranks:   0%|          | 0/1 [00:01<?, ?rank/s]\u001b[A"
          ]
        },
        {
          "output_type": "stream",
          "name": "stdout",
          "text": [
            "Saved HTML file: html-files-2024-04-26-10-22/14516365876.html\n"
          ]
        },
        {
          "output_type": "stream",
          "name": "stderr",
          "text": [
            "\n",
            "Processing ranks: 100%|██████████| 1/1 [00:02<00:00,  2.08s/rank]\u001b[A\n",
            "Processing keywords:  70%|███████   | 708/1009 [20:54<09:29,  1.89s/keyword]\n",
            "\n",
            "Processing keywords:  70%|███████   | 708/1009 [20:55<09:29,  1.89s/keyword]\n",
            "Processing ranks:   0%|          | 0/1 [00:01<?, ?rank/s]\u001b[A"
          ]
        },
        {
          "output_type": "stream",
          "name": "stdout",
          "text": [
            "Saved HTML file: html-files-2024-04-26-10-22/14516335292.html\n"
          ]
        },
        {
          "output_type": "stream",
          "name": "stderr",
          "text": [
            "\n",
            "Processing ranks: 100%|██████████| 1/1 [00:01<00:00,  1.90s/rank]\u001b[A\n",
            "Processing keywords:  70%|███████   | 709/1009 [20:55<09:29,  1.90s/keyword]\n",
            "\n",
            "Processing keywords:  70%|███████   | 709/1009 [20:57<09:29,  1.90s/keyword]\n",
            "Processing ranks:   0%|          | 0/1 [00:01<?, ?rank/s]\u001b[A"
          ]
        },
        {
          "output_type": "stream",
          "name": "stdout",
          "text": [
            "Saved HTML file: html-files-2024-04-26-10-22/14516399324.html\n"
          ]
        },
        {
          "output_type": "stream",
          "name": "stderr",
          "text": [
            "\n",
            "Processing ranks: 100%|██████████| 1/1 [00:01<00:00,  1.76s/rank]\u001b[A\n",
            "Processing keywords:  70%|███████   | 710/1009 [20:57<09:16,  1.86s/keyword]\n",
            "\n",
            "Processing keywords:  70%|███████   | 710/1009 [20:58<09:16,  1.86s/keyword]\n",
            "Processing ranks:   0%|          | 0/1 [00:01<?, ?rank/s]\u001b[A"
          ]
        },
        {
          "output_type": "stream",
          "name": "stdout",
          "text": [
            "Saved HTML file: html-files-2024-04-26-10-22/14516337574.html\n"
          ]
        },
        {
          "output_type": "stream",
          "name": "stderr",
          "text": [
            "\n",
            "Processing ranks: 100%|██████████| 1/1 [00:01<00:00,  1.67s/rank]\u001b[A\n",
            "Processing keywords:  70%|███████   | 711/1009 [20:59<08:58,  1.81s/keyword]\n",
            "\n",
            "Processing keywords:  70%|███████   | 711/1009 [21:00<08:58,  1.81s/keyword]\n",
            "Processing ranks:   0%|          | 0/1 [00:01<?, ?rank/s]\u001b[A"
          ]
        },
        {
          "output_type": "stream",
          "name": "stdout",
          "text": [
            "Saved HTML file: html-files-2024-04-26-10-22/14516362283.html\n"
          ]
        },
        {
          "output_type": "stream",
          "name": "stderr",
          "text": [
            "\n",
            "Processing ranks: 100%|██████████| 1/1 [00:01<00:00,  1.91s/rank]\u001b[A\n",
            "Processing keywords:  71%|███████   | 712/1009 [21:01<09:08,  1.85s/keyword]\n",
            "\n",
            "Processing keywords:  71%|███████   | 712/1009 [21:02<09:08,  1.85s/keyword]\n",
            "Processing ranks:   0%|          | 0/1 [00:01<?, ?rank/s]\u001b[A"
          ]
        },
        {
          "output_type": "stream",
          "name": "stdout",
          "text": [
            "Saved HTML file: html-files-2024-04-26-10-22/14516359767.html\n"
          ]
        },
        {
          "output_type": "stream",
          "name": "stderr",
          "text": [
            "\n",
            "Processing ranks: 100%|██████████| 1/1 [00:01<00:00,  1.76s/rank]\u001b[A\n",
            "Processing keywords:  71%|███████   | 713/1009 [21:03<09:00,  1.83s/keyword]\n",
            "\n",
            "Processing keywords:  71%|███████   | 713/1009 [21:04<09:00,  1.83s/keyword]\n",
            "Processing ranks:   0%|          | 0/1 [00:01<?, ?rank/s]\u001b[A"
          ]
        },
        {
          "output_type": "stream",
          "name": "stdout",
          "text": [
            "Saved HTML file: html-files-2024-04-26-10-22/14516364296.html\n"
          ]
        },
        {
          "output_type": "stream",
          "name": "stderr",
          "text": [
            "\n",
            "Processing ranks: 100%|██████████| 1/1 [00:01<00:00,  1.66s/rank]\u001b[A\n",
            "Processing keywords:  71%|███████   | 714/1009 [21:04<08:46,  1.78s/keyword]\n",
            "\n",
            "Processing keywords:  71%|███████   | 714/1009 [21:06<08:46,  1.78s/keyword]\n",
            "Processing ranks:   0%|          | 0/1 [00:01<?, ?rank/s]\u001b[A"
          ]
        },
        {
          "output_type": "stream",
          "name": "stdout",
          "text": [
            "Saved HTML file: html-files-2024-04-26-10-22/14516432132.html\n"
          ]
        },
        {
          "output_type": "stream",
          "name": "stderr",
          "text": [
            "\n",
            "Processing ranks: 100%|██████████| 1/1 [00:01<00:00,  1.83s/rank]\u001b[A\n",
            "Processing keywords:  71%|███████   | 715/1009 [21:06<08:50,  1.80s/keyword]\n",
            "\n",
            "Processing keywords:  71%|███████   | 715/1009 [21:07<08:50,  1.80s/keyword]\n",
            "Processing ranks:   0%|          | 0/1 [00:01<?, ?rank/s]\u001b[A"
          ]
        },
        {
          "output_type": "stream",
          "name": "stdout",
          "text": [
            "Saved HTML file: html-files-2024-04-26-10-22/14516382493.html\n"
          ]
        },
        {
          "output_type": "stream",
          "name": "stderr",
          "text": [
            "\n",
            "Processing ranks: 100%|██████████| 1/1 [00:01<00:00,  1.97s/rank]\u001b[A\n",
            "Processing keywords:  71%|███████   | 716/1009 [21:08<09:04,  1.86s/keyword]\n",
            "\n",
            "Processing keywords:  71%|███████   | 716/1009 [21:09<09:04,  1.86s/keyword]\n",
            "Processing ranks:   0%|          | 0/1 [00:00<?, ?rank/s]\u001b[A"
          ]
        },
        {
          "output_type": "stream",
          "name": "stdout",
          "text": [
            "Saved HTML file: html-files-2024-04-26-10-22/14516340802.html\n"
          ]
        },
        {
          "output_type": "stream",
          "name": "stderr",
          "text": [
            "\n",
            "Processing ranks: 100%|██████████| 1/1 [00:01<00:00,  1.23s/rank]\u001b[A\n",
            "Processing keywords:  71%|███████   | 717/1009 [21:09<08:09,  1.68s/keyword]\n",
            "\n",
            "Processing keywords:  71%|███████   | 717/1009 [21:11<08:09,  1.68s/keyword]\n",
            "Processing ranks:   0%|          | 0/1 [00:01<?, ?rank/s]\u001b[A"
          ]
        },
        {
          "output_type": "stream",
          "name": "stdout",
          "text": [
            "Saved HTML file: html-files-2024-04-26-10-22/14516395694.html\n"
          ]
        },
        {
          "output_type": "stream",
          "name": "stderr",
          "text": [
            "\n",
            "Processing ranks: 100%|██████████| 1/1 [00:02<00:00,  2.07s/rank]\u001b[A\n",
            "Processing keywords:  71%|███████   | 718/1009 [21:11<08:44,  1.80s/keyword]\n",
            "\n",
            "Processing keywords:  71%|███████   | 718/1009 [21:13<08:44,  1.80s/keyword]\n",
            "Processing ranks:   0%|          | 0/1 [00:01<?, ?rank/s]\u001b[A"
          ]
        },
        {
          "output_type": "stream",
          "name": "stdout",
          "text": [
            "Saved HTML file: html-files-2024-04-26-10-22/14516338062.html\n"
          ]
        },
        {
          "output_type": "stream",
          "name": "stderr",
          "text": [
            "\n",
            "Processing ranks: 100%|██████████| 1/1 [00:01<00:00,  1.83s/rank]\u001b[A\n",
            "Processing keywords:  71%|███████▏  | 719/1009 [21:13<08:46,  1.82s/keyword]\n",
            "\n",
            "Processing keywords:  71%|███████▏  | 719/1009 [21:15<08:46,  1.82s/keyword]\n",
            "Processing ranks:   0%|          | 0/1 [00:01<?, ?rank/s]\u001b[A"
          ]
        },
        {
          "output_type": "stream",
          "name": "stdout",
          "text": [
            "Saved HTML file: html-files-2024-04-26-10-22/14516338192.html\n"
          ]
        },
        {
          "output_type": "stream",
          "name": "stderr",
          "text": [
            "\n",
            "Processing ranks: 100%|██████████| 1/1 [00:02<00:00,  2.02s/rank]\u001b[A\n",
            "Processing keywords:  71%|███████▏  | 720/1009 [21:15<09:04,  1.88s/keyword]\n",
            "\n",
            "Processing keywords:  71%|███████▏  | 720/1009 [21:16<09:04,  1.88s/keyword]\n",
            "Processing ranks:   0%|          | 0/1 [00:00<?, ?rank/s]\u001b[A"
          ]
        },
        {
          "output_type": "stream",
          "name": "stdout",
          "text": [
            "Saved HTML file: html-files-2024-04-26-10-22/14516401571.html\n"
          ]
        },
        {
          "output_type": "stream",
          "name": "stderr",
          "text": [
            "\n",
            "Processing ranks: 100%|██████████| 1/1 [00:01<00:00,  1.22s/rank]\u001b[A\n",
            "Processing keywords:  71%|███████▏  | 721/1009 [21:17<08:06,  1.69s/keyword]\n",
            "\n",
            "Processing keywords:  71%|███████▏  | 721/1009 [21:18<08:06,  1.69s/keyword]\n",
            "Processing ranks:   0%|          | 0/1 [00:01<?, ?rank/s]\u001b[A"
          ]
        },
        {
          "output_type": "stream",
          "name": "stdout",
          "text": [
            "Saved HTML file: html-files-2024-04-26-10-22/14516405625.html\n"
          ]
        },
        {
          "output_type": "stream",
          "name": "stderr",
          "text": [
            "\n",
            "Processing ranks: 100%|██████████| 1/1 [00:01<00:00,  1.79s/rank]\u001b[A\n",
            "Processing keywords:  72%|███████▏  | 722/1009 [21:18<08:14,  1.72s/keyword]\n",
            "\n",
            "Processing keywords:  72%|███████▏  | 722/1009 [21:20<08:14,  1.72s/keyword]\n",
            "Processing ranks:   0%|          | 0/1 [00:01<?, ?rank/s]\u001b[A"
          ]
        },
        {
          "output_type": "stream",
          "name": "stdout",
          "text": [
            "Saved HTML file: html-files-2024-04-26-10-22/14516366498.html\n"
          ]
        },
        {
          "output_type": "stream",
          "name": "stderr",
          "text": [
            "\n",
            "Processing ranks: 100%|██████████| 1/1 [00:01<00:00,  1.74s/rank]\u001b[A\n",
            "Processing keywords:  72%|███████▏  | 723/1009 [21:20<08:15,  1.73s/keyword]\n",
            "\n",
            "Processing keywords:  72%|███████▏  | 723/1009 [21:22<08:15,  1.73s/keyword]\n",
            "Processing ranks:   0%|          | 0/1 [00:01<?, ?rank/s]\u001b[A"
          ]
        },
        {
          "output_type": "stream",
          "name": "stdout",
          "text": [
            "Saved HTML file: html-files-2024-04-26-10-22/14516345466.html\n"
          ]
        },
        {
          "output_type": "stream",
          "name": "stderr",
          "text": [
            "\n",
            "Processing ranks: 100%|██████████| 1/1 [00:01<00:00,  1.81s/rank]\u001b[A\n",
            "Processing keywords:  72%|███████▏  | 724/1009 [21:22<08:21,  1.76s/keyword]\n",
            "\n",
            "Processing keywords:  72%|███████▏  | 724/1009 [21:23<08:21,  1.76s/keyword]\n",
            "Processing ranks:   0%|          | 0/1 [00:01<?, ?rank/s]\u001b[A"
          ]
        },
        {
          "output_type": "stream",
          "name": "stdout",
          "text": [
            "Saved HTML file: html-files-2024-04-26-10-22/14516416155.html\n"
          ]
        },
        {
          "output_type": "stream",
          "name": "stderr",
          "text": [
            "\n",
            "Processing ranks: 100%|██████████| 1/1 [00:01<00:00,  1.76s/rank]\u001b[A\n",
            "Processing keywords:  72%|███████▏  | 725/1009 [21:24<08:21,  1.76s/keyword]\n",
            "\n",
            "Processing keywords:  72%|███████▏  | 725/1009 [21:25<08:21,  1.76s/keyword]\n",
            "Processing ranks:   0%|          | 0/1 [00:01<?, ?rank/s]\u001b[A"
          ]
        },
        {
          "output_type": "stream",
          "name": "stdout",
          "text": [
            "Saved HTML file: html-files-2024-04-26-10-22/14516416487.html\n"
          ]
        },
        {
          "output_type": "stream",
          "name": "stderr",
          "text": [
            "\n",
            "Processing ranks: 100%|██████████| 1/1 [00:01<00:00,  1.90s/rank]\u001b[A\n",
            "Processing keywords:  72%|███████▏  | 726/1009 [21:26<08:32,  1.81s/keyword]\n",
            "\n",
            "Processing keywords:  72%|███████▏  | 726/1009 [21:27<08:32,  1.81s/keyword]\n",
            "Processing ranks:   0%|          | 0/1 [00:00<?, ?rank/s]\u001b[A"
          ]
        },
        {
          "output_type": "stream",
          "name": "stdout",
          "text": [
            "Saved HTML file: html-files-2024-04-26-10-22/14516407865.html\n"
          ]
        },
        {
          "output_type": "stream",
          "name": "stderr",
          "text": [
            "\n",
            "Processing ranks: 100%|██████████| 1/1 [00:01<00:00,  1.23s/rank]\u001b[A\n",
            "Processing keywords:  72%|███████▏  | 727/1009 [21:27<07:42,  1.64s/keyword]\n",
            "\n",
            "Processing keywords:  72%|███████▏  | 727/1009 [21:29<07:42,  1.64s/keyword]\n",
            "Processing ranks:   0%|          | 0/1 [00:01<?, ?rank/s]\u001b[A"
          ]
        },
        {
          "output_type": "stream",
          "name": "stdout",
          "text": [
            "Saved HTML file: html-files-2024-04-26-10-22/14516424699.html\n"
          ]
        },
        {
          "output_type": "stream",
          "name": "stderr",
          "text": [
            "\n",
            "Processing ranks: 100%|██████████| 1/1 [00:02<00:00,  2.31s/rank]\u001b[A\n",
            "Processing keywords:  72%|███████▏  | 728/1009 [21:29<08:39,  1.85s/keyword]\n",
            "\n",
            "Processing keywords:  72%|███████▏  | 728/1009 [21:30<08:39,  1.85s/keyword]\n",
            "Processing ranks:   0%|          | 0/1 [00:00<?, ?rank/s]\u001b[A"
          ]
        },
        {
          "output_type": "stream",
          "name": "stdout",
          "text": [
            "Saved HTML file: html-files-2024-04-26-10-22/14516429075.html\n"
          ]
        },
        {
          "output_type": "stream",
          "name": "stderr",
          "text": [
            "\n",
            "Processing ranks: 100%|██████████| 1/1 [00:01<00:00,  1.06s/rank]\u001b[A\n",
            "Processing keywords:  72%|███████▏  | 729/1009 [21:30<07:34,  1.62s/keyword]\n",
            "\n",
            "Processing keywords:  72%|███████▏  | 729/1009 [21:32<07:34,  1.62s/keyword]\n",
            "Processing ranks:   0%|          | 0/1 [00:01<?, ?rank/s]\u001b[A"
          ]
        },
        {
          "output_type": "stream",
          "name": "stdout",
          "text": [
            "Saved HTML file: html-files-2024-04-26-10-22/14516374343.html\n"
          ]
        },
        {
          "output_type": "stream",
          "name": "stderr",
          "text": [
            "\n",
            "Processing ranks: 100%|██████████| 1/1 [00:02<00:00,  2.07s/rank]\u001b[A\n",
            "Processing keywords:  72%|███████▏  | 730/1009 [21:32<08:12,  1.76s/keyword]\n",
            "\n",
            "Processing keywords:  72%|███████▏  | 730/1009 [21:34<08:12,  1.76s/keyword]\n",
            "Processing ranks:   0%|          | 0/1 [00:01<?, ?rank/s]\u001b[A"
          ]
        },
        {
          "output_type": "stream",
          "name": "stdout",
          "text": [
            "Saved HTML file: html-files-2024-04-26-10-22/14516336609.html\n"
          ]
        },
        {
          "output_type": "stream",
          "name": "stderr",
          "text": [
            "\n",
            "Processing ranks: 100%|██████████| 1/1 [00:01<00:00,  1.99s/rank]\u001b[A\n",
            "Processing keywords:  72%|███████▏  | 731/1009 [21:34<08:30,  1.84s/keyword]\n",
            "\n",
            "Processing keywords:  72%|███████▏  | 731/1009 [21:36<08:30,  1.84s/keyword]\n",
            "Processing ranks:   0%|          | 0/1 [00:01<?, ?rank/s]\u001b[A"
          ]
        },
        {
          "output_type": "stream",
          "name": "stdout",
          "text": [
            "Saved HTML file: html-files-2024-04-26-10-22/14516335164.html\n"
          ]
        },
        {
          "output_type": "stream",
          "name": "stderr",
          "text": [
            "\n",
            "Processing ranks: 100%|██████████| 1/1 [00:01<00:00,  1.84s/rank]\u001b[A\n",
            "Processing keywords:  73%|███████▎  | 732/1009 [21:36<08:30,  1.84s/keyword]\n",
            "\n",
            "Processing keywords:  73%|███████▎  | 732/1009 [21:38<08:30,  1.84s/keyword]\n",
            "Processing ranks:   0%|          | 0/1 [00:01<?, ?rank/s]\u001b[A"
          ]
        },
        {
          "output_type": "stream",
          "name": "stdout",
          "text": [
            "Saved HTML file: html-files-2024-04-26-10-22/14516340162.html\n"
          ]
        },
        {
          "output_type": "stream",
          "name": "stderr",
          "text": [
            "\n",
            "Processing ranks: 100%|██████████| 1/1 [00:02<00:00,  2.07s/rank]\u001b[A\n",
            "Processing keywords:  73%|███████▎  | 733/1009 [21:38<08:49,  1.92s/keyword]\n",
            "\n",
            "Processing keywords:  73%|███████▎  | 733/1009 [21:40<08:49,  1.92s/keyword]\n",
            "Processing ranks:   0%|          | 0/1 [00:01<?, ?rank/s]\u001b[A"
          ]
        },
        {
          "output_type": "stream",
          "name": "stdout",
          "text": [
            "Saved HTML file: html-files-2024-04-26-10-22/14516378782.html\n"
          ]
        },
        {
          "output_type": "stream",
          "name": "stderr",
          "text": [
            "\n",
            "Processing ranks: 100%|██████████| 1/1 [00:01<00:00,  1.60s/rank]\u001b[A\n",
            "Processing keywords:  73%|███████▎  | 734/1009 [21:40<08:22,  1.83s/keyword]\n",
            "\n",
            "Processing keywords:  73%|███████▎  | 734/1009 [21:41<08:22,  1.83s/keyword]\n",
            "Processing ranks:   0%|          | 0/1 [00:01<?, ?rank/s]\u001b[A"
          ]
        },
        {
          "output_type": "stream",
          "name": "stdout",
          "text": [
            "Saved HTML file: html-files-2024-04-26-10-22/14516380655.html\n"
          ]
        },
        {
          "output_type": "stream",
          "name": "stderr",
          "text": [
            "\n",
            "Processing ranks: 100%|██████████| 1/1 [00:01<00:00,  1.82s/rank]\u001b[A\n",
            "Processing keywords:  73%|███████▎  | 735/1009 [21:42<08:21,  1.83s/keyword]\n",
            "\n",
            "Processing keywords:  73%|███████▎  | 735/1009 [21:43<08:21,  1.83s/keyword]\n",
            "Processing ranks:   0%|          | 0/1 [00:01<?, ?rank/s]\u001b[A"
          ]
        },
        {
          "output_type": "stream",
          "name": "stdout",
          "text": [
            "Saved HTML file: html-files-2024-04-26-10-22/14516345788.html\n"
          ]
        },
        {
          "output_type": "stream",
          "name": "stderr",
          "text": [
            "\n",
            "Processing ranks: 100%|██████████| 1/1 [00:01<00:00,  1.67s/rank]\u001b[A\n",
            "Processing keywords:  73%|███████▎  | 736/1009 [21:44<08:08,  1.79s/keyword]\n",
            "\n",
            "Processing keywords:  73%|███████▎  | 736/1009 [21:44<08:08,  1.79s/keyword]\n",
            "Processing ranks:   0%|          | 0/1 [00:00<?, ?rank/s]\u001b[A"
          ]
        },
        {
          "output_type": "stream",
          "name": "stdout",
          "text": [
            "Saved HTML file: html-files-2024-04-26-10-22/14516393913.html\n"
          ]
        },
        {
          "output_type": "stream",
          "name": "stderr",
          "text": [
            "\n",
            "Processing ranks: 100%|██████████| 1/1 [00:00<00:00,  1.02rank/s]\u001b[A\n",
            "Processing keywords:  73%|███████▎  | 737/1009 [21:45<07:01,  1.55s/keyword]\n",
            "\n",
            "Processing keywords:  73%|███████▎  | 737/1009 [21:46<07:01,  1.55s/keyword]\n",
            "Processing ranks:   0%|          | 0/1 [00:01<?, ?rank/s]\u001b[A"
          ]
        },
        {
          "output_type": "stream",
          "name": "stdout",
          "text": [
            "Saved HTML file: html-files-2024-04-26-10-22/14516347534.html\n"
          ]
        },
        {
          "output_type": "stream",
          "name": "stderr",
          "text": [
            "\n",
            "Processing ranks: 100%|██████████| 1/1 [00:01<00:00,  1.82s/rank]\u001b[A\n",
            "Processing keywords:  73%|███████▎  | 738/1009 [21:46<07:23,  1.64s/keyword]\n",
            "\n",
            "Processing keywords:  73%|███████▎  | 738/1009 [21:48<07:23,  1.64s/keyword]\n",
            "Processing ranks:   0%|          | 0/1 [00:01<?, ?rank/s]\u001b[A"
          ]
        },
        {
          "output_type": "stream",
          "name": "stdout",
          "text": [
            "Saved HTML file: html-files-2024-04-26-10-22/14516411603.html\n"
          ]
        },
        {
          "output_type": "stream",
          "name": "stderr",
          "text": [
            "\n",
            "Processing ranks: 100%|██████████| 1/1 [00:01<00:00,  1.77s/rank]\u001b[A\n",
            "Processing keywords:  73%|███████▎  | 739/1009 [21:48<07:34,  1.68s/keyword]\n",
            "\n",
            "Processing keywords:  73%|███████▎  | 739/1009 [21:49<07:34,  1.68s/keyword]\n",
            "Processing ranks:   0%|          | 0/1 [00:01<?, ?rank/s]\u001b[A"
          ]
        },
        {
          "output_type": "stream",
          "name": "stdout",
          "text": [
            "Saved HTML file: html-files-2024-04-26-10-22/14516411945.html\n"
          ]
        },
        {
          "output_type": "stream",
          "name": "stderr",
          "text": [
            "\n",
            "Processing ranks: 100%|██████████| 1/1 [00:01<00:00,  1.94s/rank]\u001b[A\n",
            "Processing keywords:  73%|███████▎  | 740/1009 [21:50<07:55,  1.77s/keyword]\n",
            "\n",
            "Processing keywords:  73%|███████▎  | 740/1009 [21:52<07:55,  1.77s/keyword]\n",
            "Processing ranks:   0%|          | 0/1 [00:01<?, ?rank/s]\u001b[A"
          ]
        },
        {
          "output_type": "stream",
          "name": "stdout",
          "text": [
            "Saved HTML file: html-files-2024-04-26-10-22/14516384853.html\n"
          ]
        },
        {
          "output_type": "stream",
          "name": "stderr",
          "text": [
            "\n",
            "Processing ranks: 100%|██████████| 1/1 [00:02<00:00,  2.06s/rank]\u001b[A\n",
            "Processing keywords:  73%|███████▎  | 741/1009 [21:52<08:18,  1.86s/keyword]\n",
            "\n",
            "Processing keywords:  73%|███████▎  | 741/1009 [21:54<08:18,  1.86s/keyword]\n",
            "Processing ranks:   0%|          | 0/1 [00:01<?, ?rank/s]\u001b[A"
          ]
        },
        {
          "output_type": "stream",
          "name": "stdout",
          "text": [
            "Saved HTML file: html-files-2024-04-26-10-22/14516354430.html\n"
          ]
        },
        {
          "output_type": "stream",
          "name": "stderr",
          "text": [
            "\n",
            "Processing ranks: 100%|██████████| 1/1 [00:01<00:00,  2.00s/rank]\u001b[A\n",
            "Processing keywords:  74%|███████▎  | 742/1009 [21:54<08:29,  1.91s/keyword]\n",
            "\n",
            "Processing keywords:  74%|███████▎  | 742/1009 [21:56<08:29,  1.91s/keyword]\n",
            "Processing ranks:   0%|          | 0/1 [00:01<?, ?rank/s]\u001b[A"
          ]
        },
        {
          "output_type": "stream",
          "name": "stdout",
          "text": [
            "Saved HTML file: html-files-2024-04-26-10-22/14516387909.html\n"
          ]
        },
        {
          "output_type": "stream",
          "name": "stderr",
          "text": [
            "\n",
            "Processing ranks: 100%|██████████| 1/1 [00:02<00:00,  2.17s/rank]\u001b[A\n",
            "Processing keywords:  74%|███████▎  | 743/1009 [21:56<08:50,  1.99s/keyword]\n",
            "\n",
            "Processing keywords:  74%|███████▎  | 743/1009 [21:58<08:50,  1.99s/keyword]\n",
            "Processing ranks:   0%|          | 0/1 [00:01<?, ?rank/s]\u001b[A"
          ]
        },
        {
          "output_type": "stream",
          "name": "stdout",
          "text": [
            "Saved HTML file: html-files-2024-04-26-10-22/14516396119.html\n"
          ]
        },
        {
          "output_type": "stream",
          "name": "stderr",
          "text": [
            "\n",
            "Processing ranks: 100%|██████████| 1/1 [00:01<00:00,  1.87s/rank]\u001b[A\n",
            "Processing keywords:  74%|███████▎  | 744/1009 [21:58<08:40,  1.97s/keyword]\n",
            "\n",
            "Processing keywords:  74%|███████▎  | 744/1009 [22:00<08:40,  1.97s/keyword]\n",
            "Processing ranks:   0%|          | 0/1 [00:01<?, ?rank/s]\u001b[A"
          ]
        },
        {
          "output_type": "stream",
          "name": "stdout",
          "text": [
            "Saved HTML file: html-files-2024-04-26-10-22/14516388750.html\n"
          ]
        },
        {
          "output_type": "stream",
          "name": "stderr",
          "text": [
            "\n",
            "Processing ranks: 100%|██████████| 1/1 [00:01<00:00,  1.82s/rank]\u001b[A\n",
            "Processing keywords:  74%|███████▍  | 745/1009 [22:00<08:28,  1.93s/keyword]\n",
            "\n",
            "Processing keywords:  74%|███████▍  | 745/1009 [22:01<08:28,  1.93s/keyword]\n",
            "Processing ranks:   0%|          | 0/1 [00:00<?, ?rank/s]\u001b[A"
          ]
        },
        {
          "output_type": "stream",
          "name": "stdout",
          "text": [
            "Saved HTML file: html-files-2024-04-26-10-22/14516423929.html\n"
          ]
        },
        {
          "output_type": "stream",
          "name": "stderr",
          "text": [
            "\n",
            "Processing ranks: 100%|██████████| 1/1 [00:00<00:00,  1.04rank/s]\u001b[A\n",
            "Processing keywords:  74%|███████▍  | 746/1009 [22:01<07:11,  1.64s/keyword]\n",
            "\n",
            "Processing keywords:  74%|███████▍  | 746/1009 [22:02<07:11,  1.64s/keyword]\n",
            "Processing ranks:   0%|          | 0/1 [00:01<?, ?rank/s]\u001b[A"
          ]
        },
        {
          "output_type": "stream",
          "name": "stdout",
          "text": [
            "Saved HTML file: html-files-2024-04-26-10-22/14516391661.html\n"
          ]
        },
        {
          "output_type": "stream",
          "name": "stderr",
          "text": [
            "\n",
            "Processing ranks: 100%|██████████| 1/1 [00:01<00:00,  1.80s/rank]\u001b[A\n",
            "Processing keywords:  74%|███████▍  | 747/1009 [22:03<07:24,  1.70s/keyword]\n",
            "\n",
            "Processing keywords:  74%|███████▍  | 747/1009 [22:05<07:24,  1.70s/keyword]\n",
            "Processing ranks:   0%|          | 0/1 [00:01<?, ?rank/s]\u001b[A"
          ]
        },
        {
          "output_type": "stream",
          "name": "stdout",
          "text": [
            "Saved HTML file: html-files-2024-04-26-10-22/14516362782.html\n"
          ]
        },
        {
          "output_type": "stream",
          "name": "stderr",
          "text": [
            "\n",
            "Processing ranks: 100%|██████████| 1/1 [00:02<00:00,  2.05s/rank]\u001b[A\n",
            "Processing keywords:  74%|███████▍  | 748/1009 [22:05<07:51,  1.81s/keyword]\n",
            "\n",
            "Processing keywords:  74%|███████▍  | 748/1009 [22:07<07:51,  1.81s/keyword]\n",
            "Processing ranks:   0%|          | 0/1 [00:01<?, ?rank/s]\u001b[A"
          ]
        },
        {
          "output_type": "stream",
          "name": "stdout",
          "text": [
            "Saved HTML file: html-files-2024-04-26-10-22/14516398220.html\n"
          ]
        },
        {
          "output_type": "stream",
          "name": "stderr",
          "text": [
            "\n",
            "Processing ranks: 100%|██████████| 1/1 [00:01<00:00,  1.89s/rank]\u001b[A\n",
            "Processing keywords:  74%|███████▍  | 749/1009 [22:07<07:57,  1.84s/keyword]\n",
            "\n",
            "Processing keywords:  74%|███████▍  | 749/1009 [22:08<07:57,  1.84s/keyword]\n",
            "Processing ranks:   0%|          | 0/1 [00:01<?, ?rank/s]\u001b[A"
          ]
        },
        {
          "output_type": "stream",
          "name": "stdout",
          "text": [
            "Saved HTML file: html-files-2024-04-26-10-22/14516369134.html\n"
          ]
        },
        {
          "output_type": "stream",
          "name": "stderr",
          "text": [
            "\n",
            "Processing ranks: 100%|██████████| 1/1 [00:01<00:00,  1.73s/rank]\u001b[A\n",
            "Processing keywords:  74%|███████▍  | 750/1009 [22:09<07:48,  1.81s/keyword]\n",
            "\n",
            "Processing keywords:  74%|███████▍  | 750/1009 [22:11<07:48,  1.81s/keyword]\n",
            "Processing ranks:   0%|          | 0/1 [00:01<?, ?rank/s]\u001b[A"
          ]
        },
        {
          "output_type": "stream",
          "name": "stdout",
          "text": [
            "Saved HTML file: html-files-2024-04-26-10-22/14516372491.html\n"
          ]
        },
        {
          "output_type": "stream",
          "name": "stderr",
          "text": [
            "\n",
            "Processing ranks: 100%|██████████| 1/1 [00:02<00:00,  2.42s/rank]\u001b[A\n",
            "Processing keywords:  74%|███████▍  | 751/1009 [22:11<08:36,  2.00s/keyword]\n",
            "\n",
            "Processing keywords:  74%|███████▍  | 751/1009 [22:12<08:36,  2.00s/keyword]\n",
            "Processing ranks:   0%|          | 0/1 [00:01<?, ?rank/s]\u001b[A"
          ]
        },
        {
          "output_type": "stream",
          "name": "stdout",
          "text": [
            "Saved HTML file: html-files-2024-04-26-10-22/14516357027.html\n"
          ]
        },
        {
          "output_type": "stream",
          "name": "stderr",
          "text": [
            "\n",
            "Processing ranks: 100%|██████████| 1/1 [00:02<00:00,  2.03s/rank]\u001b[A\n",
            "Processing keywords:  75%|███████▍  | 752/1009 [22:13<08:38,  2.02s/keyword]\n",
            "\n",
            "Processing keywords:  75%|███████▍  | 752/1009 [22:15<08:38,  2.02s/keyword]\n",
            "Processing ranks:   0%|          | 0/1 [00:01<?, ?rank/s]\u001b[A"
          ]
        },
        {
          "output_type": "stream",
          "name": "stdout",
          "text": [
            "Saved HTML file: html-files-2024-04-26-10-22/14516376365.html\n"
          ]
        },
        {
          "output_type": "stream",
          "name": "stderr",
          "text": [
            "\n",
            "Processing ranks: 100%|██████████| 1/1 [00:01<00:00,  1.89s/rank]\u001b[A\n",
            "Processing keywords:  75%|███████▍  | 753/1009 [22:15<08:27,  1.98s/keyword]\n",
            "\n",
            "Processing keywords:  75%|███████▍  | 753/1009 [22:17<08:27,  1.98s/keyword]\n",
            "Processing ranks:   0%|          | 0/1 [00:01<?, ?rank/s]\u001b[A"
          ]
        },
        {
          "output_type": "stream",
          "name": "stdout",
          "text": [
            "Saved HTML file: html-files-2024-04-26-10-22/14516347085.html\n"
          ]
        },
        {
          "output_type": "stream",
          "name": "stderr",
          "text": [
            "\n",
            "Processing ranks: 100%|██████████| 1/1 [00:02<00:00,  2.53s/rank]\u001b[A\n",
            "Processing keywords:  75%|███████▍  | 754/1009 [22:18<09:09,  2.15s/keyword]\n",
            "\n",
            "Processing keywords:  75%|███████▍  | 754/1009 [22:19<09:09,  2.15s/keyword]\n",
            "Processing ranks:   0%|          | 0/1 [00:01<?, ?rank/s]\u001b[A"
          ]
        },
        {
          "output_type": "stream",
          "name": "stdout",
          "text": [
            "Saved HTML file: html-files-2024-04-26-10-22/14516378128.html\n"
          ]
        },
        {
          "output_type": "stream",
          "name": "stderr",
          "text": [
            "\n",
            "Processing ranks: 100%|██████████| 1/1 [00:02<00:00,  2.06s/rank]\u001b[A\n",
            "Processing keywords:  75%|███████▍  | 755/1009 [22:20<09:02,  2.13s/keyword]\n",
            "\n",
            "Processing keywords:  75%|███████▍  | 755/1009 [22:21<09:02,  2.13s/keyword]\n",
            "Processing ranks:   0%|          | 0/1 [00:01<?, ?rank/s]\u001b[A"
          ]
        },
        {
          "output_type": "stream",
          "name": "stdout",
          "text": [
            "Saved HTML file: html-files-2024-04-26-10-22/14516378325.html\n"
          ]
        },
        {
          "output_type": "stream",
          "name": "stderr",
          "text": [
            "\n",
            "Processing ranks: 100%|██████████| 1/1 [00:01<00:00,  1.73s/rank]\u001b[A\n",
            "Processing keywords:  75%|███████▍  | 756/1009 [22:21<08:31,  2.02s/keyword]\n",
            "\n",
            "Processing keywords:  75%|███████▍  | 756/1009 [22:23<08:31,  2.02s/keyword]\n",
            "Processing ranks:   0%|          | 0/1 [00:01<?, ?rank/s]\u001b[A"
          ]
        },
        {
          "output_type": "stream",
          "name": "stdout",
          "text": [
            "Saved HTML file: html-files-2024-04-26-10-22/14516378853.html\n"
          ]
        },
        {
          "output_type": "stream",
          "name": "stderr",
          "text": [
            "\n",
            "Processing ranks: 100%|██████████| 1/1 [00:01<00:00,  1.80s/rank]\u001b[A\n",
            "Processing keywords:  75%|███████▌  | 757/1009 [22:23<08:14,  1.96s/keyword]\n",
            "\n",
            "Processing keywords:  75%|███████▌  | 757/1009 [22:25<08:14,  1.96s/keyword]\n",
            "Processing ranks:   0%|          | 0/1 [00:01<?, ?rank/s]\u001b[A"
          ]
        },
        {
          "output_type": "stream",
          "name": "stdout",
          "text": [
            "Saved HTML file: html-files-2024-04-26-10-22/14516379868.html\n"
          ]
        },
        {
          "output_type": "stream",
          "name": "stderr",
          "text": [
            "\n",
            "Processing ranks: 100%|██████████| 1/1 [00:01<00:00,  1.64s/rank]\u001b[A\n",
            "Processing keywords:  75%|███████▌  | 758/1009 [22:25<07:50,  1.87s/keyword]\n",
            "\n",
            "Processing keywords:  75%|███████▌  | 758/1009 [22:26<07:50,  1.87s/keyword]\n",
            "Processing ranks:   0%|          | 0/1 [00:01<?, ?rank/s]\u001b[A"
          ]
        },
        {
          "output_type": "stream",
          "name": "stdout",
          "text": [
            "Saved HTML file: html-files-2024-04-26-10-22/14516400015.html\n"
          ]
        },
        {
          "output_type": "stream",
          "name": "stderr",
          "text": [
            "\n",
            "Processing ranks: 100%|██████████| 1/1 [00:01<00:00,  1.74s/rank]\u001b[A\n",
            "Processing keywords:  75%|███████▌  | 759/1009 [22:27<07:39,  1.84s/keyword]\n",
            "\n",
            "Processing keywords:  75%|███████▌  | 759/1009 [22:28<07:39,  1.84s/keyword]\n",
            "Processing ranks:   0%|          | 0/1 [00:01<?, ?rank/s]\u001b[A"
          ]
        },
        {
          "output_type": "stream",
          "name": "stdout",
          "text": [
            "Saved HTML file: html-files-2024-04-26-10-22/14516355767.html\n"
          ]
        },
        {
          "output_type": "stream",
          "name": "stderr",
          "text": [
            "\n",
            "Processing ranks: 100%|██████████| 1/1 [00:02<00:00,  2.30s/rank]\u001b[A\n",
            "Processing keywords:  75%|███████▌  | 760/1009 [22:29<08:15,  1.99s/keyword]\n",
            "\n",
            "Processing keywords:  75%|███████▌  | 760/1009 [22:30<08:15,  1.99s/keyword]\n",
            "Processing ranks:   0%|          | 0/1 [00:01<?, ?rank/s]\u001b[A"
          ]
        },
        {
          "output_type": "stream",
          "name": "stdout",
          "text": [
            "Saved HTML file: html-files-2024-04-26-10-22/14516382555.html\n"
          ]
        },
        {
          "output_type": "stream",
          "name": "stderr",
          "text": [
            "\n",
            "Processing ranks: 100%|██████████| 1/1 [00:01<00:00,  1.76s/rank]\u001b[A\n",
            "Processing keywords:  75%|███████▌  | 761/1009 [22:31<07:58,  1.93s/keyword]\n",
            "\n",
            "Processing keywords:  75%|███████▌  | 761/1009 [22:32<07:58,  1.93s/keyword]\n",
            "Processing ranks:   0%|          | 0/1 [00:01<?, ?rank/s]\u001b[A"
          ]
        },
        {
          "output_type": "stream",
          "name": "stdout",
          "text": [
            "Saved HTML file: html-files-2024-04-26-10-22/14516358113.html\n"
          ]
        },
        {
          "output_type": "stream",
          "name": "stderr",
          "text": [
            "\n",
            "Processing ranks: 100%|██████████| 1/1 [00:02<00:00,  2.06s/rank]\u001b[A\n",
            "Processing keywords:  76%|███████▌  | 762/1009 [22:33<08:07,  1.98s/keyword]\n",
            "\n",
            "Processing keywords:  76%|███████▌  | 762/1009 [22:34<08:07,  1.98s/keyword]\n",
            "Processing ranks:   0%|          | 0/1 [00:01<?, ?rank/s]\u001b[A"
          ]
        },
        {
          "output_type": "stream",
          "name": "stdout",
          "text": [
            "Saved HTML file: html-files-2024-04-26-10-22/14516419303.html\n"
          ]
        },
        {
          "output_type": "stream",
          "name": "stderr",
          "text": [
            "\n",
            "Processing ranks: 100%|██████████| 1/1 [00:01<00:00,  1.86s/rank]\u001b[A\n",
            "Processing keywords:  76%|███████▌  | 763/1009 [22:35<07:59,  1.95s/keyword]\n",
            "\n",
            "Processing keywords:  76%|███████▌  | 763/1009 [22:36<07:59,  1.95s/keyword]\n",
            "Processing ranks:   0%|          | 0/1 [00:00<?, ?rank/s]\u001b[A"
          ]
        },
        {
          "output_type": "stream",
          "name": "stdout",
          "text": [
            "Saved HTML file: html-files-2024-04-26-10-22/14516384907.html\n"
          ]
        },
        {
          "output_type": "stream",
          "name": "stderr",
          "text": [
            "\n",
            "Processing ranks: 100%|██████████| 1/1 [00:01<00:00,  1.51s/rank]\u001b[A\n",
            "Processing keywords:  76%|███████▌  | 764/1009 [22:36<07:26,  1.82s/keyword]\n",
            "\n",
            "Processing keywords:  76%|███████▌  | 764/1009 [22:38<07:26,  1.82s/keyword]\n",
            "Processing ranks:   0%|          | 0/1 [00:01<?, ?rank/s]\u001b[A"
          ]
        },
        {
          "output_type": "stream",
          "name": "stdout",
          "text": [
            "Saved HTML file: html-files-2024-04-26-10-22/14516397380.html\n"
          ]
        },
        {
          "output_type": "stream",
          "name": "stderr",
          "text": [
            "\n",
            "Processing ranks: 100%|██████████| 1/1 [00:02<00:00,  2.12s/rank]\u001b[A\n",
            "Processing keywords:  76%|███████▌  | 765/1009 [22:38<07:48,  1.92s/keyword]\n",
            "\n",
            "Processing keywords:  76%|███████▌  | 765/1009 [22:40<07:48,  1.92s/keyword]\n",
            "Processing ranks:   0%|          | 0/1 [00:01<?, ?rank/s]\u001b[A"
          ]
        },
        {
          "output_type": "stream",
          "name": "stdout",
          "text": [
            "Saved HTML file: html-files-2024-04-26-10-22/14516385094.html\n"
          ]
        },
        {
          "output_type": "stream",
          "name": "stderr",
          "text": [
            "\n",
            "Processing ranks: 100%|██████████| 1/1 [00:01<00:00,  1.83s/rank]\u001b[A\n",
            "Processing keywords:  76%|███████▌  | 766/1009 [22:40<07:41,  1.90s/keyword]\n",
            "\n",
            "Processing keywords:  76%|███████▌  | 766/1009 [22:42<07:41,  1.90s/keyword]\n",
            "Processing ranks:   0%|          | 0/1 [00:01<?, ?rank/s]\u001b[A"
          ]
        },
        {
          "output_type": "stream",
          "name": "stdout",
          "text": [
            "Saved HTML file: html-files-2024-04-26-10-22/14516385628.html\n"
          ]
        },
        {
          "output_type": "stream",
          "name": "stderr",
          "text": [
            "\n",
            "Processing ranks: 100%|██████████| 1/1 [00:01<00:00,  1.98s/rank]\u001b[A\n",
            "Processing keywords:  76%|███████▌  | 767/1009 [22:42<07:46,  1.93s/keyword]\n",
            "\n",
            "Processing keywords:  76%|███████▌  | 767/1009 [22:44<07:46,  1.93s/keyword]\n",
            "Processing ranks:   0%|          | 0/1 [00:01<?, ?rank/s]\u001b[A"
          ]
        },
        {
          "output_type": "stream",
          "name": "stdout",
          "text": [
            "Saved HTML file: html-files-2024-04-26-10-22/14516356976.html\n"
          ]
        },
        {
          "output_type": "stream",
          "name": "stderr",
          "text": [
            "\n",
            "Processing ranks: 100%|██████████| 1/1 [00:01<00:00,  1.70s/rank]\u001b[A\n",
            "Processing keywords:  76%|███████▌  | 768/1009 [22:44<07:29,  1.86s/keyword]\n",
            "\n",
            "Processing keywords:  76%|███████▌  | 768/1009 [22:45<07:29,  1.86s/keyword]\n",
            "Processing ranks:   0%|          | 0/1 [00:01<?, ?rank/s]\u001b[A"
          ]
        },
        {
          "output_type": "stream",
          "name": "stdout",
          "text": [
            "Saved HTML file: html-files-2024-04-26-10-22/14516359387.html\n"
          ]
        },
        {
          "output_type": "stream",
          "name": "stderr",
          "text": [
            "\n",
            "Processing ranks: 100%|██████████| 1/1 [00:01<00:00,  1.80s/rank]\u001b[A\n",
            "Processing keywords:  76%|███████▌  | 769/1009 [22:46<07:23,  1.85s/keyword]\n",
            "\n",
            "Processing keywords:  76%|███████▌  | 769/1009 [22:47<07:23,  1.85s/keyword]\n",
            "Processing ranks:   0%|          | 0/1 [00:01<?, ?rank/s]\u001b[A"
          ]
        },
        {
          "output_type": "stream",
          "name": "stdout",
          "text": [
            "Saved HTML file: html-files-2024-04-26-10-22/14516351919.html\n"
          ]
        },
        {
          "output_type": "stream",
          "name": "stderr",
          "text": [
            "\n",
            "Processing ranks: 100%|██████████| 1/1 [00:01<00:00,  1.79s/rank]\u001b[A\n",
            "Processing keywords:  76%|███████▋  | 770/1009 [22:48<07:18,  1.84s/keyword]\n",
            "\n",
            "Processing keywords:  76%|███████▋  | 770/1009 [22:48<07:18,  1.84s/keyword]\n",
            "Processing ranks:   0%|          | 0/1 [00:00<?, ?rank/s]\u001b[A"
          ]
        },
        {
          "output_type": "stream",
          "name": "stdout",
          "text": [
            "Saved HTML file: html-files-2024-04-26-10-22/14516352205.html\n"
          ]
        },
        {
          "output_type": "stream",
          "name": "stderr",
          "text": [
            "\n",
            "Processing ranks: 100%|██████████| 1/1 [00:01<00:00,  1.12s/rank]\u001b[A\n",
            "Processing keywords:  76%|███████▋  | 771/1009 [22:49<06:27,  1.63s/keyword]\n",
            "\n",
            "Processing keywords:  76%|███████▋  | 771/1009 [22:50<06:27,  1.63s/keyword]\n",
            "Processing ranks:   0%|          | 0/1 [00:01<?, ?rank/s]\u001b[A"
          ]
        },
        {
          "output_type": "stream",
          "name": "stdout",
          "text": [
            "Saved HTML file: html-files-2024-04-26-10-22/14516358922.html\n"
          ]
        },
        {
          "output_type": "stream",
          "name": "stderr",
          "text": [
            "\n",
            "Processing ranks: 100%|██████████| 1/1 [00:01<00:00,  1.76s/rank]\u001b[A\n",
            "Processing keywords:  77%|███████▋  | 772/1009 [22:51<06:36,  1.67s/keyword]\n",
            "\n",
            "Processing keywords:  77%|███████▋  | 772/1009 [22:52<06:36,  1.67s/keyword]\n",
            "Processing ranks:   0%|          | 0/1 [00:01<?, ?rank/s]\u001b[A"
          ]
        },
        {
          "output_type": "stream",
          "name": "stdout",
          "text": [
            "Saved HTML file: html-files-2024-04-26-10-22/14516400403.html\n"
          ]
        },
        {
          "output_type": "stream",
          "name": "stderr",
          "text": [
            "\n",
            "Processing ranks: 100%|██████████| 1/1 [00:01<00:00,  1.75s/rank]\u001b[A\n",
            "Processing keywords:  77%|███████▋  | 773/1009 [22:52<06:41,  1.70s/keyword]\n",
            "\n",
            "Processing keywords:  77%|███████▋  | 773/1009 [22:54<06:41,  1.70s/keyword]\n",
            "Processing ranks:   0%|          | 0/1 [00:01<?, ?rank/s]\u001b[A"
          ]
        },
        {
          "output_type": "stream",
          "name": "stdout",
          "text": [
            "Saved HTML file: html-files-2024-04-26-10-22/14516394259.html\n"
          ]
        },
        {
          "output_type": "stream",
          "name": "stderr",
          "text": [
            "\n",
            "Processing ranks: 100%|██████████| 1/1 [00:01<00:00,  1.79s/rank]\u001b[A\n",
            "Processing keywords:  77%|███████▋  | 774/1009 [22:54<06:47,  1.73s/keyword]\n",
            "\n",
            "Processing keywords:  77%|███████▋  | 774/1009 [22:56<06:47,  1.73s/keyword]\n",
            "Processing ranks:   0%|          | 0/1 [00:01<?, ?rank/s]\u001b[A"
          ]
        },
        {
          "output_type": "stream",
          "name": "stdout",
          "text": [
            "Saved HTML file: html-files-2024-04-26-10-22/14516395656.html\n"
          ]
        },
        {
          "output_type": "stream",
          "name": "stderr",
          "text": [
            "\n",
            "Processing ranks: 100%|██████████| 1/1 [00:02<00:00,  2.10s/rank]\u001b[A\n",
            "Processing keywords:  77%|███████▋  | 775/1009 [22:56<07:13,  1.85s/keyword]\n",
            "\n",
            "Processing keywords:  77%|███████▋  | 775/1009 [22:58<07:13,  1.85s/keyword]\n",
            "Processing ranks:   0%|          | 0/1 [00:01<?, ?rank/s]\u001b[A"
          ]
        },
        {
          "output_type": "stream",
          "name": "stdout",
          "text": [
            "Saved HTML file: html-files-2024-04-26-10-22/14516398433.html\n"
          ]
        },
        {
          "output_type": "stream",
          "name": "stderr",
          "text": [
            "\n",
            "Processing ranks: 100%|██████████| 1/1 [00:02<00:00,  2.03s/rank]\u001b[A\n",
            "Processing keywords:  77%|███████▋  | 776/1009 [22:58<07:25,  1.91s/keyword]\n",
            "\n",
            "Processing keywords:  77%|███████▋  | 776/1009 [23:00<07:25,  1.91s/keyword]\n",
            "Processing ranks:   0%|          | 0/1 [00:01<?, ?rank/s]\u001b[A"
          ]
        },
        {
          "output_type": "stream",
          "name": "stdout",
          "text": [
            "Saved HTML file: html-files-2024-04-26-10-22/14516353631.html\n"
          ]
        },
        {
          "output_type": "stream",
          "name": "stderr",
          "text": [
            "\n",
            "Processing ranks: 100%|██████████| 1/1 [00:02<00:00,  2.00s/rank]\u001b[A\n",
            "Processing keywords:  77%|███████▋  | 777/1009 [23:00<07:30,  1.94s/keyword]\n",
            "\n",
            "Processing keywords:  77%|███████▋  | 777/1009 [23:02<07:30,  1.94s/keyword]\n",
            "Processing ranks:   0%|          | 0/1 [00:01<?, ?rank/s]\u001b[A"
          ]
        },
        {
          "output_type": "stream",
          "name": "stdout",
          "text": [
            "Saved HTML file: html-files-2024-04-26-10-22/14516401775.html\n"
          ]
        },
        {
          "output_type": "stream",
          "name": "stderr",
          "text": [
            "\n",
            "Processing ranks: 100%|██████████| 1/1 [00:01<00:00,  1.87s/rank]\u001b[A\n",
            "Processing keywords:  77%|███████▋  | 778/1009 [23:02<07:24,  1.93s/keyword]\n",
            "\n",
            "Processing keywords:  77%|███████▋  | 778/1009 [23:03<07:24,  1.93s/keyword]\n",
            "Processing ranks:   0%|          | 0/1 [00:01<?, ?rank/s]\u001b[A"
          ]
        },
        {
          "output_type": "stream",
          "name": "stdout",
          "text": [
            "Saved HTML file: html-files-2024-04-26-10-22/14516405348.html\n"
          ]
        },
        {
          "output_type": "stream",
          "name": "stderr",
          "text": [
            "\n",
            "Processing ranks: 100%|██████████| 1/1 [00:01<00:00,  1.82s/rank]\u001b[A\n",
            "Processing keywords:  77%|███████▋  | 779/1009 [23:04<07:17,  1.90s/keyword]\n",
            "\n",
            "Processing keywords:  77%|███████▋  | 779/1009 [23:06<07:17,  1.90s/keyword]\n",
            "Processing ranks:   0%|          | 0/1 [00:01<?, ?rank/s]\u001b[A"
          ]
        },
        {
          "output_type": "stream",
          "name": "stdout",
          "text": [
            "Saved HTML file: html-files-2024-04-26-10-22/14516408403.html\n"
          ]
        },
        {
          "output_type": "stream",
          "name": "stderr",
          "text": [
            "\n",
            "Processing ranks: 100%|██████████| 1/1 [00:01<00:00,  1.94s/rank]\u001b[A\n",
            "Processing keywords:  77%|███████▋  | 780/1009 [23:06<07:19,  1.92s/keyword]\n",
            "\n",
            "Processing keywords:  77%|███████▋  | 780/1009 [23:07<07:19,  1.92s/keyword]\n",
            "Processing ranks:   0%|          | 0/1 [00:01<?, ?rank/s]\u001b[A"
          ]
        },
        {
          "output_type": "stream",
          "name": "stdout",
          "text": [
            "Saved HTML file: html-files-2024-04-26-10-22/14516409626.html\n"
          ]
        },
        {
          "output_type": "stream",
          "name": "stderr",
          "text": [
            "\n",
            "Processing ranks: 100%|██████████| 1/1 [00:01<00:00,  1.73s/rank]\u001b[A\n",
            "Processing keywords:  77%|███████▋  | 781/1009 [23:08<07:05,  1.87s/keyword]\n",
            "\n",
            "Processing keywords:  77%|███████▋  | 781/1009 [23:09<07:05,  1.87s/keyword]\n",
            "Processing ranks:   0%|          | 0/1 [00:01<?, ?rank/s]\u001b[A"
          ]
        },
        {
          "output_type": "stream",
          "name": "stdout",
          "text": [
            "Saved HTML file: html-files-2024-04-26-10-22/14516409786.html\n"
          ]
        },
        {
          "output_type": "stream",
          "name": "stderr",
          "text": [
            "\n",
            "Processing ranks: 100%|██████████| 1/1 [00:01<00:00,  1.94s/rank]\u001b[A\n",
            "Processing keywords:  78%|███████▊  | 782/1009 [23:10<07:10,  1.89s/keyword]\n",
            "\n",
            "Processing keywords:  78%|███████▊  | 782/1009 [23:10<07:10,  1.89s/keyword]\n",
            "Processing ranks:   0%|          | 0/1 [00:00<?, ?rank/s]\u001b[A"
          ]
        },
        {
          "output_type": "stream",
          "name": "stdout",
          "text": [
            "Saved HTML file: html-files-2024-04-26-10-22/14516355322.html\n"
          ]
        },
        {
          "output_type": "stream",
          "name": "stderr",
          "text": [
            "\n",
            "Processing ranks: 100%|██████████| 1/1 [00:01<00:00,  1.07s/rank]\u001b[A\n",
            "Processing keywords:  78%|███████▊  | 783/1009 [23:11<06:13,  1.65s/keyword]\n",
            "\n",
            "Processing keywords:  78%|███████▊  | 783/1009 [23:12<06:13,  1.65s/keyword]\n",
            "Processing ranks:   0%|          | 0/1 [00:00<?, ?rank/s]\u001b[A"
          ]
        },
        {
          "output_type": "stream",
          "name": "stdout",
          "text": [
            "Saved HTML file: html-files-2024-04-26-10-22/14516403192.html\n"
          ]
        },
        {
          "output_type": "stream",
          "name": "stderr",
          "text": [
            "\n",
            "Processing ranks: 100%|██████████| 1/1 [00:01<00:00,  1.18s/rank]\u001b[A\n",
            "Processing keywords:  78%|███████▊  | 784/1009 [23:12<05:42,  1.52s/keyword]\n",
            "\n",
            "Processing keywords:  78%|███████▊  | 784/1009 [23:14<05:42,  1.52s/keyword]\n",
            "Processing ranks:   0%|          | 0/1 [00:01<?, ?rank/s]\u001b[A"
          ]
        },
        {
          "output_type": "stream",
          "name": "stdout",
          "text": [
            "Saved HTML file: html-files-2024-04-26-10-22/14516402514.html\n"
          ]
        },
        {
          "output_type": "stream",
          "name": "stderr",
          "text": [
            "\n",
            "Processing ranks: 100%|██████████| 1/1 [00:01<00:00,  1.96s/rank]\u001b[A\n",
            "Processing keywords:  78%|███████▊  | 785/1009 [23:14<06:11,  1.66s/keyword]\n",
            "\n",
            "Processing keywords:  78%|███████▊  | 785/1009 [23:15<06:11,  1.66s/keyword]\n",
            "Processing ranks:   0%|          | 0/1 [00:01<?, ?rank/s]\u001b[A"
          ]
        },
        {
          "output_type": "stream",
          "name": "stdout",
          "text": [
            "Saved HTML file: html-files-2024-04-26-10-22/14516404444.html\n"
          ]
        },
        {
          "output_type": "stream",
          "name": "stderr",
          "text": [
            "\n",
            "Processing ranks: 100%|██████████| 1/1 [00:01<00:00,  1.89s/rank]\u001b[A\n",
            "Processing keywords:  78%|███████▊  | 786/1009 [23:16<06:27,  1.74s/keyword]\n",
            "\n",
            "Processing keywords:  78%|███████▊  | 786/1009 [23:17<06:27,  1.74s/keyword]\n",
            "Processing ranks:   0%|          | 0/1 [00:01<?, ?rank/s]\u001b[A"
          ]
        },
        {
          "output_type": "stream",
          "name": "stdout",
          "text": [
            "Saved HTML file: html-files-2024-04-26-10-22/14516360441.html\n"
          ]
        },
        {
          "output_type": "stream",
          "name": "stderr",
          "text": [
            "\n",
            "Processing ranks: 100%|██████████| 1/1 [00:02<00:00,  2.07s/rank]\u001b[A\n",
            "Processing keywords:  78%|███████▊  | 787/1009 [23:18<06:49,  1.84s/keyword]\n",
            "\n",
            "Processing keywords:  78%|███████▊  | 787/1009 [23:19<06:49,  1.84s/keyword]\n",
            "Processing ranks:   0%|          | 0/1 [00:01<?, ?rank/s]\u001b[A"
          ]
        },
        {
          "output_type": "stream",
          "name": "stdout",
          "text": [
            "Saved HTML file: html-files-2024-04-26-10-22/14516370126.html\n"
          ]
        },
        {
          "output_type": "stream",
          "name": "stderr",
          "text": [
            "\n",
            "Processing ranks: 100%|██████████| 1/1 [00:01<00:00,  1.80s/rank]\u001b[A\n",
            "Processing keywords:  78%|███████▊  | 788/1009 [23:20<06:45,  1.84s/keyword]\n",
            "\n",
            "Processing keywords:  78%|███████▊  | 788/1009 [23:21<06:45,  1.84s/keyword]\n",
            "Processing ranks:   0%|          | 0/1 [00:01<?, ?rank/s]\u001b[A"
          ]
        },
        {
          "output_type": "stream",
          "name": "stdout",
          "text": [
            "Saved HTML file: html-files-2024-04-26-10-22/14516415689.html\n"
          ]
        },
        {
          "output_type": "stream",
          "name": "stderr",
          "text": [
            "\n",
            "Processing ranks: 100%|██████████| 1/1 [00:01<00:00,  1.95s/rank]\u001b[A\n",
            "Processing keywords:  78%|███████▊  | 789/1009 [23:22<06:52,  1.88s/keyword]\n",
            "\n",
            "Processing keywords:  78%|███████▊  | 789/1009 [23:23<06:52,  1.88s/keyword]\n",
            "Processing ranks:   0%|          | 0/1 [00:01<?, ?rank/s]\u001b[A"
          ]
        },
        {
          "output_type": "stream",
          "name": "stdout",
          "text": [
            "Saved HTML file: html-files-2024-04-26-10-22/14516405430.html\n"
          ]
        },
        {
          "output_type": "stream",
          "name": "stderr",
          "text": [
            "\n",
            "Processing ranks: 100%|██████████| 1/1 [00:02<00:00,  2.21s/rank]\u001b[A\n",
            "Processing keywords:  78%|███████▊  | 790/1009 [23:24<07:14,  1.98s/keyword]\n",
            "\n",
            "Processing keywords:  78%|███████▊  | 790/1009 [23:25<07:14,  1.98s/keyword]\n",
            "Processing ranks:   0%|          | 0/1 [00:00<?, ?rank/s]\u001b[A"
          ]
        },
        {
          "output_type": "stream",
          "name": "stdout",
          "text": [
            "Saved HTML file: html-files-2024-04-26-10-22/14516405659.html\n"
          ]
        },
        {
          "output_type": "stream",
          "name": "stderr",
          "text": [
            "\n",
            "Processing ranks: 100%|██████████| 1/1 [00:01<00:00,  1.61s/rank]\u001b[A\n",
            "Processing keywords:  78%|███████▊  | 791/1009 [23:26<06:48,  1.88s/keyword]\n",
            "\n",
            "Processing keywords:  78%|███████▊  | 791/1009 [23:27<06:48,  1.88s/keyword]\n",
            "Processing ranks:   0%|          | 0/1 [00:01<?, ?rank/s]\u001b[A"
          ]
        },
        {
          "output_type": "stream",
          "name": "stdout",
          "text": [
            "Saved HTML file: html-files-2024-04-26-10-22/14516417332.html\n"
          ]
        },
        {
          "output_type": "stream",
          "name": "stderr",
          "text": [
            "\n",
            "Processing ranks: 100%|██████████| 1/1 [00:02<00:00,  2.16s/rank]\u001b[A\n",
            "Processing keywords:  78%|███████▊  | 792/1009 [23:28<07:07,  1.97s/keyword]\n",
            "\n",
            "Processing keywords:  78%|███████▊  | 792/1009 [23:29<07:07,  1.97s/keyword]\n",
            "Processing ranks:   0%|          | 0/1 [00:01<?, ?rank/s]\u001b[A"
          ]
        },
        {
          "output_type": "stream",
          "name": "stdout",
          "text": [
            "Saved HTML file: html-files-2024-04-26-10-22/14516357606.html\n"
          ]
        },
        {
          "output_type": "stream",
          "name": "stderr",
          "text": [
            "\n",
            "Processing ranks: 100%|██████████| 1/1 [00:01<00:00,  1.85s/rank]\u001b[A\n",
            "Processing keywords:  79%|███████▊  | 793/1009 [23:30<06:58,  1.94s/keyword]\n",
            "\n",
            "Processing keywords:  79%|███████▊  | 793/1009 [23:31<06:58,  1.94s/keyword]\n",
            "Processing ranks:   0%|          | 0/1 [00:01<?, ?rank/s]\u001b[A"
          ]
        },
        {
          "output_type": "stream",
          "name": "stdout",
          "text": [
            "Saved HTML file: html-files-2024-04-26-10-22/14516361089.html\n"
          ]
        },
        {
          "output_type": "stream",
          "name": "stderr",
          "text": [
            "\n",
            "Processing ranks: 100%|██████████| 1/1 [00:01<00:00,  1.90s/rank]\u001b[A\n",
            "Processing keywords:  79%|███████▊  | 794/1009 [23:32<06:55,  1.93s/keyword]\n",
            "\n",
            "Processing keywords:  79%|███████▊  | 794/1009 [23:33<06:55,  1.93s/keyword]\n",
            "Processing ranks:   0%|          | 0/1 [00:01<?, ?rank/s]\u001b[A"
          ]
        },
        {
          "output_type": "stream",
          "name": "stdout",
          "text": [
            "Saved HTML file: html-files-2024-04-26-10-22/14516419835.html\n"
          ]
        },
        {
          "output_type": "stream",
          "name": "stderr",
          "text": [
            "\n",
            "Processing ranks: 100%|██████████| 1/1 [00:02<00:00,  2.50s/rank]\u001b[A\n",
            "Processing keywords:  79%|███████▉  | 795/1009 [23:34<07:31,  2.11s/keyword]\n",
            "\n",
            "Processing keywords:  79%|███████▉  | 795/1009 [23:35<07:31,  2.11s/keyword]\n",
            "Processing ranks:   0%|          | 0/1 [00:01<?, ?rank/s]\u001b[A"
          ]
        },
        {
          "output_type": "stream",
          "name": "stdout",
          "text": [
            "Saved HTML file: html-files-2024-04-26-10-22/14516363235.html\n"
          ]
        },
        {
          "output_type": "stream",
          "name": "stderr",
          "text": [
            "\n",
            "Processing ranks: 100%|██████████| 1/1 [00:01<00:00,  1.65s/rank]\u001b[A\n",
            "Processing keywords:  79%|███████▉  | 796/1009 [23:36<07:00,  1.98s/keyword]\n",
            "\n",
            "Processing keywords:  79%|███████▉  | 796/1009 [23:37<07:00,  1.98s/keyword]\n",
            "Processing ranks:   0%|          | 0/1 [00:01<?, ?rank/s]\u001b[A"
          ]
        },
        {
          "output_type": "stream",
          "name": "stdout",
          "text": [
            "Saved HTML file: html-files-2024-04-26-10-22/14516421982.html\n"
          ]
        },
        {
          "output_type": "stream",
          "name": "stderr",
          "text": [
            "\n",
            "Processing ranks: 100%|██████████| 1/1 [00:01<00:00,  1.77s/rank]\u001b[A\n",
            "Processing keywords:  79%|███████▉  | 797/1009 [23:38<06:46,  1.92s/keyword]\n",
            "\n",
            "Processing keywords:  79%|███████▉  | 797/1009 [23:38<06:46,  1.92s/keyword]\n",
            "Processing ranks:   0%|          | 0/1 [00:00<?, ?rank/s]\u001b[A"
          ]
        },
        {
          "output_type": "stream",
          "name": "stdout",
          "text": [
            "Saved HTML file: html-files-2024-04-26-10-22/14516376604.html\n"
          ]
        },
        {
          "output_type": "stream",
          "name": "stderr",
          "text": [
            "\n",
            "Processing ranks: 100%|██████████| 1/1 [00:01<00:00,  1.02s/rank]\u001b[A\n",
            "Processing keywords:  79%|███████▉  | 798/1009 [23:39<05:49,  1.65s/keyword]\n",
            "\n",
            "Processing keywords:  79%|███████▉  | 798/1009 [23:40<05:49,  1.65s/keyword]\n",
            "Processing ranks:   0%|          | 0/1 [00:01<?, ?rank/s]\u001b[A"
          ]
        },
        {
          "output_type": "stream",
          "name": "stdout",
          "text": [
            "Saved HTML file: html-files-2024-04-26-10-22/14516360861.html\n"
          ]
        },
        {
          "output_type": "stream",
          "name": "stderr",
          "text": [
            "\n",
            "Processing ranks: 100%|██████████| 1/1 [00:01<00:00,  1.77s/rank]\u001b[A\n",
            "Processing keywords:  79%|███████▉  | 799/1009 [23:40<05:55,  1.69s/keyword]\n",
            "\n",
            "Processing keywords:  79%|███████▉  | 799/1009 [23:42<05:55,  1.69s/keyword]\n",
            "Processing ranks:   0%|          | 0/1 [00:01<?, ?rank/s]\u001b[A"
          ]
        },
        {
          "output_type": "stream",
          "name": "stdout",
          "text": [
            "Saved HTML file: html-files-2024-04-26-10-22/14516408335.html\n"
          ]
        },
        {
          "output_type": "stream",
          "name": "stderr",
          "text": [
            "\n",
            "Processing ranks: 100%|██████████| 1/1 [00:02<00:00,  2.06s/rank]\u001b[A\n",
            "Processing keywords:  79%|███████▉  | 800/1009 [23:43<06:18,  1.81s/keyword]\n",
            "\n",
            "Processing keywords:  79%|███████▉  | 800/1009 [23:44<06:18,  1.81s/keyword]\n",
            "Processing ranks:   0%|          | 0/1 [00:01<?, ?rank/s]\u001b[A"
          ]
        },
        {
          "output_type": "stream",
          "name": "stdout",
          "text": [
            "Saved HTML file: html-files-2024-04-26-10-22/14516361345.html\n"
          ]
        },
        {
          "output_type": "stream",
          "name": "stderr",
          "text": [
            "\n",
            "Processing ranks: 100%|██████████| 1/1 [00:01<00:00,  1.90s/rank]\u001b[A\n",
            "Processing keywords:  79%|███████▉  | 801/1009 [23:44<06:23,  1.84s/keyword]\n",
            "\n",
            "Processing keywords:  79%|███████▉  | 801/1009 [23:46<06:23,  1.84s/keyword]\n",
            "Processing ranks:   0%|          | 0/1 [00:01<?, ?rank/s]\u001b[A"
          ]
        },
        {
          "output_type": "stream",
          "name": "stdout",
          "text": [
            "Saved HTML file: html-files-2024-04-26-10-22/14516407408.html\n"
          ]
        },
        {
          "output_type": "stream",
          "name": "stderr",
          "text": [
            "\n",
            "Processing ranks: 100%|██████████| 1/1 [00:02<00:00,  2.07s/rank]\u001b[A\n",
            "Processing keywords:  79%|███████▉  | 802/1009 [23:47<06:36,  1.92s/keyword]\n",
            "\n",
            "Processing keywords:  79%|███████▉  | 802/1009 [23:47<06:36,  1.92s/keyword]\n",
            "Processing ranks:   0%|          | 0/1 [00:00<?, ?rank/s]\u001b[A"
          ]
        },
        {
          "output_type": "stream",
          "name": "stdout",
          "text": [
            "Saved HTML file: html-files-2024-04-26-10-22/14516372507.html\n"
          ]
        },
        {
          "output_type": "stream",
          "name": "stderr",
          "text": [
            "\n",
            "Processing ranks: 100%|██████████| 1/1 [00:01<00:00,  1.15s/rank]\u001b[A\n",
            "Processing keywords:  80%|███████▉  | 803/1009 [23:48<05:48,  1.69s/keyword]\n",
            "\n",
            "Processing keywords:  80%|███████▉  | 803/1009 [23:49<05:48,  1.69s/keyword]\n",
            "Processing ranks:   0%|          | 0/1 [00:01<?, ?rank/s]\u001b[A"
          ]
        },
        {
          "output_type": "stream",
          "name": "stdout",
          "text": [
            "Saved HTML file: html-files-2024-04-26-10-22/14516425710.html\n"
          ]
        },
        {
          "output_type": "stream",
          "name": "stderr",
          "text": [
            "\n",
            "Processing ranks: 100%|██████████| 1/1 [00:01<00:00,  1.95s/rank]\u001b[A\n",
            "Processing keywords:  80%|███████▉  | 804/1009 [23:50<06:04,  1.78s/keyword]\n",
            "\n",
            "Processing keywords:  80%|███████▉  | 804/1009 [23:51<06:04,  1.78s/keyword]\n",
            "Processing ranks:   0%|          | 0/1 [00:01<?, ?rank/s]\u001b[A"
          ]
        },
        {
          "output_type": "stream",
          "name": "stdout",
          "text": [
            "Saved HTML file: html-files-2024-04-26-10-22/14516426233.html\n"
          ]
        },
        {
          "output_type": "stream",
          "name": "stderr",
          "text": [
            "\n",
            "Processing ranks: 100%|██████████| 1/1 [00:01<00:00,  1.86s/rank]\u001b[A\n",
            "Processing keywords:  80%|███████▉  | 805/1009 [23:52<06:08,  1.81s/keyword]\n",
            "\n",
            "Processing keywords:  80%|███████▉  | 805/1009 [23:53<06:08,  1.81s/keyword]\n",
            "Processing ranks:   0%|          | 0/1 [00:01<?, ?rank/s]\u001b[A"
          ]
        },
        {
          "output_type": "stream",
          "name": "stdout",
          "text": [
            "Saved HTML file: html-files-2024-04-26-10-22/14516409595.html\n"
          ]
        },
        {
          "output_type": "stream",
          "name": "stderr",
          "text": [
            "\n",
            "Processing ranks: 100%|██████████| 1/1 [00:01<00:00,  1.71s/rank]\u001b[A\n",
            "Processing keywords:  80%|███████▉  | 806/1009 [23:53<06:02,  1.79s/keyword]\n",
            "\n",
            "Processing keywords:  80%|███████▉  | 806/1009 [23:54<06:02,  1.79s/keyword]\n",
            "Processing ranks:   0%|          | 0/1 [00:00<?, ?rank/s]\u001b[A"
          ]
        },
        {
          "output_type": "stream",
          "name": "stdout",
          "text": [
            "Saved HTML file: html-files-2024-04-26-10-22/14516363506.html\n"
          ]
        },
        {
          "output_type": "stream",
          "name": "stderr",
          "text": [
            "\n",
            "Processing ranks: 100%|██████████| 1/1 [00:01<00:00,  1.41s/rank]\u001b[A\n",
            "Processing keywords:  80%|███████▉  | 807/1009 [23:55<05:39,  1.68s/keyword]\n",
            "\n",
            "Processing keywords:  80%|███████▉  | 807/1009 [23:56<05:39,  1.68s/keyword]\n",
            "Processing ranks:   0%|          | 0/1 [00:01<?, ?rank/s]\u001b[A"
          ]
        },
        {
          "output_type": "stream",
          "name": "stdout",
          "text": [
            "Saved HTML file: html-files-2024-04-26-10-22/14516365107.html\n"
          ]
        },
        {
          "output_type": "stream",
          "name": "stderr",
          "text": [
            "\n",
            "Processing ranks: 100%|██████████| 1/1 [00:01<00:00,  1.66s/rank]\u001b[A\n",
            "Processing keywords:  80%|████████  | 808/1009 [23:56<05:37,  1.68s/keyword]\n",
            "\n",
            "Processing keywords:  80%|████████  | 808/1009 [23:58<05:37,  1.68s/keyword]\n",
            "Processing ranks:   0%|          | 0/1 [00:01<?, ?rank/s]\u001b[A"
          ]
        },
        {
          "output_type": "stream",
          "name": "stdout",
          "text": [
            "Saved HTML file: html-files-2024-04-26-10-22/14516411267.html\n"
          ]
        },
        {
          "output_type": "stream",
          "name": "stderr",
          "text": [
            "\n",
            "Processing ranks: 100%|██████████| 1/1 [00:01<00:00,  1.63s/rank]\u001b[A\n",
            "Processing keywords:  80%|████████  | 809/1009 [23:58<05:34,  1.67s/keyword]\n",
            "\n",
            "Processing keywords:  80%|████████  | 809/1009 [23:59<05:34,  1.67s/keyword]\n",
            "Processing ranks:   0%|          | 0/1 [00:01<?, ?rank/s]\u001b[A"
          ]
        },
        {
          "output_type": "stream",
          "name": "stdout",
          "text": [
            "Saved HTML file: html-files-2024-04-26-10-22/14516377906.html\n"
          ]
        },
        {
          "output_type": "stream",
          "name": "stderr",
          "text": [
            "\n",
            "Processing ranks: 100%|██████████| 1/1 [00:01<00:00,  1.71s/rank]\u001b[A\n",
            "Processing keywords:  80%|████████  | 810/1009 [24:00<05:35,  1.69s/keyword]\n",
            "\n",
            "Processing keywords:  80%|████████  | 810/1009 [24:01<05:35,  1.69s/keyword]\n",
            "Processing ranks:   0%|          | 0/1 [00:01<?, ?rank/s]\u001b[A"
          ]
        },
        {
          "output_type": "stream",
          "name": "stdout",
          "text": [
            "Saved HTML file: html-files-2024-04-26-10-22/14516378063.html\n"
          ]
        },
        {
          "output_type": "stream",
          "name": "stderr",
          "text": [
            "\n",
            "Processing ranks: 100%|██████████| 1/1 [00:01<00:00,  1.89s/rank]\u001b[A\n",
            "Processing keywords:  80%|████████  | 811/1009 [24:02<05:47,  1.75s/keyword]\n",
            "\n",
            "Processing keywords:  80%|████████  | 811/1009 [24:03<05:47,  1.75s/keyword]\n",
            "Processing ranks:   0%|          | 0/1 [00:01<?, ?rank/s]\u001b[A"
          ]
        },
        {
          "output_type": "stream",
          "name": "stdout",
          "text": [
            "Saved HTML file: html-files-2024-04-26-10-22/14516378265.html\n"
          ]
        },
        {
          "output_type": "stream",
          "name": "stderr",
          "text": [
            "\n",
            "Processing ranks: 100%|██████████| 1/1 [00:02<00:00,  2.29s/rank]\u001b[A\n",
            "Processing keywords:  80%|████████  | 812/1009 [24:04<06:18,  1.92s/keyword]\n",
            "\n",
            "Processing keywords:  80%|████████  | 812/1009 [24:05<06:18,  1.92s/keyword]\n",
            "Processing ranks:   0%|          | 0/1 [00:01<?, ?rank/s]\u001b[A"
          ]
        },
        {
          "output_type": "stream",
          "name": "stdout",
          "text": [
            "Saved HTML file: html-files-2024-04-26-10-22/14516430055.html\n"
          ]
        },
        {
          "output_type": "stream",
          "name": "stderr",
          "text": [
            "\n",
            "Processing ranks: 100%|██████████| 1/1 [00:01<00:00,  1.97s/rank]\u001b[A\n",
            "Processing keywords:  81%|████████  | 813/1009 [24:06<06:20,  1.94s/keyword]\n",
            "\n",
            "Processing keywords:  81%|████████  | 813/1009 [24:07<06:20,  1.94s/keyword]\n",
            "Processing ranks:   0%|          | 0/1 [00:01<?, ?rank/s]\u001b[A"
          ]
        },
        {
          "output_type": "stream",
          "name": "stdout",
          "text": [
            "Saved HTML file: html-files-2024-04-26-10-22/14516363983.html\n"
          ]
        },
        {
          "output_type": "stream",
          "name": "stderr",
          "text": [
            "\n",
            "Processing ranks: 100%|██████████| 1/1 [00:01<00:00,  1.93s/rank]\u001b[A\n",
            "Processing keywords:  81%|████████  | 814/1009 [24:08<06:18,  1.94s/keyword]\n",
            "\n",
            "Processing keywords:  81%|████████  | 814/1009 [24:10<06:18,  1.94s/keyword]\n",
            "Processing ranks:   0%|          | 0/1 [00:01<?, ?rank/s]\u001b[A"
          ]
        },
        {
          "output_type": "stream",
          "name": "stdout",
          "text": [
            "Saved HTML file: html-files-2024-04-26-10-22/14516368679.html\n"
          ]
        },
        {
          "output_type": "stream",
          "name": "stderr",
          "text": [
            "\n",
            "Processing ranks: 100%|██████████| 1/1 [00:02<00:00,  2.32s/rank]\u001b[A\n",
            "Processing keywords:  81%|████████  | 815/1009 [24:10<06:40,  2.06s/keyword]\n",
            "\n",
            "Processing keywords:  81%|████████  | 815/1009 [24:12<06:40,  2.06s/keyword]\n",
            "Processing ranks:   0%|          | 0/1 [00:01<?, ?rank/s]\u001b[A"
          ]
        },
        {
          "output_type": "stream",
          "name": "stdout",
          "text": [
            "Saved HTML file: html-files-2024-04-26-10-22/14516340728.html\n"
          ]
        },
        {
          "output_type": "stream",
          "name": "stderr",
          "text": [
            "\n",
            "Processing ranks: 100%|██████████| 1/1 [00:01<00:00,  1.81s/rank]\u001b[A\n",
            "Processing keywords:  81%|████████  | 816/1009 [24:12<06:24,  1.99s/keyword]\n",
            "\n",
            "Processing keywords:  81%|████████  | 816/1009 [24:13<06:24,  1.99s/keyword]\n",
            "Processing ranks:   0%|          | 0/1 [00:01<?, ?rank/s]\u001b[A"
          ]
        },
        {
          "output_type": "stream",
          "name": "stdout",
          "text": [
            "Saved HTML file: html-files-2024-04-26-10-22/14516369774.html\n"
          ]
        },
        {
          "output_type": "stream",
          "name": "stderr",
          "text": [
            "\n",
            "Processing ranks: 100%|██████████| 1/1 [00:01<00:00,  1.82s/rank]\u001b[A\n",
            "Processing keywords:  81%|████████  | 817/1009 [24:14<06:13,  1.95s/keyword]\n",
            "\n",
            "Processing keywords:  81%|████████  | 817/1009 [24:15<06:13,  1.95s/keyword]\n",
            "Processing ranks:   0%|          | 0/1 [00:01<?, ?rank/s]\u001b[A"
          ]
        },
        {
          "output_type": "stream",
          "name": "stdout",
          "text": [
            "Saved HTML file: html-files-2024-04-26-10-22/14516366823.html\n"
          ]
        },
        {
          "output_type": "stream",
          "name": "stderr",
          "text": [
            "\n",
            "Processing ranks: 100%|██████████| 1/1 [00:01<00:00,  1.68s/rank]\u001b[A\n",
            "Processing keywords:  81%|████████  | 818/1009 [24:16<05:57,  1.87s/keyword]\n",
            "\n",
            "Processing keywords:  81%|████████  | 818/1009 [24:17<05:57,  1.87s/keyword]\n",
            "Processing ranks:   0%|          | 0/1 [00:01<?, ?rank/s]\u001b[A"
          ]
        },
        {
          "output_type": "stream",
          "name": "stdout",
          "text": [
            "Saved HTML file: html-files-2024-04-26-10-22/14516374588.html\n"
          ]
        },
        {
          "output_type": "stream",
          "name": "stderr",
          "text": [
            "\n",
            "Processing ranks: 100%|██████████| 1/1 [00:01<00:00,  1.55s/rank]\u001b[A\n",
            "Processing keywords:  81%|████████  | 819/1009 [24:17<05:38,  1.78s/keyword]\n",
            "\n",
            "Processing keywords:  81%|████████  | 819/1009 [24:19<05:38,  1.78s/keyword]\n",
            "Processing ranks:   0%|          | 0/1 [00:01<?, ?rank/s]\u001b[A"
          ]
        },
        {
          "output_type": "stream",
          "name": "stdout",
          "text": [
            "Saved HTML file: html-files-2024-04-26-10-22/14516341557.html\n"
          ]
        },
        {
          "output_type": "stream",
          "name": "stderr",
          "text": [
            "\n",
            "Processing ranks: 100%|██████████| 1/1 [00:01<00:00,  1.77s/rank]\u001b[A\n",
            "Processing keywords:  81%|████████▏ | 820/1009 [24:19<05:37,  1.78s/keyword]\n",
            "\n",
            "Processing keywords:  81%|████████▏ | 820/1009 [24:20<05:37,  1.78s/keyword]\n",
            "Processing ranks:   0%|          | 0/1 [00:01<?, ?rank/s]\u001b[A"
          ]
        },
        {
          "output_type": "stream",
          "name": "stdout",
          "text": [
            "Saved HTML file: html-files-2024-04-26-10-22/14516379347.html\n"
          ]
        },
        {
          "output_type": "stream",
          "name": "stderr",
          "text": [
            "\n",
            "Processing ranks: 100%|██████████| 1/1 [00:01<00:00,  1.68s/rank]\u001b[A\n",
            "Processing keywords:  81%|████████▏ | 821/1009 [24:21<05:30,  1.76s/keyword]\n",
            "\n",
            "Processing keywords:  81%|████████▏ | 821/1009 [24:22<05:30,  1.76s/keyword]\n",
            "Processing ranks:   0%|          | 0/1 [00:01<?, ?rank/s]\u001b[A"
          ]
        },
        {
          "output_type": "stream",
          "name": "stdout",
          "text": [
            "Saved HTML file: html-files-2024-04-26-10-22/14516367839.html\n"
          ]
        },
        {
          "output_type": "stream",
          "name": "stderr",
          "text": [
            "\n",
            "Processing ranks: 100%|██████████| 1/1 [00:02<00:00,  2.01s/rank]\u001b[A\n",
            "Processing keywords:  81%|████████▏ | 822/1009 [24:23<05:44,  1.84s/keyword]\n",
            "\n",
            "Processing keywords:  81%|████████▏ | 822/1009 [24:24<05:44,  1.84s/keyword]\n",
            "Processing ranks:   0%|          | 0/1 [00:01<?, ?rank/s]\u001b[A"
          ]
        },
        {
          "output_type": "stream",
          "name": "stdout",
          "text": [
            "Saved HTML file: html-files-2024-04-26-10-22/14516368800.html\n"
          ]
        },
        {
          "output_type": "stream",
          "name": "stderr",
          "text": [
            "\n",
            "Processing ranks: 100%|██████████| 1/1 [00:02<00:00,  2.02s/rank]\u001b[A\n",
            "Processing keywords:  82%|████████▏ | 823/1009 [24:25<05:54,  1.90s/keyword]\n",
            "\n",
            "Processing keywords:  82%|████████▏ | 823/1009 [24:26<05:54,  1.90s/keyword]\n",
            "Processing ranks:   0%|          | 0/1 [00:01<?, ?rank/s]\u001b[A"
          ]
        },
        {
          "output_type": "stream",
          "name": "stdout",
          "text": [
            "Saved HTML file: html-files-2024-04-26-10-22/14516369171.html\n"
          ]
        },
        {
          "output_type": "stream",
          "name": "stderr",
          "text": [
            "\n",
            "Processing ranks: 100%|██████████| 1/1 [00:01<00:00,  1.89s/rank]\u001b[A\n",
            "Processing keywords:  82%|████████▏ | 824/1009 [24:27<05:53,  1.91s/keyword]\n",
            "\n",
            "Processing keywords:  82%|████████▏ | 824/1009 [24:28<05:53,  1.91s/keyword]\n",
            "Processing ranks:   0%|          | 0/1 [00:01<?, ?rank/s]\u001b[A"
          ]
        },
        {
          "output_type": "stream",
          "name": "stdout",
          "text": [
            "Saved HTML file: html-files-2024-04-26-10-22/14516369242.html\n"
          ]
        },
        {
          "output_type": "stream",
          "name": "stderr",
          "text": [
            "\n",
            "Processing ranks: 100%|██████████| 1/1 [00:02<00:00,  2.10s/rank]\u001b[A\n",
            "Processing keywords:  82%|████████▏ | 825/1009 [24:29<06:02,  1.97s/keyword]\n",
            "\n",
            "Processing keywords:  82%|████████▏ | 825/1009 [24:30<06:02,  1.97s/keyword]\n",
            "Processing ranks:   0%|          | 0/1 [00:01<?, ?rank/s]\u001b[A"
          ]
        },
        {
          "output_type": "stream",
          "name": "stdout",
          "text": [
            "Saved HTML file: html-files-2024-04-26-10-22/14516369484.html\n"
          ]
        },
        {
          "output_type": "stream",
          "name": "stderr",
          "text": [
            "\n",
            "Processing ranks: 100%|██████████| 1/1 [00:02<00:00,  2.00s/rank]\u001b[A\n",
            "Processing keywords:  82%|████████▏ | 826/1009 [24:31<06:03,  1.99s/keyword]\n",
            "\n",
            "Processing keywords:  82%|████████▏ | 826/1009 [24:32<06:03,  1.99s/keyword]\n",
            "Processing ranks:   0%|          | 0/1 [00:01<?, ?rank/s]\u001b[A"
          ]
        },
        {
          "output_type": "stream",
          "name": "stdout",
          "text": [
            "Saved HTML file: html-files-2024-04-26-10-22/14516371992.html\n"
          ]
        },
        {
          "output_type": "stream",
          "name": "stderr",
          "text": [
            "\n",
            "Processing ranks: 100%|██████████| 1/1 [00:01<00:00,  1.98s/rank]\u001b[A\n",
            "Processing keywords:  82%|████████▏ | 827/1009 [24:33<06:02,  1.99s/keyword]\n",
            "\n",
            "Processing keywords:  82%|████████▏ | 827/1009 [24:34<06:02,  1.99s/keyword]\n",
            "Processing ranks:   0%|          | 0/1 [00:00<?, ?rank/s]\u001b[A"
          ]
        },
        {
          "output_type": "stream",
          "name": "stdout",
          "text": [
            "Saved HTML file: html-files-2024-04-26-10-22/14516374449.html\n"
          ]
        },
        {
          "output_type": "stream",
          "name": "stderr",
          "text": [
            "\n",
            "Processing ranks: 100%|██████████| 1/1 [00:01<00:00,  1.22s/rank]\u001b[A\n",
            "Processing keywords:  82%|████████▏ | 828/1009 [24:34<05:19,  1.77s/keyword]\n",
            "\n",
            "Processing keywords:  82%|████████▏ | 828/1009 [24:35<05:19,  1.77s/keyword]\n",
            "Processing ranks:   0%|          | 0/1 [00:01<?, ?rank/s]\u001b[A"
          ]
        },
        {
          "output_type": "stream",
          "name": "stdout",
          "text": [
            "Saved HTML file: html-files-2024-04-26-10-22/14516375451.html\n"
          ]
        },
        {
          "output_type": "stream",
          "name": "stderr",
          "text": [
            "\n",
            "Processing ranks: 100%|██████████| 1/1 [00:01<00:00,  1.65s/rank]\u001b[A\n",
            "Processing keywords:  82%|████████▏ | 829/1009 [24:36<05:12,  1.74s/keyword]\n",
            "\n",
            "Processing keywords:  82%|████████▏ | 829/1009 [24:37<05:12,  1.74s/keyword]\n",
            "Processing ranks:   0%|          | 0/1 [00:01<?, ?rank/s]\u001b[A"
          ]
        },
        {
          "output_type": "stream",
          "name": "stdout",
          "text": [
            "Saved HTML file: html-files-2024-04-26-10-22/14516375845.html\n"
          ]
        },
        {
          "output_type": "stream",
          "name": "stderr",
          "text": [
            "\n",
            "Processing ranks: 100%|██████████| 1/1 [00:01<00:00,  1.79s/rank]\u001b[A\n",
            "Processing keywords:  82%|████████▏ | 830/1009 [24:38<05:14,  1.76s/keyword]\n",
            "\n",
            "Processing keywords:  82%|████████▏ | 830/1009 [24:39<05:14,  1.76s/keyword]\n",
            "Processing ranks:   0%|          | 0/1 [00:01<?, ?rank/s]\u001b[A"
          ]
        },
        {
          "output_type": "stream",
          "name": "stdout",
          "text": [
            "Saved HTML file: html-files-2024-04-26-10-22/14516376799.html\n"
          ]
        },
        {
          "output_type": "stream",
          "name": "stderr",
          "text": [
            "\n",
            "Processing ranks: 100%|██████████| 1/1 [00:01<00:00,  1.77s/rank]\u001b[A\n",
            "Processing keywords:  82%|████████▏ | 831/1009 [24:39<05:14,  1.77s/keyword]\n",
            "\n",
            "Processing keywords:  82%|████████▏ | 831/1009 [24:41<05:14,  1.77s/keyword]\n",
            "Processing ranks:   0%|          | 0/1 [00:01<?, ?rank/s]\u001b[A"
          ]
        },
        {
          "output_type": "stream",
          "name": "stdout",
          "text": [
            "Saved HTML file: html-files-2024-04-26-10-22/14516377041.html\n"
          ]
        },
        {
          "output_type": "stream",
          "name": "stderr",
          "text": [
            "\n",
            "Processing ranks: 100%|██████████| 1/1 [00:01<00:00,  1.79s/rank]\u001b[A\n",
            "Processing keywords:  82%|████████▏ | 832/1009 [24:41<05:15,  1.78s/keyword]\n",
            "\n",
            "Processing keywords:  82%|████████▏ | 832/1009 [24:42<05:15,  1.78s/keyword]\n",
            "Processing ranks:   0%|          | 0/1 [00:00<?, ?rank/s]\u001b[A"
          ]
        },
        {
          "output_type": "stream",
          "name": "stdout",
          "text": [
            "Saved HTML file: html-files-2024-04-26-10-22/14516378400.html\n"
          ]
        },
        {
          "output_type": "stream",
          "name": "stderr",
          "text": [
            "\n",
            "Processing ranks: 100%|██████████| 1/1 [00:00<00:00,  1.00rank/s]\u001b[A\n",
            "Processing keywords:  83%|████████▎ | 833/1009 [24:42<04:32,  1.55s/keyword]\n",
            "\n",
            "Processing keywords:  83%|████████▎ | 833/1009 [24:43<04:32,  1.55s/keyword]\n",
            "Processing ranks:   0%|          | 0/1 [00:01<?, ?rank/s]\u001b[A"
          ]
        },
        {
          "output_type": "stream",
          "name": "stdout",
          "text": [
            "Saved HTML file: html-files-2024-04-26-10-22/14516380714.html\n"
          ]
        },
        {
          "output_type": "stream",
          "name": "stderr",
          "text": [
            "\n",
            "Processing ranks: 100%|██████████| 1/1 [00:01<00:00,  1.64s/rank]\u001b[A\n",
            "Processing keywords:  83%|████████▎ | 834/1009 [24:44<04:37,  1.59s/keyword]\n",
            "\n",
            "Processing keywords:  83%|████████▎ | 834/1009 [24:45<04:37,  1.59s/keyword]\n",
            "Processing ranks:   0%|          | 0/1 [00:01<?, ?rank/s]\u001b[A"
          ]
        },
        {
          "output_type": "stream",
          "name": "stdout",
          "text": [
            "Saved HTML file: html-files-2024-04-26-10-22/14516381631.html\n"
          ]
        },
        {
          "output_type": "stream",
          "name": "stderr",
          "text": [
            "\n",
            "Processing ranks: 100%|██████████| 1/1 [00:02<00:00,  2.04s/rank]\u001b[A\n",
            "Processing keywords:  83%|████████▎ | 835/1009 [24:46<05:00,  1.73s/keyword]\n",
            "\n",
            "Processing keywords:  83%|████████▎ | 835/1009 [24:47<05:00,  1.73s/keyword]\n",
            "Processing ranks:   0%|          | 0/1 [00:01<?, ?rank/s]\u001b[A"
          ]
        },
        {
          "output_type": "stream",
          "name": "stdout",
          "text": [
            "Saved HTML file: html-files-2024-04-26-10-22/14516382766.html\n"
          ]
        },
        {
          "output_type": "stream",
          "name": "stderr",
          "text": [
            "\n",
            "Processing ranks: 100%|██████████| 1/1 [00:02<00:00,  2.00s/rank]\u001b[A\n",
            "Processing keywords:  83%|████████▎ | 836/1009 [24:48<05:13,  1.81s/keyword]\n",
            "\n",
            "Processing keywords:  83%|████████▎ | 836/1009 [24:49<05:13,  1.81s/keyword]\n",
            "Processing ranks:   0%|          | 0/1 [00:01<?, ?rank/s]\u001b[A"
          ]
        },
        {
          "output_type": "stream",
          "name": "stdout",
          "text": [
            "Saved HTML file: html-files-2024-04-26-10-22/14516384619.html\n"
          ]
        },
        {
          "output_type": "stream",
          "name": "stderr",
          "text": [
            "\n",
            "Processing ranks: 100%|██████████| 1/1 [00:01<00:00,  1.97s/rank]\u001b[A\n",
            "Processing keywords:  83%|████████▎ | 837/1009 [24:50<05:21,  1.87s/keyword]\n",
            "\n",
            "Processing keywords:  83%|████████▎ | 837/1009 [24:51<05:21,  1.87s/keyword]\n",
            "Processing ranks:   0%|          | 0/1 [00:01<?, ?rank/s]\u001b[A"
          ]
        },
        {
          "output_type": "stream",
          "name": "stdout",
          "text": [
            "Saved HTML file: html-files-2024-04-26-10-22/14516385737.html\n"
          ]
        },
        {
          "output_type": "stream",
          "name": "stderr",
          "text": [
            "\n",
            "Processing ranks: 100%|██████████| 1/1 [00:01<00:00,  1.77s/rank]\u001b[A\n",
            "Processing keywords:  83%|████████▎ | 838/1009 [24:52<05:16,  1.85s/keyword]\n",
            "\n",
            "Processing keywords:  83%|████████▎ | 838/1009 [24:53<05:16,  1.85s/keyword]\n",
            "Processing ranks:   0%|          | 0/1 [00:01<?, ?rank/s]\u001b[A"
          ]
        },
        {
          "output_type": "stream",
          "name": "stdout",
          "text": [
            "Saved HTML file: html-files-2024-04-26-10-22/14516386004.html\n"
          ]
        },
        {
          "output_type": "stream",
          "name": "stderr",
          "text": [
            "\n",
            "Processing ranks: 100%|██████████| 1/1 [00:01<00:00,  1.88s/rank]\u001b[A\n",
            "Processing keywords:  83%|████████▎ | 839/1009 [24:54<05:16,  1.86s/keyword]\n",
            "\n",
            "Processing keywords:  83%|████████▎ | 839/1009 [24:55<05:16,  1.86s/keyword]\n",
            "Processing ranks:   0%|          | 0/1 [00:01<?, ?rank/s]\u001b[A"
          ]
        },
        {
          "output_type": "stream",
          "name": "stdout",
          "text": [
            "Saved HTML file: html-files-2024-04-26-10-22/14516383105.html\n"
          ]
        },
        {
          "output_type": "stream",
          "name": "stderr",
          "text": [
            "\n",
            "Processing ranks: 100%|██████████| 1/1 [00:02<00:00,  2.10s/rank]\u001b[A\n",
            "Processing keywords:  83%|████████▎ | 840/1009 [24:56<05:27,  1.94s/keyword]\n",
            "\n",
            "Processing keywords:  83%|████████▎ | 840/1009 [24:57<05:27,  1.94s/keyword]\n",
            "Processing ranks:   0%|          | 0/1 [00:01<?, ?rank/s]\u001b[A"
          ]
        },
        {
          "output_type": "stream",
          "name": "stdout",
          "text": [
            "Saved HTML file: html-files-2024-04-26-10-22/14516400563.html\n"
          ]
        },
        {
          "output_type": "stream",
          "name": "stderr",
          "text": [
            "\n",
            "Processing ranks: 100%|██████████| 1/1 [00:01<00:00,  1.94s/rank]\u001b[A\n",
            "Processing keywords:  83%|████████▎ | 841/1009 [24:58<05:26,  1.94s/keyword]\n",
            "\n",
            "Processing keywords:  83%|████████▎ | 841/1009 [24:58<05:26,  1.94s/keyword]\n",
            "Processing ranks:   0%|          | 0/1 [00:00<?, ?rank/s]\u001b[A"
          ]
        },
        {
          "output_type": "stream",
          "name": "stdout",
          "text": [
            "Saved HTML file: html-files-2024-04-26-10-22/14516387537.html\n"
          ]
        },
        {
          "output_type": "stream",
          "name": "stderr",
          "text": [
            "\n",
            "Processing ranks: 100%|██████████| 1/1 [00:01<00:00,  1.20s/rank]\u001b[A\n",
            "Processing keywords:  83%|████████▎ | 842/1009 [24:59<04:48,  1.73s/keyword]\n",
            "\n",
            "Processing keywords:  83%|████████▎ | 842/1009 [25:01<04:48,  1.73s/keyword]\n",
            "Processing ranks:   0%|          | 0/1 [00:01<?, ?rank/s]\u001b[A"
          ]
        },
        {
          "output_type": "stream",
          "name": "stdout",
          "text": [
            "Saved HTML file: html-files-2024-04-26-10-22/14516387856.html\n"
          ]
        },
        {
          "output_type": "stream",
          "name": "stderr",
          "text": [
            "\n",
            "Processing ranks: 100%|██████████| 1/1 [00:01<00:00,  1.99s/rank]\u001b[A\n",
            "Processing keywords:  84%|████████▎ | 843/1009 [25:01<05:00,  1.81s/keyword]\n",
            "\n",
            "Processing keywords:  84%|████████▎ | 843/1009 [25:02<05:00,  1.81s/keyword]\n",
            "Processing ranks:   0%|          | 0/1 [00:01<?, ?rank/s]\u001b[A"
          ]
        },
        {
          "output_type": "stream",
          "name": "stdout",
          "text": [
            "Saved HTML file: html-files-2024-04-26-10-22/14516384346.html\n"
          ]
        },
        {
          "output_type": "stream",
          "name": "stderr",
          "text": [
            "\n",
            "Processing ranks: 100%|██████████| 1/1 [00:01<00:00,  1.68s/rank]\u001b[A\n",
            "Processing keywords:  84%|████████▎ | 844/1009 [25:03<04:53,  1.78s/keyword]\n",
            "\n",
            "Processing keywords:  84%|████████▎ | 844/1009 [25:04<04:53,  1.78s/keyword]\n",
            "Processing ranks:   0%|          | 0/1 [00:01<?, ?rank/s]\u001b[A"
          ]
        },
        {
          "output_type": "stream",
          "name": "stdout",
          "text": [
            "Saved HTML file: html-files-2024-04-26-10-22/14516417709.html\n"
          ]
        },
        {
          "output_type": "stream",
          "name": "stderr",
          "text": [
            "\n",
            "Processing ranks: 100%|██████████| 1/1 [00:01<00:00,  1.99s/rank]\u001b[A\n",
            "Processing keywords:  84%|████████▎ | 845/1009 [25:05<05:02,  1.85s/keyword]\n",
            "\n",
            "Processing keywords:  84%|████████▎ | 845/1009 [25:06<05:02,  1.85s/keyword]\n",
            "Processing ranks:   0%|          | 0/1 [00:01<?, ?rank/s]\u001b[A"
          ]
        },
        {
          "output_type": "stream",
          "name": "stdout",
          "text": [
            "Saved HTML file: html-files-2024-04-26-10-22/14516414641.html\n"
          ]
        },
        {
          "output_type": "stream",
          "name": "stderr",
          "text": [
            "\n",
            "Processing ranks: 100%|██████████| 1/1 [00:01<00:00,  1.62s/rank]\u001b[A\n",
            "Processing keywords:  84%|████████▍ | 846/1009 [25:06<04:50,  1.78s/keyword]\n",
            "\n",
            "Processing keywords:  84%|████████▍ | 846/1009 [25:08<04:50,  1.78s/keyword]\n",
            "Processing ranks:   0%|          | 0/1 [00:01<?, ?rank/s]\u001b[A"
          ]
        },
        {
          "output_type": "stream",
          "name": "stdout",
          "text": [
            "Saved HTML file: html-files-2024-04-26-10-22/14516391791.html\n"
          ]
        },
        {
          "output_type": "stream",
          "name": "stderr",
          "text": [
            "\n",
            "Processing ranks: 100%|██████████| 1/1 [00:01<00:00,  1.95s/rank]\u001b[A\n",
            "Processing keywords:  84%|████████▍ | 847/1009 [25:08<04:58,  1.84s/keyword]\n",
            "\n",
            "Processing keywords:  84%|████████▍ | 847/1009 [25:10<04:58,  1.84s/keyword]\n",
            "Processing ranks:   0%|          | 0/1 [00:01<?, ?rank/s]\u001b[A"
          ]
        },
        {
          "output_type": "stream",
          "name": "stdout",
          "text": [
            "Saved HTML file: html-files-2024-04-26-10-22/14516392568.html\n"
          ]
        },
        {
          "output_type": "stream",
          "name": "stderr",
          "text": [
            "\n",
            "Processing ranks: 100%|██████████| 1/1 [00:02<00:00,  2.34s/rank]\u001b[A\n",
            "Processing keywords:  84%|████████▍ | 848/1009 [25:11<05:21,  2.00s/keyword]\n",
            "\n",
            "Processing keywords:  84%|████████▍ | 848/1009 [25:11<05:21,  2.00s/keyword]\n",
            "Processing ranks:   0%|          | 0/1 [00:00<?, ?rank/s]\u001b[A"
          ]
        },
        {
          "output_type": "stream",
          "name": "stdout",
          "text": [
            "Saved HTML file: html-files-2024-04-26-10-22/14516393883.html\n"
          ]
        },
        {
          "output_type": "stream",
          "name": "stderr",
          "text": [
            "\n",
            "Processing ranks: 100%|██████████| 1/1 [00:01<00:00,  1.22s/rank]\u001b[A\n",
            "Processing keywords:  84%|████████▍ | 849/1009 [25:12<04:43,  1.77s/keyword]\n",
            "\n",
            "Processing keywords:  84%|████████▍ | 849/1009 [25:13<04:43,  1.77s/keyword]\n",
            "Processing ranks:   0%|          | 0/1 [00:01<?, ?rank/s]\u001b[A"
          ]
        },
        {
          "output_type": "stream",
          "name": "stdout",
          "text": [
            "Saved HTML file: html-files-2024-04-26-10-22/14516393979.html\n"
          ]
        },
        {
          "output_type": "stream",
          "name": "stderr",
          "text": [
            "\n",
            "Processing ranks: 100%|██████████| 1/1 [00:02<00:00,  2.15s/rank]\u001b[A\n",
            "Processing keywords:  84%|████████▍ | 850/1009 [25:14<05:00,  1.89s/keyword]\n",
            "\n",
            "Processing keywords:  84%|████████▍ | 850/1009 [25:15<05:00,  1.89s/keyword]\n",
            "Processing ranks:   0%|          | 0/1 [00:01<?, ?rank/s]\u001b[A"
          ]
        },
        {
          "output_type": "stream",
          "name": "stdout",
          "text": [
            "Saved HTML file: html-files-2024-04-26-10-22/14516415978.html\n"
          ]
        },
        {
          "output_type": "stream",
          "name": "stderr",
          "text": [
            "\n",
            "Processing ranks: 100%|██████████| 1/1 [00:01<00:00,  1.74s/rank]\u001b[A\n",
            "Processing keywords:  84%|████████▍ | 851/1009 [25:16<04:52,  1.85s/keyword]\n",
            "\n",
            "Processing keywords:  84%|████████▍ | 851/1009 [25:17<04:52,  1.85s/keyword]\n",
            "Processing ranks:   0%|          | 0/1 [00:01<?, ?rank/s]\u001b[A"
          ]
        },
        {
          "output_type": "stream",
          "name": "stdout",
          "text": [
            "Saved HTML file: html-files-2024-04-26-10-22/14516347395.html\n"
          ]
        },
        {
          "output_type": "stream",
          "name": "stderr",
          "text": [
            "\n",
            "Processing ranks: 100%|██████████| 1/1 [00:02<00:00,  2.15s/rank]\u001b[A\n",
            "Processing keywords:  84%|████████▍ | 852/1009 [25:18<05:05,  1.95s/keyword]\n",
            "\n",
            "Processing keywords:  84%|████████▍ | 852/1009 [25:19<05:05,  1.95s/keyword]\n",
            "Processing ranks:   0%|          | 0/1 [00:01<?, ?rank/s]\u001b[A"
          ]
        },
        {
          "output_type": "stream",
          "name": "stdout",
          "text": [
            "Saved HTML file: html-files-2024-04-26-10-22/14516393250.html\n"
          ]
        },
        {
          "output_type": "stream",
          "name": "stderr",
          "text": [
            "\n",
            "Processing ranks: 100%|██████████| 1/1 [00:01<00:00,  1.97s/rank]\u001b[A\n",
            "Processing keywords:  85%|████████▍ | 853/1009 [25:20<05:05,  1.96s/keyword]\n",
            "\n",
            "Processing keywords:  85%|████████▍ | 853/1009 [25:22<05:05,  1.96s/keyword]\n",
            "Processing ranks:   0%|          | 0/1 [00:01<?, ?rank/s]\u001b[A"
          ]
        },
        {
          "output_type": "stream",
          "name": "stdout",
          "text": [
            "Saved HTML file: html-files-2024-04-26-10-22/14516395963.html\n"
          ]
        },
        {
          "output_type": "stream",
          "name": "stderr",
          "text": [
            "\n",
            "Processing ranks: 100%|██████████| 1/1 [00:02<00:00,  2.03s/rank]\u001b[A\n",
            "Processing keywords:  85%|████████▍ | 854/1009 [25:22<05:07,  1.99s/keyword]\n",
            "\n",
            "Processing keywords:  85%|████████▍ | 854/1009 [25:23<05:07,  1.99s/keyword]\n",
            "Processing ranks:   0%|          | 0/1 [00:01<?, ?rank/s]\u001b[A"
          ]
        },
        {
          "output_type": "stream",
          "name": "stdout",
          "text": [
            "Saved HTML file: html-files-2024-04-26-10-22/14516347533.html\n"
          ]
        },
        {
          "output_type": "stream",
          "name": "stderr",
          "text": [
            "\n",
            "Processing ranks: 100%|██████████| 1/1 [00:01<00:00,  1.88s/rank]\u001b[A\n",
            "Processing keywords:  85%|████████▍ | 855/1009 [25:24<05:02,  1.96s/keyword]\n",
            "\n",
            "Processing keywords:  85%|████████▍ | 855/1009 [25:25<05:02,  1.96s/keyword]\n",
            "Processing ranks:   0%|          | 0/1 [00:00<?, ?rank/s]\u001b[A"
          ]
        },
        {
          "output_type": "stream",
          "name": "stdout",
          "text": [
            "Saved HTML file: html-files-2024-04-26-10-22/14516420714.html\n"
          ]
        },
        {
          "output_type": "stream",
          "name": "stderr",
          "text": [
            "\n",
            "Processing ranks: 100%|██████████| 1/1 [00:01<00:00,  1.01s/rank]\u001b[A\n",
            "Processing keywords:  85%|████████▍ | 856/1009 [25:25<04:17,  1.68s/keyword]\n",
            "\n",
            "Processing keywords:  85%|████████▍ | 856/1009 [25:26<04:17,  1.68s/keyword]\n",
            "Processing ranks:   0%|          | 0/1 [00:01<?, ?rank/s]\u001b[A"
          ]
        },
        {
          "output_type": "stream",
          "name": "stdout",
          "text": [
            "Saved HTML file: html-files-2024-04-26-10-22/14516396846.html\n"
          ]
        },
        {
          "output_type": "stream",
          "name": "stderr",
          "text": [
            "\n",
            "Processing ranks: 100%|██████████| 1/1 [00:01<00:00,  1.76s/rank]\u001b[A\n",
            "Processing keywords:  85%|████████▍ | 857/1009 [25:27<04:20,  1.71s/keyword]\n",
            "\n",
            "Processing keywords:  85%|████████▍ | 857/1009 [25:28<04:20,  1.71s/keyword]\n",
            "Processing ranks:   0%|          | 0/1 [00:01<?, ?rank/s]\u001b[A"
          ]
        },
        {
          "output_type": "stream",
          "name": "stdout",
          "text": [
            "Saved HTML file: html-files-2024-04-26-10-22/14516397679.html\n"
          ]
        },
        {
          "output_type": "stream",
          "name": "stderr",
          "text": [
            "\n",
            "Processing ranks: 100%|██████████| 1/1 [00:01<00:00,  1.82s/rank]\u001b[A\n",
            "Processing keywords:  85%|████████▌ | 858/1009 [25:29<04:24,  1.75s/keyword]\n",
            "\n",
            "Processing keywords:  85%|████████▌ | 858/1009 [25:30<04:24,  1.75s/keyword]\n",
            "Processing ranks:   0%|          | 0/1 [00:01<?, ?rank/s]\u001b[A"
          ]
        },
        {
          "output_type": "stream",
          "name": "stdout",
          "text": [
            "Saved HTML file: html-files-2024-04-26-10-22/14516394626.html\n"
          ]
        },
        {
          "output_type": "stream",
          "name": "stderr",
          "text": [
            "\n",
            "Processing ranks: 100%|██████████| 1/1 [00:01<00:00,  1.97s/rank]\u001b[A\n",
            "Processing keywords:  85%|████████▌ | 859/1009 [25:31<04:33,  1.82s/keyword]\n",
            "\n",
            "Processing keywords:  85%|████████▌ | 859/1009 [25:32<04:33,  1.82s/keyword]\n",
            "Processing ranks:   0%|          | 0/1 [00:01<?, ?rank/s]\u001b[A"
          ]
        },
        {
          "output_type": "stream",
          "name": "stdout",
          "text": [
            "Saved HTML file: html-files-2024-04-26-10-22/14516398072.html\n"
          ]
        },
        {
          "output_type": "stream",
          "name": "stderr",
          "text": [
            "\n",
            "Processing ranks: 100%|██████████| 1/1 [00:01<00:00,  1.74s/rank]\u001b[A\n",
            "Processing keywords:  85%|████████▌ | 860/1009 [25:32<04:28,  1.80s/keyword]\n",
            "\n",
            "Processing keywords:  85%|████████▌ | 860/1009 [25:34<04:28,  1.80s/keyword]\n",
            "Processing ranks:   0%|          | 0/1 [00:01<?, ?rank/s]\u001b[A"
          ]
        },
        {
          "output_type": "stream",
          "name": "stdout",
          "text": [
            "Saved HTML file: html-files-2024-04-26-10-22/14516389170.html\n"
          ]
        },
        {
          "output_type": "stream",
          "name": "stderr",
          "text": [
            "\n",
            "Processing ranks: 100%|██████████| 1/1 [00:01<00:00,  1.98s/rank]\u001b[A\n",
            "Processing keywords:  85%|████████▌ | 861/1009 [25:34<04:35,  1.86s/keyword]\n",
            "\n",
            "Processing keywords:  85%|████████▌ | 861/1009 [25:36<04:35,  1.86s/keyword]\n",
            "Processing ranks:   0%|          | 0/1 [00:01<?, ?rank/s]\u001b[A"
          ]
        },
        {
          "output_type": "stream",
          "name": "stdout",
          "text": [
            "Saved HTML file: html-files-2024-04-26-10-22/14516421272.html\n"
          ]
        },
        {
          "output_type": "stream",
          "name": "stderr",
          "text": [
            "\n",
            "Processing ranks: 100%|██████████| 1/1 [00:02<00:00,  2.03s/rank]\u001b[A\n",
            "Processing keywords:  85%|████████▌ | 862/1009 [25:36<04:41,  1.92s/keyword]\n",
            "\n",
            "Processing keywords:  85%|████████▌ | 862/1009 [25:38<04:41,  1.92s/keyword]\n",
            "Processing ranks:   0%|          | 0/1 [00:01<?, ?rank/s]\u001b[A"
          ]
        },
        {
          "output_type": "stream",
          "name": "stdout",
          "text": [
            "Saved HTML file: html-files-2024-04-26-10-22/14516395380.html\n"
          ]
        },
        {
          "output_type": "stream",
          "name": "stderr",
          "text": [
            "\n",
            "Processing ranks: 100%|██████████| 1/1 [00:01<00:00,  1.98s/rank]\u001b[A\n",
            "Processing keywords:  86%|████████▌ | 863/1009 [25:38<04:43,  1.94s/keyword]\n",
            "\n",
            "Processing keywords:  86%|████████▌ | 863/1009 [25:40<04:43,  1.94s/keyword]\n",
            "Processing ranks:   0%|          | 0/1 [00:01<?, ?rank/s]\u001b[A"
          ]
        },
        {
          "output_type": "stream",
          "name": "stdout",
          "text": [
            "Saved HTML file: html-files-2024-04-26-10-22/14516395722.html\n"
          ]
        },
        {
          "output_type": "stream",
          "name": "stderr",
          "text": [
            "\n",
            "Processing ranks: 100%|██████████| 1/1 [00:02<00:00,  2.11s/rank]\u001b[A\n",
            "Processing keywords:  86%|████████▌ | 864/1009 [25:40<04:49,  2.00s/keyword]\n",
            "\n",
            "Processing keywords:  86%|████████▌ | 864/1009 [25:42<04:49,  2.00s/keyword]\n",
            "Processing ranks:   0%|          | 0/1 [00:01<?, ?rank/s]\u001b[A"
          ]
        },
        {
          "output_type": "stream",
          "name": "stdout",
          "text": [
            "Saved HTML file: html-files-2024-04-26-10-22/14516348758.html\n"
          ]
        },
        {
          "output_type": "stream",
          "name": "stderr",
          "text": [
            "\n",
            "Processing ranks: 100%|██████████| 1/1 [00:01<00:00,  1.94s/rank]\u001b[A\n",
            "Processing keywords:  86%|████████▌ | 865/1009 [25:42<04:46,  1.99s/keyword]\n",
            "\n",
            "Processing keywords:  86%|████████▌ | 865/1009 [25:43<04:46,  1.99s/keyword]\n",
            "Processing ranks:   0%|          | 0/1 [00:00<?, ?rank/s]\u001b[A"
          ]
        },
        {
          "output_type": "stream",
          "name": "stdout",
          "text": [
            "Saved HTML file: html-files-2024-04-26-10-22/14516349134.html\n"
          ]
        },
        {
          "output_type": "stream",
          "name": "stderr",
          "text": [
            "\n",
            "Processing ranks: 100%|██████████| 1/1 [00:01<00:00,  1.10s/rank]\u001b[A\n",
            "Processing keywords:  86%|████████▌ | 866/1009 [25:44<04:07,  1.73s/keyword]\n",
            "\n",
            "Processing keywords:  86%|████████▌ | 866/1009 [25:45<04:07,  1.73s/keyword]\n",
            "Processing ranks:   0%|          | 0/1 [00:01<?, ?rank/s]\u001b[A"
          ]
        },
        {
          "output_type": "stream",
          "name": "stdout",
          "text": [
            "Saved HTML file: html-files-2024-04-26-10-22/14516421610.html\n"
          ]
        },
        {
          "output_type": "stream",
          "name": "stderr",
          "text": [
            "\n",
            "Processing ranks: 100%|██████████| 1/1 [00:01<00:00,  1.78s/rank]\u001b[A\n",
            "Processing keywords:  86%|████████▌ | 867/1009 [25:45<04:09,  1.76s/keyword]\n",
            "\n",
            "Processing keywords:  86%|████████▌ | 867/1009 [25:47<04:09,  1.76s/keyword]\n",
            "Processing ranks:   0%|          | 0/1 [00:01<?, ?rank/s]\u001b[A"
          ]
        },
        {
          "output_type": "stream",
          "name": "stdout",
          "text": [
            "Saved HTML file: html-files-2024-04-26-10-22/14516339036.html\n"
          ]
        },
        {
          "output_type": "stream",
          "name": "stderr",
          "text": [
            "\n",
            "Processing ranks: 100%|██████████| 1/1 [00:01<00:00,  1.65s/rank]\u001b[A\n",
            "Processing keywords:  86%|████████▌ | 868/1009 [25:47<04:04,  1.73s/keyword]\n",
            "\n",
            "Processing keywords:  86%|████████▌ | 868/1009 [25:49<04:04,  1.73s/keyword]\n",
            "Processing ranks:   0%|          | 0/1 [00:02<?, ?rank/s]\u001b[A"
          ]
        },
        {
          "output_type": "stream",
          "name": "stdout",
          "text": [
            "Saved HTML file: html-files-2024-04-26-10-22/14516421677.html\n"
          ]
        },
        {
          "output_type": "stream",
          "name": "stderr",
          "text": [
            "\n",
            "Processing ranks: 100%|██████████| 1/1 [00:02<00:00,  2.52s/rank]\u001b[A\n",
            "Processing keywords:  86%|████████▌ | 869/1009 [25:50<04:36,  1.98s/keyword]\n",
            "\n",
            "Processing keywords:  86%|████████▌ | 869/1009 [25:51<04:36,  1.98s/keyword]\n",
            "Processing ranks:   0%|          | 0/1 [00:01<?, ?rank/s]\u001b[A"
          ]
        },
        {
          "output_type": "stream",
          "name": "stdout",
          "text": [
            "Saved HTML file: html-files-2024-04-26-10-22/14516430590.html\n"
          ]
        },
        {
          "output_type": "stream",
          "name": "stderr",
          "text": [
            "\n",
            "Processing ranks: 100%|██████████| 1/1 [00:01<00:00,  1.72s/rank]\u001b[A\n",
            "Processing keywords:  86%|████████▌ | 870/1009 [25:51<04:25,  1.91s/keyword]\n",
            "\n",
            "Processing keywords:  86%|████████▌ | 870/1009 [25:53<04:25,  1.91s/keyword]\n",
            "Processing ranks:   0%|          | 0/1 [00:01<?, ?rank/s]\u001b[A"
          ]
        },
        {
          "output_type": "stream",
          "name": "stdout",
          "text": [
            "Saved HTML file: html-files-2024-04-26-10-22/14516397994.html\n"
          ]
        },
        {
          "output_type": "stream",
          "name": "stderr",
          "text": [
            "\n",
            "Processing ranks: 100%|██████████| 1/1 [00:01<00:00,  1.95s/rank]\u001b[A\n",
            "Processing keywords:  86%|████████▋ | 871/1009 [25:53<04:25,  1.93s/keyword]\n",
            "\n",
            "Processing keywords:  86%|████████▋ | 871/1009 [25:55<04:25,  1.93s/keyword]\n",
            "Processing ranks:   0%|          | 0/1 [00:01<?, ?rank/s]\u001b[A"
          ]
        },
        {
          "output_type": "stream",
          "name": "stdout",
          "text": [
            "Saved HTML file: html-files-2024-04-26-10-22/14516398198.html\n"
          ]
        },
        {
          "output_type": "stream",
          "name": "stderr",
          "text": [
            "\n",
            "Processing ranks: 100%|██████████| 1/1 [00:02<00:00,  2.23s/rank]\u001b[A\n",
            "Processing keywords:  86%|████████▋ | 872/1009 [25:56<04:37,  2.03s/keyword]\n",
            "\n",
            "Processing keywords:  86%|████████▋ | 872/1009 [25:57<04:37,  2.03s/keyword]\n",
            "Processing ranks:   0%|          | 0/1 [00:01<?, ?rank/s]\u001b[A"
          ]
        },
        {
          "output_type": "stream",
          "name": "stdout",
          "text": [
            "Saved HTML file: html-files-2024-04-26-10-22/14516402450.html\n"
          ]
        },
        {
          "output_type": "stream",
          "name": "stderr",
          "text": [
            "\n",
            "Processing ranks: 100%|██████████| 1/1 [00:01<00:00,  1.96s/rank]\u001b[A\n",
            "Processing keywords:  87%|████████▋ | 873/1009 [25:58<04:33,  2.01s/keyword]\n",
            "\n",
            "Processing keywords:  87%|████████▋ | 873/1009 [25:59<04:33,  2.01s/keyword]\n",
            "Processing ranks:   0%|          | 0/1 [00:01<?, ?rank/s]\u001b[A"
          ]
        },
        {
          "output_type": "stream",
          "name": "stdout",
          "text": [
            "Saved HTML file: html-files-2024-04-26-10-22/14516351017.html\n"
          ]
        },
        {
          "output_type": "stream",
          "name": "stderr",
          "text": [
            "\n",
            "Processing ranks: 100%|██████████| 1/1 [00:02<00:00,  2.05s/rank]\u001b[A\n",
            "Processing keywords:  87%|████████▋ | 874/1009 [26:00<04:35,  2.04s/keyword]\n",
            "\n",
            "Processing keywords:  87%|████████▋ | 874/1009 [26:01<04:35,  2.04s/keyword]\n",
            "Processing ranks:   0%|          | 0/1 [00:01<?, ?rank/s]\u001b[A"
          ]
        },
        {
          "output_type": "stream",
          "name": "stdout",
          "text": [
            "Saved HTML file: html-files-2024-04-26-10-22/14516427637.html\n"
          ]
        },
        {
          "output_type": "stream",
          "name": "stderr",
          "text": [
            "\n",
            "Processing ranks: 100%|██████████| 1/1 [00:02<00:00,  2.15s/rank]\u001b[A\n",
            "Processing keywords:  87%|████████▋ | 875/1009 [26:02<04:38,  2.08s/keyword]\n",
            "\n",
            "Processing keywords:  87%|████████▋ | 875/1009 [26:03<04:38,  2.08s/keyword]\n",
            "Processing ranks:   0%|          | 0/1 [00:01<?, ?rank/s]\u001b[A"
          ]
        },
        {
          "output_type": "stream",
          "name": "stdout",
          "text": [
            "Saved HTML file: html-files-2024-04-26-10-22/14516425399.html\n"
          ]
        },
        {
          "output_type": "stream",
          "name": "stderr",
          "text": [
            "\n",
            "Processing ranks: 100%|██████████| 1/1 [00:02<00:00,  2.10s/rank]\u001b[A\n",
            "Processing keywords:  87%|████████▋ | 876/1009 [26:04<04:38,  2.09s/keyword]\n",
            "\n",
            "Processing keywords:  87%|████████▋ | 876/1009 [26:05<04:38,  2.09s/keyword]\n",
            "Processing ranks:   0%|          | 0/1 [00:01<?, ?rank/s]\u001b[A"
          ]
        },
        {
          "output_type": "stream",
          "name": "stdout",
          "text": [
            "Saved HTML file: html-files-2024-04-26-10-22/14516428003.html\n"
          ]
        },
        {
          "output_type": "stream",
          "name": "stderr",
          "text": [
            "\n",
            "Processing ranks: 100%|██████████| 1/1 [00:01<00:00,  1.96s/rank]\u001b[A\n",
            "Processing keywords:  87%|████████▋ | 877/1009 [26:06<04:31,  2.06s/keyword]\n",
            "\n",
            "Processing keywords:  87%|████████▋ | 877/1009 [26:07<04:31,  2.06s/keyword]\n",
            "Processing ranks:   0%|          | 0/1 [00:01<?, ?rank/s]\u001b[A"
          ]
        },
        {
          "output_type": "stream",
          "name": "stdout",
          "text": [
            "Saved HTML file: html-files-2024-04-26-10-22/14516403201.html\n"
          ]
        },
        {
          "output_type": "stream",
          "name": "stderr",
          "text": [
            "\n",
            "Processing ranks: 100%|██████████| 1/1 [00:01<00:00,  1.77s/rank]\u001b[A\n",
            "Processing keywords:  87%|████████▋ | 878/1009 [26:08<04:19,  1.98s/keyword]\n",
            "\n",
            "Processing keywords:  87%|████████▋ | 878/1009 [26:09<04:19,  1.98s/keyword]\n",
            "Processing ranks:   0%|          | 0/1 [00:01<?, ?rank/s]\u001b[A"
          ]
        },
        {
          "output_type": "stream",
          "name": "stdout",
          "text": [
            "Saved HTML file: html-files-2024-04-26-10-22/14516426552.html\n"
          ]
        },
        {
          "output_type": "stream",
          "name": "stderr",
          "text": [
            "\n",
            "Processing ranks: 100%|██████████| 1/1 [00:01<00:00,  1.83s/rank]\u001b[A\n",
            "Processing keywords:  87%|████████▋ | 879/1009 [26:10<04:11,  1.94s/keyword]\n",
            "\n",
            "Processing keywords:  87%|████████▋ | 879/1009 [26:11<04:11,  1.94s/keyword]\n",
            "Processing ranks:   0%|          | 0/1 [00:01<?, ?rank/s]\u001b[A"
          ]
        },
        {
          "output_type": "stream",
          "name": "stdout",
          "text": [
            "Saved HTML file: html-files-2024-04-26-10-22/14516351955.html\n"
          ]
        },
        {
          "output_type": "stream",
          "name": "stderr",
          "text": [
            "\n",
            "Processing ranks: 100%|██████████| 1/1 [00:01<00:00,  1.93s/rank]\u001b[A\n",
            "Processing keywords:  87%|████████▋ | 880/1009 [26:12<04:10,  1.94s/keyword]\n",
            "\n",
            "Processing keywords:  87%|████████▋ | 880/1009 [26:13<04:10,  1.94s/keyword]\n",
            "Processing ranks:   0%|          | 0/1 [00:01<?, ?rank/s]\u001b[A"
          ]
        },
        {
          "output_type": "stream",
          "name": "stdout",
          "text": [
            "Saved HTML file: html-files-2024-04-26-10-22/14516427845.html\n"
          ]
        },
        {
          "output_type": "stream",
          "name": "stderr",
          "text": [
            "\n",
            "Processing ranks: 100%|██████████| 1/1 [00:02<00:00,  2.34s/rank]\u001b[A\n",
            "Processing keywords:  87%|████████▋ | 881/1009 [26:14<04:24,  2.07s/keyword]\n",
            "\n",
            "Processing keywords:  87%|████████▋ | 881/1009 [26:15<04:24,  2.07s/keyword]\n",
            "Processing ranks:   0%|          | 0/1 [00:01<?, ?rank/s]\u001b[A"
          ]
        },
        {
          "output_type": "stream",
          "name": "stdout",
          "text": [
            "Saved HTML file: html-files-2024-04-26-10-22/14516428950.html\n"
          ]
        },
        {
          "output_type": "stream",
          "name": "stderr",
          "text": [
            "\n",
            "Processing ranks: 100%|██████████| 1/1 [00:01<00:00,  1.72s/rank]\u001b[A\n",
            "Processing keywords:  87%|████████▋ | 882/1009 [26:16<04:10,  1.97s/keyword]\n",
            "\n",
            "Processing keywords:  87%|████████▋ | 882/1009 [26:17<04:10,  1.97s/keyword]\n",
            "Processing ranks:   0%|          | 0/1 [00:01<?, ?rank/s]\u001b[A"
          ]
        },
        {
          "output_type": "stream",
          "name": "stdout",
          "text": [
            "Saved HTML file: html-files-2024-04-26-10-22/14516402392.html\n"
          ]
        },
        {
          "output_type": "stream",
          "name": "stderr",
          "text": [
            "\n",
            "Processing ranks: 100%|██████████| 1/1 [00:02<00:00,  2.09s/rank]\u001b[A\n",
            "Processing keywords:  88%|████████▊ | 883/1009 [26:18<04:13,  2.01s/keyword]\n",
            "\n",
            "Processing keywords:  88%|████████▊ | 883/1009 [26:19<04:13,  2.01s/keyword]\n",
            "Processing ranks:   0%|          | 0/1 [00:01<?, ?rank/s]\u001b[A"
          ]
        },
        {
          "output_type": "stream",
          "name": "stdout",
          "text": [
            "Saved HTML file: html-files-2024-04-26-10-22/14516424595.html\n"
          ]
        },
        {
          "output_type": "stream",
          "name": "stderr",
          "text": [
            "\n",
            "Processing ranks: 100%|██████████| 1/1 [00:01<00:00,  1.82s/rank]\u001b[A\n",
            "Processing keywords:  88%|████████▊ | 884/1009 [26:20<04:04,  1.96s/keyword]\n",
            "\n",
            "Processing keywords:  88%|████████▊ | 884/1009 [26:21<04:04,  1.96s/keyword]\n",
            "Processing ranks:   0%|          | 0/1 [00:01<?, ?rank/s]\u001b[A"
          ]
        },
        {
          "output_type": "stream",
          "name": "stdout",
          "text": [
            "Saved HTML file: html-files-2024-04-26-10-22/14516402923.html\n"
          ]
        },
        {
          "output_type": "stream",
          "name": "stderr",
          "text": [
            "\n",
            "Processing ranks: 100%|██████████| 1/1 [00:01<00:00,  1.80s/rank]\u001b[A\n",
            "Processing keywords:  88%|████████▊ | 885/1009 [26:21<03:57,  1.92s/keyword]\n",
            "\n",
            "Processing keywords:  88%|████████▊ | 885/1009 [26:23<03:57,  1.92s/keyword]\n",
            "Processing ranks:   0%|          | 0/1 [00:01<?, ?rank/s]\u001b[A"
          ]
        },
        {
          "output_type": "stream",
          "name": "stdout",
          "text": [
            "Saved HTML file: html-files-2024-04-26-10-22/14516390938.html\n"
          ]
        },
        {
          "output_type": "stream",
          "name": "stderr",
          "text": [
            "\n",
            "Processing ranks: 100%|██████████| 1/1 [00:02<00:00,  2.24s/rank]\u001b[A\n",
            "Processing keywords:  88%|████████▊ | 886/1009 [26:24<04:09,  2.03s/keyword]\n",
            "\n",
            "Processing keywords:  88%|████████▊ | 886/1009 [26:25<04:09,  2.03s/keyword]\n",
            "Processing ranks:   0%|          | 0/1 [00:01<?, ?rank/s]\u001b[A"
          ]
        },
        {
          "output_type": "stream",
          "name": "stdout",
          "text": [
            "Saved HTML file: html-files-2024-04-26-10-22/14516391530.html\n"
          ]
        },
        {
          "output_type": "stream",
          "name": "stderr",
          "text": [
            "\n",
            "Processing ranks: 100%|██████████| 1/1 [00:02<00:00,  2.04s/rank]\u001b[A\n",
            "Processing keywords:  88%|████████▊ | 887/1009 [26:26<04:08,  2.04s/keyword]\n",
            "\n",
            "Processing keywords:  88%|████████▊ | 887/1009 [26:27<04:08,  2.04s/keyword]\n",
            "Processing ranks:   0%|          | 0/1 [00:01<?, ?rank/s]\u001b[A"
          ]
        },
        {
          "output_type": "stream",
          "name": "stdout",
          "text": [
            "Saved HTML file: html-files-2024-04-26-10-22/14516424714.html\n"
          ]
        },
        {
          "output_type": "stream",
          "name": "stderr",
          "text": [
            "\n",
            "Processing ranks: 100%|██████████| 1/1 [00:02<00:00,  2.09s/rank]\u001b[A\n",
            "Processing keywords:  88%|████████▊ | 888/1009 [26:28<04:08,  2.06s/keyword]\n",
            "\n",
            "Processing keywords:  88%|████████▊ | 888/1009 [26:30<04:08,  2.06s/keyword]\n",
            "Processing ranks:   0%|          | 0/1 [00:01<?, ?rank/s]\u001b[A"
          ]
        },
        {
          "output_type": "stream",
          "name": "stdout",
          "text": [
            "Saved HTML file: html-files-2024-04-26-10-22/14516403018.html\n"
          ]
        },
        {
          "output_type": "stream",
          "name": "stderr",
          "text": [
            "\n",
            "Processing ranks: 100%|██████████| 1/1 [00:02<00:00,  2.19s/rank]\u001b[A\n",
            "Processing keywords:  88%|████████▊ | 889/1009 [26:30<04:12,  2.10s/keyword]\n",
            "\n",
            "Processing keywords:  88%|████████▊ | 889/1009 [26:31<04:12,  2.10s/keyword]\n",
            "Processing ranks:   0%|          | 0/1 [00:01<?, ?rank/s]\u001b[A"
          ]
        },
        {
          "output_type": "stream",
          "name": "stdout",
          "text": [
            "Saved HTML file: html-files-2024-04-26-10-22/14516392388.html\n"
          ]
        },
        {
          "output_type": "stream",
          "name": "stderr",
          "text": [
            "\n",
            "Processing ranks: 100%|██████████| 1/1 [00:01<00:00,  1.91s/rank]\u001b[A\n",
            "Processing keywords:  88%|████████▊ | 890/1009 [26:32<04:04,  2.05s/keyword]\n",
            "\n",
            "Processing keywords:  88%|████████▊ | 890/1009 [26:33<04:04,  2.05s/keyword]\n",
            "Processing ranks:   0%|          | 0/1 [00:00<?, ?rank/s]\u001b[A"
          ]
        },
        {
          "output_type": "stream",
          "name": "stdout",
          "text": [
            "Saved HTML file: html-files-2024-04-26-10-22/14516392779.html\n"
          ]
        },
        {
          "output_type": "stream",
          "name": "stderr",
          "text": [
            "\n",
            "Processing ranks: 100%|██████████| 1/1 [00:00<00:00,  1.05rank/s]\u001b[A\n",
            "Processing keywords:  88%|████████▊ | 891/1009 [26:33<03:24,  1.73s/keyword]\n",
            "\n",
            "Processing keywords:  88%|████████▊ | 891/1009 [26:34<03:24,  1.73s/keyword]\n",
            "Processing ranks:   0%|          | 0/1 [00:01<?, ?rank/s]\u001b[A"
          ]
        },
        {
          "output_type": "stream",
          "name": "stdout",
          "text": [
            "Saved HTML file: html-files-2024-04-26-10-22/14516403315.html\n"
          ]
        },
        {
          "output_type": "stream",
          "name": "stderr",
          "text": [
            "\n",
            "Processing ranks: 100%|██████████| 1/1 [00:01<00:00,  1.86s/rank]\u001b[A\n",
            "Processing keywords:  88%|████████▊ | 892/1009 [26:35<03:28,  1.78s/keyword]\n",
            "\n",
            "Processing keywords:  88%|████████▊ | 892/1009 [26:36<03:28,  1.78s/keyword]\n",
            "Processing ranks:   0%|          | 0/1 [00:01<?, ?rank/s]\u001b[A"
          ]
        },
        {
          "output_type": "stream",
          "name": "stdout",
          "text": [
            "Saved HTML file: html-files-2024-04-26-10-22/14516403373.html\n"
          ]
        },
        {
          "output_type": "stream",
          "name": "stderr",
          "text": [
            "\n",
            "Processing ranks: 100%|██████████| 1/1 [00:01<00:00,  1.78s/rank]\u001b[A\n",
            "Processing keywords:  89%|████████▊ | 893/1009 [26:37<03:27,  1.79s/keyword]\n",
            "\n",
            "Processing keywords:  89%|████████▊ | 893/1009 [26:39<03:27,  1.79s/keyword]\n",
            "Processing ranks:   0%|          | 0/1 [00:02<?, ?rank/s]\u001b[A"
          ]
        },
        {
          "output_type": "stream",
          "name": "stdout",
          "text": [
            "Saved HTML file: html-files-2024-04-26-10-22/14516393044.html\n"
          ]
        },
        {
          "output_type": "stream",
          "name": "stderr",
          "text": [
            "\n",
            "Processing ranks: 100%|██████████| 1/1 [00:03<00:00,  3.32s/rank]\u001b[A\n",
            "Processing keywords:  89%|████████▊ | 894/1009 [26:40<04:18,  2.25s/keyword]\n",
            "\n",
            "Processing keywords:  89%|████████▊ | 894/1009 [26:41<04:18,  2.25s/keyword]\n",
            "Processing ranks:   0%|          | 0/1 [00:01<?, ?rank/s]\u001b[A"
          ]
        },
        {
          "output_type": "stream",
          "name": "stdout",
          "text": [
            "Saved HTML file: html-files-2024-04-26-10-22/14516429927.html\n"
          ]
        },
        {
          "output_type": "stream",
          "name": "stderr",
          "text": [
            "\n",
            "Processing ranks: 100%|██████████| 1/1 [00:02<00:00,  2.14s/rank]\u001b[A\n",
            "Processing keywords:  89%|████████▊ | 895/1009 [26:42<04:13,  2.22s/keyword]\n",
            "\n",
            "Processing keywords:  89%|████████▊ | 895/1009 [26:44<04:13,  2.22s/keyword]\n",
            "Processing ranks:   0%|          | 0/1 [00:01<?, ?rank/s]\u001b[A"
          ]
        },
        {
          "output_type": "stream",
          "name": "stdout",
          "text": [
            "Saved HTML file: html-files-2024-04-26-10-22/14516404087.html\n"
          ]
        },
        {
          "output_type": "stream",
          "name": "stderr",
          "text": [
            "\n",
            "Processing ranks: 100%|██████████| 1/1 [00:02<00:00,  2.50s/rank]\u001b[A\n",
            "Processing keywords:  89%|████████▉ | 896/1009 [26:45<04:21,  2.31s/keyword]\n",
            "\n",
            "Processing keywords:  89%|████████▉ | 896/1009 [26:46<04:21,  2.31s/keyword]\n",
            "Processing ranks:   0%|          | 0/1 [00:00<?, ?rank/s]\u001b[A"
          ]
        },
        {
          "output_type": "stream",
          "name": "stdout",
          "text": [
            "Saved HTML file: html-files-2024-04-26-10-22/14516404194.html\n"
          ]
        },
        {
          "output_type": "stream",
          "name": "stderr",
          "text": [
            "\n",
            "Processing ranks: 100%|██████████| 1/1 [00:01<00:00,  1.55s/rank]\u001b[A\n",
            "Processing keywords:  89%|████████▉ | 897/1009 [26:46<03:53,  2.09s/keyword]\n",
            "\n",
            "Processing keywords:  89%|████████▉ | 897/1009 [26:48<03:53,  2.09s/keyword]\n",
            "Processing ranks:   0%|          | 0/1 [00:01<?, ?rank/s]\u001b[A"
          ]
        },
        {
          "output_type": "stream",
          "name": "stdout",
          "text": [
            "Saved HTML file: html-files-2024-04-26-10-22/14516430472.html\n"
          ]
        },
        {
          "output_type": "stream",
          "name": "stderr",
          "text": [
            "\n",
            "Processing ranks: 100%|██████████| 1/1 [00:02<00:00,  2.31s/rank]\u001b[A\n",
            "Processing keywords:  89%|████████▉ | 898/1009 [26:49<03:59,  2.16s/keyword]\n",
            "\n",
            "Processing keywords:  89%|████████▉ | 898/1009 [26:50<03:59,  2.16s/keyword]\n",
            "Processing ranks:   0%|          | 0/1 [00:01<?, ?rank/s]\u001b[A"
          ]
        },
        {
          "output_type": "stream",
          "name": "stdout",
          "text": [
            "Saved HTML file: html-files-2024-04-26-10-22/14516430770.html\n"
          ]
        },
        {
          "output_type": "stream",
          "name": "stderr",
          "text": [
            "\n",
            "Processing ranks: 100%|██████████| 1/1 [00:01<00:00,  1.90s/rank]\u001b[A\n",
            "Processing keywords:  89%|████████▉ | 899/1009 [26:50<03:49,  2.09s/keyword]\n",
            "\n",
            "Processing keywords:  89%|████████▉ | 899/1009 [26:52<03:49,  2.09s/keyword]\n",
            "Processing ranks:   0%|          | 0/1 [00:01<?, ?rank/s]\u001b[A"
          ]
        },
        {
          "output_type": "stream",
          "name": "stdout",
          "text": [
            "Saved HTML file: html-files-2024-04-26-10-22/14516352934.html\n"
          ]
        },
        {
          "output_type": "stream",
          "name": "stderr",
          "text": [
            "\n",
            "Processing ranks: 100%|██████████| 1/1 [00:01<00:00,  1.83s/rank]\u001b[A\n",
            "Processing keywords:  89%|████████▉ | 900/1009 [26:52<03:40,  2.02s/keyword]\n",
            "\n",
            "Processing keywords:  89%|████████▉ | 900/1009 [26:54<03:40,  2.02s/keyword]\n",
            "Processing ranks:   0%|          | 0/1 [00:01<?, ?rank/s]\u001b[A"
          ]
        },
        {
          "output_type": "stream",
          "name": "stdout",
          "text": [
            "Saved HTML file: html-files-2024-04-26-10-22/14516394085.html\n"
          ]
        },
        {
          "output_type": "stream",
          "name": "stderr",
          "text": [
            "\n",
            "Processing ranks: 100%|██████████| 1/1 [00:01<00:00,  1.80s/rank]\u001b[A\n",
            "Processing keywords:  89%|████████▉ | 901/1009 [26:54<03:31,  1.96s/keyword]\n",
            "\n",
            "Processing keywords:  89%|████████▉ | 901/1009 [26:56<03:31,  1.96s/keyword]\n",
            "Processing ranks:   0%|          | 0/1 [00:01<?, ?rank/s]\u001b[A"
          ]
        },
        {
          "output_type": "stream",
          "name": "stdout",
          "text": [
            "Saved HTML file: html-files-2024-04-26-10-22/14516424960.html\n"
          ]
        },
        {
          "output_type": "stream",
          "name": "stderr",
          "text": [
            "\n",
            "Processing ranks: 100%|██████████| 1/1 [00:01<00:00,  1.94s/rank]\u001b[A\n",
            "Processing keywords:  89%|████████▉ | 902/1009 [26:56<03:29,  1.96s/keyword]\n",
            "\n",
            "Processing keywords:  89%|████████▉ | 902/1009 [26:58<03:29,  1.96s/keyword]\n",
            "Processing ranks:   0%|          | 0/1 [00:01<?, ?rank/s]\u001b[A"
          ]
        },
        {
          "output_type": "stream",
          "name": "stdout",
          "text": [
            "Saved HTML file: html-files-2024-04-26-10-22/14516395158.html\n"
          ]
        },
        {
          "output_type": "stream",
          "name": "stderr",
          "text": [
            "\n",
            "Processing ranks: 100%|██████████| 1/1 [00:01<00:00,  1.84s/rank]\u001b[A\n",
            "Processing keywords:  89%|████████▉ | 903/1009 [26:58<03:24,  1.93s/keyword]\n",
            "\n",
            "Processing keywords:  89%|████████▉ | 903/1009 [27:00<03:24,  1.93s/keyword]\n",
            "Processing ranks:   0%|          | 0/1 [00:01<?, ?rank/s]\u001b[A"
          ]
        },
        {
          "output_type": "stream",
          "name": "stdout",
          "text": [
            "Saved HTML file: html-files-2024-04-26-10-22/14516396094.html\n"
          ]
        },
        {
          "output_type": "stream",
          "name": "stderr",
          "text": [
            "\n",
            "Processing ranks: 100%|██████████| 1/1 [00:02<00:00,  2.15s/rank]\u001b[A\n",
            "Processing keywords:  90%|████████▉ | 904/1009 [27:00<03:30,  2.00s/keyword]\n",
            "\n",
            "Processing keywords:  90%|████████▉ | 904/1009 [27:01<03:30,  2.00s/keyword]\n",
            "Processing ranks:   0%|          | 0/1 [00:01<?, ?rank/s]\u001b[A"
          ]
        },
        {
          "output_type": "stream",
          "name": "stdout",
          "text": [
            "Saved HTML file: html-files-2024-04-26-10-22/14516407483.html\n"
          ]
        },
        {
          "output_type": "stream",
          "name": "stderr",
          "text": [
            "\n",
            "Processing ranks: 100%|██████████| 1/1 [00:02<00:00,  2.00s/rank]\u001b[A\n",
            "Processing keywords:  90%|████████▉ | 905/1009 [27:02<03:29,  2.01s/keyword]\n",
            "\n",
            "Processing keywords:  90%|████████▉ | 905/1009 [27:04<03:29,  2.01s/keyword]\n",
            "Processing ranks:   0%|          | 0/1 [00:01<?, ?rank/s]\u001b[A"
          ]
        },
        {
          "output_type": "stream",
          "name": "stdout",
          "text": [
            "Saved HTML file: html-files-2024-04-26-10-22/14516404363.html\n"
          ]
        },
        {
          "output_type": "stream",
          "name": "stderr",
          "text": [
            "\n",
            "Processing ranks: 100%|██████████| 1/1 [00:02<00:00,  2.09s/rank]\u001b[A\n",
            "Processing keywords:  90%|████████▉ | 906/1009 [27:04<03:30,  2.04s/keyword]\n",
            "\n",
            "Processing keywords:  90%|████████▉ | 906/1009 [27:06<03:30,  2.04s/keyword]\n",
            "Processing ranks:   0%|          | 0/1 [00:01<?, ?rank/s]\u001b[A"
          ]
        },
        {
          "output_type": "stream",
          "name": "stdout",
          "text": [
            "Saved HTML file: html-files-2024-04-26-10-22/14516407942.html\n"
          ]
        },
        {
          "output_type": "stream",
          "name": "stderr",
          "text": [
            "\n",
            "Processing ranks: 100%|██████████| 1/1 [00:02<00:00,  2.35s/rank]\u001b[A\n",
            "Processing keywords:  90%|████████▉ | 907/1009 [27:07<03:38,  2.14s/keyword]\n",
            "\n",
            "Processing keywords:  90%|████████▉ | 907/1009 [27:08<03:38,  2.14s/keyword]\n",
            "Processing ranks:   0%|          | 0/1 [00:01<?, ?rank/s]\u001b[A"
          ]
        },
        {
          "output_type": "stream",
          "name": "stdout",
          "text": [
            "Saved HTML file: html-files-2024-04-26-10-22/14516404481.html\n"
          ]
        },
        {
          "output_type": "stream",
          "name": "stderr",
          "text": [
            "\n",
            "Processing ranks: 100%|██████████| 1/1 [00:02<00:00,  2.16s/rank]\u001b[A\n",
            "Processing keywords:  90%|████████▉ | 908/1009 [27:09<03:37,  2.15s/keyword]\n",
            "\n",
            "Processing keywords:  90%|████████▉ | 908/1009 [27:10<03:37,  2.15s/keyword]\n",
            "Processing ranks:   0%|          | 0/1 [00:00<?, ?rank/s]\u001b[A"
          ]
        },
        {
          "output_type": "stream",
          "name": "stdout",
          "text": [
            "Saved HTML file: html-files-2024-04-26-10-22/14516396914.html\n"
          ]
        },
        {
          "output_type": "stream",
          "name": "stderr",
          "text": [
            "\n",
            "Processing ranks: 100%|██████████| 1/1 [00:01<00:00,  1.66s/rank]\u001b[A\n",
            "Processing keywords:  90%|█████████ | 909/1009 [27:11<03:21,  2.01s/keyword]\n",
            "\n",
            "Processing keywords:  90%|█████████ | 909/1009 [27:12<03:21,  2.01s/keyword]\n",
            "Processing ranks:   0%|          | 0/1 [00:01<?, ?rank/s]\u001b[A"
          ]
        },
        {
          "output_type": "stream",
          "name": "stdout",
          "text": [
            "Saved HTML file: html-files-2024-04-26-10-22/14516397230.html\n"
          ]
        },
        {
          "output_type": "stream",
          "name": "stderr",
          "text": [
            "\n",
            "Processing ranks: 100%|██████████| 1/1 [00:02<00:00,  2.01s/rank]\u001b[A\n",
            "Processing keywords:  90%|█████████ | 910/1009 [27:13<03:19,  2.02s/keyword]\n",
            "\n",
            "Processing keywords:  90%|█████████ | 910/1009 [27:14<03:19,  2.02s/keyword]\n",
            "Processing ranks:   0%|          | 0/1 [00:01<?, ?rank/s]\u001b[A"
          ]
        },
        {
          "output_type": "stream",
          "name": "stdout",
          "text": [
            "Saved HTML file: html-files-2024-04-26-10-22/14516408664.html\n"
          ]
        },
        {
          "output_type": "stream",
          "name": "stderr",
          "text": [
            "\n",
            "Processing ranks: 100%|██████████| 1/1 [00:02<00:00,  2.04s/rank]\u001b[A\n",
            "Processing keywords:  90%|█████████ | 911/1009 [27:15<03:19,  2.03s/keyword]\n",
            "\n",
            "Processing keywords:  90%|█████████ | 911/1009 [27:16<03:19,  2.03s/keyword]\n",
            "Processing ranks:   0%|          | 0/1 [00:01<?, ?rank/s]\u001b[A"
          ]
        },
        {
          "output_type": "stream",
          "name": "stdout",
          "text": [
            "Saved HTML file: html-files-2024-04-26-10-22/14516409238.html\n"
          ]
        },
        {
          "output_type": "stream",
          "name": "stderr",
          "text": [
            "\n",
            "Processing ranks: 100%|██████████| 1/1 [00:01<00:00,  1.95s/rank]\u001b[A\n",
            "Processing keywords:  90%|█████████ | 912/1009 [27:17<03:15,  2.01s/keyword]\n",
            "\n",
            "Processing keywords:  90%|█████████ | 912/1009 [27:17<03:15,  2.01s/keyword]\n",
            "Processing ranks:   0%|          | 0/1 [00:00<?, ?rank/s]\u001b[A"
          ]
        },
        {
          "output_type": "stream",
          "name": "stdout",
          "text": [
            "Saved HTML file: html-files-2024-04-26-10-22/14516409614.html\n"
          ]
        },
        {
          "output_type": "stream",
          "name": "stderr",
          "text": [
            "\n",
            "Processing ranks: 100%|██████████| 1/1 [00:01<00:00,  1.00s/rank]\u001b[A\n",
            "Processing keywords:  90%|█████████ | 913/1009 [27:18<02:44,  1.72s/keyword]\n",
            "\n",
            "Processing keywords:  90%|█████████ | 913/1009 [27:19<02:44,  1.72s/keyword]\n",
            "Processing ranks:   0%|          | 0/1 [00:01<?, ?rank/s]\u001b[A"
          ]
        },
        {
          "output_type": "stream",
          "name": "stdout",
          "text": [
            "Saved HTML file: html-files-2024-04-26-10-22/14516398013.html\n"
          ]
        },
        {
          "output_type": "stream",
          "name": "stderr",
          "text": [
            "\n",
            "Processing ranks: 100%|██████████| 1/1 [00:02<00:00,  2.03s/rank]\u001b[A\n",
            "Processing keywords:  91%|█████████ | 914/1009 [27:20<02:52,  1.82s/keyword]\n",
            "\n",
            "Processing keywords:  91%|█████████ | 914/1009 [27:21<02:52,  1.82s/keyword]\n",
            "Processing ranks:   0%|          | 0/1 [00:01<?, ?rank/s]\u001b[A"
          ]
        },
        {
          "output_type": "stream",
          "name": "stdout",
          "text": [
            "Saved HTML file: html-files-2024-04-26-10-22/14516410790.html\n"
          ]
        },
        {
          "output_type": "stream",
          "name": "stderr",
          "text": [
            "\n",
            "Processing ranks: 100%|██████████| 1/1 [00:02<00:00,  2.02s/rank]\u001b[A\n",
            "Processing keywords:  91%|█████████ | 915/1009 [27:22<02:57,  1.88s/keyword]\n",
            "\n",
            "Processing keywords:  91%|█████████ | 915/1009 [27:22<02:57,  1.88s/keyword]\n",
            "Processing ranks:   0%|          | 0/1 [00:00<?, ?rank/s]\u001b[A"
          ]
        },
        {
          "output_type": "stream",
          "name": "stdout",
          "text": [
            "Saved HTML file: html-files-2024-04-26-10-22/14516410970.html\n"
          ]
        },
        {
          "output_type": "stream",
          "name": "stderr",
          "text": [
            "\n",
            "Processing ranks: 100%|██████████| 1/1 [00:01<00:00,  1.26s/rank]\u001b[A\n",
            "Processing keywords:  91%|█████████ | 916/1009 [27:23<02:38,  1.70s/keyword]\n",
            "\n",
            "Processing keywords:  91%|█████████ | 916/1009 [27:24<02:38,  1.70s/keyword]\n",
            "Processing ranks:   0%|          | 0/1 [00:01<?, ?rank/s]\u001b[A"
          ]
        },
        {
          "output_type": "stream",
          "name": "stdout",
          "text": [
            "Saved HTML file: html-files-2024-04-26-10-22/14516400258.html\n"
          ]
        },
        {
          "output_type": "stream",
          "name": "stderr",
          "text": [
            "\n",
            "Processing ranks: 100%|██████████| 1/1 [00:01<00:00,  1.86s/rank]\u001b[A\n",
            "Processing keywords:  91%|█████████ | 917/1009 [27:25<02:41,  1.76s/keyword]\n",
            "\n",
            "Processing keywords:  91%|█████████ | 917/1009 [27:26<02:41,  1.76s/keyword]\n",
            "Processing ranks:   0%|          | 0/1 [00:01<?, ?rank/s]\u001b[A"
          ]
        },
        {
          "output_type": "stream",
          "name": "stdout",
          "text": [
            "Saved HTML file: html-files-2024-04-26-10-22/14516412830.html\n"
          ]
        },
        {
          "output_type": "stream",
          "name": "stderr",
          "text": [
            "\n",
            "Processing ranks: 100%|██████████| 1/1 [00:02<00:00,  2.09s/rank]\u001b[A\n",
            "Processing keywords:  91%|█████████ | 918/1009 [27:27<02:49,  1.87s/keyword]\n",
            "\n",
            "Processing keywords:  91%|█████████ | 918/1009 [27:28<02:49,  1.87s/keyword]\n",
            "Processing ranks:   0%|          | 0/1 [00:01<?, ?rank/s]\u001b[A"
          ]
        },
        {
          "output_type": "stream",
          "name": "stdout",
          "text": [
            "Saved HTML file: html-files-2024-04-26-10-22/14516412929.html\n"
          ]
        },
        {
          "output_type": "stream",
          "name": "stderr",
          "text": [
            "\n",
            "Processing ranks: 100%|██████████| 1/1 [00:02<00:00,  2.33s/rank]\u001b[A\n",
            "Processing keywords:  91%|█████████ | 919/1009 [27:29<03:01,  2.01s/keyword]\n",
            "\n",
            "Processing keywords:  91%|█████████ | 919/1009 [27:31<03:01,  2.01s/keyword]\n",
            "Processing ranks:   0%|          | 0/1 [00:01<?, ?rank/s]\u001b[A"
          ]
        },
        {
          "output_type": "stream",
          "name": "stdout",
          "text": [
            "Saved HTML file: html-files-2024-04-26-10-22/14516355268.html\n"
          ]
        },
        {
          "output_type": "stream",
          "name": "stderr",
          "text": [
            "\n",
            "Processing ranks: 100%|██████████| 1/1 [00:01<00:00,  1.99s/rank]\u001b[A\n",
            "Processing keywords:  91%|█████████ | 920/1009 [27:31<02:59,  2.01s/keyword]\n",
            "\n",
            "Processing keywords:  91%|█████████ | 920/1009 [27:33<02:59,  2.01s/keyword]\n",
            "Processing ranks:   0%|          | 0/1 [00:01<?, ?rank/s]\u001b[A"
          ]
        },
        {
          "output_type": "stream",
          "name": "stdout",
          "text": [
            "Saved HTML file: html-files-2024-04-26-10-22/14516413467.html\n"
          ]
        },
        {
          "output_type": "stream",
          "name": "stderr",
          "text": [
            "\n",
            "Processing ranks: 100%|██████████| 1/1 [00:02<00:00,  2.11s/rank]\u001b[A\n",
            "Processing keywords:  91%|█████████▏| 921/1009 [27:33<03:00,  2.05s/keyword]\n",
            "\n",
            "Processing keywords:  91%|█████████▏| 921/1009 [27:35<03:00,  2.05s/keyword]\n",
            "Processing ranks:   0%|          | 0/1 [00:01<?, ?rank/s]\u001b[A"
          ]
        },
        {
          "output_type": "stream",
          "name": "stdout",
          "text": [
            "Saved HTML file: html-files-2024-04-26-10-22/14516417738.html\n"
          ]
        },
        {
          "output_type": "stream",
          "name": "stderr",
          "text": [
            "\n",
            "Processing ranks: 100%|██████████| 1/1 [00:01<00:00,  1.80s/rank]\u001b[A\n",
            "Processing keywords:  91%|█████████▏| 922/1009 [27:35<02:52,  1.98s/keyword]\n",
            "\n",
            "Processing keywords:  91%|█████████▏| 922/1009 [27:37<02:52,  1.98s/keyword]\n",
            "Processing ranks:   0%|          | 0/1 [00:01<?, ?rank/s]\u001b[A"
          ]
        },
        {
          "output_type": "stream",
          "name": "stdout",
          "text": [
            "Saved HTML file: html-files-2024-04-26-10-22/14516419757.html\n"
          ]
        },
        {
          "output_type": "stream",
          "name": "stderr",
          "text": [
            "\n",
            "Processing ranks: 100%|██████████| 1/1 [00:02<00:00,  2.14s/rank]\u001b[A\n",
            "Processing keywords:  91%|█████████▏| 923/1009 [27:38<02:55,  2.04s/keyword]\n",
            "\n",
            "Processing keywords:  91%|█████████▏| 923/1009 [27:39<02:55,  2.04s/keyword]\n",
            "Processing ranks:   0%|          | 0/1 [00:01<?, ?rank/s]\u001b[A"
          ]
        },
        {
          "output_type": "stream",
          "name": "stdout",
          "text": [
            "Saved HTML file: html-files-2024-04-26-10-22/14516356792.html\n"
          ]
        },
        {
          "output_type": "stream",
          "name": "stderr",
          "text": [
            "\n",
            "Processing ranks: 100%|██████████| 1/1 [00:02<00:00,  2.35s/rank]\u001b[A\n",
            "Processing keywords:  92%|█████████▏| 924/1009 [27:40<03:02,  2.14s/keyword]\n",
            "\n",
            "Processing keywords:  92%|█████████▏| 924/1009 [27:41<03:02,  2.14s/keyword]\n",
            "Processing ranks:   0%|          | 0/1 [00:01<?, ?rank/s]\u001b[A"
          ]
        },
        {
          "output_type": "stream",
          "name": "stdout",
          "text": [
            "Saved HTML file: html-files-2024-04-26-10-22/14516402785.html\n"
          ]
        },
        {
          "output_type": "stream",
          "name": "stderr",
          "text": [
            "\n",
            "Processing ranks: 100%|██████████| 1/1 [00:01<00:00,  1.85s/rank]\u001b[A\n",
            "Processing keywords:  92%|█████████▏| 925/1009 [27:42<02:53,  2.06s/keyword]\n",
            "\n",
            "Processing keywords:  92%|█████████▏| 925/1009 [27:43<02:53,  2.06s/keyword]\n",
            "Processing ranks:   0%|          | 0/1 [00:01<?, ?rank/s]\u001b[A"
          ]
        },
        {
          "output_type": "stream",
          "name": "stdout",
          "text": [
            "Saved HTML file: html-files-2024-04-26-10-22/14516407218.html\n"
          ]
        },
        {
          "output_type": "stream",
          "name": "stderr",
          "text": [
            "\n",
            "Processing ranks: 100%|██████████| 1/1 [00:02<00:00,  2.13s/rank]\u001b[A\n",
            "Processing keywords:  92%|█████████▏| 926/1009 [27:44<02:53,  2.09s/keyword]\n",
            "\n",
            "Processing keywords:  92%|█████████▏| 926/1009 [27:45<02:53,  2.09s/keyword]\n",
            "Processing ranks:   0%|          | 0/1 [00:01<?, ?rank/s]\u001b[A"
          ]
        },
        {
          "output_type": "stream",
          "name": "stdout",
          "text": [
            "Saved HTML file: html-files-2024-04-26-10-22/14516407327.html\n"
          ]
        },
        {
          "output_type": "stream",
          "name": "stderr",
          "text": [
            "\n",
            "Processing ranks: 100%|██████████| 1/1 [00:01<00:00,  1.80s/rank]\u001b[A\n",
            "Processing keywords:  92%|█████████▏| 927/1009 [27:46<02:44,  2.01s/keyword]\n",
            "\n",
            "Processing keywords:  92%|█████████▏| 927/1009 [27:47<02:44,  2.01s/keyword]\n",
            "Processing ranks:   0%|          | 0/1 [00:01<?, ?rank/s]\u001b[A"
          ]
        },
        {
          "output_type": "stream",
          "name": "stdout",
          "text": [
            "Saved HTML file: html-files-2024-04-26-10-22/14516421770.html\n"
          ]
        },
        {
          "output_type": "stream",
          "name": "stderr",
          "text": [
            "\n",
            "Processing ranks: 100%|██████████| 1/1 [00:01<00:00,  1.66s/rank]\u001b[A\n",
            "Processing keywords:  92%|█████████▏| 928/1009 [27:47<02:34,  1.91s/keyword]\n",
            "\n",
            "Processing keywords:  92%|█████████▏| 928/1009 [27:49<02:34,  1.91s/keyword]\n",
            "Processing ranks:   0%|          | 0/1 [00:01<?, ?rank/s]\u001b[A"
          ]
        },
        {
          "output_type": "stream",
          "name": "stdout",
          "text": [
            "Saved HTML file: html-files-2024-04-26-10-22/14516404222.html\n"
          ]
        },
        {
          "output_type": "stream",
          "name": "stderr",
          "text": [
            "\n",
            "Processing ranks: 100%|██████████| 1/1 [00:01<00:00,  1.92s/rank]\u001b[A\n",
            "Processing keywords:  92%|█████████▏| 929/1009 [27:49<02:33,  1.92s/keyword]\n",
            "\n",
            "Processing keywords:  92%|█████████▏| 929/1009 [27:51<02:33,  1.92s/keyword]\n",
            "Processing ranks:   0%|          | 0/1 [00:01<?, ?rank/s]\u001b[A"
          ]
        },
        {
          "output_type": "stream",
          "name": "stdout",
          "text": [
            "Saved HTML file: html-files-2024-04-26-10-22/14516404855.html\n"
          ]
        },
        {
          "output_type": "stream",
          "name": "stderr",
          "text": [
            "\n",
            "Processing ranks: 100%|██████████| 1/1 [00:01<00:00,  1.73s/rank]\u001b[A\n",
            "Processing keywords:  92%|█████████▏| 930/1009 [27:51<02:27,  1.87s/keyword]\n",
            "\n",
            "Processing keywords:  92%|█████████▏| 930/1009 [27:53<02:27,  1.87s/keyword]\n",
            "Processing ranks:   0%|          | 0/1 [00:01<?, ?rank/s]\u001b[A"
          ]
        },
        {
          "output_type": "stream",
          "name": "stdout",
          "text": [
            "Saved HTML file: html-files-2024-04-26-10-22/14516425712.html\n"
          ]
        },
        {
          "output_type": "stream",
          "name": "stderr",
          "text": [
            "\n",
            "Processing ranks: 100%|██████████| 1/1 [00:01<00:00,  1.91s/rank]\u001b[A\n",
            "Processing keywords:  92%|█████████▏| 931/1009 [27:53<02:26,  1.88s/keyword]\n",
            "\n",
            "Processing keywords:  92%|█████████▏| 931/1009 [27:54<02:26,  1.88s/keyword]\n",
            "Processing ranks:   0%|          | 0/1 [00:01<?, ?rank/s]\u001b[A"
          ]
        },
        {
          "output_type": "stream",
          "name": "stdout",
          "text": [
            "Saved HTML file: html-files-2024-04-26-10-22/14516405304.html\n"
          ]
        },
        {
          "output_type": "stream",
          "name": "stderr",
          "text": [
            "\n",
            "Processing ranks: 100%|██████████| 1/1 [00:01<00:00,  1.91s/rank]\u001b[A\n",
            "Processing keywords:  92%|█████████▏| 932/1009 [27:55<02:26,  1.90s/keyword]\n",
            "\n",
            "Processing keywords:  92%|█████████▏| 932/1009 [27:56<02:26,  1.90s/keyword]\n",
            "Processing ranks:   0%|          | 0/1 [00:00<?, ?rank/s]\u001b[A"
          ]
        },
        {
          "output_type": "stream",
          "name": "stdout",
          "text": [
            "Saved HTML file: html-files-2024-04-26-10-22/14516405810.html\n"
          ]
        },
        {
          "output_type": "stream",
          "name": "stderr",
          "text": [
            "\n",
            "Processing ranks: 100%|██████████| 1/1 [00:01<00:00,  1.34s/rank]\u001b[A\n",
            "Processing keywords:  92%|█████████▏| 933/1009 [27:56<02:11,  1.74s/keyword]\n",
            "\n",
            "Processing keywords:  92%|█████████▏| 933/1009 [27:58<02:11,  1.74s/keyword]\n",
            "Processing ranks:   0%|          | 0/1 [00:01<?, ?rank/s]\u001b[A"
          ]
        },
        {
          "output_type": "stream",
          "name": "stdout",
          "text": [
            "Saved HTML file: html-files-2024-04-26-10-22/14516433444.html\n"
          ]
        },
        {
          "output_type": "stream",
          "name": "stderr",
          "text": [
            "\n",
            "Processing ranks: 100%|██████████| 1/1 [00:01<00:00,  1.83s/rank]\u001b[A\n",
            "Processing keywords:  93%|█████████▎| 934/1009 [27:58<02:12,  1.77s/keyword]\n",
            "\n",
            "Processing keywords:  93%|█████████▎| 934/1009 [28:00<02:12,  1.77s/keyword]\n",
            "Processing ranks:   0%|          | 0/1 [00:01<?, ?rank/s]\u001b[A"
          ]
        },
        {
          "output_type": "stream",
          "name": "stdout",
          "text": [
            "Saved HTML file: html-files-2024-04-26-10-22/14516407341.html\n"
          ]
        },
        {
          "output_type": "stream",
          "name": "stderr",
          "text": [
            "\n",
            "Processing ranks: 100%|██████████| 1/1 [00:02<00:00,  2.32s/rank]\u001b[A\n",
            "Processing keywords:  93%|█████████▎| 935/1009 [28:00<02:23,  1.94s/keyword]\n",
            "\n",
            "Processing keywords:  93%|█████████▎| 935/1009 [28:02<02:23,  1.94s/keyword]\n",
            "Processing ranks:   0%|          | 0/1 [00:01<?, ?rank/s]\u001b[A"
          ]
        },
        {
          "output_type": "stream",
          "name": "stdout",
          "text": [
            "Saved HTML file: html-files-2024-04-26-10-22/14516407555.html\n"
          ]
        },
        {
          "output_type": "stream",
          "name": "stderr",
          "text": [
            "\n",
            "Processing ranks: 100%|██████████| 1/1 [00:02<00:00,  2.12s/rank]\u001b[A\n",
            "Processing keywords:  93%|█████████▎| 936/1009 [28:03<02:25,  2.00s/keyword]\n",
            "\n",
            "Processing keywords:  93%|█████████▎| 936/1009 [28:04<02:25,  2.00s/keyword]\n",
            "Processing ranks:   0%|          | 0/1 [00:01<?, ?rank/s]\u001b[A"
          ]
        },
        {
          "output_type": "stream",
          "name": "stdout",
          "text": [
            "Saved HTML file: html-files-2024-04-26-10-22/14516409310.html\n"
          ]
        },
        {
          "output_type": "stream",
          "name": "stderr",
          "text": [
            "\n",
            "Processing ranks: 100%|██████████| 1/1 [00:02<00:00,  2.12s/rank]\u001b[A\n",
            "Processing keywords:  93%|█████████▎| 937/1009 [28:05<02:26,  2.04s/keyword]\n",
            "\n",
            "Processing keywords:  93%|█████████▎| 937/1009 [28:05<02:26,  2.04s/keyword]\n",
            "Processing ranks:   0%|          | 0/1 [00:00<?, ?rank/s]\u001b[A"
          ]
        },
        {
          "output_type": "stream",
          "name": "stdout",
          "text": [
            "Saved HTML file: html-files-2024-04-26-10-22/14516429348.html\n"
          ]
        },
        {
          "output_type": "stream",
          "name": "stderr",
          "text": [
            "\n",
            "Processing ranks: 100%|██████████| 1/1 [00:01<00:00,  1.27s/rank]\u001b[A\n",
            "Processing keywords:  93%|█████████▎| 938/1009 [28:06<02:09,  1.82s/keyword]\n",
            "\n",
            "Processing keywords:  93%|█████████▎| 938/1009 [28:07<02:09,  1.82s/keyword]\n",
            "Processing ranks:   0%|          | 0/1 [00:00<?, ?rank/s]\u001b[A"
          ]
        },
        {
          "output_type": "stream",
          "name": "stdout",
          "text": [
            "Saved HTML file: html-files-2024-04-26-10-22/14516410083.html\n"
          ]
        },
        {
          "output_type": "stream",
          "name": "stderr",
          "text": [
            "\n",
            "Processing ranks: 100%|██████████| 1/1 [00:01<00:00,  1.12s/rank]\u001b[A\n",
            "Processing keywords:  93%|█████████▎| 939/1009 [28:07<01:52,  1.61s/keyword]\n",
            "\n",
            "Processing keywords:  93%|█████████▎| 939/1009 [28:09<01:52,  1.61s/keyword]\n",
            "Processing ranks:   0%|          | 0/1 [00:01<?, ?rank/s]\u001b[A"
          ]
        },
        {
          "output_type": "stream",
          "name": "stdout",
          "text": [
            "Saved HTML file: html-files-2024-04-26-10-22/14516410833.html\n"
          ]
        },
        {
          "output_type": "stream",
          "name": "stderr",
          "text": [
            "\n",
            "Processing ranks: 100%|██████████| 1/1 [00:01<00:00,  1.72s/rank]\u001b[A\n",
            "Processing keywords:  93%|█████████▎| 940/1009 [28:09<01:53,  1.65s/keyword]\n",
            "\n",
            "Processing keywords:  93%|█████████▎| 940/1009 [28:10<01:53,  1.65s/keyword]\n",
            "Processing ranks:   0%|          | 0/1 [00:01<?, ?rank/s]\u001b[A"
          ]
        },
        {
          "output_type": "stream",
          "name": "stdout",
          "text": [
            "Saved HTML file: html-files-2024-04-26-10-22/14516358686.html\n"
          ]
        },
        {
          "output_type": "stream",
          "name": "stderr",
          "text": [
            "\n",
            "Processing ranks: 100%|██████████| 1/1 [00:01<00:00,  1.91s/rank]\u001b[A\n",
            "Processing keywords:  93%|█████████▎| 941/1009 [28:11<01:57,  1.73s/keyword]\n",
            "\n",
            "Processing keywords:  93%|█████████▎| 941/1009 [28:13<01:57,  1.73s/keyword]\n",
            "Processing ranks:   0%|          | 0/1 [00:01<?, ?rank/s]\u001b[A"
          ]
        },
        {
          "output_type": "stream",
          "name": "stdout",
          "text": [
            "Saved HTML file: html-files-2024-04-26-10-22/14516411126.html\n"
          ]
        },
        {
          "output_type": "stream",
          "name": "stderr",
          "text": [
            "\n",
            "Processing ranks: 100%|██████████| 1/1 [00:02<00:00,  2.19s/rank]\u001b[A\n",
            "Processing keywords:  93%|█████████▎| 942/1009 [28:13<02:05,  1.87s/keyword]\n",
            "\n",
            "Processing keywords:  93%|█████████▎| 942/1009 [28:14<02:05,  1.87s/keyword]\n",
            "Processing ranks:   0%|          | 0/1 [00:00<?, ?rank/s]\u001b[A"
          ]
        },
        {
          "output_type": "stream",
          "name": "stdout",
          "text": [
            "Saved HTML file: html-files-2024-04-26-10-22/14516430664.html\n"
          ]
        },
        {
          "output_type": "stream",
          "name": "stderr",
          "text": [
            "\n",
            "Processing ranks: 100%|██████████| 1/1 [00:00<00:00,  1.02rank/s]\u001b[A\n",
            "Processing keywords:  93%|█████████▎| 943/1009 [28:14<01:46,  1.61s/keyword]\n",
            "\n",
            "Processing keywords:  93%|█████████▎| 943/1009 [28:15<01:46,  1.61s/keyword]\n",
            "Processing ranks:   0%|          | 0/1 [00:01<?, ?rank/s]\u001b[A"
          ]
        },
        {
          "output_type": "stream",
          "name": "stdout",
          "text": [
            "Saved HTML file: html-files-2024-04-26-10-22/14516358812.html\n"
          ]
        },
        {
          "output_type": "stream",
          "name": "stderr",
          "text": [
            "\n",
            "Processing ranks: 100%|██████████| 1/1 [00:01<00:00,  1.81s/rank]\u001b[A\n",
            "Processing keywords:  94%|█████████▎| 944/1009 [28:16<01:48,  1.68s/keyword]\n",
            "\n",
            "Processing keywords:  94%|█████████▎| 944/1009 [28:17<01:48,  1.68s/keyword]\n",
            "Processing ranks:   0%|          | 0/1 [00:01<?, ?rank/s]\u001b[A"
          ]
        },
        {
          "output_type": "stream",
          "name": "stdout",
          "text": [
            "Saved HTML file: html-files-2024-04-26-10-22/14516358891.html\n"
          ]
        },
        {
          "output_type": "stream",
          "name": "stderr",
          "text": [
            "\n",
            "Processing ranks: 100%|██████████| 1/1 [00:01<00:00,  1.71s/rank]\u001b[A\n",
            "Processing keywords:  94%|█████████▎| 945/1009 [28:18<01:48,  1.69s/keyword]\n",
            "\n",
            "Processing keywords:  94%|█████████▎| 945/1009 [28:19<01:48,  1.69s/keyword]\n",
            "Processing ranks:   0%|          | 0/1 [00:01<?, ?rank/s]\u001b[A"
          ]
        },
        {
          "output_type": "stream",
          "name": "stdout",
          "text": [
            "Saved HTML file: html-files-2024-04-26-10-22/14516431118.html\n"
          ]
        },
        {
          "output_type": "stream",
          "name": "stderr",
          "text": [
            "\n",
            "Processing ranks: 100%|██████████| 1/1 [00:01<00:00,  1.84s/rank]\u001b[A\n",
            "Processing keywords:  94%|█████████▍| 946/1009 [28:19<01:49,  1.74s/keyword]\n",
            "\n",
            "Processing keywords:  94%|█████████▍| 946/1009 [28:21<01:49,  1.74s/keyword]\n",
            "Processing ranks:   0%|          | 0/1 [00:01<?, ?rank/s]\u001b[A"
          ]
        },
        {
          "output_type": "stream",
          "name": "stdout",
          "text": [
            "Saved HTML file: html-files-2024-04-26-10-22/14516431707.html\n"
          ]
        },
        {
          "output_type": "stream",
          "name": "stderr",
          "text": [
            "\n",
            "Processing ranks: 100%|██████████| 1/1 [00:02<00:00,  2.22s/rank]\u001b[A\n",
            "Processing keywords:  94%|█████████▍| 947/1009 [28:22<01:57,  1.89s/keyword]\n",
            "\n",
            "Processing keywords:  94%|█████████▍| 947/1009 [28:23<01:57,  1.89s/keyword]\n",
            "Processing ranks:   0%|          | 0/1 [00:01<?, ?rank/s]\u001b[A"
          ]
        },
        {
          "output_type": "stream",
          "name": "stdout",
          "text": [
            "Saved HTML file: html-files-2024-04-26-10-22/14516412907.html\n"
          ]
        },
        {
          "output_type": "stream",
          "name": "stderr",
          "text": [
            "\n",
            "Processing ranks: 100%|██████████| 1/1 [00:01<00:00,  1.84s/rank]\u001b[A\n",
            "Processing keywords:  94%|█████████▍| 948/1009 [28:24<01:54,  1.88s/keyword]\n",
            "\n",
            "Processing keywords:  94%|█████████▍| 948/1009 [28:25<01:54,  1.88s/keyword]\n",
            "Processing ranks:   0%|          | 0/1 [00:01<?, ?rank/s]\u001b[A"
          ]
        },
        {
          "output_type": "stream",
          "name": "stdout",
          "text": [
            "Saved HTML file: html-files-2024-04-26-10-22/14516360135.html\n"
          ]
        },
        {
          "output_type": "stream",
          "name": "stderr",
          "text": [
            "\n",
            "Processing ranks: 100%|██████████| 1/1 [00:02<00:00,  2.22s/rank]\u001b[A\n",
            "Processing keywords:  94%|█████████▍| 949/1009 [28:26<01:59,  1.99s/keyword]\n",
            "\n",
            "Processing keywords:  94%|█████████▍| 949/1009 [28:28<01:59,  1.99s/keyword]\n",
            "Processing ranks:   0%|          | 0/1 [00:02<?, ?rank/s]\u001b[A"
          ]
        },
        {
          "output_type": "stream",
          "name": "stdout",
          "text": [
            "Saved HTML file: html-files-2024-04-26-10-22/14516414647.html\n"
          ]
        },
        {
          "output_type": "stream",
          "name": "stderr",
          "text": [
            "\n",
            "Processing ranks: 100%|██████████| 1/1 [00:02<00:00,  2.79s/rank]\u001b[A\n",
            "Processing keywords:  94%|█████████▍| 950/1009 [28:29<02:11,  2.23s/keyword]\n",
            "\n",
            "Processing keywords:  94%|█████████▍| 950/1009 [28:30<02:11,  2.23s/keyword]\n",
            "Processing ranks:   0%|          | 0/1 [00:01<?, ?rank/s]\u001b[A"
          ]
        },
        {
          "output_type": "stream",
          "name": "stdout",
          "text": [
            "Saved HTML file: html-files-2024-04-26-10-22/14516414991.html\n"
          ]
        },
        {
          "output_type": "stream",
          "name": "stderr",
          "text": [
            "\n",
            "Processing ranks: 100%|██████████| 1/1 [00:02<00:00,  2.31s/rank]\u001b[A\n",
            "Processing keywords:  94%|█████████▍| 951/1009 [28:31<02:11,  2.26s/keyword]\n",
            "\n",
            "Processing keywords:  94%|█████████▍| 951/1009 [28:32<02:11,  2.26s/keyword]\n",
            "Processing ranks:   0%|          | 0/1 [00:01<?, ?rank/s]\u001b[A"
          ]
        },
        {
          "output_type": "stream",
          "name": "stdout",
          "text": [
            "Saved HTML file: html-files-2024-04-26-10-22/14516416802.html\n"
          ]
        },
        {
          "output_type": "stream",
          "name": "stderr",
          "text": [
            "\n",
            "Processing ranks: 100%|██████████| 1/1 [00:01<00:00,  1.65s/rank]\u001b[A\n",
            "Processing keywords:  94%|█████████▍| 952/1009 [28:33<01:58,  2.09s/keyword]\n",
            "\n",
            "Processing keywords:  94%|█████████▍| 952/1009 [28:34<01:58,  2.09s/keyword]\n",
            "Processing ranks:   0%|          | 0/1 [00:01<?, ?rank/s]\u001b[A"
          ]
        },
        {
          "output_type": "stream",
          "name": "stdout",
          "text": [
            "Saved HTML file: html-files-2024-04-26-10-22/14516416935.html\n"
          ]
        },
        {
          "output_type": "stream",
          "name": "stderr",
          "text": [
            "\n",
            "Processing ranks: 100%|██████████| 1/1 [00:01<00:00,  1.66s/rank]\u001b[A\n",
            "Processing keywords:  94%|█████████▍| 953/1009 [28:34<01:50,  1.97s/keyword]\n",
            "\n",
            "Processing keywords:  94%|█████████▍| 953/1009 [28:36<01:50,  1.97s/keyword]\n",
            "Processing ranks:   0%|          | 0/1 [00:01<?, ?rank/s]\u001b[A"
          ]
        },
        {
          "output_type": "stream",
          "name": "stdout",
          "text": [
            "Saved HTML file: html-files-2024-04-26-10-22/14516412478.html\n"
          ]
        },
        {
          "output_type": "stream",
          "name": "stderr",
          "text": [
            "\n",
            "Processing ranks: 100%|██████████| 1/1 [00:02<00:00,  2.06s/rank]\u001b[A\n",
            "Processing keywords:  95%|█████████▍| 954/1009 [28:36<01:50,  2.00s/keyword]\n",
            "\n",
            "Processing keywords:  95%|█████████▍| 954/1009 [28:38<01:50,  2.00s/keyword]\n",
            "Processing ranks:   0%|          | 0/1 [00:01<?, ?rank/s]\u001b[A"
          ]
        },
        {
          "output_type": "stream",
          "name": "stdout",
          "text": [
            "Saved HTML file: html-files-2024-04-26-10-22/14516421734.html\n"
          ]
        },
        {
          "output_type": "stream",
          "name": "stderr",
          "text": [
            "\n",
            "Processing ranks: 100%|██████████| 1/1 [00:01<00:00,  1.67s/rank]\u001b[A\n",
            "Processing keywords:  95%|█████████▍| 955/1009 [28:38<01:43,  1.91s/keyword]\n",
            "\n",
            "Processing keywords:  95%|█████████▍| 955/1009 [28:39<01:43,  1.91s/keyword]\n",
            "Processing ranks:   0%|          | 0/1 [00:01<?, ?rank/s]\u001b[A"
          ]
        },
        {
          "output_type": "stream",
          "name": "stdout",
          "text": [
            "Saved HTML file: html-files-2024-04-26-10-22/14516412698.html\n"
          ]
        },
        {
          "output_type": "stream",
          "name": "stderr",
          "text": [
            "\n",
            "Processing ranks: 100%|██████████| 1/1 [00:01<00:00,  1.82s/rank]\u001b[A\n",
            "Processing keywords:  95%|█████████▍| 956/1009 [28:40<01:40,  1.89s/keyword]\n",
            "\n",
            "Processing keywords:  95%|█████████▍| 956/1009 [28:40<01:40,  1.89s/keyword]\n",
            "Processing ranks:   0%|          | 0/1 [00:00<?, ?rank/s]\u001b[A"
          ]
        },
        {
          "output_type": "stream",
          "name": "stdout",
          "text": [
            "Saved HTML file: html-files-2024-04-26-10-22/14516433245.html\n"
          ]
        },
        {
          "output_type": "stream",
          "name": "stderr",
          "text": [
            "\n",
            "Processing ranks: 100%|██████████| 1/1 [00:00<00:00,  1.05rank/s]\u001b[A\n",
            "Processing keywords:  95%|█████████▍| 957/1009 [28:41<01:23,  1.61s/keyword]\n",
            "\n",
            "Processing keywords:  95%|█████████▍| 957/1009 [28:42<01:23,  1.61s/keyword]\n",
            "Processing ranks:   0%|          | 0/1 [00:01<?, ?rank/s]\u001b[A"
          ]
        },
        {
          "output_type": "stream",
          "name": "stdout",
          "text": [
            "Saved HTML file: html-files-2024-04-26-10-22/14516338790.html\n"
          ]
        },
        {
          "output_type": "stream",
          "name": "stderr",
          "text": [
            "\n",
            "Processing ranks: 100%|██████████| 1/1 [00:01<00:00,  1.38s/rank]\u001b[A\n",
            "Processing keywords:  95%|█████████▍| 958/1009 [28:42<01:18,  1.55s/keyword]\n",
            "\n",
            "Processing keywords:  95%|█████████▍| 958/1009 [28:43<01:18,  1.55s/keyword]\n",
            "Processing ranks:   0%|          | 0/1 [00:00<?, ?rank/s]\u001b[A"
          ]
        },
        {
          "output_type": "stream",
          "name": "stdout",
          "text": [
            "Saved HTML file: html-files-2024-04-26-10-22/14516335676.html\n"
          ]
        },
        {
          "output_type": "stream",
          "name": "stderr",
          "text": [
            "\n",
            "Processing ranks: 100%|██████████| 1/1 [00:00<00:00,  1.22rank/s]\u001b[A\n",
            "Processing keywords:  95%|█████████▌| 959/1009 [28:43<01:06,  1.33s/keyword]\n",
            "\n",
            "Processing keywords:  95%|█████████▌| 959/1009 [28:45<01:06,  1.33s/keyword]\n",
            "Processing ranks:   0%|          | 0/1 [00:01<?, ?rank/s]\u001b[A"
          ]
        },
        {
          "output_type": "stream",
          "name": "stdout",
          "text": [
            "Saved HTML file: html-files-2024-04-26-10-22/14516341612.html\n"
          ]
        },
        {
          "output_type": "stream",
          "name": "stderr",
          "text": [
            "\n",
            "Processing ranks: 100%|██████████| 1/1 [00:01<00:00,  1.65s/rank]\u001b[A\n",
            "Processing keywords:  95%|█████████▌| 960/1009 [28:45<01:10,  1.44s/keyword]\n",
            "\n",
            "Processing keywords:  95%|█████████▌| 960/1009 [28:46<01:10,  1.44s/keyword]\n",
            "Processing ranks:   0%|          | 0/1 [00:01<?, ?rank/s]\u001b[A"
          ]
        },
        {
          "output_type": "stream",
          "name": "stdout",
          "text": [
            "Saved HTML file: html-files-2024-04-26-10-22/14516335262.html\n"
          ]
        },
        {
          "output_type": "stream",
          "name": "stderr",
          "text": [
            "\n",
            "Processing ranks: 100%|██████████| 1/1 [00:01<00:00,  1.53s/rank]\u001b[A\n",
            "Processing keywords:  95%|█████████▌| 961/1009 [28:46<01:10,  1.47s/keyword]\n",
            "\n",
            "Processing keywords:  95%|█████████▌| 961/1009 [28:48<01:10,  1.47s/keyword]\n",
            "Processing ranks:   0%|          | 0/1 [00:01<?, ?rank/s]\u001b[A\n",
            "Processing ranks: 100%|██████████| 1/1 [00:01<00:00,  1.34s/rank]\u001b[A\n",
            "Processing keywords:  95%|█████████▌| 962/1009 [28:48<01:07,  1.44s/keyword]"
          ]
        },
        {
          "output_type": "stream",
          "name": "stdout",
          "text": [
            "Saved HTML file: html-files-2024-04-26-10-22/14516343312.html\n"
          ]
        },
        {
          "output_type": "stream",
          "name": "stderr",
          "text": [
            "\n",
            "\n",
            "Processing keywords:  95%|█████████▌| 962/1009 [28:49<01:07,  1.44s/keyword]\n",
            "Processing ranks:   0%|          | 0/1 [00:01<?, ?rank/s]\u001b[A\n",
            "Processing ranks: 100%|██████████| 1/1 [00:01<00:00,  1.28s/rank]\u001b[A\n",
            "Processing keywords:  95%|█████████▌| 963/1009 [28:49<01:04,  1.40s/keyword]"
          ]
        },
        {
          "output_type": "stream",
          "name": "stdout",
          "text": [
            "Saved HTML file: html-files-2024-04-26-10-22/14516336640.html\n"
          ]
        },
        {
          "output_type": "stream",
          "name": "stderr",
          "text": [
            "\n",
            "\n",
            "Processing keywords:  95%|█████████▌| 963/1009 [28:50<01:04,  1.40s/keyword]\n",
            "Processing ranks:   0%|          | 0/1 [00:01<?, ?rank/s]\u001b[A"
          ]
        },
        {
          "output_type": "stream",
          "name": "stdout",
          "text": [
            "Saved HTML file: html-files-2024-04-26-10-22/14516342550.html\n"
          ]
        },
        {
          "output_type": "stream",
          "name": "stderr",
          "text": [
            "\n",
            "Processing ranks: 100%|██████████| 1/1 [00:01<00:00,  1.36s/rank]\u001b[A\n",
            "Processing keywords:  96%|█████████▌| 964/1009 [28:50<01:02,  1.39s/keyword]\n",
            "\n",
            "Processing keywords:  96%|█████████▌| 964/1009 [28:52<01:02,  1.39s/keyword]\n",
            "Processing ranks:   0%|          | 0/1 [00:01<?, ?rank/s]\u001b[A\n",
            "Processing ranks: 100%|██████████| 1/1 [00:01<00:00,  1.27s/rank]\u001b[A\n",
            "Processing keywords:  96%|█████████▌| 965/1009 [28:52<00:59,  1.36s/keyword]"
          ]
        },
        {
          "output_type": "stream",
          "name": "stdout",
          "text": [
            "Saved HTML file: html-files-2024-04-26-10-22/14516338222.html\n"
          ]
        },
        {
          "output_type": "stream",
          "name": "stderr",
          "text": [
            "\n",
            "\n",
            "Processing keywords:  96%|█████████▌| 965/1009 [28:53<00:59,  1.36s/keyword]\n",
            "Processing ranks:   0%|          | 0/1 [00:01<?, ?rank/s]\u001b[A\n",
            "Processing ranks: 100%|██████████| 1/1 [00:01<00:00,  1.44s/rank]\u001b[A\n",
            "Processing keywords:  96%|█████████▌| 966/1009 [28:53<00:59,  1.39s/keyword]"
          ]
        },
        {
          "output_type": "stream",
          "name": "stdout",
          "text": [
            "Saved HTML file: html-files-2024-04-26-10-22/14516338213.html\n"
          ]
        },
        {
          "output_type": "stream",
          "name": "stderr",
          "text": [
            "\n",
            "\n",
            "Processing keywords:  96%|█████████▌| 966/1009 [28:55<00:59,  1.39s/keyword]\n",
            "Processing ranks:   0%|          | 0/1 [00:01<?, ?rank/s]\u001b[A\n",
            "Processing ranks: 100%|██████████| 1/1 [00:01<00:00,  1.68s/rank]\u001b[A\n",
            "Processing keywords:  96%|█████████▌| 967/1009 [28:55<01:02,  1.49s/keyword]"
          ]
        },
        {
          "output_type": "stream",
          "name": "stdout",
          "text": [
            "Saved HTML file: html-files-2024-04-26-10-22/14516344750.html\n"
          ]
        },
        {
          "output_type": "stream",
          "name": "stderr",
          "text": [
            "\n",
            "\n",
            "Processing keywords:  96%|█████████▌| 967/1009 [28:56<01:02,  1.49s/keyword]\n",
            "Processing ranks:   0%|          | 0/1 [00:01<?, ?rank/s]\u001b[A"
          ]
        },
        {
          "output_type": "stream",
          "name": "stdout",
          "text": [
            "Saved HTML file: html-files-2024-04-26-10-22/14516344359.html\n"
          ]
        },
        {
          "output_type": "stream",
          "name": "stderr",
          "text": [
            "\n",
            "Processing ranks: 100%|██████████| 1/1 [00:01<00:00,  1.40s/rank]\u001b[A\n",
            "Processing keywords:  96%|█████████▌| 968/1009 [28:56<01:00,  1.47s/keyword]\n",
            "\n",
            "Processing keywords:  96%|█████████▌| 968/1009 [28:57<01:00,  1.47s/keyword]\n",
            "Processing ranks:   0%|          | 0/1 [00:00<?, ?rank/s]\u001b[A\n",
            "Processing ranks: 100%|██████████| 1/1 [00:00<00:00,  1.37rank/s]\u001b[A\n",
            "Processing keywords:  96%|█████████▌| 969/1009 [28:57<00:50,  1.26s/keyword]"
          ]
        },
        {
          "output_type": "stream",
          "name": "stdout",
          "text": [
            "Saved HTML file: html-files-2024-04-26-10-22/14516336800.html\n"
          ]
        },
        {
          "output_type": "stream",
          "name": "stderr",
          "text": [
            "\n",
            "\n",
            "Processing keywords:  96%|█████████▌| 969/1009 [28:59<00:50,  1.26s/keyword]\n",
            "Processing ranks:   0%|          | 0/1 [00:01<?, ?rank/s]\u001b[A"
          ]
        },
        {
          "output_type": "stream",
          "name": "stdout",
          "text": [
            "Saved HTML file: html-files-2024-04-26-10-22/14516341112.html\n"
          ]
        },
        {
          "output_type": "stream",
          "name": "stderr",
          "text": [
            "\n",
            "Processing ranks: 100%|██████████| 1/1 [00:01<00:00,  1.94s/rank]\u001b[A\n",
            "Processing keywords:  96%|█████████▌| 970/1009 [28:59<00:57,  1.47s/keyword]\n",
            "\n",
            "Processing keywords:  96%|█████████▌| 970/1009 [29:00<00:57,  1.47s/keyword]\n",
            "Processing ranks:   0%|          | 0/1 [00:01<?, ?rank/s]\u001b[A"
          ]
        },
        {
          "output_type": "stream",
          "name": "stdout",
          "text": [
            "Saved HTML file: html-files-2024-04-26-10-22/14516339782.html\n"
          ]
        },
        {
          "output_type": "stream",
          "name": "stderr",
          "text": [
            "\n",
            "Processing ranks: 100%|██████████| 1/1 [00:01<00:00,  1.59s/rank]\u001b[A\n",
            "Processing keywords:  96%|█████████▌| 971/1009 [29:01<00:57,  1.51s/keyword]\n",
            "\n",
            "Processing keywords:  96%|█████████▌| 971/1009 [29:01<00:57,  1.51s/keyword]\n",
            "Processing ranks:   0%|          | 0/1 [00:00<?, ?rank/s]\u001b[A"
          ]
        },
        {
          "output_type": "stream",
          "name": "stdout",
          "text": [
            "Saved HTML file: html-files-2024-04-26-10-22/14516338080.html\n"
          ]
        },
        {
          "output_type": "stream",
          "name": "stderr",
          "text": [
            "\n",
            "Processing ranks: 100%|██████████| 1/1 [00:00<00:00,  1.19rank/s]\u001b[A\n",
            "Processing keywords:  96%|█████████▋| 972/1009 [29:01<00:48,  1.32s/keyword]\n",
            "\n",
            "Processing keywords:  96%|█████████▋| 972/1009 [29:02<00:48,  1.32s/keyword]\n",
            "Processing ranks:   0%|          | 0/1 [00:00<?, ?rank/s]\u001b[A"
          ]
        },
        {
          "output_type": "stream",
          "name": "stdout",
          "text": [
            "Saved HTML file: html-files-2024-04-26-10-22/14516338173.html\n"
          ]
        },
        {
          "output_type": "stream",
          "name": "stderr",
          "text": [
            "\n",
            "Processing ranks: 100%|██████████| 1/1 [00:00<00:00,  1.01rank/s]\u001b[A\n",
            "Processing keywords:  96%|█████████▋| 973/1009 [29:02<00:44,  1.22s/keyword]\n",
            "\n",
            "Processing keywords:  96%|█████████▋| 973/1009 [29:03<00:44,  1.22s/keyword]\n",
            "Processing ranks:   0%|          | 0/1 [00:00<?, ?rank/s]\u001b[A"
          ]
        },
        {
          "output_type": "stream",
          "name": "stdout",
          "text": [
            "Saved HTML file: html-files-2024-04-26-10-22/14516338966.html\n"
          ]
        },
        {
          "output_type": "stream",
          "name": "stderr",
          "text": [
            "\n",
            "Processing ranks: 100%|██████████| 1/1 [00:00<00:00,  1.05rank/s]\u001b[A\n",
            "Processing keywords:  97%|█████████▋| 974/1009 [29:03<00:40,  1.15s/keyword]\n",
            "\n",
            "Processing keywords:  97%|█████████▋| 974/1009 [29:04<00:40,  1.15s/keyword]\n",
            "Processing ranks:   0%|          | 0/1 [00:00<?, ?rank/s]\u001b[A"
          ]
        },
        {
          "output_type": "stream",
          "name": "stdout",
          "text": [
            "Saved HTML file: html-files-2024-04-26-10-22/14516339516.html\n"
          ]
        },
        {
          "output_type": "stream",
          "name": "stderr",
          "text": [
            "\n",
            "Processing ranks: 100%|██████████| 1/1 [00:00<00:00,  1.15rank/s]\u001b[A\n",
            "Processing keywords:  97%|█████████▋| 975/1009 [29:04<00:36,  1.07s/keyword]\n",
            "\n",
            "Processing keywords:  97%|█████████▋| 975/1009 [29:06<00:36,  1.07s/keyword]\n",
            "Processing ranks:   0%|          | 0/1 [00:01<?, ?rank/s]\u001b[A"
          ]
        },
        {
          "output_type": "stream",
          "name": "stdout",
          "text": [
            "Saved HTML file: html-files-2024-04-26-10-22/14516339031.html\n"
          ]
        },
        {
          "output_type": "stream",
          "name": "stderr",
          "text": [
            "\n",
            "Processing ranks: 100%|██████████| 1/1 [00:02<00:00,  2.09s/rank]\u001b[A\n",
            "Processing keywords:  97%|█████████▋| 976/1009 [29:06<00:45,  1.38s/keyword]\n",
            "\n",
            "Processing keywords:  97%|█████████▋| 976/1009 [29:08<00:45,  1.38s/keyword]\n",
            "Processing ranks:   0%|          | 0/1 [00:01<?, ?rank/s]\u001b[A"
          ]
        },
        {
          "output_type": "stream",
          "name": "stdout",
          "text": [
            "Saved HTML file: html-files-2024-04-26-10-22/14516353011.html\n"
          ]
        },
        {
          "output_type": "stream",
          "name": "stderr",
          "text": [
            "\n",
            "Processing ranks: 100%|██████████| 1/1 [00:01<00:00,  1.96s/rank]\u001b[A\n",
            "Processing keywords:  97%|█████████▋| 977/1009 [29:08<00:50,  1.56s/keyword]\n",
            "\n",
            "Processing keywords:  97%|█████████▋| 977/1009 [29:10<00:50,  1.56s/keyword]\n",
            "Processing ranks:   0%|          | 0/1 [00:01<?, ?rank/s]\u001b[A"
          ]
        },
        {
          "output_type": "stream",
          "name": "stdout",
          "text": [
            "Saved HTML file: html-files-2024-04-26-10-22/14516390628.html\n"
          ]
        },
        {
          "output_type": "stream",
          "name": "stderr",
          "text": [
            "\n",
            "Processing ranks: 100%|██████████| 1/1 [00:02<00:00,  2.15s/rank]\u001b[A\n",
            "Processing keywords:  97%|█████████▋| 978/1009 [29:11<00:54,  1.75s/keyword]\n",
            "\n",
            "Processing keywords:  97%|█████████▋| 978/1009 [29:12<00:54,  1.75s/keyword]\n",
            "Processing ranks:   0%|          | 0/1 [00:01<?, ?rank/s]\u001b[A"
          ]
        },
        {
          "output_type": "stream",
          "name": "stdout",
          "text": [
            "Saved HTML file: html-files-2024-04-26-10-22/14516336259.html\n"
          ]
        },
        {
          "output_type": "stream",
          "name": "stderr",
          "text": [
            "\n",
            "Processing ranks: 100%|██████████| 1/1 [00:02<00:00,  2.12s/rank]\u001b[A\n",
            "Processing keywords:  97%|█████████▋| 979/1009 [29:13<00:56,  1.87s/keyword]\n",
            "\n",
            "Processing keywords:  97%|█████████▋| 979/1009 [29:14<00:56,  1.87s/keyword]\n",
            "Processing ranks:   0%|          | 0/1 [00:00<?, ?rank/s]\u001b[A"
          ]
        },
        {
          "output_type": "stream",
          "name": "stdout",
          "text": [
            "Saved HTML file: html-files-2024-04-26-10-22/14516393828.html\n"
          ]
        },
        {
          "output_type": "stream",
          "name": "stderr",
          "text": [
            "\n",
            "Processing ranks: 100%|██████████| 1/1 [00:01<00:00,  1.12s/rank]\u001b[A\n",
            "Processing keywords:  97%|█████████▋| 980/1009 [29:14<00:48,  1.66s/keyword]\n",
            "\n",
            "Processing keywords:  97%|█████████▋| 980/1009 [29:15<00:48,  1.66s/keyword]\n",
            "Processing ranks:   0%|          | 0/1 [00:01<?, ?rank/s]\u001b[A"
          ]
        },
        {
          "output_type": "stream",
          "name": "stdout",
          "text": [
            "Saved HTML file: html-files-2024-04-26-10-22/14516395648.html\n"
          ]
        },
        {
          "output_type": "stream",
          "name": "stderr",
          "text": [
            "\n",
            "Processing ranks: 100%|██████████| 1/1 [00:02<00:00,  2.22s/rank]\u001b[A\n",
            "Processing keywords:  97%|█████████▋| 981/1009 [29:16<00:51,  1.83s/keyword]\n",
            "\n",
            "Processing keywords:  97%|█████████▋| 981/1009 [29:17<00:51,  1.83s/keyword]\n",
            "Processing ranks:   0%|          | 0/1 [00:01<?, ?rank/s]\u001b[A"
          ]
        },
        {
          "output_type": "stream",
          "name": "stdout",
          "text": [
            "Saved HTML file: html-files-2024-04-26-10-22/14516342095.html\n"
          ]
        },
        {
          "output_type": "stream",
          "name": "stderr",
          "text": [
            "\n",
            "Processing ranks: 100%|██████████| 1/1 [00:01<00:00,  1.80s/rank]\u001b[A\n",
            "Processing keywords:  97%|█████████▋| 982/1009 [29:18<00:49,  1.83s/keyword]\n",
            "\n",
            "Processing keywords:  97%|█████████▋| 982/1009 [29:19<00:49,  1.83s/keyword]\n",
            "Processing ranks:   0%|          | 0/1 [00:01<?, ?rank/s]\u001b[A"
          ]
        },
        {
          "output_type": "stream",
          "name": "stdout",
          "text": [
            "Saved HTML file: html-files-2024-04-26-10-22/14516401771.html\n"
          ]
        },
        {
          "output_type": "stream",
          "name": "stderr",
          "text": [
            "\n",
            "Processing ranks: 100%|██████████| 1/1 [00:01<00:00,  1.95s/rank]\u001b[A\n",
            "Processing keywords:  97%|█████████▋| 983/1009 [29:20<00:48,  1.87s/keyword]\n",
            "\n",
            "Processing keywords:  97%|█████████▋| 983/1009 [29:21<00:48,  1.87s/keyword]\n",
            "Processing ranks:   0%|          | 0/1 [00:01<?, ?rank/s]\u001b[A"
          ]
        },
        {
          "output_type": "stream",
          "name": "stdout",
          "text": [
            "Saved HTML file: html-files-2024-04-26-10-22/14516401854.html\n"
          ]
        },
        {
          "output_type": "stream",
          "name": "stderr",
          "text": [
            "\n",
            "Processing ranks: 100%|██████████| 1/1 [00:01<00:00,  1.95s/rank]\u001b[A\n",
            "Processing keywords:  98%|█████████▊| 984/1009 [29:22<00:47,  1.90s/keyword]\n",
            "\n",
            "Processing keywords:  98%|█████████▊| 984/1009 [29:23<00:47,  1.90s/keyword]\n",
            "Processing ranks:   0%|          | 0/1 [00:01<?, ?rank/s]\u001b[A"
          ]
        },
        {
          "output_type": "stream",
          "name": "stdout",
          "text": [
            "Saved HTML file: html-files-2024-04-26-10-22/14516358532.html\n"
          ]
        },
        {
          "output_type": "stream",
          "name": "stderr",
          "text": [
            "\n",
            "Processing ranks: 100%|██████████| 1/1 [00:01<00:00,  1.76s/rank]\u001b[A\n",
            "Processing keywords:  98%|█████████▊| 985/1009 [29:24<00:44,  1.86s/keyword]\n",
            "\n",
            "Processing keywords:  98%|█████████▊| 985/1009 [29:25<00:44,  1.86s/keyword]\n",
            "Processing ranks:   0%|          | 0/1 [00:01<?, ?rank/s]\u001b[A"
          ]
        },
        {
          "output_type": "stream",
          "name": "stdout",
          "text": [
            "Saved HTML file: html-files-2024-04-26-10-22/14516347735.html\n"
          ]
        },
        {
          "output_type": "stream",
          "name": "stderr",
          "text": [
            "\n",
            "Processing ranks: 100%|██████████| 1/1 [00:01<00:00,  1.66s/rank]\u001b[A\n",
            "Processing keywords:  98%|█████████▊| 986/1009 [29:25<00:41,  1.81s/keyword]\n",
            "\n",
            "Processing keywords:  98%|█████████▊| 986/1009 [29:27<00:41,  1.81s/keyword]\n",
            "Processing ranks:   0%|          | 0/1 [00:01<?, ?rank/s]\u001b[A"
          ]
        },
        {
          "output_type": "stream",
          "name": "stdout",
          "text": [
            "Saved HTML file: html-files-2024-04-26-10-22/14516349068.html\n"
          ]
        },
        {
          "output_type": "stream",
          "name": "stderr",
          "text": [
            "\n",
            "Processing ranks: 100%|██████████| 1/1 [00:01<00:00,  1.73s/rank]\u001b[A\n",
            "Processing keywords:  98%|█████████▊| 987/1009 [29:27<00:39,  1.80s/keyword]\n",
            "\n",
            "Processing keywords:  98%|█████████▊| 987/1009 [29:28<00:39,  1.80s/keyword]\n",
            "Processing ranks:   0%|          | 0/1 [00:01<?, ?rank/s]\u001b[A"
          ]
        },
        {
          "output_type": "stream",
          "name": "stdout",
          "text": [
            "Saved HTML file: html-files-2024-04-26-10-22/14516362301.html\n"
          ]
        },
        {
          "output_type": "stream",
          "name": "stderr",
          "text": [
            "\n",
            "Processing ranks: 100%|██████████| 1/1 [00:01<00:00,  1.46s/rank]\u001b[A\n",
            "Processing keywords:  98%|█████████▊| 988/1009 [29:29<00:35,  1.70s/keyword]\n",
            "\n",
            "Processing keywords:  98%|█████████▊| 988/1009 [29:30<00:35,  1.70s/keyword]\n",
            "Processing ranks:   0%|          | 0/1 [00:01<?, ?rank/s]\u001b[A"
          ]
        },
        {
          "output_type": "stream",
          "name": "stdout",
          "text": [
            "Saved HTML file: html-files-2024-04-26-10-22/14516359221.html\n"
          ]
        },
        {
          "output_type": "stream",
          "name": "stderr",
          "text": [
            "\n",
            "Processing ranks: 100%|██████████| 1/1 [00:01<00:00,  1.83s/rank]\u001b[A\n",
            "Processing keywords:  98%|█████████▊| 989/1009 [29:30<00:34,  1.74s/keyword]\n",
            "\n",
            "Processing keywords:  98%|█████████▊| 989/1009 [29:32<00:34,  1.74s/keyword]\n",
            "Processing ranks:   0%|          | 0/1 [00:01<?, ?rank/s]\u001b[A"
          ]
        },
        {
          "output_type": "stream",
          "name": "stdout",
          "text": [
            "Saved HTML file: html-files-2024-04-26-10-22/14516407973.html\n"
          ]
        },
        {
          "output_type": "stream",
          "name": "stderr",
          "text": [
            "\n",
            "Processing ranks: 100%|██████████| 1/1 [00:01<00:00,  1.73s/rank]\u001b[A\n",
            "Processing keywords:  98%|█████████▊| 990/1009 [29:32<00:33,  1.74s/keyword]\n",
            "\n",
            "Processing keywords:  98%|█████████▊| 990/1009 [29:34<00:33,  1.74s/keyword]\n",
            "Processing ranks:   0%|          | 0/1 [00:01<?, ?rank/s]\u001b[A"
          ]
        },
        {
          "output_type": "stream",
          "name": "stdout",
          "text": [
            "Saved HTML file: html-files-2024-04-26-10-22/14516360834.html\n"
          ]
        },
        {
          "output_type": "stream",
          "name": "stderr",
          "text": [
            "\n",
            "Processing ranks: 100%|██████████| 1/1 [00:02<00:00,  2.08s/rank]\u001b[A\n",
            "Processing keywords:  98%|█████████▊| 991/1009 [29:34<00:33,  1.85s/keyword]\n",
            "\n",
            "Processing keywords:  98%|█████████▊| 991/1009 [29:36<00:33,  1.85s/keyword]\n",
            "Processing ranks:   0%|          | 0/1 [00:01<?, ?rank/s]\u001b[A"
          ]
        },
        {
          "output_type": "stream",
          "name": "stdout",
          "text": [
            "Saved HTML file: html-files-2024-04-26-10-22/14516367138.html\n"
          ]
        },
        {
          "output_type": "stream",
          "name": "stderr",
          "text": [
            "\n",
            "Processing ranks: 100%|██████████| 1/1 [00:02<00:00,  2.17s/rank]\u001b[A\n",
            "Processing keywords:  98%|█████████▊| 992/1009 [29:37<00:33,  1.96s/keyword]\n",
            "\n",
            "Processing keywords:  98%|█████████▊| 992/1009 [29:38<00:33,  1.96s/keyword]\n",
            "Processing ranks:   0%|          | 0/1 [00:01<?, ?rank/s]\u001b[A"
          ]
        },
        {
          "output_type": "stream",
          "name": "stdout",
          "text": [
            "Saved HTML file: html-files-2024-04-26-10-22/14516371027.html\n"
          ]
        },
        {
          "output_type": "stream",
          "name": "stderr",
          "text": [
            "\n",
            "Processing ranks: 100%|██████████| 1/1 [00:02<00:00,  2.12s/rank]\u001b[A\n",
            "Processing keywords:  98%|█████████▊| 993/1009 [29:39<00:32,  2.01s/keyword]\n",
            "\n",
            "Processing keywords:  98%|█████████▊| 993/1009 [29:39<00:32,  2.01s/keyword]\n",
            "Processing ranks:   0%|          | 0/1 [00:00<?, ?rank/s]\u001b[A"
          ]
        },
        {
          "output_type": "stream",
          "name": "stdout",
          "text": [
            "Saved HTML file: html-files-2024-04-26-10-22/14516375280.html\n"
          ]
        },
        {
          "output_type": "stream",
          "name": "stderr",
          "text": [
            "\n",
            "Processing ranks: 100%|██████████| 1/1 [00:01<00:00,  1.28s/rank]\u001b[A\n",
            "Processing keywords:  99%|█████████▊| 994/1009 [29:40<00:26,  1.80s/keyword]\n",
            "\n",
            "Processing keywords:  99%|█████████▊| 994/1009 [29:41<00:26,  1.80s/keyword]\n",
            "Processing ranks:   0%|          | 0/1 [00:01<?, ?rank/s]\u001b[A"
          ]
        },
        {
          "output_type": "stream",
          "name": "stdout",
          "text": [
            "Saved HTML file: html-files-2024-04-26-10-22/14516376924.html\n"
          ]
        },
        {
          "output_type": "stream",
          "name": "stderr",
          "text": [
            "\n",
            "Processing ranks: 100%|██████████| 1/1 [00:01<00:00,  1.90s/rank]\u001b[A\n",
            "Processing keywords:  99%|█████████▊| 995/1009 [29:42<00:25,  1.83s/keyword]\n",
            "\n",
            "Processing keywords:  99%|█████████▊| 995/1009 [29:43<00:25,  1.83s/keyword]\n",
            "Processing ranks:   0%|          | 0/1 [00:01<?, ?rank/s]\u001b[A"
          ]
        },
        {
          "output_type": "stream",
          "name": "stdout",
          "text": [
            "Saved HTML file: html-files-2024-04-26-10-22/14516380611.html\n"
          ]
        },
        {
          "output_type": "stream",
          "name": "stderr",
          "text": [
            "\n",
            "Processing ranks: 100%|██████████| 1/1 [00:02<00:00,  2.18s/rank]\u001b[A\n",
            "Processing keywords:  99%|█████████▊| 996/1009 [29:44<00:25,  1.94s/keyword]\n",
            "\n",
            "Processing keywords:  99%|█████████▊| 996/1009 [29:45<00:25,  1.94s/keyword]\n",
            "Processing ranks:   0%|          | 0/1 [00:01<?, ?rank/s]\u001b[A"
          ]
        },
        {
          "output_type": "stream",
          "name": "stdout",
          "text": [
            "Saved HTML file: html-files-2024-04-26-10-22/14516380482.html\n"
          ]
        },
        {
          "output_type": "stream",
          "name": "stderr",
          "text": [
            "\n",
            "Processing ranks: 100%|██████████| 1/1 [00:01<00:00,  1.69s/rank]\u001b[A\n",
            "Processing keywords:  99%|█████████▉| 997/1009 [29:46<00:22,  1.87s/keyword]\n",
            "\n",
            "Processing keywords:  99%|█████████▉| 997/1009 [29:48<00:22,  1.87s/keyword]\n",
            "Processing ranks:   0%|          | 0/1 [00:01<?, ?rank/s]\u001b[A"
          ]
        },
        {
          "output_type": "stream",
          "name": "stdout",
          "text": [
            "Saved HTML file: html-files-2024-04-26-10-22/14516384789.html\n"
          ]
        },
        {
          "output_type": "stream",
          "name": "stderr",
          "text": [
            "\n",
            "Processing ranks: 100%|██████████| 1/1 [00:02<00:00,  2.15s/rank]\u001b[A\n",
            "Processing keywords:  99%|█████████▉| 998/1009 [29:48<00:21,  1.96s/keyword]\n",
            "\n",
            "Processing keywords:  99%|█████████▉| 998/1009 [29:49<00:21,  1.96s/keyword]\n",
            "Processing ranks:   0%|          | 0/1 [00:01<?, ?rank/s]\u001b[A"
          ]
        },
        {
          "output_type": "stream",
          "name": "stdout",
          "text": [
            "Saved HTML file: html-files-2024-04-26-10-22/14516388174.html\n"
          ]
        },
        {
          "output_type": "stream",
          "name": "stderr",
          "text": [
            "\n",
            "Processing ranks: 100%|██████████| 1/1 [00:01<00:00,  1.55s/rank]\u001b[A\n",
            "Processing keywords:  99%|█████████▉| 999/1009 [29:50<00:18,  1.85s/keyword]\n",
            "\n",
            "Processing keywords:  99%|█████████▉| 999/1009 [29:51<00:18,  1.85s/keyword]\n",
            "Processing ranks:   0%|          | 0/1 [00:01<?, ?rank/s]\u001b[A"
          ]
        },
        {
          "output_type": "stream",
          "name": "stdout",
          "text": [
            "Saved HTML file: html-files-2024-04-26-10-22/14516389505.html\n"
          ]
        },
        {
          "output_type": "stream",
          "name": "stderr",
          "text": [
            "\n",
            "Processing ranks: 100%|██████████| 1/1 [00:01<00:00,  1.86s/rank]\u001b[A\n",
            "Processing keywords:  99%|█████████▉| 1000/1009 [29:51<00:16,  1.86s/keyword]\n",
            "\n",
            "Processing keywords:  99%|█████████▉| 1000/1009 [29:53<00:16,  1.86s/keyword]\n",
            "Processing ranks:   0%|          | 0/1 [00:01<?, ?rank/s]\u001b[A"
          ]
        },
        {
          "output_type": "stream",
          "name": "stdout",
          "text": [
            "Saved HTML file: html-files-2024-04-26-10-22/14516390945.html\n"
          ]
        },
        {
          "output_type": "stream",
          "name": "stderr",
          "text": [
            "\n",
            "Processing ranks: 100%|██████████| 1/1 [00:01<00:00,  1.68s/rank]\u001b[A\n",
            "Processing keywords:  99%|█████████▉| 1001/1009 [29:53<00:14,  1.81s/keyword]\n",
            "\n",
            "Processing keywords:  99%|█████████▉| 1001/1009 [29:54<00:14,  1.81s/keyword]\n",
            "Processing ranks:   0%|          | 0/1 [00:01<?, ?rank/s]\u001b[A"
          ]
        },
        {
          "output_type": "stream",
          "name": "stdout",
          "text": [
            "Saved HTML file: html-files-2024-04-26-10-22/14516395079.html\n"
          ]
        },
        {
          "output_type": "stream",
          "name": "stderr",
          "text": [
            "\n",
            "Processing ranks: 100%|██████████| 1/1 [00:01<00:00,  1.57s/rank]\u001b[A\n",
            "Processing keywords:  99%|█████████▉| 1002/1009 [29:55<00:12,  1.74s/keyword]\n",
            "\n",
            "Processing keywords:  99%|█████████▉| 1002/1009 [29:56<00:12,  1.74s/keyword]\n",
            "Processing ranks:   0%|          | 0/1 [00:01<?, ?rank/s]\u001b[A"
          ]
        },
        {
          "output_type": "stream",
          "name": "stdout",
          "text": [
            "Saved HTML file: html-files-2024-04-26-10-22/14516399254.html\n"
          ]
        },
        {
          "output_type": "stream",
          "name": "stderr",
          "text": [
            "\n",
            "Processing ranks: 100%|██████████| 1/1 [00:01<00:00,  1.84s/rank]\u001b[A\n",
            "Processing keywords:  99%|█████████▉| 1003/1009 [29:57<00:10,  1.77s/keyword]\n",
            "\n",
            "Processing keywords:  99%|█████████▉| 1003/1009 [29:58<00:10,  1.77s/keyword]\n",
            "Processing ranks:   0%|          | 0/1 [00:01<?, ?rank/s]\u001b[A"
          ]
        },
        {
          "output_type": "stream",
          "name": "stdout",
          "text": [
            "Saved HTML file: html-files-2024-04-26-10-22/14516397775.html\n"
          ]
        },
        {
          "output_type": "stream",
          "name": "stderr",
          "text": [
            "\n",
            "Processing ranks: 100%|██████████| 1/1 [00:02<00:00,  2.06s/rank]\u001b[A\n",
            "Processing keywords: 100%|█████████▉| 1004/1009 [29:59<00:09,  1.87s/keyword]\n",
            "\n",
            "Processing keywords: 100%|█████████▉| 1004/1009 [30:00<00:09,  1.87s/keyword]\n",
            "Processing ranks:   0%|          | 0/1 [00:01<?, ?rank/s]\u001b[A"
          ]
        },
        {
          "output_type": "stream",
          "name": "stdout",
          "text": [
            "Saved HTML file: html-files-2024-04-26-10-22/14516399436.html\n"
          ]
        },
        {
          "output_type": "stream",
          "name": "stderr",
          "text": [
            "\n",
            "Processing ranks: 100%|██████████| 1/1 [00:01<00:00,  1.73s/rank]\u001b[A\n",
            "Processing keywords: 100%|█████████▉| 1005/1009 [30:00<00:07,  1.83s/keyword]\n",
            "\n",
            "Processing keywords: 100%|█████████▉| 1005/1009 [30:02<00:07,  1.83s/keyword]\n",
            "Processing ranks:   0%|          | 0/1 [00:01<?, ?rank/s]\u001b[A"
          ]
        },
        {
          "output_type": "stream",
          "name": "stdout",
          "text": [
            "Saved HTML file: html-files-2024-04-26-10-22/14516408722.html\n"
          ]
        },
        {
          "output_type": "stream",
          "name": "stderr",
          "text": [
            "\n",
            "Processing ranks: 100%|██████████| 1/1 [00:01<00:00,  1.68s/rank]\u001b[A\n",
            "Processing keywords: 100%|█████████▉| 1006/1009 [30:02<00:05,  1.79s/keyword]\n",
            "\n",
            "Processing keywords: 100%|█████████▉| 1006/1009 [30:03<00:05,  1.79s/keyword]\n",
            "Processing ranks:   0%|          | 0/1 [00:01<?, ?rank/s]\u001b[A"
          ]
        },
        {
          "output_type": "stream",
          "name": "stdout",
          "text": [
            "Saved HTML file: html-files-2024-04-26-10-22/14516414240.html\n"
          ]
        },
        {
          "output_type": "stream",
          "name": "stderr",
          "text": [
            "\n",
            "Processing ranks: 100%|██████████| 1/1 [00:01<00:00,  1.88s/rank]\u001b[A\n",
            "Processing keywords: 100%|█████████▉| 1007/1009 [30:04<00:03,  1.82s/keyword]\n",
            "\n",
            "Processing keywords: 100%|█████████▉| 1007/1009 [30:06<00:03,  1.82s/keyword]\n",
            "Processing ranks:   0%|          | 0/1 [00:01<?, ?rank/s]\u001b[A"
          ]
        },
        {
          "output_type": "stream",
          "name": "stdout",
          "text": [
            "Saved HTML file: html-files-2024-04-26-10-22/14516414292.html\n"
          ]
        },
        {
          "output_type": "stream",
          "name": "stderr",
          "text": [
            "\n",
            "Processing ranks: 100%|██████████| 1/1 [00:02<00:00,  2.27s/rank]\u001b[A\n",
            "Processing keywords: 100%|█████████▉| 1008/1009 [30:06<00:01,  1.96s/keyword]\n",
            "\n",
            "Processing keywords: 100%|█████████▉| 1008/1009 [30:08<00:01,  1.96s/keyword]\n",
            "Processing ranks:   0%|          | 0/1 [00:01<?, ?rank/s]\u001b[A"
          ]
        },
        {
          "output_type": "stream",
          "name": "stdout",
          "text": [
            "Saved HTML file: html-files-2024-04-26-10-22/14516417217.html\n"
          ]
        },
        {
          "output_type": "stream",
          "name": "stderr",
          "text": [
            "\n",
            "Processing ranks: 100%|██████████| 1/1 [00:01<00:00,  1.81s/rank]\u001b[A\n",
            "Processing keywords: 100%|██████████| 1009/1009 [30:08<00:00,  1.79s/keyword]"
          ]
        },
        {
          "output_type": "stream",
          "name": "stdout",
          "text": [
            "CSV file created successfully: ads_data_2024-04-26-10-22.csv\n"
          ]
        },
        {
          "output_type": "stream",
          "name": "stderr",
          "text": [
            "\n"
          ]
        }
      ],
      "source": [
        "import requests\n",
        "from datetime import datetime, timedelta\n",
        "from bs4 import BeautifulSoup\n",
        "import csv\n",
        "import os\n",
        "from tqdm import tqdm\n",
        "\n",
        "# Constants\n",
        "API_TOKEN = '1c49ec6860690b07e66ddf0a123ce8cd15f4ca78'  # Replace this with your actual API token\n",
        "BASE_URL = 'https://app.accuranker.com/api/v4'\n",
        "HEADERS = {\n",
        "    'Authorization': f'Token {API_TOKEN}',\n",
        "    'Content-Type': 'application/json'\n",
        "}\n",
        "\n",
        "timestampcsv = datetime.now().strftime('%Y-%m-%d-%H-%M')\n",
        "# Function to create a directory for HTML files with the current timestamp\n",
        "def create_directory():\n",
        "    timestamp = datetime.now().strftime('%Y-%m-%d-%H-%M')\n",
        "    csv_filename = f'ads_data_{timestamp}.csv'\n",
        "    directory_name = f'html-files-{timestamp}'\n",
        "    if not os.path.exists(directory_name):\n",
        "        os.makedirs(directory_name)\n",
        "    return directory_name\n",
        "\n",
        "# Function to fetch domains and return a JSON object or None\n",
        "def fetch_domains():\n",
        "    response = requests.get(f'{BASE_URL}/domains/?fields=domain,display_name,id', headers=HEADERS)\n",
        "    if response.status_code == 200:\n",
        "        return response.json()\n",
        "    else:\n",
        "        print(f\"Failed to fetch domains. Status code: {response.status_code}, Message: {response.text}\")\n",
        "        return []\n",
        "\n",
        "# Function to get keywords\n",
        "def get_keywords(domain_id):\n",
        "    yesterday = (datetime.now() - timedelta(days=1)).strftime('%Y-%m-%d')\n",
        "    url = (f'{BASE_URL}/domains/{domain_id}/keywords/?filter=6548&'\n",
        "           f'period_from={yesterday}&period_to={yesterday}&'\n",
        "           'fields=id,keyword,tags,search_type,ranks.id,ranks.created_at,'\n",
        "           'ranks.rank,ranks.highest_ranking_page,ranks.page_serp_features.ads_top,'\n",
        "           'ranks.page_serp_features.ads_bottom')\n",
        "    response = requests.get(url, headers=HEADERS)\n",
        "    return response.json() if response.status_code == 200 else []\n",
        "\n",
        "# Function to extract ad info from HTML\n",
        "def extract_ad_info(html_content):\n",
        "    soup = BeautifulSoup(html_content, 'html.parser')\n",
        "    ads_data = []\n",
        "    for div in soup.find_all('div', class_='uEierd'):\n",
        "        ad_data = {\n",
        "            'url': '',\n",
        "            'headline': '',\n",
        "            'description': ''\n",
        "        }\n",
        "        a_tag = div.find('a', class_='sVXRqc')\n",
        "        if a_tag and 'href' in a_tag.attrs:\n",
        "            ad_data['url'] = a_tag['href']\n",
        "\n",
        "        headline_div = div.find('div', class_='CCgQ5')\n",
        "        if headline_div:\n",
        "            ad_data['headline'] = headline_div.get_text(strip=True)\n",
        "\n",
        "        # Find the div with the class 'Va3FIb r025kc lVm3ye' and extract its text\n",
        "        description_div = div.find('div', class_='Va3FIb r025kc lVm3ye')\n",
        "        if description_div:\n",
        "            # Remove <em> tags from the description\n",
        "            for em_tag in description_div.find_all('em'):\n",
        "                em_tag.decompose()\n",
        "            ad_data['description'] = description_div.get_text(strip=True)\n",
        "\n",
        "        ads_data.append(ad_data)\n",
        "    return ads_data\n",
        "\n",
        "\n",
        "# Create the directory for HTML files\n",
        "html_directory = create_directory()\n",
        "\n",
        "# Fetch domains, keywords, extract ad info, and write to CSV file as before\n",
        "domains = fetch_domains()\n",
        "if domains:\n",
        "    print(\"Please select a domain to process:\")\n",
        "    for index, domain in enumerate(domains):\n",
        "        print(f\"{index + 1}: {domain['display_name']} (ID: {domain['id']})\")\n",
        "\n",
        "    selected_index = int(input(\"Enter the number of the domain you want to use: \")) - 1\n",
        "    selected_domain = domains[selected_index]\n",
        "    domain_id = selected_domain['id']\n",
        "    domain_name = selected_domain['display_name']\n",
        "\n",
        "    keywords = get_keywords(domain_id)\n",
        "\n",
        "    csv_data = []\n",
        "    for keyword in tqdm(keywords, desc=\"Processing keywords\", unit=\"keyword\"):\n",
        "        keyword_id = keyword['id']\n",
        "        keyword_text = keyword['keyword']\n",
        "\n",
        "        for rank in tqdm(keyword['ranks'], desc=\"Processing ranks\", leave=False, unit=\"rank\"):\n",
        "            rank_id = rank['id']\n",
        "            created_at = rank['created_at']\n",
        "            rank_value = rank['rank']\n",
        "            rank_html_response = requests.get(f'{BASE_URL}/domains/{domain_id}/keywords/{keyword_id}/ranks/{rank_id}/', headers=HEADERS)\n",
        "            if rank_html_response.status_code == 200:\n",
        "                rank_html_data = rank_html_response.json()\n",
        "                html_content = rank_html_data.get('html', '')\n",
        "\n",
        "                # Save the HTML content to a file\n",
        "                html_filename = f\"{html_directory}/{rank_id}.html\"\n",
        "                with open(html_filename, 'w', encoding='utf-8') as html_file:\n",
        "                    html_file.write(html_content)\n",
        "                tqdm.write(f\"Saved HTML file: {html_filename}\")\n",
        "\n",
        "                # Extract ads data from the HTML\n",
        "                ads_data = extract_ad_info(html_content)\n",
        "                for ad_index, ad in enumerate(ads_data):\n",
        "                    csv_row = {\n",
        "                        'domain_id': domain_id,\n",
        "                        'domain_name': domain_name,\n",
        "                        'keyword_id': keyword_id,\n",
        "                        'keyword': keyword_text,\n",
        "                        'rank_id': rank_id,\n",
        "                        'created_at': created_at,  # new field\n",
        "                        'rank': rank_value,       # new field\n",
        "                        'ad': ad_index + 1,\n",
        "                        'url': ad['url'],\n",
        "                        'headline': ad['headline'],\n",
        "                        'description': ad['description']\n",
        "                    }\n",
        "                    csv_data.append(csv_row)\n",
        "            else:\n",
        "                tqdm.write(f\"Failed to retrieve HTML for rank ID {rank_id}\")\n",
        "\n",
        "    # Write to CSV\n",
        "csv_file = f'ads_data_{timestampcsv}.csv'\n",
        "with open(csv_file, 'w', newline='', encoding='utf-8') as file:\n",
        "    fieldnames = ['domain_id', 'domain_name', 'keyword_id', 'keyword', 'rank_id', 'created_at', 'rank', 'ad', 'url', 'headline', 'description']\n",
        "    writer = csv.DictWriter(file, fieldnames=fieldnames)\n",
        "    writer.writeheader()\n",
        "    for row in csv_data:\n",
        "        writer.writerow(row)\n",
        "print(f\"CSV file created successfully: {csv_file}\")\n",
        "\n"
      ]
    },
    {
      "cell_type": "code",
      "source": [],
      "metadata": {
        "id": "4yts7Fd60tZp"
      },
      "execution_count": null,
      "outputs": []
    }
  ]
}